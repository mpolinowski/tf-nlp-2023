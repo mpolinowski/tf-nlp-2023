{
 "cells": [
  {
   "cell_type": "markdown",
   "id": "764fa481",
   "metadata": {},
   "source": [
    "# tf-NLP\n",
    "\n",
    "## (Re) Introduction to Tensorflow Natural Language Processing\n",
    "\n",
    "### Abstract\n",
    "\n",
    "Twitter has become an important communication channel in times of emergency.\n",
    "The ubiquitousness of smartphones enables people to announce an emergency they’re observing in real-time. Because of this, more agencies are interested in programatically monitoring Twitter (i.e. disaster relief organizations and news agencies).\n",
    "\n",
    "But, it’s not always clear whether a person’s words are actually announcing a disaster. Here Machine Learning can help us segmenting large quantities of incoming messages. But what type Machine Learning is the best suited?\n",
    "\n",
    "I am running a couple of experiments to show the performace of different solutions and their trade-off - how long does it take to get a prediction from a given algorithm? Is a higher accuracy worth the wait?"
   ]
  },
  {
   "cell_type": "markdown",
   "id": "15701fbf",
   "metadata": {},
   "source": [
    "![(Re) Introduction to Tensorflow Natural Language Processing](./assets/tf_nlp_desaster_tweets_06.png)"
   ]
  },
  {
   "cell_type": "markdown",
   "id": "daaf2c02",
   "metadata": {},
   "source": [
    "## Dataset\n",
    "\n",
    "[https://www.kaggle.com/competitions/nlp-getting-started/data](https://storage.googleapis.com/ztm_tf_course/nlp_getting_started.zip)\n",
    "\n",
    "```\n",
    ".\n",
    "├── data\n",
    "│   ├── test.csv\n",
    "│   └── train.csv\n",
    "```"
   ]
  },
  {
   "cell_type": "code",
   "execution_count": 1,
   "id": "9adcc9e1",
   "metadata": {},
   "outputs": [
    {
     "name": "stderr",
     "output_type": "stream",
     "text": [
      "2023-04-24 12:32:46.054605: I tensorflow/core/platform/cpu_feature_guard.cc:182] This TensorFlow binary is optimized to use available CPU instructions in performance-critical operations.\n",
      "To enable the following instructions: AVX2 FMA, in other operations, rebuild TensorFlow with the appropriate compiler flags.\n"
     ]
    }
   ],
   "source": [
    "import datetime\n",
    "import io\n",
    "import matplotlib.pyplot as plt\n",
    "import numpy as np\n",
    "import pandas as pd\n",
    "import random\n",
    "import time\n",
    "from sklearn.model_selection import train_test_split\n",
    "from sklearn.feature_extraction.text import TfidfVectorizer\n",
    "from sklearn.naive_bayes import MultinomialNB\n",
    "from sklearn.pipeline import Pipeline\n",
    "import tensorflow as tf\n",
    "# tf-hub bug https://stackoverflow.com/questions/69339917/importerror-cannot-import-name-dnn-logit-fn-builder-from-partially-initialize\n",
    "from tensorflow_estimator.python.estimator.canned.dnn import dnn_logit_fn_builder\n",
    "import tensorflow_hub as hub\n",
    "from tensorflow.keras.layers import (\n",
    "    TextVectorization,\n",
    "    Embedding,\n",
    "    Input,\n",
    "    Dense,\n",
    "    GlobalAveragePooling1D,\n",
    "    GlobalMaxPool1D,\n",
    "    LSTM,\n",
    "    GRU,\n",
    "    Bidirectional,\n",
    "    Conv1D\n",
    ")"
   ]
  },
  {
   "cell_type": "code",
   "execution_count": 2,
   "id": "919cd9a5",
   "metadata": {},
   "outputs": [],
   "source": [
    "from helper_functions import (\n",
    "    create_tensorboard_callback,\n",
    "    plot_loss_curves,\n",
    "    compare_histories,\n",
    "    calculate_metrics,\n",
    "    time_to_prediction\n",
    ")"
   ]
  },
  {
   "cell_type": "code",
   "execution_count": 3,
   "id": "1a7fb487",
   "metadata": {},
   "outputs": [],
   "source": [
    "SEED = 42\n",
    "LOG_DIR = 'tensorboad'"
   ]
  },
  {
   "cell_type": "markdown",
   "id": "1d3c15fe",
   "metadata": {},
   "source": [
    "### Exploration"
   ]
  },
  {
   "cell_type": "code",
   "execution_count": 5,
   "id": "61a48d12",
   "metadata": {
    "collapsed": true
   },
   "outputs": [
    {
     "data": {
      "text/html": [
       "<div>\n",
       "<style scoped>\n",
       "    .dataframe tbody tr th:only-of-type {\n",
       "        vertical-align: middle;\n",
       "    }\n",
       "\n",
       "    .dataframe tbody tr th {\n",
       "        vertical-align: top;\n",
       "    }\n",
       "\n",
       "    .dataframe thead th {\n",
       "        text-align: right;\n",
       "    }\n",
       "</style>\n",
       "<table border=\"1\" class=\"dataframe\">\n",
       "  <thead>\n",
       "    <tr style=\"text-align: right;\">\n",
       "      <th></th>\n",
       "      <th>id</th>\n",
       "      <th>keyword</th>\n",
       "      <th>location</th>\n",
       "      <th>text</th>\n",
       "      <th>target</th>\n",
       "    </tr>\n",
       "  </thead>\n",
       "  <tbody>\n",
       "    <tr>\n",
       "      <th>0</th>\n",
       "      <td>1</td>\n",
       "      <td>NaN</td>\n",
       "      <td>NaN</td>\n",
       "      <td>Our Deeds are the Reason of this #earthquake M...</td>\n",
       "      <td>1</td>\n",
       "    </tr>\n",
       "    <tr>\n",
       "      <th>1</th>\n",
       "      <td>4</td>\n",
       "      <td>NaN</td>\n",
       "      <td>NaN</td>\n",
       "      <td>Forest fire near La Ronge Sask. Canada</td>\n",
       "      <td>1</td>\n",
       "    </tr>\n",
       "    <tr>\n",
       "      <th>2</th>\n",
       "      <td>5</td>\n",
       "      <td>NaN</td>\n",
       "      <td>NaN</td>\n",
       "      <td>All residents asked to 'shelter in place' are ...</td>\n",
       "      <td>1</td>\n",
       "    </tr>\n",
       "    <tr>\n",
       "      <th>3</th>\n",
       "      <td>6</td>\n",
       "      <td>NaN</td>\n",
       "      <td>NaN</td>\n",
       "      <td>13,000 people receive #wildfires evacuation or...</td>\n",
       "      <td>1</td>\n",
       "    </tr>\n",
       "    <tr>\n",
       "      <th>4</th>\n",
       "      <td>7</td>\n",
       "      <td>NaN</td>\n",
       "      <td>NaN</td>\n",
       "      <td>Just got sent this photo from Ruby #Alaska as ...</td>\n",
       "      <td>1</td>\n",
       "    </tr>\n",
       "  </tbody>\n",
       "</table>\n",
       "</div>"
      ],
      "text/plain": [
       "   id keyword location                                               text  \\\n",
       "0   1     NaN      NaN  Our Deeds are the Reason of this #earthquake M...   \n",
       "1   4     NaN      NaN             Forest fire near La Ronge Sask. Canada   \n",
       "2   5     NaN      NaN  All residents asked to 'shelter in place' are ...   \n",
       "3   6     NaN      NaN  13,000 people receive #wildfires evacuation or...   \n",
       "4   7     NaN      NaN  Just got sent this photo from Ruby #Alaska as ...   \n",
       "\n",
       "   target  \n",
       "0       1  \n",
       "1       1  \n",
       "2       1  \n",
       "3       1  \n",
       "4       1  "
      ]
     },
     "execution_count": 5,
     "metadata": {},
     "output_type": "execute_result"
    }
   ],
   "source": [
    "train_df = pd.read_csv('data/train.csv')\n",
    "test_df = pd.read_csv('data/test.csv')\n",
    "\n",
    "train_df.head(5)\n",
    "# target 1 = disaster / 0 = not a disaster"
   ]
  },
  {
   "cell_type": "markdown",
   "id": "4735bfaf",
   "metadata": {},
   "source": [
    "|   | id | keyword | location | text | target |\n",
    "|  -- | -- | -- | -- | -- | -- |\n",
    "| 0 | 1 | NaN | NaN | Our Deeds are the Reason of this #earthquake M... | 1 |\n",
    "| 1 | 4 | NaN | NaN | Forest fire near La Ronge Sask. Canada | 1 |\n",
    "| 2 | 5 | NaN | NaN | All residents asked to 'shelter in place' are ... | 1 |\n",
    "| 3 | 6 | NaN | NaN | 13,000 people receive #wildfires evacuation or... | 1 |\n",
    "| 4 | 7 | NaN | NaN | Just got sent this photo from Ruby #Alaska as ... | 1 |"
   ]
  },
  {
   "cell_type": "code",
   "execution_count": 6,
   "id": "1c0dd3cd",
   "metadata": {
    "collapsed": true
   },
   "outputs": [
    {
     "name": "stdout",
     "output_type": "stream",
     "text": [
      "0    4342\n",
      "1    3271\n",
      "Name: target, dtype: int64\n",
      "7613 3263\n"
     ]
    }
   ],
   "source": [
    "# checking if the dataset is balanced\n",
    "print(train_df.target.value_counts())\n",
    "# 0    4342\n",
    "# 1    3271\n",
    "\n",
    "print(len(train_df), len(test_df))\n",
    "# 7613 3263"
   ]
  },
  {
   "cell_type": "code",
   "execution_count": 7,
   "id": "dd53101c",
   "metadata": {
    "collapsed": true
   },
   "outputs": [
    {
     "data": {
      "text/html": [
       "<div>\n",
       "<style scoped>\n",
       "    .dataframe tbody tr th:only-of-type {\n",
       "        vertical-align: middle;\n",
       "    }\n",
       "\n",
       "    .dataframe tbody tr th {\n",
       "        vertical-align: top;\n",
       "    }\n",
       "\n",
       "    .dataframe thead th {\n",
       "        text-align: right;\n",
       "    }\n",
       "</style>\n",
       "<table border=\"1\" class=\"dataframe\">\n",
       "  <thead>\n",
       "    <tr style=\"text-align: right;\">\n",
       "      <th></th>\n",
       "      <th>id</th>\n",
       "      <th>keyword</th>\n",
       "      <th>location</th>\n",
       "      <th>text</th>\n",
       "      <th>target</th>\n",
       "    </tr>\n",
       "  </thead>\n",
       "  <tbody>\n",
       "    <tr>\n",
       "      <th>2644</th>\n",
       "      <td>3796</td>\n",
       "      <td>destruction</td>\n",
       "      <td>NaN</td>\n",
       "      <td>So you have a new weapon that can cause un-ima...</td>\n",
       "      <td>1</td>\n",
       "    </tr>\n",
       "    <tr>\n",
       "      <th>2227</th>\n",
       "      <td>3185</td>\n",
       "      <td>deluge</td>\n",
       "      <td>NaN</td>\n",
       "      <td>The f$&amp;amp;@ing things I do for #GISHWHES Just...</td>\n",
       "      <td>0</td>\n",
       "    </tr>\n",
       "    <tr>\n",
       "      <th>5448</th>\n",
       "      <td>7769</td>\n",
       "      <td>police</td>\n",
       "      <td>UK</td>\n",
       "      <td>DT @georgegalloway: RT @Galloway4Mayor: ÛÏThe...</td>\n",
       "      <td>1</td>\n",
       "    </tr>\n",
       "    <tr>\n",
       "      <th>132</th>\n",
       "      <td>191</td>\n",
       "      <td>aftershock</td>\n",
       "      <td>NaN</td>\n",
       "      <td>Aftershock back to school kick off was great. ...</td>\n",
       "      <td>0</td>\n",
       "    </tr>\n",
       "    <tr>\n",
       "      <th>6845</th>\n",
       "      <td>9810</td>\n",
       "      <td>trauma</td>\n",
       "      <td>Montgomery County, MD</td>\n",
       "      <td>in response to trauma Children of Addicts deve...</td>\n",
       "      <td>0</td>\n",
       "    </tr>\n",
       "  </tbody>\n",
       "</table>\n",
       "</div>"
      ],
      "text/plain": [
       "        id      keyword               location  \\\n",
       "2644  3796  destruction                    NaN   \n",
       "2227  3185       deluge                    NaN   \n",
       "5448  7769       police                     UK   \n",
       "132    191   aftershock                    NaN   \n",
       "6845  9810       trauma  Montgomery County, MD   \n",
       "\n",
       "                                                   text  target  \n",
       "2644  So you have a new weapon that can cause un-ima...       1  \n",
       "2227  The f$&amp;@ing things I do for #GISHWHES Just...       0  \n",
       "5448  DT @georgegalloway: RT @Galloway4Mayor: ÛÏThe...       1  \n",
       "132   Aftershock back to school kick off was great. ...       0  \n",
       "6845  in response to trauma Children of Addicts deve...       0  "
      ]
     },
     "execution_count": 7,
     "metadata": {},
     "output_type": "execute_result"
    }
   ],
   "source": [
    "train_df_shuffle = train_df.sample(frac=1, random_state=SEED)\n",
    "\n",
    "train_df_shuffle.head(5)"
   ]
  },
  {
   "cell_type": "markdown",
   "id": "590719b1",
   "metadata": {},
   "source": [
    "|   | id | keyword | location | text | target |\n",
    "|  -- | -- | -- | -- | -- | -- |\n",
    "| 2644 | 3796 | destruction | NaN | So you have a new weapon that can cause un-ima... | 1 |\n",
    "| 2227 | 3185 | deluge | NaN | The f$&amp;@ing things I do for #GISHWHES Just... | 0 |\n",
    "| 5448 | 7769 | police | UK | DT @georgegalloway: RT @Galloway4Mayor: ÛÏThe... | 1 |\n",
    "| 132 | 191 | aftershock | NaN | Aftershock back to school kick off was great. ... | 0 |\n",
    "| 6845 | 9810 | trauma | Montgomery County, MD | in response to trauma Children of Addicts deve... | 0 |"
   ]
  },
  {
   "cell_type": "code",
   "execution_count": 8,
   "id": "aa92271b",
   "metadata": {
    "collapsed": true
   },
   "outputs": [
    {
     "name": "stdout",
     "output_type": "stream",
     "text": [
      "Target: 0 (not a disaster)\n",
      "Text: Do you have a plan? Emergency Preparedness for #Families of\n",
      "Children with Special Needs  http://t.co/RdOVqaUAx5  #autism #specialneeds\n",
      "\n",
      "---\n",
      "\n",
      "Target: 0 (not a disaster)\n",
      "Text: @dopeitsval ahh you're bomb baby ??\n",
      "\n",
      "---\n",
      "\n",
      "Target: 0 (not a disaster)\n",
      "Text: @SirTitan45  Mega mood swing on a 24 hr schedule. Isn't that how structural failure occurs?\n",
      "\n",
      "---\n",
      "\n",
      "Target: 0 (not a disaster)\n",
      "Text: @FoxNewsInsider All Obama is doing is giving a false time schedule on Iran testing there first bomb      Bomb = Nuclear Suicide Vest\n",
      "\n",
      "---\n",
      "\n",
      "Target: 1 (disaster)\n",
      "Text: SSP East says a car AEG 061 driven by a young man collided with Akram's carhot words were exchanged n he did firing in air1bullet hit tyre\n",
      "\n",
      "---\n",
      "\n"
     ]
    }
   ],
   "source": [
    "random_index = random.randint(0, len(train_df)-5)\n",
    "\n",
    "for row in train_df_shuffle[['text', 'target']][random_index:random_index+5].itertuples():\n",
    "    _, text, target = row\n",
    "    print(f\"Target: {target}\",\"(disaster)\" if target>0 else \"(not a disaster)\")\n",
    "    print(f\"Text: {text}\\n\")\n",
    "    print(\"---\\n\")"
   ]
  },
  {
   "cell_type": "markdown",
   "id": "3b39dc76",
   "metadata": {},
   "source": [
    "```\n",
    "Target: 1 (disaster)\n",
    "Text: @WesleyLowery ?????? how are you going to survive this devastation?\n",
    "\n",
    "---\n",
    "\n",
    "Target: 0 (not a disaster)\n",
    "Text: Hollywood movie about trapped miners released in Chile http://t.co/xe0EE1Fzfh\n",
    "\n",
    "---\n",
    "\n",
    "Target: 0 (not a disaster)\n",
    "Text: #sing #tsunami Beginners #computer tutorial.: http://t.co/ukQYbhxMQI Everyone Wants To Learn To Build A Pc. Re http://t.co/iDWS2ZgYsa\n",
    "\n",
    "---\n",
    "\n",
    "Target: 1 (disaster)\n",
    "Text: #Reddit updates #content #policy promises to quarantine Û÷extremely offensiveÛª communities http://t.co/EHGtZhKAn4\n",
    "\n",
    "---\n",
    "\n",
    "Target: 1 (disaster)\n",
    "Text: Japan Marks 70th Anniversary of Hiroshima Atomic Bombing http://t.co/cQLM9jOJOP\n",
    "\n",
    "---\n",
    "```"
   ]
  },
  {
   "cell_type": "markdown",
   "id": "3917a4d2",
   "metadata": {},
   "source": [
    "### Train Test Split"
   ]
  },
  {
   "cell_type": "code",
   "execution_count": 9,
   "id": "7ec679f1",
   "metadata": {
    "collapsed": true
   },
   "outputs": [
    {
     "name": "stdout",
     "output_type": "stream",
     "text": [
      "6851 762\n"
     ]
    }
   ],
   "source": [
    "train_tweets, val_tweets, train_labels, val_labels = train_test_split(\n",
    "    train_df_shuffle['text'].to_numpy(),\n",
    "    train_df_shuffle['target'].to_numpy(),\n",
    "    test_size=0.1,\n",
    "    random_state=SEED)\n",
    "\n",
    "print(len(train_tweets), len(val_tweets))\n",
    "# 6851 762"
   ]
  },
  {
   "cell_type": "markdown",
   "id": "fb3ca9f6",
   "metadata": {},
   "source": [
    "### Tokenization and Embedding\n",
    "\n",
    "Machine learning models take vectors (arrays of numbers) as input. When working with text, the first thing you must do is come up with a strategy to convert strings to numbers (or to [\"vectorize\" the text](https://www.tensorflow.org/text/guide/word_embeddings)) before feeding it to the model.\n",
    "\n",
    "\n",
    "#### Tokenization\n",
    "\n",
    "[TextVectorization layer](https://www.tensorflow.org/tutorials/keras/text_classification) is a Keras layer to standardize, tokenize, and vectorize the dataset."
   ]
  },
  {
   "cell_type": "code",
   "execution_count": 10,
   "id": "61cec259",
   "metadata": {
    "collapsed": true
   },
   "outputs": [
    {
     "name": "stdout",
     "output_type": "stream",
     "text": [
      "15\n"
     ]
    }
   ],
   "source": [
    "# find average number of words in tweets\n",
    "average_tokens_per_tweet=round(sum([len(i.split()) for i in train_tweets])/len(train_tweets))\n",
    "print(average_tokens_per_tweet)\n",
    "# 15"
   ]
  },
  {
   "cell_type": "code",
   "execution_count": 11,
   "id": "e8471748",
   "metadata": {},
   "outputs": [],
   "source": [
    "# create text vectorizer\n",
    "max_features = 10000 # limit to most common words\n",
    "sequence_length = 15 # limit to average number of words in tweets\n",
    "\n",
    "text_vectorizer = TextVectorization(\n",
    "    max_tokens=max_features, # set a value to only include most common words\n",
    "    standardize='lower_and_strip_punctuation',\n",
    "    split='whitespace',\n",
    "    ngrams=None, # set value to form common word groups\n",
    "    output_mode='int',\n",
    "    output_sequence_length=sequence_length, # set value to limit tweet size\n",
    "    pad_to_max_tokens=True # fluff tweets that are shorter than set max length\n",
    ")"
   ]
  },
  {
   "cell_type": "code",
   "execution_count": 12,
   "id": "edbe4972",
   "metadata": {},
   "outputs": [],
   "source": [
    "# fit text vectorizer to training data\n",
    "text_vectorizer.adapt(train_tweets)"
   ]
  },
  {
   "cell_type": "code",
   "execution_count": 13,
   "id": "0fc1b897",
   "metadata": {
    "collapsed": true
   },
   "outputs": [
    {
     "data": {
      "text/plain": [
       "<tf.Tensor: shape=(3, 15), dtype=int64, numpy=\n",
       "array([[ 274,   32, 4046,    1,    5,  370,    2, 5962,   88,    4,    0,\n",
       "           0,    0,    0,    0],\n",
       "       [ 706,  576,  473,  214,  206,   32,  354,  172, 1569,    0,    0,\n",
       "           0,    0,    0,    0],\n",
       "       [   1, 4013,    1,    1,    1,    1,    1,    1, 3878,    1,    1,\n",
       "           4,    1,    1,    1]])>"
      ]
     },
     "execution_count": 13,
     "metadata": {},
     "output_type": "execute_result"
    }
   ],
   "source": [
    "# test fitted vectorizer\n",
    "sample_sentence1 = \"Next I'm buying Coca-Cola to put the cocaine back in\"\n",
    "sample_sentence2 = \"Hey guys, wanna feel old? I'm 40. You're welcome.\"\n",
    "sample_sentence3 = \"Beef chicken pork bacon chuck shortloin sirloin shank eu, bresaola voluptate in enim ea kielbasa laboris brisket laborum, jowl labore id porkchop elit ad commodo.\"\n",
    "text_vectorizer([sample_sentence1,sample_sentence2,sample_sentence3])\n",
    "\n",
    "# <tf.Tensor: shape=(3, 15), dtype=int64, numpy=\n",
    "# array([[ 274,   32, 4046,    1,    5,  370,    2, 5962,   88,    4,    0,\n",
    "#            0,    0,    0,    0],\n",
    "#        [ 706,  576,  473,  214,  206,   32,  354,  172, 1569,    0,    0,\n",
    "#            0,    0,    0,    0],\n",
    "#        [   1, 4013,    1,    1,    1,    1,    1,    1, 3878,    1,    1,\n",
    "#            4,    1,    1,    1]])>"
   ]
  },
  {
   "cell_type": "code",
   "execution_count": 14,
   "id": "c11297ea",
   "metadata": {
    "collapsed": true
   },
   "outputs": [
    {
     "name": "stdout",
     "output_type": "stream",
     "text": [
      "Tweet: Rory McIlroy to Test Ankle Injury in Weekend Practice #chinadotcom #sports http://t.co/UDTGWfSc3P http://t.co/V5wSx0LQN2    \n",
      "\n",
      "Vector: [[4718 3646    5 1246 3182  345    4 1238 1614    1 1588    1    1    0\n",
      "     0]]\n"
     ]
    }
   ],
   "source": [
    "random_tweet = random.choice(train_tweets)\n",
    "vector = text_vectorizer([random_tweet])\n",
    "\n",
    "print(\n",
    "    f'Tweet: {random_tweet}\\\n",
    "    \\n\\nVector: {vector}'\n",
    ")\n",
    "\n",
    "# Tweet: Ignition Knock (Detonation) Sensor ACDelco GM Original Equipment 213-4678\n",
    "# Vector: [[ 888  885  580 1767    1 1671 1623 1863    1    1    1    0    0    0\n",
    "#      0]]"
   ]
  },
  {
   "cell_type": "code",
   "execution_count": 15,
   "id": "427fd692",
   "metadata": {
    "collapsed": true
   },
   "outputs": [
    {
     "name": "stdout",
     "output_type": "stream",
     "text": [
      "10000 ['', '[UNK]', 'the', 'a', 'in', 'to', 'of', 'and', 'i', 'is'] ['painthey', 'painful', 'paine', 'paging', 'pageshi', 'pages', 'paeds', 'pads', 'padres', 'paddytomlinson1']\n"
     ]
    }
   ],
   "source": [
    "# get unique vocabulary\n",
    "words_in_vocab = text_vectorizer.get_vocabulary()\n",
    "top_10_words = words_in_vocab[:10]\n",
    "bottom_10_words = words_in_vocab[-10:]\n",
    "\n",
    "print(\n",
    "    len(words_in_vocab),\n",
    "    top_10_words,\n",
    "    bottom_10_words\n",
    ")\n",
    "# 10000\n",
    "# ['', '[UNK]', 'the', 'a', 'in', 'to', 'of', 'and', 'i', 'is']\n",
    "# ['painthey', 'painful', 'paine', 'paging', 'pageshi', 'pages', 'paeds', 'pads', 'padres', 'paddytomlinson1']\n",
    "\n",
    "# The [UNK] stands for unknown - meaning outside of the 10.000 tokens limit"
   ]
  },
  {
   "cell_type": "markdown",
   "id": "88aa3adc",
   "metadata": {},
   "source": [
    "#### Embedding\n",
    "\n",
    "The now vectorize data can be used as the first layer of the classification model, feeding transformed strings into an [Embedding layer](https://www.tensorflow.org/text/guide/word_embeddings). The Embedding layer takes the integer-encoded vocabulary and looks up the embedding vector for each word-index. These vectors are learned as the model trains. The vectors add a dimension to the output array."
   ]
  },
  {
   "cell_type": "code",
   "execution_count": 16,
   "id": "1eef5af6",
   "metadata": {},
   "outputs": [],
   "source": [
    "# create embedding layer\n",
    "embedding = Embedding(\n",
    "    input_dim = max_features,\n",
    "    output_dim = 128,\n",
    "    input_length = sequence_length\n",
    ")"
   ]
  },
  {
   "cell_type": "code",
   "execution_count": 17,
   "id": "a508d154",
   "metadata": {
    "collapsed": true
   },
   "outputs": [
    {
     "name": "stdout",
     "output_type": "stream",
     "text": [
      "Tweet: Californian Bush Fires 2015 http://t.co/rjdX29wosp    \n",
      "\n",
      "Embedding: [[[-0.02276199  0.02443738  0.02346965 ... -0.02255568  0.0031268\n",
      "   -0.03683709]\n",
      "  [ 0.03843458  0.02319275  0.02064592 ...  0.03542275  0.04694393\n",
      "    0.00230541]\n",
      "  [ 0.00060918  0.04467062 -0.01757476 ... -0.02506196  0.04068417\n",
      "    0.01316834]\n",
      "  ...\n",
      "  [ 0.01372515  0.01294402  0.03904391 ... -0.0131917   0.01678599\n",
      "    0.02401787]\n",
      "  [ 0.01372515  0.01294402  0.03904391 ... -0.0131917   0.01678599\n",
      "    0.02401787]\n",
      "  [ 0.01372515  0.01294402  0.03904391 ... -0.0131917   0.01678599\n",
      "    0.02401787]]], (1, 15, 128)\n"
     ]
    }
   ],
   "source": [
    "random_tweet = random.choice(train_tweets)\n",
    "sample_embedd = embedding(text_vectorizer([random_tweet]))\n",
    "\n",
    "print(\n",
    "    f'Tweet: {random_tweet}\\\n",
    "    \\n\\nEmbedding: {sample_embedd}, {sample_embedd.shape}'\n",
    ")\n",
    "\n",
    "# Tweet: @biggangVH1 looks like George was having a panic attack. LOL.    \n",
    "\n",
    "# Embedding: [[[-0.02811491 -0.02710991 -0.04273632 ...  0.01480064 -0.02413664\n",
    "#     0.02612327]\n",
    "#   [-0.013403   -0.04941868  0.03431542 ...  0.00432001 -0.03614474\n",
    "#     0.04559914]\n",
    "#   [ 0.00161045 -0.02501463  0.02461291 ... -0.02123032  0.02596099\n",
    "#    -0.02626952]\n",
    "#   ...\n",
    "#   [ 0.03742747  0.03854593 -0.02052871 ...  0.01287705 -0.04228047\n",
    "#    -0.02316147]\n",
    "#   [ 0.03742747  0.03854593 -0.02052871 ...  0.01287705 -0.04228047\n",
    "#    -0.02316147]\n",
    "#   [ 0.03742747  0.03854593 -0.02052871 ...  0.01287705 -0.04228047\n",
    "#    -0.02316147]]], (1, 15, 128)\n",
    "\n",
    "# the shape tells us the the layer received 1 input with the length of\n",
    "# 15 words (as set before and filled up with zeros if tweet is shorter)\n",
    "# and each of those words is now represented by a 128dim vector"
   ]
  },
  {
   "cell_type": "markdown",
   "id": "5b47fbb1",
   "metadata": {},
   "source": [
    "## Experiments\n",
    "\n",
    "* Model 0: Naive Bayes (baseline)\n",
    "* Model 1: Feed-forward neural network (dense model)\n",
    "* Model 2: LSTM model (RNN)\n",
    "* Model 3: GRU model (RNN)\n",
    "* Model 4: Bidirectional-LSTM model (RNN)\n",
    "* Model 5: 1D-Convolutional Neural Network (CNN)\n",
    "* Model 6: TensorFlow Hub pre-trained NLP feature extractor\n",
    "* Model 6a: Model 6 with added complexity (add dense layer)\n",
    "* Model 6b: Model 6a with 10% training data\n",
    "* Model 6c: Model 6a with 10% training data (fixed sampling)"
   ]
  },
  {
   "cell_type": "markdown",
   "id": "a1321631",
   "metadata": {},
   "source": [
    "### Model 0: Naive Bayes tf-ids"
   ]
  },
  {
   "cell_type": "markdown",
   "id": "e30a8d08",
   "metadata": {},
   "source": [
    "#### Tokenization and Modelling Pipeline"
   ]
  },
  {
   "cell_type": "code",
   "execution_count": 18,
   "id": "fa1d0d69",
   "metadata": {
    "collapsed": true
   },
   "outputs": [
    {
     "data": {
      "text/html": [
       "<style>#sk-container-id-1 {color: black;background-color: white;}#sk-container-id-1 pre{padding: 0;}#sk-container-id-1 div.sk-toggleable {background-color: white;}#sk-container-id-1 label.sk-toggleable__label {cursor: pointer;display: block;width: 100%;margin-bottom: 0;padding: 0.3em;box-sizing: border-box;text-align: center;}#sk-container-id-1 label.sk-toggleable__label-arrow:before {content: \"▸\";float: left;margin-right: 0.25em;color: #696969;}#sk-container-id-1 label.sk-toggleable__label-arrow:hover:before {color: black;}#sk-container-id-1 div.sk-estimator:hover label.sk-toggleable__label-arrow:before {color: black;}#sk-container-id-1 div.sk-toggleable__content {max-height: 0;max-width: 0;overflow: hidden;text-align: left;background-color: #f0f8ff;}#sk-container-id-1 div.sk-toggleable__content pre {margin: 0.2em;color: black;border-radius: 0.25em;background-color: #f0f8ff;}#sk-container-id-1 input.sk-toggleable__control:checked~div.sk-toggleable__content {max-height: 200px;max-width: 100%;overflow: auto;}#sk-container-id-1 input.sk-toggleable__control:checked~label.sk-toggleable__label-arrow:before {content: \"▾\";}#sk-container-id-1 div.sk-estimator input.sk-toggleable__control:checked~label.sk-toggleable__label {background-color: #d4ebff;}#sk-container-id-1 div.sk-label input.sk-toggleable__control:checked~label.sk-toggleable__label {background-color: #d4ebff;}#sk-container-id-1 input.sk-hidden--visually {border: 0;clip: rect(1px 1px 1px 1px);clip: rect(1px, 1px, 1px, 1px);height: 1px;margin: -1px;overflow: hidden;padding: 0;position: absolute;width: 1px;}#sk-container-id-1 div.sk-estimator {font-family: monospace;background-color: #f0f8ff;border: 1px dotted black;border-radius: 0.25em;box-sizing: border-box;margin-bottom: 0.5em;}#sk-container-id-1 div.sk-estimator:hover {background-color: #d4ebff;}#sk-container-id-1 div.sk-parallel-item::after {content: \"\";width: 100%;border-bottom: 1px solid gray;flex-grow: 1;}#sk-container-id-1 div.sk-label:hover label.sk-toggleable__label {background-color: #d4ebff;}#sk-container-id-1 div.sk-serial::before {content: \"\";position: absolute;border-left: 1px solid gray;box-sizing: border-box;top: 0;bottom: 0;left: 50%;z-index: 0;}#sk-container-id-1 div.sk-serial {display: flex;flex-direction: column;align-items: center;background-color: white;padding-right: 0.2em;padding-left: 0.2em;position: relative;}#sk-container-id-1 div.sk-item {position: relative;z-index: 1;}#sk-container-id-1 div.sk-parallel {display: flex;align-items: stretch;justify-content: center;background-color: white;position: relative;}#sk-container-id-1 div.sk-item::before, #sk-container-id-1 div.sk-parallel-item::before {content: \"\";position: absolute;border-left: 1px solid gray;box-sizing: border-box;top: 0;bottom: 0;left: 50%;z-index: -1;}#sk-container-id-1 div.sk-parallel-item {display: flex;flex-direction: column;z-index: 1;position: relative;background-color: white;}#sk-container-id-1 div.sk-parallel-item:first-child::after {align-self: flex-end;width: 50%;}#sk-container-id-1 div.sk-parallel-item:last-child::after {align-self: flex-start;width: 50%;}#sk-container-id-1 div.sk-parallel-item:only-child::after {width: 0;}#sk-container-id-1 div.sk-dashed-wrapped {border: 1px dashed gray;margin: 0 0.4em 0.5em 0.4em;box-sizing: border-box;padding-bottom: 0.4em;background-color: white;}#sk-container-id-1 div.sk-label label {font-family: monospace;font-weight: bold;display: inline-block;line-height: 1.2em;}#sk-container-id-1 div.sk-label-container {text-align: center;}#sk-container-id-1 div.sk-container {/* jupyter's `normalize.less` sets `[hidden] { display: none; }` but bootstrap.min.css set `[hidden] { display: none !important; }` so we also need the `!important` here to be able to override the default hidden behavior on the sphinx rendered scikit-learn.org. See: https://github.com/scikit-learn/scikit-learn/issues/21755 */display: inline-block !important;position: relative;}#sk-container-id-1 div.sk-text-repr-fallback {display: none;}</style><div id=\"sk-container-id-1\" class=\"sk-top-container\"><div class=\"sk-text-repr-fallback\"><pre>Pipeline(steps=[(&#x27;tfidf&#x27;, TfidfVectorizer()), (&#x27;clf&#x27;, MultinomialNB())])</pre><b>In a Jupyter environment, please rerun this cell to show the HTML representation or trust the notebook. <br />On GitHub, the HTML representation is unable to render, please try loading this page with nbviewer.org.</b></div><div class=\"sk-container\" hidden><div class=\"sk-item sk-dashed-wrapped\"><div class=\"sk-label-container\"><div class=\"sk-label sk-toggleable\"><input class=\"sk-toggleable__control sk-hidden--visually\" id=\"sk-estimator-id-1\" type=\"checkbox\" ><label for=\"sk-estimator-id-1\" class=\"sk-toggleable__label sk-toggleable__label-arrow\">Pipeline</label><div class=\"sk-toggleable__content\"><pre>Pipeline(steps=[(&#x27;tfidf&#x27;, TfidfVectorizer()), (&#x27;clf&#x27;, MultinomialNB())])</pre></div></div></div><div class=\"sk-serial\"><div class=\"sk-item\"><div class=\"sk-estimator sk-toggleable\"><input class=\"sk-toggleable__control sk-hidden--visually\" id=\"sk-estimator-id-2\" type=\"checkbox\" ><label for=\"sk-estimator-id-2\" class=\"sk-toggleable__label sk-toggleable__label-arrow\">TfidfVectorizer</label><div class=\"sk-toggleable__content\"><pre>TfidfVectorizer()</pre></div></div></div><div class=\"sk-item\"><div class=\"sk-estimator sk-toggleable\"><input class=\"sk-toggleable__control sk-hidden--visually\" id=\"sk-estimator-id-3\" type=\"checkbox\" ><label for=\"sk-estimator-id-3\" class=\"sk-toggleable__label sk-toggleable__label-arrow\">MultinomialNB</label><div class=\"sk-toggleable__content\"><pre>MultinomialNB()</pre></div></div></div></div></div></div></div>"
      ],
      "text/plain": [
       "Pipeline(steps=[('tfidf', TfidfVectorizer()), ('clf', MultinomialNB())])"
      ]
     },
     "execution_count": 18,
     "metadata": {},
     "output_type": "execute_result"
    }
   ],
   "source": [
    "model_0 = Pipeline([\n",
    "    (\"tfidf\", TfidfVectorizer()),\n",
    "    (\"clf\", MultinomialNB())\n",
    "])\n",
    "\n",
    "# fit to training data\n",
    "model_0.fit(train_tweets, train_labels)"
   ]
  },
  {
   "cell_type": "markdown",
   "id": "0fe07cf0",
   "metadata": {},
   "source": [
    "#### Evaluation"
   ]
  },
  {
   "cell_type": "code",
   "execution_count": 19,
   "id": "5114f333",
   "metadata": {
    "collapsed": true
   },
   "outputs": [
    {
     "name": "stdout",
     "output_type": "stream",
     "text": [
      "Baseline accuracy: 79.27%\n"
     ]
    }
   ],
   "source": [
    "baseline_score = model_0.score(val_tweets, val_labels)\n",
    "print(f\"Baseline accuracy: {baseline_score*100:.2f}%\")\n",
    "# Baseline accuracy: 79.27%"
   ]
  },
  {
   "cell_type": "markdown",
   "id": "7d8c5e71",
   "metadata": {},
   "source": [
    "#### Predictions"
   ]
  },
  {
   "cell_type": "code",
   "execution_count": 20,
   "id": "4172f8ef",
   "metadata": {
    "collapsed": true
   },
   "outputs": [
    {
     "name": "stdout",
     "output_type": "stream",
     "text": [
      "['DFR EP016 Monthly Meltdown - On Dnbheaven 2015.08.06 http://t.co/EjKRf8N8A8 #Drum and Bass #heavy #nasty http://t.co/SPHWE6wFI5'\n",
      " 'FedEx no longer to transport bioterror germs in wake of anthrax lab mishaps http://t.co/qZQc8WWwcN via @usatoday'\n",
      " 'Gunmen kill four in El Salvador bus attack: Suspected Salvadoran gang members killed four people and wounded s... http://t.co/CNtwB6ScZj'\n",
      " '@camilacabello97 Internally and externally screaming'\n",
      " 'Radiation emergency #preparedness starts with knowing to: get inside stay inside and stay tuned http://t.co/RFFPqBAz2F via @CDCgov'\n",
      " 'Investigators rule catastrophic structural failure resulted in 2014 Virg.. Related Articles: http://t.co/Cy1LFeNyV8'\n",
      " 'How the West was burned: Thousands of wildfires ablaze in #California alone http://t.co/iCSjGZ9tE1 #climate #energy http://t.co/9FxmN0l0Bd'\n",
      " \"Map: Typhoon Soudelor's predicted path as it approaches Taiwan; expected to make landfall over southern China by S\\x89Û_ http://t.co/JDVSGVhlIs\"\n",
      " '\\x89Ûª93 blasts accused Yeda Yakub dies in Karachi of heart attack http://t.co/mfKqyxd8XG #Mumbai'\n",
      " 'My ears are bleeding  https://t.co/k5KnNwugwT']\n",
      "[1 1 1 0 0 1 1 1 1 0]\n"
     ]
    }
   ],
   "source": [
    "baseline_preds = model_0.predict(val_tweets)\n",
    "\n",
    "print(val_tweets[:10])\n",
    "print(baseline_preds[:10])\n",
    "# array([1, 1, 1, 0, 0, 1, 1, 1, 1, 0])"
   ]
  },
  {
   "cell_type": "markdown",
   "id": "7ad776be",
   "metadata": {},
   "source": [
    "> `[1 1 1 0 0 1 1 1 1 0]`\n",
    "\n",
    "1. 'DFR EP016 Monthly Meltdown - On Dnbheaven 2015.08.06 http://t.co/EjKRf8N8A8 #Drum and Bass #heavy #nasty http://t.co/SPHWE6wFI5'\n",
    "2. 'FedEx no longer to transport bioterror germs in wake of anthrax lab mishaps http://t.co/qZQc8WWwcN via @usatoday'\n",
    "3. 'Gunmen kill four in El Salvador bus attack: Suspected Salvadoran gang members killed four people and wounded s... http://t.co/CNtwB6ScZj'\n",
    "4. '@camilacabello97 Internally and externally screaming'\n",
    "5. 'Radiation emergency #preparedness starts with knowing to: get inside stay inside and stay tuned http://t.co/RFFPqBAz2F via @CDCgov'\n",
    "6. 'Investigators rule catastrophic structural failure resulted in 2014 Virg.. Related Articles: http://t.co/Cy1LFeNyV8'\n",
    "7. 'How the West was burned: Thousands of wildfires ablaze in #California alone http://t.co/iCSjGZ9tE1 #climate #energy http://t.co/9FxmN0l0Bd'\n",
    "8. \"Map: Typhoon Soudelor's predicted path as it approaches Taiwan; expected to make landfall over southern China by S\\x89Û_ http://t.co/JDVSGVhlIs\"\n",
    "9. '\\x89Ûª93 blasts accused Yeda Yakub dies in Karachi of heart attack http://t.co/mfKqyxd8XG #Mumbai'\n",
    "10. 'My ears are bleeding  https://t.co/k5KnNwugwT']"
   ]
  },
  {
   "cell_type": "code",
   "execution_count": 21,
   "id": "43506e34",
   "metadata": {
    "collapsed": true
   },
   "outputs": [
    {
     "name": "stdout",
     "output_type": "stream",
     "text": [
      "Accuracy: 79.26509186351706, Precision: 0.8111390004213173, Recall: 0.7926509186351706, F1-Score: 0.7862189758049549\n"
     ]
    }
   ],
   "source": [
    "baseline_metrics = calculate_metrics(\n",
    "    y_true=val_labels,\n",
    "    y_pred=baseline_preds\n",
    ")\n",
    "\n",
    "print(f\"Accuracy: {baseline_metrics['accuracy']}, Precision: {baseline_metrics['precision']}, Recall: {baseline_metrics['recall']}, F1-Score: {baseline_metrics['f1']}\")\n"
   ]
  },
  {
   "cell_type": "markdown",
   "id": "07d4de5d",
   "metadata": {},
   "source": [
    "#### Model 0 Metrics\n",
    "\n",
    "* Accuracy: 79.26509186351706,\n",
    "* Precision: 0.8111390004213173,\n",
    "* Recall: 0.7926509186351706,\n",
    "* F1-Score: 0.7862189758049549"
   ]
  },
  {
   "cell_type": "markdown",
   "id": "c8f9b07e",
   "metadata": {},
   "source": [
    "### Model 1: Simple Dense\n",
    "\n",
    "#### Model Building and Training"
   ]
  },
  {
   "cell_type": "code",
   "execution_count": 22,
   "id": "323901a0",
   "metadata": {
    "collapsed": true
   },
   "outputs": [
    {
     "name": "stdout",
     "output_type": "stream",
     "text": [
      "Model: \"model_1_dense\"\n",
      "_________________________________________________________________\n",
      " Layer (type)                Output Shape              Param #   \n",
      "=================================================================\n",
      " input_1 (InputLayer)        [(None, 1)]               0         \n",
      "                                                                 \n",
      " text_vectorization (TextVec  (None, 15)               0         \n",
      " torization)                                                     \n",
      "                                                                 \n",
      " embedding (Embedding)       (None, 15, 128)           1280000   \n",
      "                                                                 \n",
      " global_average_pooling1d (G  (None, 128)              0         \n",
      " lobalAveragePooling1D)                                          \n",
      "                                                                 \n",
      " dense (Dense)               (None, 1)                 129       \n",
      "                                                                 \n",
      "=================================================================\n",
      "Total params: 1,280,129\n",
      "Trainable params: 1,280,129\n",
      "Non-trainable params: 0\n",
      "_________________________________________________________________\n"
     ]
    }
   ],
   "source": [
    "# build model\n",
    "## inputs are single 1-dimensional strings\n",
    "inputs = Input(shape=(1,), dtype=tf.string)\n",
    "## turn strings into numbers\n",
    "x = text_vectorizer(inputs)\n",
    "## create embedding from vectorized input\n",
    "x = embedding(x)\n",
    "## instead of returning a prediction for every token/word\n",
    "## condense all to a single prediction for entire input string\n",
    "x = GlobalAveragePooling1D()(x)\n",
    "## sigmoid activated output for binary classification\n",
    "outputs = Dense(1, activation='sigmoid')(x)\n",
    "\n",
    "model_1 = tf.keras.Model(inputs, outputs, name='model_1_dense')\n",
    "model_1.summary()"
   ]
  },
  {
   "cell_type": "markdown",
   "id": "946c829d",
   "metadata": {},
   "source": [
    "```\n",
    "Model: \"model_1_dense\"\n",
    "_________________________________________________________________\n",
    " Layer (type)                Output Shape              Param #   \n",
    "=================================================================\n",
    " input_3 (InputLayer)        [(None, 1)]               0         \n",
    "                                                                 \n",
    " text_vectorization (TextVec  (None, 15)               0         \n",
    " torization)                                                     \n",
    "                                                                 \n",
    " embedding (Embedding)       (None, 15, 128)           1280000   \n",
    "                                                                 \n",
    " global_average_pooling1d (G  (None, 128)              0         \n",
    " lobalAveragePooling1D)                                          \n",
    "                                                                 \n",
    " dense_2 (Dense)             (None, 1)                 129       \n",
    "                                                                 \n",
    "=================================================================\n",
    "Total params: 1,280,129\n",
    "Trainable params: 1,280,129\n",
    "Non-trainable params: 0\n",
    "_________________________________________________________________\n",
    "```"
   ]
  },
  {
   "cell_type": "code",
   "execution_count": 23,
   "id": "381177db",
   "metadata": {},
   "outputs": [],
   "source": [
    "# compile model\n",
    "model_1.compile(\n",
    "    loss='binary_crossentropy',\n",
    "    optimizer=tf.keras.optimizers.Adam(),\n",
    "    metrics=['accuracy']\n",
    ")"
   ]
  },
  {
   "cell_type": "code",
   "execution_count": 24,
   "id": "f32f2ddf",
   "metadata": {},
   "outputs": [],
   "source": [
    "# there seems to be an issue with the tb callback\n",
    "# https://github.com/keras-team/keras/issues/15163\n",
    "# changed histogram_freq=0\n",
    "## create a callback to track experiments in TensorBoard\n",
    "def create_tensorboard_callback_bugged(dir_name, experiment_name):\n",
    "    # log progress to log directory\n",
    "    log_dir = dir_name + \"/\" + experiment_name + \"/\" + datetime.datetime.now().strftime(\"%Y%m%d-%H%M%S\")\n",
    "    tensorboard_callback = tf.keras.callbacks.TensorBoard(log_dir=log_dir, histogram_freq=0)\n",
    "    print(f\"INFO :: Saving TensorBoard Log to: {log_dir}\")\n",
    "    return tensorboard_callback"
   ]
  },
  {
   "cell_type": "code",
   "execution_count": 25,
   "id": "33a6c814",
   "metadata": {
    "collapsed": true
   },
   "outputs": [
    {
     "name": "stdout",
     "output_type": "stream",
     "text": [
      "INFO :: Saving TensorBoard Log to: tensorboad/model_1_dense/20230424-123502\n",
      "Epoch 1/5\n",
      "215/215 [==============================] - 3s 11ms/step - loss: 0.6107 - accuracy: 0.6933 - val_loss: 0.5342 - val_accuracy: 0.7612\n",
      "Epoch 2/5\n",
      "215/215 [==============================] - 2s 11ms/step - loss: 0.4420 - accuracy: 0.8168 - val_loss: 0.4712 - val_accuracy: 0.7835\n",
      "Epoch 3/5\n",
      "215/215 [==============================] - 2s 10ms/step - loss: 0.3477 - accuracy: 0.8596 - val_loss: 0.4560 - val_accuracy: 0.7913\n",
      "Epoch 4/5\n",
      "215/215 [==============================] - 2s 11ms/step - loss: 0.2846 - accuracy: 0.8904 - val_loss: 0.4663 - val_accuracy: 0.7887\n",
      "Epoch 5/5\n",
      "215/215 [==============================] - 2s 11ms/step - loss: 0.2372 - accuracy: 0.9123 - val_loss: 0.4825 - val_accuracy: 0.7861\n"
     ]
    }
   ],
   "source": [
    "# model training\n",
    "model_1_history = model_1.fit(\n",
    "    x=train_tweets,\n",
    "    y=train_labels,\n",
    "    epochs=5,\n",
    "    validation_data=(val_tweets, val_labels),\n",
    "    callbacks=[create_tensorboard_callback_bugged(\n",
    "        dir_name=LOG_DIR,\n",
    "        experiment_name='model_1_dense'\n",
    "    )]\n",
    ")"
   ]
  },
  {
   "cell_type": "markdown",
   "id": "1e7d2797",
   "metadata": {},
   "source": [
    "#### Model Evaluation"
   ]
  },
  {
   "cell_type": "code",
   "execution_count": 26,
   "id": "6ae7b987",
   "metadata": {
    "collapsed": true
   },
   "outputs": [
    {
     "name": "stdout",
     "output_type": "stream",
     "text": [
      "24/24 [==============================] - 0s 1ms/step - loss: 0.4825 - accuracy: 0.7861\n"
     ]
    },
    {
     "data": {
      "text/plain": [
       "[0.4824865162372589, 0.7860892415046692]"
      ]
     },
     "execution_count": 26,
     "metadata": {},
     "output_type": "execute_result"
    }
   ],
   "source": [
    "model_1.evaluate(val_tweets, val_labels)\n",
    "# loss: 0.4830 - accuracy: 0.7887"
   ]
  },
  {
   "cell_type": "code",
   "execution_count": 27,
   "id": "c427b619",
   "metadata": {
    "collapsed": true
   },
   "outputs": [
    {
     "name": "stdout",
     "output_type": "stream",
     "text": [
      "24/24 [==============================] - 0s 996us/step\n",
      "Prediction: [0.3651343] (not a disaster)\n"
     ]
    }
   ],
   "source": [
    "model_1_preds = model_1.predict(val_tweets)\n",
    "sample_prediction=model_1_preds[0]\n",
    "print(f\"Prediction: {sample_prediction}\",\"(disaster)\" if sample_prediction>0.5 else \"(not a disaster)\")\n",
    "# Prediction: [0.32197773] (not a disaster)"
   ]
  },
  {
   "cell_type": "code",
   "execution_count": 28,
   "id": "563f42ef",
   "metadata": {},
   "outputs": [],
   "source": [
    "# convert model prediction probabilities to binary label format\n",
    "model_1_preds = tf.squeeze(tf.round(model_1_preds))"
   ]
  },
  {
   "cell_type": "code",
   "execution_count": 29,
   "id": "51c9167d",
   "metadata": {
    "collapsed": true
   },
   "outputs": [
    {
     "name": "stdout",
     "output_type": "stream",
     "text": [
      "{'accuracy': 78.60892388451444, 'precision': 0.7911704681403405, 'recall': 0.7860892388451444, 'f1': 0.7830068921982195}\n"
     ]
    }
   ],
   "source": [
    "model_1_metrics = calculate_metrics(\n",
    "    y_true=val_labels,\n",
    "    y_pred=model_1_preds\n",
    ")\n",
    "\n",
    "print(model_1_metrics)"
   ]
  },
  {
   "cell_type": "markdown",
   "id": "1429eb01",
   "metadata": {},
   "source": [
    "#### Model 1 Metrics\n",
    "\n",
    "* Accuracy: 78.87139107611549\n",
    "* Precision: 0.7969619064252174\n",
    "* Recall: 0.7887139107611548\n",
    "* F1: 0.7847294282013199"
   ]
  },
  {
   "cell_type": "code",
   "execution_count": 30,
   "id": "59d16afa",
   "metadata": {
    "collapsed": true
   },
   "outputs": [
    {
     "data": {
      "text/plain": [
       "array([False, False, False, False])"
      ]
     },
     "execution_count": 30,
     "metadata": {},
     "output_type": "execute_result"
    }
   ],
   "source": [
    "# the model performs worse than the baseline model\n",
    "np.array(list(model_1_metrics.values())) > np.array(list(baseline_metrics.values()))\n",
    "# array([False, False, False, False])"
   ]
  },
  {
   "cell_type": "markdown",
   "id": "cfec6135",
   "metadata": {},
   "source": [
    "#### Visualize the Embedding"
   ]
  },
  {
   "cell_type": "code",
   "execution_count": 31,
   "id": "973ccb9a",
   "metadata": {
    "collapsed": true
   },
   "outputs": [
    {
     "name": "stdout",
     "output_type": "stream",
     "text": [
      "['', '[UNK]', 'the', 'a', 'in', 'to', 'of', 'and', 'i', 'is']\n"
     ]
    }
   ],
   "source": [
    "# get vocab from text vectorizer layer\n",
    "words_in_vocab = text_vectorizer.get_vocabulary()\n",
    "top_10_words = words_in_vocab[:10]\n",
    "print(top_10_words)\n",
    "# ['', '[UNK]', 'the', 'a', 'in', 'to', 'of', 'and', 'i', 'is']"
   ]
  },
  {
   "cell_type": "code",
   "execution_count": 32,
   "id": "6063681c",
   "metadata": {
    "collapsed": true
   },
   "outputs": [
    {
     "name": "stdout",
     "output_type": "stream",
     "text": [
      "(10000, 128)\n"
     ]
    }
   ],
   "source": [
    "# get embedding weight matrix\n",
    "embed_weights = model_1.get_layer('embedding').get_weights()[0]\n",
    "print(embed_weights.shape)\n",
    "# (10000, 128) same size as max_features - one weight for every word in vocabulary"
   ]
  },
  {
   "cell_type": "markdown",
   "id": "dc1c819d",
   "metadata": {},
   "source": [
    "The [embeddeding weights](https://www.tensorflow.org/tutorials/text/word2vec) started as random numbers assigned to each token/word in our dataset. By fitting this embedding space to our dataset these weights can now be used to group the words in our dataset. Words that belong to the same class should also have similar vectors representing them.\n",
    "\n",
    "We can use the [Tensorflow Projector](https://projector.tensorflow.org/) to display our embedding space:"
   ]
  },
  {
   "cell_type": "code",
   "execution_count": 33,
   "id": "0afc7197",
   "metadata": {},
   "outputs": [],
   "source": [
    "out_v = io.open('embedding_weights/vectors_model1.tsv', 'w', encoding='utf-8')\n",
    "out_m = io.open('embedding_weights/metadata_model1.tsv', 'w', encoding='utf-8')\n",
    "\n",
    "for index, word in enumerate(words_in_vocab):\n",
    "    if index == 0:\n",
    "        continue # skip padding\n",
    "    vec = embed_weights[index]\n",
    "    out_v.write('\\t'.join([str(x) for x in vec]) + '\\n')\n",
    "    out_m.write(word + '\\n')\n",
    "    \n",
    "out_v.close()\n",
    "out_m.close()\n",
    "\n",
    "# Upload both files to the [Tensorflow Projector](https://projector.tensorflow.org/)"
   ]
  },
  {
   "cell_type": "markdown",
   "id": "fade3d6f",
   "metadata": {},
   "source": [
    "![(Re) Introduction to Tensorflow Natural Language Processing](./assets/tf_nlp_desaster_tweets_01.png)"
   ]
  },
  {
   "cell_type": "markdown",
   "id": "e19f1f6a",
   "metadata": {},
   "source": [
    "The projection shows a clear separation between our two classes showing each word in our vocabulary as a member of one of two clusters."
   ]
  },
  {
   "cell_type": "markdown",
   "id": "8f1a633b",
   "metadata": {},
   "source": [
    "### Model 2: LSTM Long-term Short-term Memory RNN\n",
    "\n",
    "#### Model Building and Training"
   ]
  },
  {
   "cell_type": "code",
   "execution_count": 34,
   "id": "70e5e9ef",
   "metadata": {
    "collapsed": true
   },
   "outputs": [
    {
     "name": "stdout",
     "output_type": "stream",
     "text": [
      "Model: \"model_2_LSTM\"\n",
      "_________________________________________________________________\n",
      " Layer (type)                Output Shape              Param #   \n",
      "=================================================================\n",
      " input_2 (InputLayer)        [(None, 1)]               0         \n",
      "                                                                 \n",
      " text_vectorization (TextVec  (None, 15)               0         \n",
      " torization)                                                     \n",
      "                                                                 \n",
      " embedding (Embedding)       (None, 15, 128)           1280000   \n",
      "                                                                 \n",
      " lstm (LSTM)                 (None, 64)                49408     \n",
      "                                                                 \n",
      " dense_1 (Dense)             (None, 64)                4160      \n",
      "                                                                 \n",
      " dense_2 (Dense)             (None, 1)                 65        \n",
      "                                                                 \n",
      "=================================================================\n",
      "Total params: 1,333,633\n",
      "Trainable params: 1,333,633\n",
      "Non-trainable params: 0\n",
      "_________________________________________________________________\n"
     ]
    },
    {
     "name": "stderr",
     "output_type": "stream",
     "text": [
      "2023-04-24 12:36:18.974737: I tensorflow/core/common_runtime/executor.cc:1197] [/device:CPU:0] (DEBUG INFO) Executor start aborting (this does not indicate an error and you can ignore this message): INVALID_ARGUMENT: You must feed a value for placeholder tensor 'gradients/split_2_grad/concat/split_2/split_dim' with dtype int32\n",
      "\t [[{{node gradients/split_2_grad/concat/split_2/split_dim}}]]\n",
      "2023-04-24 12:36:18.975932: I tensorflow/core/common_runtime/executor.cc:1197] [/device:CPU:0] (DEBUG INFO) Executor start aborting (this does not indicate an error and you can ignore this message): INVALID_ARGUMENT: You must feed a value for placeholder tensor 'gradients/split_grad/concat/split/split_dim' with dtype int32\n",
      "\t [[{{node gradients/split_grad/concat/split/split_dim}}]]\n",
      "2023-04-24 12:36:18.976773: I tensorflow/core/common_runtime/executor.cc:1197] [/device:CPU:0] (DEBUG INFO) Executor start aborting (this does not indicate an error and you can ignore this message): INVALID_ARGUMENT: You must feed a value for placeholder tensor 'gradients/split_1_grad/concat/split_1/split_dim' with dtype int32\n",
      "\t [[{{node gradients/split_1_grad/concat/split_1/split_dim}}]]\n"
     ]
    }
   ],
   "source": [
    "inputs = Input(shape=(1,), dtype='string')\n",
    "x = text_vectorizer(inputs)\n",
    "x = embedding(x)\n",
    "# x = LSTM(64, return_sequences=True)(x)\n",
    "x = LSTM(64)(x)\n",
    "x = Dense(64, activation='relu')(x)\n",
    "outputs = Dense(1, activation='sigmoid')(x)\n",
    "\n",
    "model_2 = tf.keras.Model(inputs, outputs, name=\"model_2_LSTM\")\n",
    "model_2.summary()"
   ]
  },
  {
   "cell_type": "markdown",
   "id": "8ad9cd3b",
   "metadata": {},
   "source": [
    "```\n",
    "Model: \"model_2_LSTM\"\n",
    "_________________________________________________________________\n",
    " Layer (type)                Output Shape              Param #   \n",
    "=================================================================\n",
    " input_3 (InputLayer)        [(None, 1)]               0         \n",
    "                                                                 \n",
    " text_vectorization (TextVec  (None, 15)               0         \n",
    " torization)                                                     \n",
    "                                                                 \n",
    " embedding (Embedding)       (None, 15, 128)           1280000   \n",
    "                                                                 \n",
    " lstm_2 (LSTM)               (None, 64)                49408     \n",
    "                                                                 \n",
    " dense_3 (Dense)             (None, 64)                4160      \n",
    "                                                                 \n",
    " dense_4 (Dense)             (None, 1)                 65        \n",
    "                                                                 \n",
    "=================================================================\n",
    "Total params: 1,333,633\n",
    "Trainable params: 1,333,633\n",
    "Non-trainable params: 0\n",
    "_________________________________________________________________\n",
    "```"
   ]
  },
  {
   "cell_type": "code",
   "execution_count": 35,
   "id": "f433734f",
   "metadata": {},
   "outputs": [],
   "source": [
    "model_2.compile(\n",
    "    loss='binary_crossentropy',\n",
    "    optimizer=tf.keras.optimizers.Adam(),\n",
    "    metrics=['accuracy']\n",
    ")"
   ]
  },
  {
   "cell_type": "code",
   "execution_count": 36,
   "id": "6a3bf8b1",
   "metadata": {
    "collapsed": true
   },
   "outputs": [
    {
     "name": "stdout",
     "output_type": "stream",
     "text": [
      "INFO :: Saving TensorBoard Log to: tensorboad/model_2_lstm/20230424-123624\n",
      "Epoch 1/5\n"
     ]
    },
    {
     "name": "stderr",
     "output_type": "stream",
     "text": [
      "2023-04-24 12:36:24.703596: I tensorflow/core/common_runtime/executor.cc:1197] [/device:CPU:0] (DEBUG INFO) Executor start aborting (this does not indicate an error and you can ignore this message): INVALID_ARGUMENT: You must feed a value for placeholder tensor 'gradients/split_2_grad/concat/split_2/split_dim' with dtype int32\n",
      "\t [[{{node gradients/split_2_grad/concat/split_2/split_dim}}]]\n",
      "2023-04-24 12:36:24.705086: I tensorflow/core/common_runtime/executor.cc:1197] [/device:CPU:0] (DEBUG INFO) Executor start aborting (this does not indicate an error and you can ignore this message): INVALID_ARGUMENT: You must feed a value for placeholder tensor 'gradients/split_grad/concat/split/split_dim' with dtype int32\n",
      "\t [[{{node gradients/split_grad/concat/split/split_dim}}]]\n",
      "2023-04-24 12:36:24.706383: I tensorflow/core/common_runtime/executor.cc:1197] [/device:CPU:0] (DEBUG INFO) Executor start aborting (this does not indicate an error and you can ignore this message): INVALID_ARGUMENT: You must feed a value for placeholder tensor 'gradients/split_1_grad/concat/split_1/split_dim' with dtype int32\n",
      "\t [[{{node gradients/split_1_grad/concat/split_1/split_dim}}]]\n",
      "2023-04-24 12:36:25.306131: I tensorflow/core/common_runtime/executor.cc:1197] [/device:CPU:0] (DEBUG INFO) Executor start aborting (this does not indicate an error and you can ignore this message): INVALID_ARGUMENT: You must feed a value for placeholder tensor 'gradients/split_2_grad/concat/split_2/split_dim' with dtype int32\n",
      "\t [[{{node gradients/split_2_grad/concat/split_2/split_dim}}]]\n",
      "2023-04-24 12:36:25.307521: I tensorflow/core/common_runtime/executor.cc:1197] [/device:CPU:0] (DEBUG INFO) Executor start aborting (this does not indicate an error and you can ignore this message): INVALID_ARGUMENT: You must feed a value for placeholder tensor 'gradients/split_grad/concat/split/split_dim' with dtype int32\n",
      "\t [[{{node gradients/split_grad/concat/split/split_dim}}]]\n",
      "2023-04-24 12:36:25.308696: I tensorflow/core/common_runtime/executor.cc:1197] [/device:CPU:0] (DEBUG INFO) Executor start aborting (this does not indicate an error and you can ignore this message): INVALID_ARGUMENT: You must feed a value for placeholder tensor 'gradients/split_1_grad/concat/split_1/split_dim' with dtype int32\n",
      "\t [[{{node gradients/split_1_grad/concat/split_1/split_dim}}]]\n"
     ]
    },
    {
     "name": "stdout",
     "output_type": "stream",
     "text": [
      "214/215 [============================>.] - ETA: 0s - loss: 0.2236 - accuracy: 0.9182"
     ]
    },
    {
     "name": "stderr",
     "output_type": "stream",
     "text": [
      "2023-04-24 12:36:29.358635: I tensorflow/core/common_runtime/executor.cc:1197] [/device:CPU:0] (DEBUG INFO) Executor start aborting (this does not indicate an error and you can ignore this message): INVALID_ARGUMENT: You must feed a value for placeholder tensor 'gradients/split_2_grad/concat/split_2/split_dim' with dtype int32\n",
      "\t [[{{node gradients/split_2_grad/concat/split_2/split_dim}}]]\n",
      "2023-04-24 12:36:29.360184: I tensorflow/core/common_runtime/executor.cc:1197] [/device:CPU:0] (DEBUG INFO) Executor start aborting (this does not indicate an error and you can ignore this message): INVALID_ARGUMENT: You must feed a value for placeholder tensor 'gradients/split_grad/concat/split/split_dim' with dtype int32\n",
      "\t [[{{node gradients/split_grad/concat/split/split_dim}}]]\n",
      "2023-04-24 12:36:29.361054: I tensorflow/core/common_runtime/executor.cc:1197] [/device:CPU:0] (DEBUG INFO) Executor start aborting (this does not indicate an error and you can ignore this message): INVALID_ARGUMENT: You must feed a value for placeholder tensor 'gradients/split_1_grad/concat/split_1/split_dim' with dtype int32\n",
      "\t [[{{node gradients/split_1_grad/concat/split_1/split_dim}}]]\n"
     ]
    },
    {
     "name": "stdout",
     "output_type": "stream",
     "text": [
      "215/215 [==============================] - 5s 15ms/step - loss: 0.2235 - accuracy: 0.9183 - val_loss: 0.5882 - val_accuracy: 0.7808\n",
      "Epoch 2/5\n",
      "215/215 [==============================] - 3s 14ms/step - loss: 0.1558 - accuracy: 0.9425 - val_loss: 0.5705 - val_accuracy: 0.7835\n",
      "Epoch 3/5\n",
      "215/215 [==============================] - 3s 14ms/step - loss: 0.1300 - accuracy: 0.9501 - val_loss: 0.6402 - val_accuracy: 0.7795\n",
      "Epoch 4/5\n",
      "215/215 [==============================] - 3s 14ms/step - loss: 0.1056 - accuracy: 0.9590 - val_loss: 0.8448 - val_accuracy: 0.7808\n",
      "Epoch 5/5\n",
      "215/215 [==============================] - 3s 14ms/step - loss: 0.0846 - accuracy: 0.9641 - val_loss: 0.9677 - val_accuracy: 0.7730\n"
     ]
    }
   ],
   "source": [
    "model_2_history = model_2.fit(\n",
    "    train_tweets,\n",
    "    train_labels,\n",
    "    epochs=5,\n",
    "    validation_data=(val_tweets, val_labels),\n",
    "    callbacks=[create_tensorboard_callback_bugged(\n",
    "        dir_name=LOG_DIR,\n",
    "        experiment_name='model_2_lstm'\n",
    "    )]\n",
    ")"
   ]
  },
  {
   "cell_type": "markdown",
   "id": "46a54a2a",
   "metadata": {},
   "source": [
    "#### Model Evaluation"
   ]
  },
  {
   "cell_type": "code",
   "execution_count": 37,
   "id": "980dbdb7",
   "metadata": {
    "collapsed": true
   },
   "outputs": [
    {
     "name": "stdout",
     "output_type": "stream",
     "text": [
      "24/24 [==============================] - 0s 3ms/step - loss: 0.9677 - accuracy: 0.7730\n"
     ]
    },
    {
     "data": {
      "text/plain": [
       "[0.9677377343177795, 0.7729659080505371]"
      ]
     },
     "execution_count": 37,
     "metadata": {},
     "output_type": "execute_result"
    }
   ],
   "source": [
    "model_2.evaluate(val_tweets, val_labels)\n",
    "# loss: 1.6905 - accuracy: 0.7743"
   ]
  },
  {
   "cell_type": "code",
   "execution_count": 38,
   "id": "3f803c8b",
   "metadata": {
    "collapsed": true
   },
   "outputs": [
    {
     "name": "stdout",
     "output_type": "stream",
     "text": [
      "24/24 [==============================] - 0s 3ms/step\n",
      "Prediction: [0.02846662] (not a disaster)\n"
     ]
    },
    {
     "name": "stderr",
     "output_type": "stream",
     "text": [
      "2023-04-24 12:36:49.735299: I tensorflow/core/common_runtime/executor.cc:1197] [/device:CPU:0] (DEBUG INFO) Executor start aborting (this does not indicate an error and you can ignore this message): INVALID_ARGUMENT: You must feed a value for placeholder tensor 'gradients/split_2_grad/concat/split_2/split_dim' with dtype int32\n",
      "\t [[{{node gradients/split_2_grad/concat/split_2/split_dim}}]]\n",
      "2023-04-24 12:36:49.736520: I tensorflow/core/common_runtime/executor.cc:1197] [/device:CPU:0] (DEBUG INFO) Executor start aborting (this does not indicate an error and you can ignore this message): INVALID_ARGUMENT: You must feed a value for placeholder tensor 'gradients/split_grad/concat/split/split_dim' with dtype int32\n",
      "\t [[{{node gradients/split_grad/concat/split/split_dim}}]]\n",
      "2023-04-24 12:36:49.737740: I tensorflow/core/common_runtime/executor.cc:1197] [/device:CPU:0] (DEBUG INFO) Executor start aborting (this does not indicate an error and you can ignore this message): INVALID_ARGUMENT: You must feed a value for placeholder tensor 'gradients/split_1_grad/concat/split_1/split_dim' with dtype int32\n",
      "\t [[{{node gradients/split_1_grad/concat/split_1/split_dim}}]]\n"
     ]
    }
   ],
   "source": [
    "# make predictions\n",
    "model_2_preds = model_2.predict(val_tweets)\n",
    "sample_prediction=model_2_preds[0]\n",
    "print(f\"Prediction: {sample_prediction}\",\"(disaster)\" if sample_prediction>0.5 else \"(not a disaster)\")\n",
    "# Prediction: [0.04310093] (not a disaster)"
   ]
  },
  {
   "cell_type": "code",
   "execution_count": 39,
   "id": "e551d1fa",
   "metadata": {},
   "outputs": [],
   "source": [
    "# convert model prediction probabilities to binary label format\n",
    "model_2_preds = tf.squeeze(tf.round(model_2_preds))"
   ]
  },
  {
   "cell_type": "code",
   "execution_count": 40,
   "id": "54d18580",
   "metadata": {
    "collapsed": true
   },
   "outputs": [
    {
     "name": "stdout",
     "output_type": "stream",
     "text": [
      "{'accuracy': 77.29658792650919, 'precision': 0.7738445106757977, 'recall': 0.7729658792650919, 'f1': 0.7713337273803944}\n"
     ]
    }
   ],
   "source": [
    "model_2_metrics = calculate_metrics(\n",
    "    y_true=val_labels,\n",
    "    y_pred=model_2_preds\n",
    ")\n",
    "\n",
    "print(model_2_metrics)"
   ]
  },
  {
   "cell_type": "markdown",
   "id": "6fc99273",
   "metadata": {},
   "source": [
    "#### Model 2 Metrics\n",
    "\n",
    "* Accuracy: 76.77165354330708\n",
    "* Precision: 0.7674723453090632\n",
    "* Recall: 0.7677165354330708\n",
    "* F1: 0.7668863186407149"
   ]
  },
  {
   "cell_type": "code",
   "execution_count": 41,
   "id": "fce55fd3",
   "metadata": {
    "collapsed": true
   },
   "outputs": [
    {
     "data": {
      "text/plain": [
       "array([False, False, False, False])"
      ]
     },
     "execution_count": 41,
     "metadata": {},
     "output_type": "execute_result"
    }
   ],
   "source": [
    "# the model performs worse than the previous model\n",
    "np.array(list(model_2_metrics.values())) > np.array(list(model_1_metrics.values()))\n",
    "# array([False, False, False, False])"
   ]
  },
  {
   "cell_type": "markdown",
   "id": "cb4a4864",
   "metadata": {},
   "source": [
    "### Model 3: GRU Gated Recurrent Unit RNN\n",
    "\n",
    "#### Model Building and Training"
   ]
  },
  {
   "cell_type": "code",
   "execution_count": 42,
   "id": "02b3f4c1",
   "metadata": {
    "collapsed": true
   },
   "outputs": [
    {
     "name": "stdout",
     "output_type": "stream",
     "text": [
      "Model: \"model_3_GRU\"\n",
      "_________________________________________________________________\n",
      " Layer (type)                Output Shape              Param #   \n",
      "=================================================================\n",
      " input_3 (InputLayer)        [(None, 1)]               0         \n",
      "                                                                 \n",
      " text_vectorization (TextVec  (None, 15)               0         \n",
      " torization)                                                     \n",
      "                                                                 \n",
      " embedding (Embedding)       (None, 15, 128)           1280000   \n",
      "                                                                 \n",
      " gru (GRU)                   (None, 64)                37248     \n",
      "                                                                 \n",
      " dense_3 (Dense)             (None, 64)                4160      \n",
      "                                                                 \n",
      " dense_4 (Dense)             (None, 1)                 65        \n",
      "                                                                 \n",
      "=================================================================\n",
      "Total params: 1,321,473\n",
      "Trainable params: 1,321,473\n",
      "Non-trainable params: 0\n",
      "_________________________________________________________________\n"
     ]
    },
    {
     "name": "stderr",
     "output_type": "stream",
     "text": [
      "2023-04-24 12:37:09.316422: I tensorflow/core/common_runtime/executor.cc:1197] [/device:CPU:0] (DEBUG INFO) Executor start aborting (this does not indicate an error and you can ignore this message): INVALID_ARGUMENT: You must feed a value for placeholder tensor 'gradients/split_2_grad/concat/split_2/split_dim' with dtype int32\n",
      "\t [[{{node gradients/split_2_grad/concat/split_2/split_dim}}]]\n",
      "2023-04-24 12:37:09.317993: I tensorflow/core/common_runtime/executor.cc:1197] [/device:CPU:0] (DEBUG INFO) Executor start aborting (this does not indicate an error and you can ignore this message): INVALID_ARGUMENT: You must feed a value for placeholder tensor 'gradients/split_grad/concat/split/split_dim' with dtype int32\n",
      "\t [[{{node gradients/split_grad/concat/split/split_dim}}]]\n",
      "2023-04-24 12:37:09.319004: I tensorflow/core/common_runtime/executor.cc:1197] [/device:CPU:0] (DEBUG INFO) Executor start aborting (this does not indicate an error and you can ignore this message): INVALID_ARGUMENT: You must feed a value for placeholder tensor 'gradients/split_1_grad/concat/split_1/split_dim' with dtype int32\n",
      "\t [[{{node gradients/split_1_grad/concat/split_1/split_dim}}]]\n"
     ]
    }
   ],
   "source": [
    "inputs = Input(shape=(1,), dtype=tf.string)\n",
    "x = text_vectorizer(inputs)\n",
    "x = embedding(x)\n",
    "# x = GRU(64, return_sequences=True)(x)\n",
    "x = GRU(64)(x)\n",
    "x = Dense(64, activation='relu')(x)\n",
    "outputs = Dense(1, activation='sigmoid')(x)\n",
    "\n",
    "model_3 = tf.keras.Model(inputs, outputs, name=\"model_3_GRU\")\n",
    "model_3.summary()"
   ]
  },
  {
   "cell_type": "markdown",
   "id": "7904b6a4",
   "metadata": {},
   "source": [
    "```\n",
    "Model: \"model_3_GRU\"\n",
    "_________________________________________________________________\n",
    " Layer (type)                Output Shape              Param #   \n",
    "=================================================================\n",
    " input_4 (InputLayer)        [(None, 1)]               0         \n",
    "                                                                 \n",
    " text_vectorization (TextVec  (None, 15)               0         \n",
    " torization)                                                     \n",
    "                                                                 \n",
    " embedding (Embedding)       (None, 15, 128)           1280000   \n",
    "                                                                 \n",
    " gru (GRU)                   (None, 64)                37248     \n",
    "                                                                 \n",
    " dense_5 (Dense)             (None, 64)                4160      \n",
    "                                                                 \n",
    " dense_6 (Dense)             (None, 1)                 65        \n",
    "                                                                 \n",
    "=================================================================\n",
    "Total params: 1,321,473\n",
    "Trainable params: 1,321,473\n",
    "Non-trainable params: 0\n",
    "_________________________________________________________________\n",
    "```"
   ]
  },
  {
   "cell_type": "code",
   "execution_count": 43,
   "id": "d1bd4357",
   "metadata": {},
   "outputs": [],
   "source": [
    "model_3.compile(\n",
    "    loss='binary_crossentropy',\n",
    "    optimizer=tf.keras.optimizers.Adam(),\n",
    "    metrics=['accuracy']\n",
    ")"
   ]
  },
  {
   "cell_type": "code",
   "execution_count": 44,
   "id": "87b9e60b",
   "metadata": {
    "collapsed": true
   },
   "outputs": [
    {
     "name": "stdout",
     "output_type": "stream",
     "text": [
      "INFO :: Saving TensorBoard Log to: tensorboad/model_3_gru/20230424-123715\n",
      "Epoch 1/5\n"
     ]
    },
    {
     "name": "stderr",
     "output_type": "stream",
     "text": [
      "2023-04-24 12:37:15.976726: I tensorflow/core/common_runtime/executor.cc:1197] [/device:CPU:0] (DEBUG INFO) Executor start aborting (this does not indicate an error and you can ignore this message): INVALID_ARGUMENT: You must feed a value for placeholder tensor 'gradients/split_2_grad/concat/split_2/split_dim' with dtype int32\n",
      "\t [[{{node gradients/split_2_grad/concat/split_2/split_dim}}]]\n",
      "2023-04-24 12:37:15.978524: I tensorflow/core/common_runtime/executor.cc:1197] [/device:CPU:0] (DEBUG INFO) Executor start aborting (this does not indicate an error and you can ignore this message): INVALID_ARGUMENT: You must feed a value for placeholder tensor 'gradients/split_grad/concat/split/split_dim' with dtype int32\n",
      "\t [[{{node gradients/split_grad/concat/split/split_dim}}]]\n",
      "2023-04-24 12:37:15.979462: I tensorflow/core/common_runtime/executor.cc:1197] [/device:CPU:0] (DEBUG INFO) Executor start aborting (this does not indicate an error and you can ignore this message): INVALID_ARGUMENT: You must feed a value for placeholder tensor 'gradients/split_1_grad/concat/split_1/split_dim' with dtype int32\n",
      "\t [[{{node gradients/split_1_grad/concat/split_1/split_dim}}]]\n",
      "2023-04-24 12:37:16.621129: I tensorflow/core/common_runtime/executor.cc:1197] [/device:CPU:0] (DEBUG INFO) Executor start aborting (this does not indicate an error and you can ignore this message): INVALID_ARGUMENT: You must feed a value for placeholder tensor 'gradients/split_2_grad/concat/split_2/split_dim' with dtype int32\n",
      "\t [[{{node gradients/split_2_grad/concat/split_2/split_dim}}]]\n",
      "2023-04-24 12:37:16.622329: I tensorflow/core/common_runtime/executor.cc:1197] [/device:CPU:0] (DEBUG INFO) Executor start aborting (this does not indicate an error and you can ignore this message): INVALID_ARGUMENT: You must feed a value for placeholder tensor 'gradients/split_grad/concat/split/split_dim' with dtype int32\n",
      "\t [[{{node gradients/split_grad/concat/split/split_dim}}]]\n",
      "2023-04-24 12:37:16.623360: I tensorflow/core/common_runtime/executor.cc:1197] [/device:CPU:0] (DEBUG INFO) Executor start aborting (this does not indicate an error and you can ignore this message): INVALID_ARGUMENT: You must feed a value for placeholder tensor 'gradients/split_1_grad/concat/split_1/split_dim' with dtype int32\n",
      "\t [[{{node gradients/split_1_grad/concat/split_1/split_dim}}]]\n"
     ]
    },
    {
     "name": "stdout",
     "output_type": "stream",
     "text": [
      "215/215 [==============================] - ETA: 0s - loss: 0.1472 - accuracy: 0.9477"
     ]
    },
    {
     "name": "stderr",
     "output_type": "stream",
     "text": [
      "2023-04-24 12:37:20.577407: I tensorflow/core/common_runtime/executor.cc:1197] [/device:CPU:0] (DEBUG INFO) Executor start aborting (this does not indicate an error and you can ignore this message): INVALID_ARGUMENT: You must feed a value for placeholder tensor 'gradients/split_2_grad/concat/split_2/split_dim' with dtype int32\n",
      "\t [[{{node gradients/split_2_grad/concat/split_2/split_dim}}]]\n",
      "2023-04-24 12:37:20.578712: I tensorflow/core/common_runtime/executor.cc:1197] [/device:CPU:0] (DEBUG INFO) Executor start aborting (this does not indicate an error and you can ignore this message): INVALID_ARGUMENT: You must feed a value for placeholder tensor 'gradients/split_grad/concat/split/split_dim' with dtype int32\n",
      "\t [[{{node gradients/split_grad/concat/split/split_dim}}]]\n",
      "2023-04-24 12:37:20.579970: I tensorflow/core/common_runtime/executor.cc:1197] [/device:CPU:0] (DEBUG INFO) Executor start aborting (this does not indicate an error and you can ignore this message): INVALID_ARGUMENT: You must feed a value for placeholder tensor 'gradients/split_1_grad/concat/split_1/split_dim' with dtype int32\n",
      "\t [[{{node gradients/split_1_grad/concat/split_1/split_dim}}]]\n"
     ]
    },
    {
     "name": "stdout",
     "output_type": "stream",
     "text": [
      "215/215 [==============================] - 5s 15ms/step - loss: 0.1472 - accuracy: 0.9477 - val_loss: 0.8435 - val_accuracy: 0.7743\n",
      "Epoch 2/5\n",
      "215/215 [==============================] - 3s 14ms/step - loss: 0.0797 - accuracy: 0.9689 - val_loss: 0.8957 - val_accuracy: 0.7769\n",
      "Epoch 3/5\n",
      "215/215 [==============================] - 3s 13ms/step - loss: 0.0634 - accuracy: 0.9742 - val_loss: 1.3662 - val_accuracy: 0.7703\n",
      "Epoch 4/5\n",
      "215/215 [==============================] - 3s 13ms/step - loss: 0.0550 - accuracy: 0.9769 - val_loss: 1.0799 - val_accuracy: 0.7743\n",
      "Epoch 5/5\n",
      "215/215 [==============================] - 3s 13ms/step - loss: 0.0504 - accuracy: 0.9772 - val_loss: 1.2978 - val_accuracy: 0.7717\n"
     ]
    }
   ],
   "source": [
    "model_3_history = model_3.fit(\n",
    "    train_tweets,\n",
    "    train_labels,\n",
    "    epochs=5,\n",
    "    validation_data=(val_tweets, val_labels),\n",
    "    callbacks=[create_tensorboard_callback_bugged(\n",
    "        dir_name=LOG_DIR,\n",
    "        experiment_name='model_3_gru'\n",
    "    )]\n",
    ")"
   ]
  },
  {
   "cell_type": "markdown",
   "id": "5525a6d4",
   "metadata": {},
   "source": [
    "#### Model Evaluation"
   ]
  },
  {
   "cell_type": "code",
   "execution_count": 45,
   "id": "b3fa68ab",
   "metadata": {
    "collapsed": true
   },
   "outputs": [
    {
     "name": "stdout",
     "output_type": "stream",
     "text": [
      "24/24 [==============================] - 0s 2ms/step - loss: 1.2978 - accuracy: 0.7717\n"
     ]
    },
    {
     "data": {
      "text/plain": [
       "[1.2977620363235474, 0.7716535329818726]"
      ]
     },
     "execution_count": 45,
     "metadata": {},
     "output_type": "execute_result"
    }
   ],
   "source": [
    "model_3.evaluate(val_tweets, val_labels)\n",
    "# loss: 1.2467 - accuracy: 0.7703"
   ]
  },
  {
   "cell_type": "code",
   "execution_count": 46,
   "id": "a3f7a77d",
   "metadata": {
    "collapsed": true
   },
   "outputs": [
    {
     "name": "stdout",
     "output_type": "stream",
     "text": [
      "24/24 [==============================] - 0s 2ms/step\n",
      "Prediction: [0.00038226] (not a disaster)\n"
     ]
    },
    {
     "name": "stderr",
     "output_type": "stream",
     "text": [
      "2023-04-24 12:45:56.597718: I tensorflow/core/common_runtime/executor.cc:1197] [/device:CPU:0] (DEBUG INFO) Executor start aborting (this does not indicate an error and you can ignore this message): INVALID_ARGUMENT: You must feed a value for placeholder tensor 'gradients/split_2_grad/concat/split_2/split_dim' with dtype int32\n",
      "\t [[{{node gradients/split_2_grad/concat/split_2/split_dim}}]]\n",
      "2023-04-24 12:45:56.598814: I tensorflow/core/common_runtime/executor.cc:1197] [/device:CPU:0] (DEBUG INFO) Executor start aborting (this does not indicate an error and you can ignore this message): INVALID_ARGUMENT: You must feed a value for placeholder tensor 'gradients/split_grad/concat/split/split_dim' with dtype int32\n",
      "\t [[{{node gradients/split_grad/concat/split/split_dim}}]]\n",
      "2023-04-24 12:45:56.599643: I tensorflow/core/common_runtime/executor.cc:1197] [/device:CPU:0] (DEBUG INFO) Executor start aborting (this does not indicate an error and you can ignore this message): INVALID_ARGUMENT: You must feed a value for placeholder tensor 'gradients/split_1_grad/concat/split_1/split_dim' with dtype int32\n",
      "\t [[{{node gradients/split_1_grad/concat/split_1/split_dim}}]]\n"
     ]
    }
   ],
   "source": [
    "# make predictions\n",
    "model_3_preds = model_3.predict(val_tweets)\n",
    "sample_prediction=model_3_preds[0]\n",
    "print(f\"Prediction: {sample_prediction}\",\"(disaster)\" if sample_prediction>0.5 else \"(not a disaster)\")\n",
    "# Prediction: [0.00013416] (not a disaster)"
   ]
  },
  {
   "cell_type": "code",
   "execution_count": 47,
   "id": "df5aa843",
   "metadata": {},
   "outputs": [],
   "source": [
    "# convert model prediction probabilities to binary label format\n",
    "model_3_preds = tf.squeeze(tf.round(model_3_preds))"
   ]
  },
  {
   "cell_type": "code",
   "execution_count": 48,
   "id": "01bf658c",
   "metadata": {
    "collapsed": true
   },
   "outputs": [
    {
     "name": "stdout",
     "output_type": "stream",
     "text": [
      "{'accuracy': 77.16535433070865, 'precision': 0.780814749599424, 'recall': 0.7716535433070866, 'f1': 0.7666937899362429}\n"
     ]
    }
   ],
   "source": [
    "model_3_metrics = calculate_metrics(\n",
    "    y_true=val_labels,\n",
    "    y_pred=model_3_preds\n",
    ")\n",
    "\n",
    "print(model_3_metrics)"
   ]
  },
  {
   "cell_type": "markdown",
   "id": "ccf8209d",
   "metadata": {},
   "source": [
    "#### Model 3 Metrics\n",
    "\n",
    "* Accuracy: 76.9028871391076\n",
    "* Precision: 0.7768747910576218\n",
    "* Recall: 0.7690288713910761\n",
    "* F1: 0.7643954892702002"
   ]
  },
  {
   "cell_type": "code",
   "execution_count": 49,
   "id": "fb35f14d",
   "metadata": {
    "collapsed": true
   },
   "outputs": [
    {
     "name": "stdout",
     "output_type": "stream",
     "text": [
      "[False  True False False]\n",
      "[False False False False]\n"
     ]
    }
   ],
   "source": [
    "# the model performs (sometimes) better than the lstm but still worse than the baseline model\n",
    "print(np.array(list(model_3_metrics.values())) > np.array(list(model_2_metrics.values())))\n",
    "# array([ True,  True,  True, False])\n",
    "print(np.array(list(model_3_metrics.values())) > np.array(list(baseline_metrics.values())))\n",
    "# array([False, False, False, False])"
   ]
  },
  {
   "cell_type": "markdown",
   "id": "aced1f5b",
   "metadata": {},
   "source": [
    "### Model 4: Bi-Directional RNN\n",
    "\n",
    "#### Model Building and Training"
   ]
  },
  {
   "cell_type": "code",
   "execution_count": 50,
   "id": "036e14f1",
   "metadata": {
    "collapsed": true
   },
   "outputs": [
    {
     "name": "stderr",
     "output_type": "stream",
     "text": [
      "2023-04-24 12:46:19.963503: I tensorflow/core/common_runtime/executor.cc:1197] [/device:CPU:0] (DEBUG INFO) Executor start aborting (this does not indicate an error and you can ignore this message): INVALID_ARGUMENT: You must feed a value for placeholder tensor 'gradients/split_2_grad/concat/split_2/split_dim' with dtype int32\n",
      "\t [[{{node gradients/split_2_grad/concat/split_2/split_dim}}]]\n",
      "2023-04-24 12:46:19.964747: I tensorflow/core/common_runtime/executor.cc:1197] [/device:CPU:0] (DEBUG INFO) Executor start aborting (this does not indicate an error and you can ignore this message): INVALID_ARGUMENT: You must feed a value for placeholder tensor 'gradients/split_grad/concat/split/split_dim' with dtype int32\n",
      "\t [[{{node gradients/split_grad/concat/split/split_dim}}]]\n",
      "2023-04-24 12:46:19.966069: I tensorflow/core/common_runtime/executor.cc:1197] [/device:CPU:0] (DEBUG INFO) Executor start aborting (this does not indicate an error and you can ignore this message): INVALID_ARGUMENT: You must feed a value for placeholder tensor 'gradients/split_1_grad/concat/split_1/split_dim' with dtype int32\n",
      "\t [[{{node gradients/split_1_grad/concat/split_1/split_dim}}]]\n",
      "2023-04-24 12:46:20.082928: I tensorflow/core/common_runtime/executor.cc:1197] [/device:CPU:0] (DEBUG INFO) Executor start aborting (this does not indicate an error and you can ignore this message): INVALID_ARGUMENT: You must feed a value for placeholder tensor 'gradients/ReverseV2_grad/ReverseV2/ReverseV2/axis' with dtype int32 and shape [1]\n",
      "\t [[{{node gradients/ReverseV2_grad/ReverseV2/ReverseV2/axis}}]]\n",
      "2023-04-24 12:46:20.121402: I tensorflow/core/common_runtime/executor.cc:1197] [/device:CPU:0] (DEBUG INFO) Executor start aborting (this does not indicate an error and you can ignore this message): INVALID_ARGUMENT: You must feed a value for placeholder tensor 'gradients/split_2_grad/concat/split_2/split_dim' with dtype int32\n",
      "\t [[{{node gradients/split_2_grad/concat/split_2/split_dim}}]]\n",
      "2023-04-24 12:46:20.122657: I tensorflow/core/common_runtime/executor.cc:1197] [/device:CPU:0] (DEBUG INFO) Executor start aborting (this does not indicate an error and you can ignore this message): INVALID_ARGUMENT: You must feed a value for placeholder tensor 'gradients/split_grad/concat/split/split_dim' with dtype int32\n",
      "\t [[{{node gradients/split_grad/concat/split/split_dim}}]]\n",
      "2023-04-24 12:46:20.123493: I tensorflow/core/common_runtime/executor.cc:1197] [/device:CPU:0] (DEBUG INFO) Executor start aborting (this does not indicate an error and you can ignore this message): INVALID_ARGUMENT: You must feed a value for placeholder tensor 'gradients/split_1_grad/concat/split_1/split_dim' with dtype int32\n",
      "\t [[{{node gradients/split_1_grad/concat/split_1/split_dim}}]]\n"
     ]
    },
    {
     "name": "stdout",
     "output_type": "stream",
     "text": [
      "Model: \"model_4_bidirectional\"\n",
      "_________________________________________________________________\n",
      " Layer (type)                Output Shape              Param #   \n",
      "=================================================================\n",
      " input_4 (InputLayer)        [(None, 1)]               0         \n",
      "                                                                 \n",
      " text_vectorization (TextVec  (None, 15)               0         \n",
      " torization)                                                     \n",
      "                                                                 \n",
      " embedding (Embedding)       (None, 15, 128)           1280000   \n",
      "                                                                 \n",
      " bidirectional (Bidirectiona  (None, 15, 128)          98816     \n",
      " l)                                                              \n",
      "                                                                 \n",
      " bidirectional_1 (Bidirectio  (None, 128)              74496     \n",
      " nal)                                                            \n",
      "                                                                 \n",
      " dense_5 (Dense)             (None, 1)                 129       \n",
      "                                                                 \n",
      "=================================================================\n",
      "Total params: 1,453,441\n",
      "Trainable params: 1,453,441\n",
      "Non-trainable params: 0\n",
      "_________________________________________________________________\n"
     ]
    },
    {
     "name": "stderr",
     "output_type": "stream",
     "text": [
      "2023-04-24 12:46:20.277522: I tensorflow/core/common_runtime/executor.cc:1197] [/device:CPU:0] (DEBUG INFO) Executor start aborting (this does not indicate an error and you can ignore this message): INVALID_ARGUMENT: You must feed a value for placeholder tensor 'gradients/split_2_grad/concat/split_2/split_dim' with dtype int32\n",
      "\t [[{{node gradients/split_2_grad/concat/split_2/split_dim}}]]\n",
      "2023-04-24 12:46:20.278685: I tensorflow/core/common_runtime/executor.cc:1197] [/device:CPU:0] (DEBUG INFO) Executor start aborting (this does not indicate an error and you can ignore this message): INVALID_ARGUMENT: You must feed a value for placeholder tensor 'gradients/split_grad/concat/split/split_dim' with dtype int32\n",
      "\t [[{{node gradients/split_grad/concat/split/split_dim}}]]\n",
      "2023-04-24 12:46:20.279586: I tensorflow/core/common_runtime/executor.cc:1197] [/device:CPU:0] (DEBUG INFO) Executor start aborting (this does not indicate an error and you can ignore this message): INVALID_ARGUMENT: You must feed a value for placeholder tensor 'gradients/split_1_grad/concat/split_1/split_dim' with dtype int32\n",
      "\t [[{{node gradients/split_1_grad/concat/split_1/split_dim}}]]\n",
      "2023-04-24 12:46:20.389457: I tensorflow/core/common_runtime/executor.cc:1197] [/device:CPU:0] (DEBUG INFO) Executor start aborting (this does not indicate an error and you can ignore this message): INVALID_ARGUMENT: You must feed a value for placeholder tensor 'gradients/ReverseV2_grad/ReverseV2/ReverseV2/axis' with dtype int32 and shape [1]\n",
      "\t [[{{node gradients/ReverseV2_grad/ReverseV2/ReverseV2/axis}}]]\n",
      "2023-04-24 12:46:20.417844: I tensorflow/core/common_runtime/executor.cc:1197] [/device:CPU:0] (DEBUG INFO) Executor start aborting (this does not indicate an error and you can ignore this message): INVALID_ARGUMENT: You must feed a value for placeholder tensor 'gradients/split_2_grad/concat/split_2/split_dim' with dtype int32\n",
      "\t [[{{node gradients/split_2_grad/concat/split_2/split_dim}}]]\n",
      "2023-04-24 12:46:20.418745: I tensorflow/core/common_runtime/executor.cc:1197] [/device:CPU:0] (DEBUG INFO) Executor start aborting (this does not indicate an error and you can ignore this message): INVALID_ARGUMENT: You must feed a value for placeholder tensor 'gradients/split_grad/concat/split/split_dim' with dtype int32\n",
      "\t [[{{node gradients/split_grad/concat/split/split_dim}}]]\n",
      "2023-04-24 12:46:20.419599: I tensorflow/core/common_runtime/executor.cc:1197] [/device:CPU:0] (DEBUG INFO) Executor start aborting (this does not indicate an error and you can ignore this message): INVALID_ARGUMENT: You must feed a value for placeholder tensor 'gradients/split_1_grad/concat/split_1/split_dim' with dtype int32\n",
      "\t [[{{node gradients/split_1_grad/concat/split_1/split_dim}}]]\n"
     ]
    }
   ],
   "source": [
    "inputs = Input(shape=(1,), dtype=tf.string)\n",
    "x = text_vectorizer(inputs)\n",
    "x = embedding(x)\n",
    "x = Bidirectional(LSTM(64, return_sequences=True))(x)\n",
    "x = Bidirectional(GRU(64))(x)\n",
    "outputs = Dense(1, activation='sigmoid')(x)\n",
    "\n",
    "model_4 = tf.keras.Model(inputs, outputs, name='model_4_bidirectional')\n",
    "model_4.summary()"
   ]
  },
  {
   "cell_type": "markdown",
   "id": "67ad000c",
   "metadata": {},
   "source": [
    "```\n",
    "Model: \"model_4_bidirectional\"\n",
    "_________________________________________________________________\n",
    " Layer (type)                Output Shape              Param #   \n",
    "=================================================================\n",
    " input_6 (InputLayer)        [(None, 1)]               0         \n",
    "                                                                 \n",
    " text_vectorization (TextVec  (None, 15)               0         \n",
    " torization)                                                     \n",
    "                                                                 \n",
    " embedding (Embedding)       (None, 15, 128)           1280000   \n",
    "                                                                 \n",
    " bidirectional_2 (Bidirectio  (None, 15, 128)          98816     \n",
    " nal)                                                            \n",
    "                                                                 \n",
    " bidirectional_3 (Bidirectio  (None, 128)              74496     \n",
    " nal)                                                            \n",
    "                                                                 \n",
    " dense_8 (Dense)             (None, 1)                 129       \n",
    "                                                                 \n",
    "=================================================================\n",
    "Total params: 1,453,441\n",
    "Trainable params: 1,453,441\n",
    "Non-trainable params: 0\n",
    "_________________________________________________________________\n",
    "```"
   ]
  },
  {
   "cell_type": "code",
   "execution_count": 51,
   "id": "df157e9b",
   "metadata": {},
   "outputs": [],
   "source": [
    "model_4.compile(\n",
    "    loss='binary_crossentropy',\n",
    "    optimizer=tf.keras.optimizers.Adam(),\n",
    "    metrics=['accuracy']\n",
    ")"
   ]
  },
  {
   "cell_type": "code",
   "execution_count": 52,
   "id": "56692589",
   "metadata": {
    "collapsed": true
   },
   "outputs": [
    {
     "name": "stdout",
     "output_type": "stream",
     "text": [
      "INFO :: Saving TensorBoard Log to: tensorboad/model_4_bidirectional/20230424-124628\n",
      "Epoch 1/5\n"
     ]
    },
    {
     "name": "stderr",
     "output_type": "stream",
     "text": [
      "2023-04-24 12:46:28.330220: I tensorflow/core/common_runtime/executor.cc:1197] [/device:CPU:0] (DEBUG INFO) Executor start aborting (this does not indicate an error and you can ignore this message): INVALID_ARGUMENT: You must feed a value for placeholder tensor 'gradients/split_2_grad/concat/split_2/split_dim' with dtype int32\n",
      "\t [[{{node gradients/split_2_grad/concat/split_2/split_dim}}]]\n",
      "2023-04-24 12:46:28.331507: I tensorflow/core/common_runtime/executor.cc:1197] [/device:CPU:0] (DEBUG INFO) Executor start aborting (this does not indicate an error and you can ignore this message): INVALID_ARGUMENT: You must feed a value for placeholder tensor 'gradients/split_grad/concat/split/split_dim' with dtype int32\n",
      "\t [[{{node gradients/split_grad/concat/split/split_dim}}]]\n",
      "2023-04-24 12:46:28.332457: I tensorflow/core/common_runtime/executor.cc:1197] [/device:CPU:0] (DEBUG INFO) Executor start aborting (this does not indicate an error and you can ignore this message): INVALID_ARGUMENT: You must feed a value for placeholder tensor 'gradients/split_1_grad/concat/split_1/split_dim' with dtype int32\n",
      "\t [[{{node gradients/split_1_grad/concat/split_1/split_dim}}]]\n",
      "2023-04-24 12:46:28.453143: I tensorflow/core/common_runtime/executor.cc:1197] [/device:CPU:0] (DEBUG INFO) Executor start aborting (this does not indicate an error and you can ignore this message): INVALID_ARGUMENT: You must feed a value for placeholder tensor 'gradients/ReverseV2_grad/ReverseV2/ReverseV2/axis' with dtype int32 and shape [1]\n",
      "\t [[{{node gradients/ReverseV2_grad/ReverseV2/ReverseV2/axis}}]]\n",
      "2023-04-24 12:46:28.493967: I tensorflow/core/common_runtime/executor.cc:1197] [/device:CPU:0] (DEBUG INFO) Executor start aborting (this does not indicate an error and you can ignore this message): INVALID_ARGUMENT: You must feed a value for placeholder tensor 'gradients/split_2_grad/concat/split_2/split_dim' with dtype int32\n",
      "\t [[{{node gradients/split_2_grad/concat/split_2/split_dim}}]]\n",
      "2023-04-24 12:46:28.494999: I tensorflow/core/common_runtime/executor.cc:1197] [/device:CPU:0] (DEBUG INFO) Executor start aborting (this does not indicate an error and you can ignore this message): INVALID_ARGUMENT: You must feed a value for placeholder tensor 'gradients/split_grad/concat/split/split_dim' with dtype int32\n",
      "\t [[{{node gradients/split_grad/concat/split/split_dim}}]]\n",
      "2023-04-24 12:46:28.495898: I tensorflow/core/common_runtime/executor.cc:1197] [/device:CPU:0] (DEBUG INFO) Executor start aborting (this does not indicate an error and you can ignore this message): INVALID_ARGUMENT: You must feed a value for placeholder tensor 'gradients/split_1_grad/concat/split_1/split_dim' with dtype int32\n",
      "\t [[{{node gradients/split_1_grad/concat/split_1/split_dim}}]]\n",
      "2023-04-24 12:46:28.641634: I tensorflow/core/common_runtime/executor.cc:1197] [/device:CPU:0] (DEBUG INFO) Executor start aborting (this does not indicate an error and you can ignore this message): INVALID_ARGUMENT: You must feed a value for placeholder tensor 'gradients/split_2_grad/concat/split_2/split_dim' with dtype int32\n",
      "\t [[{{node gradients/split_2_grad/concat/split_2/split_dim}}]]\n",
      "2023-04-24 12:46:28.642864: I tensorflow/core/common_runtime/executor.cc:1197] [/device:CPU:0] (DEBUG INFO) Executor start aborting (this does not indicate an error and you can ignore this message): INVALID_ARGUMENT: You must feed a value for placeholder tensor 'gradients/split_grad/concat/split/split_dim' with dtype int32\n",
      "\t [[{{node gradients/split_grad/concat/split/split_dim}}]]\n",
      "2023-04-24 12:46:28.643723: I tensorflow/core/common_runtime/executor.cc:1197] [/device:CPU:0] (DEBUG INFO) Executor start aborting (this does not indicate an error and you can ignore this message): INVALID_ARGUMENT: You must feed a value for placeholder tensor 'gradients/split_1_grad/concat/split_1/split_dim' with dtype int32\n",
      "\t [[{{node gradients/split_1_grad/concat/split_1/split_dim}}]]\n",
      "2023-04-24 12:46:28.753421: I tensorflow/core/common_runtime/executor.cc:1197] [/device:CPU:0] (DEBUG INFO) Executor start aborting (this does not indicate an error and you can ignore this message): INVALID_ARGUMENT: You must feed a value for placeholder tensor 'gradients/ReverseV2_grad/ReverseV2/ReverseV2/axis' with dtype int32 and shape [1]\n",
      "\t [[{{node gradients/ReverseV2_grad/ReverseV2/ReverseV2/axis}}]]\n",
      "2023-04-24 12:46:28.785238: I tensorflow/core/common_runtime/executor.cc:1197] [/device:CPU:0] (DEBUG INFO) Executor start aborting (this does not indicate an error and you can ignore this message): INVALID_ARGUMENT: You must feed a value for placeholder tensor 'gradients/split_2_grad/concat/split_2/split_dim' with dtype int32\n",
      "\t [[{{node gradients/split_2_grad/concat/split_2/split_dim}}]]\n",
      "2023-04-24 12:46:28.786445: I tensorflow/core/common_runtime/executor.cc:1197] [/device:CPU:0] (DEBUG INFO) Executor start aborting (this does not indicate an error and you can ignore this message): INVALID_ARGUMENT: You must feed a value for placeholder tensor 'gradients/split_grad/concat/split/split_dim' with dtype int32\n",
      "\t [[{{node gradients/split_grad/concat/split/split_dim}}]]\n",
      "2023-04-24 12:46:28.787671: I tensorflow/core/common_runtime/executor.cc:1197] [/device:CPU:0] (DEBUG INFO) Executor start aborting (this does not indicate an error and you can ignore this message): INVALID_ARGUMENT: You must feed a value for placeholder tensor 'gradients/split_1_grad/concat/split_1/split_dim' with dtype int32\n",
      "\t [[{{node gradients/split_1_grad/concat/split_1/split_dim}}]]\n",
      "2023-04-24 12:46:29.256945: I tensorflow/core/common_runtime/executor.cc:1197] [/device:CPU:0] (DEBUG INFO) Executor start aborting (this does not indicate an error and you can ignore this message): INVALID_ARGUMENT: You must feed a value for placeholder tensor 'gradients/ReverseV2_grad/ReverseV2/ReverseV2/axis' with dtype int32 and shape [1]\n",
      "\t [[{{node gradients/ReverseV2_grad/ReverseV2/ReverseV2/axis}}]]\n",
      "2023-04-24 12:46:29.679133: I tensorflow/core/common_runtime/executor.cc:1197] [/device:CPU:0] (DEBUG INFO) Executor start aborting (this does not indicate an error and you can ignore this message): INVALID_ARGUMENT: You must feed a value for placeholder tensor 'gradients/ReverseV2_grad/ReverseV2/ReverseV2/axis' with dtype int32 and shape [1]\n",
      "\t [[{{node gradients/ReverseV2_grad/ReverseV2/ReverseV2/axis}}]]\n",
      "2023-04-24 12:46:30.309847: I tensorflow/core/common_runtime/executor.cc:1197] [/device:CPU:0] (DEBUG INFO) Executor start aborting (this does not indicate an error and you can ignore this message): INVALID_ARGUMENT: You must feed a value for placeholder tensor 'gradients/split_2_grad/concat/split_2/split_dim' with dtype int32\n",
      "\t [[{{node gradients/split_2_grad/concat/split_2/split_dim}}]]\n",
      "2023-04-24 12:46:30.311163: I tensorflow/core/common_runtime/executor.cc:1197] [/device:CPU:0] (DEBUG INFO) Executor start aborting (this does not indicate an error and you can ignore this message): INVALID_ARGUMENT: You must feed a value for placeholder tensor 'gradients/split_grad/concat/split/split_dim' with dtype int32\n",
      "\t [[{{node gradients/split_grad/concat/split/split_dim}}]]\n",
      "2023-04-24 12:46:30.312066: I tensorflow/core/common_runtime/executor.cc:1197] [/device:CPU:0] (DEBUG INFO) Executor start aborting (this does not indicate an error and you can ignore this message): INVALID_ARGUMENT: You must feed a value for placeholder tensor 'gradients/split_1_grad/concat/split_1/split_dim' with dtype int32\n",
      "\t [[{{node gradients/split_1_grad/concat/split_1/split_dim}}]]\n",
      "2023-04-24 12:46:30.430795: I tensorflow/core/common_runtime/executor.cc:1197] [/device:CPU:0] (DEBUG INFO) Executor start aborting (this does not indicate an error and you can ignore this message): INVALID_ARGUMENT: You must feed a value for placeholder tensor 'gradients/ReverseV2_grad/ReverseV2/ReverseV2/axis' with dtype int32 and shape [1]\n",
      "\t [[{{node gradients/ReverseV2_grad/ReverseV2/ReverseV2/axis}}]]\n",
      "2023-04-24 12:46:30.471712: I tensorflow/core/common_runtime/executor.cc:1197] [/device:CPU:0] (DEBUG INFO) Executor start aborting (this does not indicate an error and you can ignore this message): INVALID_ARGUMENT: You must feed a value for placeholder tensor 'gradients/split_2_grad/concat/split_2/split_dim' with dtype int32\n",
      "\t [[{{node gradients/split_2_grad/concat/split_2/split_dim}}]]\n",
      "2023-04-24 12:46:30.473025: I tensorflow/core/common_runtime/executor.cc:1197] [/device:CPU:0] (DEBUG INFO) Executor start aborting (this does not indicate an error and you can ignore this message): INVALID_ARGUMENT: You must feed a value for placeholder tensor 'gradients/split_grad/concat/split/split_dim' with dtype int32\n",
      "\t [[{{node gradients/split_grad/concat/split/split_dim}}]]\n",
      "2023-04-24 12:46:30.473962: I tensorflow/core/common_runtime/executor.cc:1197] [/device:CPU:0] (DEBUG INFO) Executor start aborting (this does not indicate an error and you can ignore this message): INVALID_ARGUMENT: You must feed a value for placeholder tensor 'gradients/split_1_grad/concat/split_1/split_dim' with dtype int32\n",
      "\t [[{{node gradients/split_1_grad/concat/split_1/split_dim}}]]\n"
     ]
    },
    {
     "name": "stderr",
     "output_type": "stream",
     "text": [
      "2023-04-24 12:46:30.613911: I tensorflow/core/common_runtime/executor.cc:1197] [/device:CPU:0] (DEBUG INFO) Executor start aborting (this does not indicate an error and you can ignore this message): INVALID_ARGUMENT: You must feed a value for placeholder tensor 'gradients/split_2_grad/concat/split_2/split_dim' with dtype int32\n",
      "\t [[{{node gradients/split_2_grad/concat/split_2/split_dim}}]]\n",
      "2023-04-24 12:46:30.615007: I tensorflow/core/common_runtime/executor.cc:1197] [/device:CPU:0] (DEBUG INFO) Executor start aborting (this does not indicate an error and you can ignore this message): INVALID_ARGUMENT: You must feed a value for placeholder tensor 'gradients/split_grad/concat/split/split_dim' with dtype int32\n",
      "\t [[{{node gradients/split_grad/concat/split/split_dim}}]]\n",
      "2023-04-24 12:46:30.616041: I tensorflow/core/common_runtime/executor.cc:1197] [/device:CPU:0] (DEBUG INFO) Executor start aborting (this does not indicate an error and you can ignore this message): INVALID_ARGUMENT: You must feed a value for placeholder tensor 'gradients/split_1_grad/concat/split_1/split_dim' with dtype int32\n",
      "\t [[{{node gradients/split_1_grad/concat/split_1/split_dim}}]]\n",
      "2023-04-24 12:46:30.721258: I tensorflow/core/common_runtime/executor.cc:1197] [/device:CPU:0] (DEBUG INFO) Executor start aborting (this does not indicate an error and you can ignore this message): INVALID_ARGUMENT: You must feed a value for placeholder tensor 'gradients/ReverseV2_grad/ReverseV2/ReverseV2/axis' with dtype int32 and shape [1]\n",
      "\t [[{{node gradients/ReverseV2_grad/ReverseV2/ReverseV2/axis}}]]\n",
      "2023-04-24 12:46:30.751747: I tensorflow/core/common_runtime/executor.cc:1197] [/device:CPU:0] (DEBUG INFO) Executor start aborting (this does not indicate an error and you can ignore this message): INVALID_ARGUMENT: You must feed a value for placeholder tensor 'gradients/split_2_grad/concat/split_2/split_dim' with dtype int32\n",
      "\t [[{{node gradients/split_2_grad/concat/split_2/split_dim}}]]\n",
      "2023-04-24 12:46:30.752866: I tensorflow/core/common_runtime/executor.cc:1197] [/device:CPU:0] (DEBUG INFO) Executor start aborting (this does not indicate an error and you can ignore this message): INVALID_ARGUMENT: You must feed a value for placeholder tensor 'gradients/split_grad/concat/split/split_dim' with dtype int32\n",
      "\t [[{{node gradients/split_grad/concat/split/split_dim}}]]\n",
      "2023-04-24 12:46:30.754165: I tensorflow/core/common_runtime/executor.cc:1197] [/device:CPU:0] (DEBUG INFO) Executor start aborting (this does not indicate an error and you can ignore this message): INVALID_ARGUMENT: You must feed a value for placeholder tensor 'gradients/split_1_grad/concat/split_1/split_dim' with dtype int32\n",
      "\t [[{{node gradients/split_1_grad/concat/split_1/split_dim}}]]\n",
      "2023-04-24 12:46:31.246348: I tensorflow/core/common_runtime/executor.cc:1197] [/device:CPU:0] (DEBUG INFO) Executor start aborting (this does not indicate an error and you can ignore this message): INVALID_ARGUMENT: You must feed a value for placeholder tensor 'gradients/ReverseV2_grad/ReverseV2/ReverseV2/axis' with dtype int32 and shape [1]\n",
      "\t [[{{node gradients/ReverseV2_grad/ReverseV2/ReverseV2/axis}}]]\n",
      "2023-04-24 12:46:31.612678: I tensorflow/core/common_runtime/executor.cc:1197] [/device:CPU:0] (DEBUG INFO) Executor start aborting (this does not indicate an error and you can ignore this message): INVALID_ARGUMENT: You must feed a value for placeholder tensor 'gradients/ReverseV2_grad/ReverseV2/ReverseV2/axis' with dtype int32 and shape [1]\n",
      "\t [[{{node gradients/ReverseV2_grad/ReverseV2/ReverseV2/axis}}]]\n"
     ]
    },
    {
     "name": "stdout",
     "output_type": "stream",
     "text": [
      "215/215 [==============================] - ETA: 0s - loss: 0.0968 - accuracy: 0.9692"
     ]
    },
    {
     "name": "stderr",
     "output_type": "stream",
     "text": [
      "2023-04-24 12:46:37.640795: I tensorflow/core/common_runtime/executor.cc:1197] [/device:CPU:0] (DEBUG INFO) Executor start aborting (this does not indicate an error and you can ignore this message): INVALID_ARGUMENT: You must feed a value for placeholder tensor 'gradients/split_2_grad/concat/split_2/split_dim' with dtype int32\n",
      "\t [[{{node gradients/split_2_grad/concat/split_2/split_dim}}]]\n",
      "2023-04-24 12:46:37.642189: I tensorflow/core/common_runtime/executor.cc:1197] [/device:CPU:0] (DEBUG INFO) Executor start aborting (this does not indicate an error and you can ignore this message): INVALID_ARGUMENT: You must feed a value for placeholder tensor 'gradients/split_grad/concat/split/split_dim' with dtype int32\n",
      "\t [[{{node gradients/split_grad/concat/split/split_dim}}]]\n",
      "2023-04-24 12:46:37.643057: I tensorflow/core/common_runtime/executor.cc:1197] [/device:CPU:0] (DEBUG INFO) Executor start aborting (this does not indicate an error and you can ignore this message): INVALID_ARGUMENT: You must feed a value for placeholder tensor 'gradients/split_1_grad/concat/split_1/split_dim' with dtype int32\n",
      "\t [[{{node gradients/split_1_grad/concat/split_1/split_dim}}]]\n",
      "2023-04-24 12:46:37.761285: I tensorflow/core/common_runtime/executor.cc:1197] [/device:CPU:0] (DEBUG INFO) Executor start aborting (this does not indicate an error and you can ignore this message): INVALID_ARGUMENT: You must feed a value for placeholder tensor 'gradients/ReverseV2_grad/ReverseV2/ReverseV2/axis' with dtype int32 and shape [1]\n",
      "\t [[{{node gradients/ReverseV2_grad/ReverseV2/ReverseV2/axis}}]]\n",
      "2023-04-24 12:46:37.802923: I tensorflow/core/common_runtime/executor.cc:1197] [/device:CPU:0] (DEBUG INFO) Executor start aborting (this does not indicate an error and you can ignore this message): INVALID_ARGUMENT: You must feed a value for placeholder tensor 'gradients/split_2_grad/concat/split_2/split_dim' with dtype int32\n",
      "\t [[{{node gradients/split_2_grad/concat/split_2/split_dim}}]]\n",
      "2023-04-24 12:46:37.804253: I tensorflow/core/common_runtime/executor.cc:1197] [/device:CPU:0] (DEBUG INFO) Executor start aborting (this does not indicate an error and you can ignore this message): INVALID_ARGUMENT: You must feed a value for placeholder tensor 'gradients/split_grad/concat/split/split_dim' with dtype int32\n",
      "\t [[{{node gradients/split_grad/concat/split/split_dim}}]]\n",
      "2023-04-24 12:46:37.805433: I tensorflow/core/common_runtime/executor.cc:1197] [/device:CPU:0] (DEBUG INFO) Executor start aborting (this does not indicate an error and you can ignore this message): INVALID_ARGUMENT: You must feed a value for placeholder tensor 'gradients/split_1_grad/concat/split_1/split_dim' with dtype int32\n",
      "\t [[{{node gradients/split_1_grad/concat/split_1/split_dim}}]]\n",
      "2023-04-24 12:46:37.963315: I tensorflow/core/common_runtime/executor.cc:1197] [/device:CPU:0] (DEBUG INFO) Executor start aborting (this does not indicate an error and you can ignore this message): INVALID_ARGUMENT: You must feed a value for placeholder tensor 'gradients/split_2_grad/concat/split_2/split_dim' with dtype int32\n",
      "\t [[{{node gradients/split_2_grad/concat/split_2/split_dim}}]]\n",
      "2023-04-24 12:46:37.964442: I tensorflow/core/common_runtime/executor.cc:1197] [/device:CPU:0] (DEBUG INFO) Executor start aborting (this does not indicate an error and you can ignore this message): INVALID_ARGUMENT: You must feed a value for placeholder tensor 'gradients/split_grad/concat/split/split_dim' with dtype int32\n",
      "\t [[{{node gradients/split_grad/concat/split/split_dim}}]]\n",
      "2023-04-24 12:46:37.965576: I tensorflow/core/common_runtime/executor.cc:1197] [/device:CPU:0] (DEBUG INFO) Executor start aborting (this does not indicate an error and you can ignore this message): INVALID_ARGUMENT: You must feed a value for placeholder tensor 'gradients/split_1_grad/concat/split_1/split_dim' with dtype int32\n",
      "\t [[{{node gradients/split_1_grad/concat/split_1/split_dim}}]]\n",
      "2023-04-24 12:46:38.075448: I tensorflow/core/common_runtime/executor.cc:1197] [/device:CPU:0] (DEBUG INFO) Executor start aborting (this does not indicate an error and you can ignore this message): INVALID_ARGUMENT: You must feed a value for placeholder tensor 'gradients/ReverseV2_grad/ReverseV2/ReverseV2/axis' with dtype int32 and shape [1]\n",
      "\t [[{{node gradients/ReverseV2_grad/ReverseV2/ReverseV2/axis}}]]\n",
      "2023-04-24 12:46:38.105916: I tensorflow/core/common_runtime/executor.cc:1197] [/device:CPU:0] (DEBUG INFO) Executor start aborting (this does not indicate an error and you can ignore this message): INVALID_ARGUMENT: You must feed a value for placeholder tensor 'gradients/split_2_grad/concat/split_2/split_dim' with dtype int32\n",
      "\t [[{{node gradients/split_2_grad/concat/split_2/split_dim}}]]\n",
      "2023-04-24 12:46:38.107003: I tensorflow/core/common_runtime/executor.cc:1197] [/device:CPU:0] (DEBUG INFO) Executor start aborting (this does not indicate an error and you can ignore this message): INVALID_ARGUMENT: You must feed a value for placeholder tensor 'gradients/split_grad/concat/split/split_dim' with dtype int32\n",
      "\t [[{{node gradients/split_grad/concat/split/split_dim}}]]\n",
      "2023-04-24 12:46:38.107903: I tensorflow/core/common_runtime/executor.cc:1197] [/device:CPU:0] (DEBUG INFO) Executor start aborting (this does not indicate an error and you can ignore this message): INVALID_ARGUMENT: You must feed a value for placeholder tensor 'gradients/split_1_grad/concat/split_1/split_dim' with dtype int32\n",
      "\t [[{{node gradients/split_1_grad/concat/split_1/split_dim}}]]\n"
     ]
    },
    {
     "name": "stdout",
     "output_type": "stream",
     "text": [
      "215/215 [==============================] - 10s 25ms/step - loss: 0.0968 - accuracy: 0.9692 - val_loss: 1.2948 - val_accuracy: 0.7756\n",
      "Epoch 2/5\n",
      "215/215 [==============================] - 4s 20ms/step - loss: 0.0536 - accuracy: 0.9765 - val_loss: 1.3635 - val_accuracy: 0.7717\n",
      "Epoch 3/5\n",
      "215/215 [==============================] - 4s 20ms/step - loss: 0.0463 - accuracy: 0.9793 - val_loss: 1.5739 - val_accuracy: 0.7651\n",
      "Epoch 4/5\n",
      "215/215 [==============================] - 4s 20ms/step - loss: 0.0405 - accuracy: 0.9813 - val_loss: 1.4010 - val_accuracy: 0.7612\n",
      "Epoch 5/5\n",
      "215/215 [==============================] - 4s 20ms/step - loss: 0.0431 - accuracy: 0.9784 - val_loss: 1.3421 - val_accuracy: 0.7717\n"
     ]
    }
   ],
   "source": [
    "model_4_history = model_4.fit(\n",
    "    train_tweets,\n",
    "    train_labels,\n",
    "    epochs=5,\n",
    "    validation_data=(val_tweets, val_labels),\n",
    "    callbacks=[create_tensorboard_callback_bugged(\n",
    "        dir_name=LOG_DIR,\n",
    "        experiment_name='model_4_bidirectional'\n",
    "    )]\n",
    ")"
   ]
  },
  {
   "cell_type": "markdown",
   "id": "4d03d0db",
   "metadata": {},
   "source": [
    "#### Model Evaluation"
   ]
  },
  {
   "cell_type": "code",
   "execution_count": 53,
   "id": "8ebcc8dd",
   "metadata": {
    "collapsed": true
   },
   "outputs": [
    {
     "name": "stdout",
     "output_type": "stream",
     "text": [
      "24/24 [==============================] - 0s 5ms/step - loss: 1.3421 - accuracy: 0.7717\n"
     ]
    },
    {
     "data": {
      "text/plain": [
       "[1.342091679573059, 0.7716535329818726]"
      ]
     },
     "execution_count": 53,
     "metadata": {},
     "output_type": "execute_result"
    }
   ],
   "source": [
    "model_4.evaluate(val_tweets, val_labels)\n",
    "# loss: 1.7367 - accuracy: 0.7756"
   ]
  },
  {
   "cell_type": "code",
   "execution_count": 54,
   "id": "55284fa7",
   "metadata": {
    "collapsed": true
   },
   "outputs": [
    {
     "name": "stderr",
     "output_type": "stream",
     "text": [
      "2023-04-24 12:47:24.216666: I tensorflow/core/common_runtime/executor.cc:1197] [/device:CPU:0] (DEBUG INFO) Executor start aborting (this does not indicate an error and you can ignore this message): INVALID_ARGUMENT: You must feed a value for placeholder tensor 'gradients/split_2_grad/concat/split_2/split_dim' with dtype int32\n",
      "\t [[{{node gradients/split_2_grad/concat/split_2/split_dim}}]]\n",
      "2023-04-24 12:47:24.217836: I tensorflow/core/common_runtime/executor.cc:1197] [/device:CPU:0] (DEBUG INFO) Executor start aborting (this does not indicate an error and you can ignore this message): INVALID_ARGUMENT: You must feed a value for placeholder tensor 'gradients/split_grad/concat/split/split_dim' with dtype int32\n",
      "\t [[{{node gradients/split_grad/concat/split/split_dim}}]]\n",
      "2023-04-24 12:47:24.219140: I tensorflow/core/common_runtime/executor.cc:1197] [/device:CPU:0] (DEBUG INFO) Executor start aborting (this does not indicate an error and you can ignore this message): INVALID_ARGUMENT: You must feed a value for placeholder tensor 'gradients/split_1_grad/concat/split_1/split_dim' with dtype int32\n",
      "\t [[{{node gradients/split_1_grad/concat/split_1/split_dim}}]]\n",
      "2023-04-24 12:47:24.327543: I tensorflow/core/common_runtime/executor.cc:1197] [/device:CPU:0] (DEBUG INFO) Executor start aborting (this does not indicate an error and you can ignore this message): INVALID_ARGUMENT: You must feed a value for placeholder tensor 'gradients/ReverseV2_grad/ReverseV2/ReverseV2/axis' with dtype int32 and shape [1]\n",
      "\t [[{{node gradients/ReverseV2_grad/ReverseV2/ReverseV2/axis}}]]\n",
      "2023-04-24 12:47:24.365285: I tensorflow/core/common_runtime/executor.cc:1197] [/device:CPU:0] (DEBUG INFO) Executor start aborting (this does not indicate an error and you can ignore this message): INVALID_ARGUMENT: You must feed a value for placeholder tensor 'gradients/split_2_grad/concat/split_2/split_dim' with dtype int32\n",
      "\t [[{{node gradients/split_2_grad/concat/split_2/split_dim}}]]\n",
      "2023-04-24 12:47:24.366353: I tensorflow/core/common_runtime/executor.cc:1197] [/device:CPU:0] (DEBUG INFO) Executor start aborting (this does not indicate an error and you can ignore this message): INVALID_ARGUMENT: You must feed a value for placeholder tensor 'gradients/split_grad/concat/split/split_dim' with dtype int32\n",
      "\t [[{{node gradients/split_grad/concat/split/split_dim}}]]\n",
      "2023-04-24 12:47:24.367199: I tensorflow/core/common_runtime/executor.cc:1197] [/device:CPU:0] (DEBUG INFO) Executor start aborting (this does not indicate an error and you can ignore this message): INVALID_ARGUMENT: You must feed a value for placeholder tensor 'gradients/split_1_grad/concat/split_1/split_dim' with dtype int32\n",
      "\t [[{{node gradients/split_1_grad/concat/split_1/split_dim}}]]\n",
      "2023-04-24 12:47:24.531892: I tensorflow/core/common_runtime/executor.cc:1197] [/device:CPU:0] (DEBUG INFO) Executor start aborting (this does not indicate an error and you can ignore this message): INVALID_ARGUMENT: You must feed a value for placeholder tensor 'gradients/split_2_grad/concat/split_2/split_dim' with dtype int32\n",
      "\t [[{{node gradients/split_2_grad/concat/split_2/split_dim}}]]\n",
      "2023-04-24 12:47:24.533971: I tensorflow/core/common_runtime/executor.cc:1197] [/device:CPU:0] (DEBUG INFO) Executor start aborting (this does not indicate an error and you can ignore this message): INVALID_ARGUMENT: You must feed a value for placeholder tensor 'gradients/split_grad/concat/split/split_dim' with dtype int32\n",
      "\t [[{{node gradients/split_grad/concat/split/split_dim}}]]\n",
      "2023-04-24 12:47:24.535534: I tensorflow/core/common_runtime/executor.cc:1197] [/device:CPU:0] (DEBUG INFO) Executor start aborting (this does not indicate an error and you can ignore this message): INVALID_ARGUMENT: You must feed a value for placeholder tensor 'gradients/split_1_grad/concat/split_1/split_dim' with dtype int32\n",
      "\t [[{{node gradients/split_1_grad/concat/split_1/split_dim}}]]\n",
      "2023-04-24 12:47:24.643857: I tensorflow/core/common_runtime/executor.cc:1197] [/device:CPU:0] (DEBUG INFO) Executor start aborting (this does not indicate an error and you can ignore this message): INVALID_ARGUMENT: You must feed a value for placeholder tensor 'gradients/ReverseV2_grad/ReverseV2/ReverseV2/axis' with dtype int32 and shape [1]\n",
      "\t [[{{node gradients/ReverseV2_grad/ReverseV2/ReverseV2/axis}}]]\n",
      "2023-04-24 12:47:24.672723: I tensorflow/core/common_runtime/executor.cc:1197] [/device:CPU:0] (DEBUG INFO) Executor start aborting (this does not indicate an error and you can ignore this message): INVALID_ARGUMENT: You must feed a value for placeholder tensor 'gradients/split_2_grad/concat/split_2/split_dim' with dtype int32\n",
      "\t [[{{node gradients/split_2_grad/concat/split_2/split_dim}}]]\n",
      "2023-04-24 12:47:24.673609: I tensorflow/core/common_runtime/executor.cc:1197] [/device:CPU:0] (DEBUG INFO) Executor start aborting (this does not indicate an error and you can ignore this message): INVALID_ARGUMENT: You must feed a value for placeholder tensor 'gradients/split_grad/concat/split/split_dim' with dtype int32\n",
      "\t [[{{node gradients/split_grad/concat/split/split_dim}}]]\n",
      "2023-04-24 12:47:24.674381: I tensorflow/core/common_runtime/executor.cc:1197] [/device:CPU:0] (DEBUG INFO) Executor start aborting (this does not indicate an error and you can ignore this message): INVALID_ARGUMENT: You must feed a value for placeholder tensor 'gradients/split_1_grad/concat/split_1/split_dim' with dtype int32\n",
      "\t [[{{node gradients/split_1_grad/concat/split_1/split_dim}}]]\n"
     ]
    },
    {
     "name": "stdout",
     "output_type": "stream",
     "text": [
      "24/24 [==============================] - 1s 4ms/step\n",
      "Prediction: [0.1428202] (not a disaster)\n"
     ]
    }
   ],
   "source": [
    "# make predictions\n",
    "model_4_preds = model_4.predict(val_tweets)\n",
    "sample_prediction=model_4_preds[0]\n",
    "print(f\"Prediction: {sample_prediction}\",\"(disaster)\" if sample_prediction>0.5 else \"(not a disaster)\")\n",
    "# Prediction: [0.00025736] (not a disaster)"
   ]
  },
  {
   "cell_type": "code",
   "execution_count": 55,
   "id": "1f6b23a9",
   "metadata": {},
   "outputs": [],
   "source": [
    "# convert model prediction probabilities to binary label format\n",
    "model_4_preds = tf.squeeze(tf.round(model_4_preds))"
   ]
  },
  {
   "cell_type": "code",
   "execution_count": 56,
   "id": "96bb9434",
   "metadata": {
    "collapsed": true
   },
   "outputs": [
    {
     "name": "stdout",
     "output_type": "stream",
     "text": [
      "{'accuracy': 77.16535433070865, 'precision': 0.773559668677779, 'recall': 0.7716535433070866, 'f1': 0.7694523344399302}\n"
     ]
    }
   ],
   "source": [
    "model_4_metrics = calculate_metrics(\n",
    "    y_true=val_labels,\n",
    "    y_pred=model_4_preds\n",
    ")\n",
    "\n",
    "print(model_4_metrics)"
   ]
  },
  {
   "cell_type": "markdown",
   "id": "a6879a12",
   "metadata": {},
   "source": [
    "#### Model 4 Metrics\n",
    "\n",
    "* Accuracy: 77.55905511811024\n",
    "* Precision: 0.7777490986405654\n",
    "* Recall: 0.7755905511811023\n",
    "* F1: 0.7733619560087615"
   ]
  },
  {
   "cell_type": "code",
   "execution_count": 57,
   "id": "40d1c1a1",
   "metadata": {
    "collapsed": true
   },
   "outputs": [
    {
     "name": "stdout",
     "output_type": "stream",
     "text": [
      "[False False False  True]\n",
      "[False False False False]\n"
     ]
    }
   ],
   "source": [
    "# the model performs better than the gru but worse than the baseline model\n",
    "print(np.array(list(model_4_metrics.values())) > np.array(list(model_3_metrics.values())))\n",
    "# [ True  True  True  True]\n",
    "print(np.array(list(model_4_metrics.values())) > np.array(list(baseline_metrics.values())))\n",
    "# [False False False False]"
   ]
  },
  {
   "cell_type": "markdown",
   "id": "5f0a3057",
   "metadata": {},
   "source": [
    "### Model 5: Conv1D\n",
    "\n",
    "#### Model Building and Training"
   ]
  },
  {
   "cell_type": "code",
   "execution_count": 58,
   "id": "12e1f2c8",
   "metadata": {
    "collapsed": true
   },
   "outputs": [
    {
     "name": "stdout",
     "output_type": "stream",
     "text": [
      "Model: \"model_5_conv1d\"\n",
      "_________________________________________________________________\n",
      " Layer (type)                Output Shape              Param #   \n",
      "=================================================================\n",
      " input_5 (InputLayer)        [(None, 1)]               0         \n",
      "                                                                 \n",
      " text_vectorization (TextVec  (None, 15)               0         \n",
      " torization)                                                     \n",
      "                                                                 \n",
      " embedding (Embedding)       (None, 15, 128)           1280000   \n",
      "                                                                 \n",
      " conv1d (Conv1D)             (None, 11, 64)            41024     \n",
      "                                                                 \n",
      " global_max_pooling1d (Globa  (None, 64)               0         \n",
      " lMaxPooling1D)                                                  \n",
      "                                                                 \n",
      " dense_6 (Dense)             (None, 1)                 65        \n",
      "                                                                 \n",
      "=================================================================\n",
      "Total params: 1,321,089\n",
      "Trainable params: 1,321,089\n",
      "Non-trainable params: 0\n",
      "_________________________________________________________________\n"
     ]
    }
   ],
   "source": [
    "inputs = Input(shape=(1,), dtype=tf.string)\n",
    "x = text_vectorizer(inputs)\n",
    "x = embedding(x)\n",
    "x = Conv1D(\n",
    "    filters=64,\n",
    "    kernel_size=5, # check 5 words at a time\n",
    "    activation='relu',\n",
    "    padding='valid',\n",
    "    strides=1\n",
    ")(x)\n",
    "x = GlobalMaxPool1D()(x)\n",
    "outputs = Dense(1, activation='sigmoid')(x)\n",
    "\n",
    "model_5 = tf.keras.Model(inputs, outputs, name='model_5_conv1d')\n",
    "model_5.summary()"
   ]
  },
  {
   "cell_type": "markdown",
   "id": "2c8a623a",
   "metadata": {},
   "source": [
    "```\n",
    "Model: \"model_5_conv1d\"\n",
    "_________________________________________________________________\n",
    " Layer (type)                Output Shape              Param #   \n",
    "=================================================================\n",
    " input_14 (InputLayer)       [(None, 1)]               0         \n",
    "                                                                 \n",
    " text_vectorization (TextVec  (None, 15)               0         \n",
    " torization)                                                     \n",
    "                                                                 \n",
    " embedding (Embedding)       (None, 15, 128)           1280000   \n",
    "                                                                 \n",
    " conv1d_6 (Conv1D)           (None, 11, 64)            41024     \n",
    "                                                                 \n",
    " global_max_pooling1d_5 (Glo  (None, 64)               0         \n",
    " balMaxPooling1D)                                                \n",
    "                                                                 \n",
    " dense_14 (Dense)            (None, 1)                 65        \n",
    "                                                                 \n",
    "=================================================================\n",
    "Total params: 1,321,089\n",
    "Trainable params: 1,321,089\n",
    "Non-trainable params: 0\n",
    "_________________________________________________________________\n",
    "```"
   ]
  },
  {
   "cell_type": "code",
   "execution_count": 59,
   "id": "d08d1436",
   "metadata": {},
   "outputs": [],
   "source": [
    "model_5.compile(\n",
    "    loss='binary_crossentropy',\n",
    "    optimizer=tf.keras.optimizers.Adam(),\n",
    "    metrics=['accuracy']\n",
    ")"
   ]
  },
  {
   "cell_type": "code",
   "execution_count": 60,
   "id": "dc5f4cd4",
   "metadata": {
    "collapsed": true
   },
   "outputs": [
    {
     "name": "stdout",
     "output_type": "stream",
     "text": [
      "INFO :: Saving TensorBoard Log to: tensorboad/model_5_conv1d/20230424-124800\n",
      "Epoch 1/5\n",
      "215/215 [==============================] - 3s 12ms/step - loss: 0.1265 - accuracy: 0.9556 - val_loss: 0.8945 - val_accuracy: 0.7651\n",
      "Epoch 2/5\n",
      "215/215 [==============================] - 2s 11ms/step - loss: 0.0757 - accuracy: 0.9742 - val_loss: 1.0369 - val_accuracy: 0.7625\n",
      "Epoch 3/5\n",
      "215/215 [==============================] - 2s 11ms/step - loss: 0.0621 - accuracy: 0.9750 - val_loss: 1.1544 - val_accuracy: 0.7585\n",
      "Epoch 4/5\n",
      "215/215 [==============================] - 2s 11ms/step - loss: 0.0551 - accuracy: 0.9775 - val_loss: 1.1593 - val_accuracy: 0.7625\n",
      "Epoch 5/5\n",
      "215/215 [==============================] - 2s 11ms/step - loss: 0.0515 - accuracy: 0.9778 - val_loss: 1.2429 - val_accuracy: 0.7546\n"
     ]
    }
   ],
   "source": [
    "model_5_history = model_5.fit(\n",
    "    train_tweets,\n",
    "    train_labels,\n",
    "    epochs=5,\n",
    "    validation_data=(val_tweets, val_labels),\n",
    "    callbacks=[create_tensorboard_callback_bugged(\n",
    "        dir_name=LOG_DIR,\n",
    "        experiment_name='model_5_conv1d'\n",
    "    )]\n",
    ")"
   ]
  },
  {
   "cell_type": "markdown",
   "id": "0e2901a1",
   "metadata": {},
   "source": [
    "#### Model Evaluation"
   ]
  },
  {
   "cell_type": "code",
   "execution_count": 61,
   "id": "a0d506e5",
   "metadata": {
    "collapsed": true
   },
   "outputs": [
    {
     "name": "stdout",
     "output_type": "stream",
     "text": [
      "24/24 [==============================] - 0s 2ms/step - loss: 1.2429 - accuracy: 0.7546\n"
     ]
    },
    {
     "data": {
      "text/plain": [
       "[1.2428834438323975, 0.7545931935310364]"
      ]
     },
     "execution_count": 61,
     "metadata": {},
     "output_type": "execute_result"
    }
   ],
   "source": [
    "model_5.evaluate(val_tweets, val_labels)\n",
    "# loss: 1.3018 - accuracy: 0.7454"
   ]
  },
  {
   "cell_type": "code",
   "execution_count": 62,
   "id": "d6f6ec8b",
   "metadata": {
    "collapsed": true
   },
   "outputs": [
    {
     "name": "stdout",
     "output_type": "stream",
     "text": [
      "24/24 [==============================] - 0s 1ms/step\n",
      "Prediction: [0.02216522] (not a disaster)\n"
     ]
    }
   ],
   "source": [
    "# make predictions\n",
    "model_5_preds = model_5.predict(val_tweets)\n",
    "sample_prediction=model_5_preds[0]\n",
    "print(f\"Prediction: {sample_prediction}\",\"(disaster)\" if sample_prediction>0.5 else \"(not a disaster)\")\n",
    "# Prediction: [0.05387583] (not a disaster)"
   ]
  },
  {
   "cell_type": "code",
   "execution_count": 63,
   "id": "538b2a99",
   "metadata": {},
   "outputs": [],
   "source": [
    "# convert model prediction probabilities to binary label format\n",
    "model_5_preds = tf.squeeze(tf.round(model_5_preds))"
   ]
  },
  {
   "cell_type": "code",
   "execution_count": 64,
   "id": "e3d5248e",
   "metadata": {
    "collapsed": true
   },
   "outputs": [
    {
     "name": "stdout",
     "output_type": "stream",
     "text": [
      "{'accuracy': 75.45931758530183, 'precision': 0.7552799761217521, 'recall': 0.7545931758530183, 'f1': 0.7527017331356143}\n"
     ]
    }
   ],
   "source": [
    "model_5_metrics = calculate_metrics(\n",
    "    y_true=val_labels,\n",
    "    y_pred=model_5_preds\n",
    ")\n",
    "\n",
    "print(model_5_metrics)"
   ]
  },
  {
   "cell_type": "markdown",
   "id": "739a2e56",
   "metadata": {},
   "source": [
    "#### Model 5 Metrics\n",
    "\n",
    "* Accuracy: 74.67191601049869\n",
    "* Precision: 0.7465631385096111\n",
    "* Recall: 0.7467191601049868\n",
    "* F1: 0.7453858813570734"
   ]
  },
  {
   "cell_type": "code",
   "execution_count": 65,
   "id": "df8bfce3",
   "metadata": {
    "collapsed": true
   },
   "outputs": [
    {
     "name": "stdout",
     "output_type": "stream",
     "text": [
      "[False False False False]\n",
      "[False False False False]\n"
     ]
    }
   ],
   "source": [
    "# the model performs worse than the gru and worse than the baseline model\n",
    "print(np.array(list(model_5_metrics.values())) > np.array(list(model_4_metrics.values())))\n",
    "# [False False False False]\n",
    "print(np.array(list(model_5_metrics.values())) > np.array(list(baseline_metrics.values())))\n",
    "# [False False False False]"
   ]
  },
  {
   "cell_type": "markdown",
   "id": "be663544",
   "metadata": {},
   "source": [
    "### Model 6: Transfer Learning Feature Extractor\n",
    "\n",
    "__USE__ Feature Extractor - [Universal Sentence Encoder](https://arxiv.org/abs/1803.11175)"
   ]
  },
  {
   "cell_type": "code",
   "execution_count": 66,
   "id": "ead8f0a7",
   "metadata": {},
   "outputs": [],
   "source": [
    "# https://tfhub.dev/google/collections/universal-sentence-encoder/1\n",
    "embed = hub.load(\"https://tfhub.dev/google/universal-sentence-encoder/4\")"
   ]
  },
  {
   "cell_type": "code",
   "execution_count": 67,
   "id": "cf6995ed",
   "metadata": {
    "collapsed": true
   },
   "outputs": [
    {
     "name": "stdout",
     "output_type": "stream",
     "text": [
      "tf.Tensor(\n",
      "[[ 0.06844153 -0.0325974  -0.01901028 ... -0.03307429 -0.04625704\n",
      "  -0.08149158]\n",
      " [ 0.02810995 -0.06714624  0.02414106 ... -0.02519046  0.03197665\n",
      "   0.02462349]\n",
      " [ 0.03188843 -0.0167392  -0.03194157 ... -0.04541751 -0.05822486\n",
      "  -0.07237621]], shape=(3, 512), dtype=float32)\n"
     ]
    },
    {
     "name": "stderr",
     "output_type": "stream",
     "text": [
      "2023-04-24 12:53:22.132291: I tensorflow/core/common_runtime/executor.cc:1197] [/device:CPU:0] (DEBUG INFO) Executor start aborting (this does not indicate an error and you can ignore this message): INVALID_ARGUMENT: You must feed a value for placeholder tensor 'inputs' with dtype string\n",
      "\t [[{{node inputs}}]]\n"
     ]
    }
   ],
   "source": [
    "# test the encoder\n",
    "sample_sentence1 = \"Next I'm buying Coca-Cola to put the cocaine back in\"\n",
    "sample_sentence2 = \"Hey guys, wanna feel old? I'm 40. You're welcome.\"\n",
    "sample_sentence3 = \"Beef chicken pork bacon chuck shortloin sirloin shank eu, bresaola voluptate in enim ea kielbasa laboris brisket laborum, jowl labore id porkchop elit ad commodo.\"\n",
    "\n",
    "embed_sample = embed([\n",
    "    sample_sentence1,\n",
    "    sample_sentence2,\n",
    "    sample_sentence3\n",
    "])\n",
    "\n",
    "print(embed_sample)\n",
    "\n",
    "# the encoder turns each input into size-512 feature vectors\n",
    "# [[ 0.06844153 -0.0325974  -0.01901028 ... -0.03307429 -0.04625704\n",
    "#  -0.08149158]\n",
    "# [ 0.02810995 -0.06714624  0.02414106 ... -0.02519046  0.03197665\n",
    "#   0.02462349]\n",
    "# [ 0.03188843 -0.0167392  -0.03194157 ... -0.04541751 -0.05822486\n",
    "#  -0.07237621]], shape=(3, 512), dtype=float32)"
   ]
  },
  {
   "cell_type": "markdown",
   "id": "8cc76bc9",
   "metadata": {},
   "source": [
    "#### Model Building and Training"
   ]
  },
  {
   "cell_type": "code",
   "execution_count": 68,
   "id": "be52accc",
   "metadata": {
    "collapsed": true
   },
   "outputs": [
    {
     "name": "stdout",
     "output_type": "stream",
     "text": [
      "Model: \"model_6_use\"\n",
      "_________________________________________________________________\n",
      " Layer (type)                Output Shape              Param #   \n",
      "=================================================================\n",
      " sentence-encoder (KerasLaye  (None, 512)              256797824 \n",
      " r)                                                              \n",
      "                                                                 \n",
      " dense_7 (Dense)             (None, 1)                 513       \n",
      "                                                                 \n",
      "=================================================================\n",
      "Total params: 256,798,337\n",
      "Trainable params: 513\n",
      "Non-trainable params: 256,797,824\n",
      "_________________________________________________________________\n"
     ]
    },
    {
     "name": "stderr",
     "output_type": "stream",
     "text": [
      "2023-04-24 12:53:32.368917: I tensorflow/core/common_runtime/executor.cc:1197] [/device:CPU:0] (DEBUG INFO) Executor start aborting (this does not indicate an error and you can ignore this message): INVALID_ARGUMENT: You must feed a value for placeholder tensor 'inputs' with dtype string\n",
      "\t [[{{node inputs}}]]\n",
      "2023-04-24 12:53:32.429803: I tensorflow/core/common_runtime/executor.cc:1197] [/device:CPU:0] (DEBUG INFO) Executor start aborting (this does not indicate an error and you can ignore this message): INVALID_ARGUMENT: You must feed a value for placeholder tensor 'Placeholder' with dtype string and shape [?]\n",
      "\t [[{{node Placeholder}}]]\n"
     ]
    }
   ],
   "source": [
    "model_6 = tf.keras.models.Sequential(name='model_6_use')\n",
    "\n",
    "model_6.add(hub.KerasLayer(\n",
    "    'https://tfhub.dev/google/universal-sentence-encoder/4', \n",
    "    input_shape=[], # layer excepts string of variable length and returns a 512 feature vector\n",
    "    dtype=tf.string, \n",
    "    trainable=False,\n",
    "    name='sentence-encoder'\n",
    "))\n",
    "\n",
    "model_6.add(Dense(1, activation='sigmoid'))\n",
    "\n",
    "model_6.summary()"
   ]
  },
  {
   "cell_type": "markdown",
   "id": "37036030",
   "metadata": {},
   "source": [
    "```\n",
    "Model: \"model_6_use\"\n",
    "_________________________________________________________________\n",
    " Layer (type)                Output Shape              Param #   \n",
    "=================================================================\n",
    " sentence-encoder (KerasLaye  (None, 512)              256797824 \n",
    " r)                                                              \n",
    "                                                                 \n",
    " dense_5 (Dense)             (None, 1)                 513       \n",
    "                                                                 \n",
    "=================================================================\n",
    "Total params: 256,798,337\n",
    "Trainable params: 513\n",
    "Non-trainable params: 256,797,824\n",
    "_________________________________________________________________\n",
    "```"
   ]
  },
  {
   "cell_type": "code",
   "execution_count": 69,
   "id": "6e26e3cb",
   "metadata": {},
   "outputs": [],
   "source": [
    "model_6.compile(\n",
    "    loss='binary_crossentropy',\n",
    "    optimizer=tf.keras.optimizers.Adam(),\n",
    "    metrics=['accuracy']\n",
    ")"
   ]
  },
  {
   "cell_type": "code",
   "execution_count": 70,
   "id": "271a7010",
   "metadata": {
    "collapsed": true
   },
   "outputs": [
    {
     "name": "stdout",
     "output_type": "stream",
     "text": [
      "INFO :: Saving TensorBoard Log to: tensorboad/model_6_use/20230424-125338\n",
      "Epoch 1/5\n"
     ]
    },
    {
     "name": "stderr",
     "output_type": "stream",
     "text": [
      "2023-04-24 12:53:39.474331: I tensorflow/core/common_runtime/executor.cc:1197] [/device:CPU:0] (DEBUG INFO) Executor start aborting (this does not indicate an error and you can ignore this message): INVALID_ARGUMENT: You must feed a value for placeholder tensor 'gradients/StatefulPartitionedCall_grad/StatefulPartitionedCall' with dtype float and shape [?,512]\n",
      "\t [[{{node gradients/StatefulPartitionedCall_grad/StatefulPartitionedCall}}]]\n",
      "2023-04-24 12:53:39.474424: I tensorflow/core/common_runtime/executor.cc:1197] [/device:CPU:0] (DEBUG INFO) Executor start aborting (this does not indicate an error and you can ignore this message): INVALID_ARGUMENT: You must feed a value for placeholder tensor 'gradients/StatefulPartitionedCall_grad/StatefulPartitionedCall_1' with dtype float and shape [?,1]\n",
      "\t [[{{node gradients/StatefulPartitionedCall_grad/StatefulPartitionedCall_1}}]]\n",
      "2023-04-24 12:53:39.474525: I tensorflow/core/common_runtime/executor.cc:1197] [/device:CPU:0] (DEBUG INFO) Executor start aborting (this does not indicate an error and you can ignore this message): INVALID_ARGUMENT: You must feed a value for placeholder tensor 'gradients/StatefulPartitionedCall_grad/StatefulPartitionedCall_2' with dtype float and shape [?,1]\n",
      "\t [[{{node gradients/StatefulPartitionedCall_grad/StatefulPartitionedCall_2}}]]\n",
      "2023-04-24 12:53:39.474606: I tensorflow/core/common_runtime/executor.cc:1197] [/device:CPU:0] (DEBUG INFO) Executor start aborting (this does not indicate an error and you can ignore this message): INVALID_ARGUMENT: You must feed a value for placeholder tensor 'gradients/StatefulPartitionedCall_grad/StatefulPartitionedCall_4' with dtype float and shape [?,512]\n",
      "\t [[{{node gradients/StatefulPartitionedCall_grad/StatefulPartitionedCall_4}}]]\n",
      "2023-04-24 12:53:39.474681: I tensorflow/core/common_runtime/executor.cc:1197] [/device:CPU:0] (DEBUG INFO) Executor start aborting (this does not indicate an error and you can ignore this message): INVALID_ARGUMENT: You must feed a value for placeholder tensor 'gradients/StatefulPartitionedCall_grad/StatefulPartitionedCall_5' with dtype float and shape [?,512]\n",
      "\t [[{{node gradients/StatefulPartitionedCall_grad/StatefulPartitionedCall_5}}]]\n",
      "2023-04-24 12:53:39.474726: I tensorflow/core/common_runtime/executor.cc:1197] [/device:CPU:0] (DEBUG INFO) Executor start aborting (this does not indicate an error and you can ignore this message): INVALID_ARGUMENT: You must feed a value for placeholder tensor 'gradients/StatefulPartitionedCall_grad/StatefulPartitionedCall_6' with dtype float and shape [?,1]\n",
      "\t [[{{node gradients/StatefulPartitionedCall_grad/StatefulPartitionedCall_6}}]]\n",
      "2023-04-24 12:53:39.474826: I tensorflow/core/common_runtime/executor.cc:1197] [/device:CPU:0] (DEBUG INFO) Executor start aborting (this does not indicate an error and you can ignore this message): INVALID_ARGUMENT: You must feed a value for placeholder tensor 'gradients/StatefulPartitionedCall_grad/StatefulPartitionedCall_7' with dtype float and shape [?,1]\n",
      "\t [[{{node gradients/StatefulPartitionedCall_grad/StatefulPartitionedCall_7}}]]\n",
      "2023-04-24 12:53:39.474912: I tensorflow/core/common_runtime/executor.cc:1197] [/device:CPU:0] (DEBUG INFO) Executor start aborting (this does not indicate an error and you can ignore this message): INVALID_ARGUMENT: You must feed a value for placeholder tensor 'gradients/StatefulPartitionedCall_grad/StatefulPartitionedCall_9' with dtype float and shape [?,512]\n",
      "\t [[{{node gradients/StatefulPartitionedCall_grad/StatefulPartitionedCall_9}}]]\n",
      "2023-04-24 12:53:39.474978: I tensorflow/core/common_runtime/executor.cc:1197] [/device:CPU:0] (DEBUG INFO) Executor start aborting (this does not indicate an error and you can ignore this message): INVALID_ARGUMENT: You must feed a value for placeholder tensor 'gradients/StatefulPartitionedCall_grad/StatefulPartitionedCall_10' with dtype float and shape [?,512]\n",
      "\t [[{{node gradients/StatefulPartitionedCall_grad/StatefulPartitionedCall_10}}]]\n",
      "2023-04-24 12:53:39.475025: I tensorflow/core/common_runtime/executor.cc:1197] [/device:CPU:0] (DEBUG INFO) Executor start aborting (this does not indicate an error and you can ignore this message): INVALID_ARGUMENT: You must feed a value for placeholder tensor 'gradients/StatefulPartitionedCall_grad/StatefulPartitionedCall_11' with dtype float and shape [?,512]\n",
      "\t [[{{node gradients/StatefulPartitionedCall_grad/StatefulPartitionedCall_11}}]]\n",
      "2023-04-24 12:53:39.475073: I tensorflow/core/common_runtime/executor.cc:1197] [/device:CPU:0] (DEBUG INFO) Executor start aborting (this does not indicate an error and you can ignore this message): INVALID_ARGUMENT: You must feed a value for placeholder tensor 'gradients/StatefulPartitionedCall_grad/StatefulPartitionedCall_17' with dtype int32\n",
      "\t [[{{node gradients/StatefulPartitionedCall_grad/StatefulPartitionedCall_17}}]]\n",
      "2023-04-24 12:53:39.475121: I tensorflow/core/common_runtime/executor.cc:1197] [/device:CPU:0] (DEBUG INFO) Executor start aborting (this does not indicate an error and you can ignore this message): INVALID_ARGUMENT: You must feed a value for placeholder tensor 'gradients/StatefulPartitionedCall_grad/StatefulPartitionedCall_18' with dtype int32\n",
      "\t [[{{node gradients/StatefulPartitionedCall_grad/StatefulPartitionedCall_18}}]]\n",
      "2023-04-24 12:53:39.475168: I tensorflow/core/common_runtime/executor.cc:1197] [/device:CPU:0] (DEBUG INFO) Executor start aborting (this does not indicate an error and you can ignore this message): INVALID_ARGUMENT: You must feed a value for placeholder tensor 'gradients/StatefulPartitionedCall_grad/StatefulPartitionedCall_19' with dtype float and shape [?,320]\n",
      "\t [[{{node gradients/StatefulPartitionedCall_grad/StatefulPartitionedCall_19}}]]\n",
      "2023-04-24 12:53:39.475214: I tensorflow/core/common_runtime/executor.cc:1197] [/device:CPU:0] (DEBUG INFO) Executor start aborting (this does not indicate an error and you can ignore this message): INVALID_ARGUMENT: You must feed a value for placeholder tensor 'gradients/StatefulPartitionedCall_grad/StatefulPartitionedCall_20' with dtype float\n",
      "\t [[{{node gradients/StatefulPartitionedCall_grad/StatefulPartitionedCall_20}}]]\n",
      "2023-04-24 12:53:39.475261: I tensorflow/core/common_runtime/executor.cc:1197] [/device:CPU:0] (DEBUG INFO) Executor start aborting (this does not indicate an error and you can ignore this message): INVALID_ARGUMENT: You must feed a value for placeholder tensor 'gradients/StatefulPartitionedCall_grad/StatefulPartitionedCall_21' with dtype int32\n",
      "\t [[{{node gradients/StatefulPartitionedCall_grad/StatefulPartitionedCall_21}}]]\n",
      "2023-04-24 12:53:39.475307: I tensorflow/core/common_runtime/executor.cc:1197] [/device:CPU:0] (DEBUG INFO) Executor start aborting (this does not indicate an error and you can ignore this message): INVALID_ARGUMENT: You must feed a value for placeholder tensor 'gradients/StatefulPartitionedCall_grad/StatefulPartitionedCall_25' with dtype int32\n",
      "\t [[{{node gradients/StatefulPartitionedCall_grad/StatefulPartitionedCall_25}}]]\n",
      "2023-04-24 12:53:39.475354: I tensorflow/core/common_runtime/executor.cc:1197] [/device:CPU:0] (DEBUG INFO) Executor start aborting (this does not indicate an error and you can ignore this message): INVALID_ARGUMENT: You must feed a value for placeholder tensor 'gradients/StatefulPartitionedCall_grad/StatefulPartitionedCall_26' with dtype float\n",
      "\t [[{{node gradients/StatefulPartitionedCall_grad/StatefulPartitionedCall_26}}]]\n",
      "2023-04-24 12:53:39.475401: I tensorflow/core/common_runtime/executor.cc:1197] [/device:CPU:0] (DEBUG INFO) Executor start aborting (this does not indicate an error and you can ignore this message): INVALID_ARGUMENT: You must feed a value for placeholder tensor 'gradients/StatefulPartitionedCall_grad/StatefulPartitionedCall_27' with dtype float and shape [?,1]\n",
      "\t [[{{node gradients/StatefulPartitionedCall_grad/StatefulPartitionedCall_27}}]]\n",
      "2023-04-24 12:53:39.475447: I tensorflow/core/common_runtime/executor.cc:1197] [/device:CPU:0] (DEBUG INFO) Executor start aborting (this does not indicate an error and you can ignore this message): INVALID_ARGUMENT: You must feed a value for placeholder tensor 'gradients/StatefulPartitionedCall_grad/StatefulPartitionedCall_29' with dtype int32\n",
      "\t [[{{node gradients/StatefulPartitionedCall_grad/StatefulPartitionedCall_29}}]]\n",
      "2023-04-24 12:53:39.475494: I tensorflow/core/common_runtime/executor.cc:1197] [/device:CPU:0] (DEBUG INFO) Executor start aborting (this does not indicate an error and you can ignore this message): INVALID_ARGUMENT: You must feed a value for placeholder tensor 'gradients/StatefulPartitionedCall_grad/StatefulPartitionedCall_30' with dtype float and shape [?,320]\n",
      "\t [[{{node gradients/StatefulPartitionedCall_grad/StatefulPartitionedCall_30}}]]\n",
      "2023-04-24 12:53:39.475540: I tensorflow/core/common_runtime/executor.cc:1197] [/device:CPU:0] (DEBUG INFO) Executor start aborting (this does not indicate an error and you can ignore this message): INVALID_ARGUMENT: You must feed a value for placeholder tensor 'gradients/StatefulPartitionedCall_grad/StatefulPartitionedCall_31' with dtype float and shape [?,320]\n",
      "\t [[{{node gradients/StatefulPartitionedCall_grad/StatefulPartitionedCall_31}}]]\n",
      "2023-04-24 12:53:39.475598: I tensorflow/core/common_runtime/executor.cc:1197] [/device:CPU:0] (DEBUG INFO) Executor start aborting (this does not indicate an error and you can ignore this message): INVALID_ARGUMENT: You must feed a value for placeholder tensor 'gradients/StatefulPartitionedCall_grad/StatefulPartitionedCall_32' with dtype int32 and shape [?]\n",
      "\t [[{{node gradients/StatefulPartitionedCall_grad/StatefulPartitionedCall_32}}]]\n",
      "2023-04-24 12:53:39.475683: I tensorflow/core/common_runtime/executor.cc:1197] [/device:CPU:0] (DEBUG INFO) Executor start aborting (this does not indicate an error and you can ignore this message): INVALID_ARGUMENT: You must feed a value for placeholder tensor 'gradients/StatefulPartitionedCall_grad/StatefulPartitionedCall_33' with dtype float and shape [?,320]\n",
      "\t [[{{node gradients/StatefulPartitionedCall_grad/StatefulPartitionedCall_33}}]]\n",
      "2023-04-24 12:53:39.475773: I tensorflow/core/common_runtime/executor.cc:1197] [/device:CPU:0] (DEBUG INFO) Executor start aborting (this does not indicate an error and you can ignore this message): INVALID_ARGUMENT: You must feed a value for placeholder tensor 'gradients/StatefulPartitionedCall_grad/StatefulPartitionedCall_64' with dtype int64 and shape [?]\n",
      "\t [[{{node gradients/StatefulPartitionedCall_grad/StatefulPartitionedCall_64}}]]\n",
      "2023-04-24 12:53:39.475862: I tensorflow/core/common_runtime/executor.cc:1197] [/device:CPU:0] (DEBUG INFO) Executor start aborting (this does not indicate an error and you can ignore this message): INVALID_ARGUMENT: You must feed a value for placeholder tensor 'gradients/StatefulPartitionedCall_grad/StatefulPartitionedCall_65' with dtype int64 and shape [?]\n",
      "\t [[{{node gradients/StatefulPartitionedCall_grad/StatefulPartitionedCall_65}}]]\n",
      "2023-04-24 12:53:39.475977: I tensorflow/core/common_runtime/executor.cc:1197] [/device:CPU:0] (DEBUG INFO) Executor start aborting (this does not indicate an error and you can ignore this message): INVALID_ARGUMENT: You must feed a value for placeholder tensor 'gradients/StatefulPartitionedCall_grad/StatefulPartitionedCall_66' with dtype int64 and shape [?]\n",
      "\t [[{{node gradients/StatefulPartitionedCall_grad/StatefulPartitionedCall_66}}]]\n",
      "2023-04-24 12:53:39.476091: I tensorflow/core/common_runtime/executor.cc:1197] [/device:CPU:0] (DEBUG INFO) Executor start aborting (this does not indicate an error and you can ignore this message): INVALID_ARGUMENT: You must feed a value for placeholder tensor 'gradients/StatefulPartitionedCall_grad/StatefulPartitionedCall_67' with dtype int64 and shape [?]\n",
      "\t [[{{node gradients/StatefulPartitionedCall_grad/StatefulPartitionedCall_67}}]]\n",
      "2023-04-24 12:53:39.476206: I tensorflow/core/common_runtime/executor.cc:1197] [/device:CPU:0] (DEBUG INFO) Executor start aborting (this does not indicate an error and you can ignore this message): INVALID_ARGUMENT: You must feed a value for placeholder tensor 'gradients/StatefulPartitionedCall_grad/StatefulPartitionedCall_68' with dtype int64 and shape [?]\n",
      "\t [[{{node gradients/StatefulPartitionedCall_grad/StatefulPartitionedCall_68}}]]\n",
      "2023-04-24 12:53:39.476320: I tensorflow/core/common_runtime/executor.cc:1197] [/device:CPU:0] (DEBUG INFO) Executor start aborting (this does not indicate an error and you can ignore this message): INVALID_ARGUMENT: You must feed a value for placeholder tensor 'gradients/StatefulPartitionedCall_grad/StatefulPartitionedCall_69' with dtype int64 and shape [?]\n",
      "\t [[{{node gradients/StatefulPartitionedCall_grad/StatefulPartitionedCall_69}}]]\n",
      "2023-04-24 12:53:39.476416: I tensorflow/core/common_runtime/executor.cc:1197] [/device:CPU:0] (DEBUG INFO) Executor start aborting (this does not indicate an error and you can ignore this message): INVALID_ARGUMENT: You must feed a value for placeholder tensor 'gradients/StatefulPartitionedCall_grad/StatefulPartitionedCall_70' with dtype int64 and shape [?]\n",
      "\t [[{{node gradients/StatefulPartitionedCall_grad/StatefulPartitionedCall_70}}]]\n",
      "2023-04-24 12:53:39.476503: I tensorflow/core/common_runtime/executor.cc:1197] [/device:CPU:0] (DEBUG INFO) Executor start aborting (this does not indicate an error and you can ignore this message): INVALID_ARGUMENT: You must feed a value for placeholder tensor 'gradients/StatefulPartitionedCall_grad/StatefulPartitionedCall_71' with dtype int64 and shape [?]\n",
      "\t [[{{node gradients/StatefulPartitionedCall_grad/StatefulPartitionedCall_71}}]]\n",
      "2023-04-24 12:53:39.476589: I tensorflow/core/common_runtime/executor.cc:1197] [/device:CPU:0] (DEBUG INFO) Executor start aborting (this does not indicate an error and you can ignore this message): INVALID_ARGUMENT: You must feed a value for placeholder tensor 'gradients/StatefulPartitionedCall_grad/StatefulPartitionedCall_72' with dtype int64 and shape [?]\n",
      "\t [[{{node gradients/StatefulPartitionedCall_grad/StatefulPartitionedCall_72}}]]\n",
      "2023-04-24 12:53:39.476673: I tensorflow/core/common_runtime/executor.cc:1197] [/device:CPU:0] (DEBUG INFO) Executor start aborting (this does not indicate an error and you can ignore this message): INVALID_ARGUMENT: You must feed a value for placeholder tensor 'gradients/StatefulPartitionedCall_grad/StatefulPartitionedCall_73' with dtype int64 and shape [?]\n",
      "\t [[{{node gradients/StatefulPartitionedCall_grad/StatefulPartitionedCall_73}}]]\n",
      "2023-04-24 12:53:39.476759: I tensorflow/core/common_runtime/executor.cc:1197] [/device:CPU:0] (DEBUG INFO) Executor start aborting (this does not indicate an error and you can ignore this message): INVALID_ARGUMENT: You must feed a value for placeholder tensor 'gradients/StatefulPartitionedCall_grad/StatefulPartitionedCall_74' with dtype int64 and shape [?]\n",
      "\t [[{{node gradients/StatefulPartitionedCall_grad/StatefulPartitionedCall_74}}]]\n",
      "2023-04-24 12:53:39.476844: I tensorflow/core/common_runtime/executor.cc:1197] [/device:CPU:0] (DEBUG INFO) Executor start aborting (this does not indicate an error and you can ignore this message): INVALID_ARGUMENT: You must feed a value for placeholder tensor 'gradients/StatefulPartitionedCall_grad/StatefulPartitionedCall_75' with dtype int64 and shape [?]\n",
      "\t [[{{node gradients/StatefulPartitionedCall_grad/StatefulPartitionedCall_75}}]]\n",
      "2023-04-24 12:53:39.476929: I tensorflow/core/common_runtime/executor.cc:1197] [/device:CPU:0] (DEBUG INFO) Executor start aborting (this does not indicate an error and you can ignore this message): INVALID_ARGUMENT: You must feed a value for placeholder tensor 'gradients/StatefulPartitionedCall_grad/StatefulPartitionedCall_76' with dtype int64 and shape [?]\n",
      "\t [[{{node gradients/StatefulPartitionedCall_grad/StatefulPartitionedCall_76}}]]\n",
      "2023-04-24 12:53:39.477014: I tensorflow/core/common_runtime/executor.cc:1197] [/device:CPU:0] (DEBUG INFO) Executor start aborting (this does not indicate an error and you can ignore this message): INVALID_ARGUMENT: You must feed a value for placeholder tensor 'gradients/StatefulPartitionedCall_grad/StatefulPartitionedCall_77' with dtype int64 and shape [?]\n",
      "\t [[{{node gradients/StatefulPartitionedCall_grad/StatefulPartitionedCall_77}}]]\n",
      "2023-04-24 12:53:39.477099: I tensorflow/core/common_runtime/executor.cc:1197] [/device:CPU:0] (DEBUG INFO) Executor start aborting (this does not indicate an error and you can ignore this message): INVALID_ARGUMENT: You must feed a value for placeholder tensor 'gradients/StatefulPartitionedCall_grad/StatefulPartitionedCall_78' with dtype int64 and shape [?]\n",
      "\t [[{{node gradients/StatefulPartitionedCall_grad/StatefulPartitionedCall_78}}]]\n",
      "2023-04-24 12:53:39.477184: I tensorflow/core/common_runtime/executor.cc:1197] [/device:CPU:0] (DEBUG INFO) Executor start aborting (this does not indicate an error and you can ignore this message): INVALID_ARGUMENT: You must feed a value for placeholder tensor 'gradients/StatefulPartitionedCall_grad/StatefulPartitionedCall_79' with dtype int64 and shape [?]\n",
      "\t [[{{node gradients/StatefulPartitionedCall_grad/StatefulPartitionedCall_79}}]]\n",
      "2023-04-24 12:53:39.477269: I tensorflow/core/common_runtime/executor.cc:1197] [/device:CPU:0] (DEBUG INFO) Executor start aborting (this does not indicate an error and you can ignore this message): INVALID_ARGUMENT: You must feed a value for placeholder tensor 'gradients/StatefulPartitionedCall_grad/StatefulPartitionedCall_80' with dtype int64 and shape [?]\n",
      "\t [[{{node gradients/StatefulPartitionedCall_grad/StatefulPartitionedCall_80}}]]\n",
      "2023-04-24 12:53:39.477354: I tensorflow/core/common_runtime/executor.cc:1197] [/device:CPU:0] (DEBUG INFO) Executor start aborting (this does not indicate an error and you can ignore this message): INVALID_ARGUMENT: You must feed a value for placeholder tensor 'gradients/StatefulPartitionedCall_grad/StatefulPartitionedCall_81' with dtype int64 and shape [?]\n",
      "\t [[{{node gradients/StatefulPartitionedCall_grad/StatefulPartitionedCall_81}}]]\n",
      "2023-04-24 12:53:39.477439: I tensorflow/core/common_runtime/executor.cc:1197] [/device:CPU:0] (DEBUG INFO) Executor start aborting (this does not indicate an error and you can ignore this message): INVALID_ARGUMENT: You must feed a value for placeholder tensor 'gradients/StatefulPartitionedCall_grad/StatefulPartitionedCall_82' with dtype int64 and shape [?]\n",
      "\t [[{{node gradients/StatefulPartitionedCall_grad/StatefulPartitionedCall_82}}]]\n",
      "2023-04-24 12:53:39.477524: I tensorflow/core/common_runtime/executor.cc:1197] [/device:CPU:0] (DEBUG INFO) Executor start aborting (this does not indicate an error and you can ignore this message): INVALID_ARGUMENT: You must feed a value for placeholder tensor 'gradients/StatefulPartitionedCall_grad/StatefulPartitionedCall_83' with dtype int64 and shape [?]\n",
      "\t [[{{node gradients/StatefulPartitionedCall_grad/StatefulPartitionedCall_83}}]]\n",
      "2023-04-24 12:53:39.477600: I tensorflow/core/common_runtime/executor.cc:1197] [/device:CPU:0] (DEBUG INFO) Executor start aborting (this does not indicate an error and you can ignore this message): INVALID_ARGUMENT: You must feed a value for placeholder tensor 'gradients/StatefulPartitionedCall_grad/StatefulPartitionedCall_84' with dtype int64 and shape [?]\n",
      "\t [[{{node gradients/StatefulPartitionedCall_grad/StatefulPartitionedCall_84}}]]\n",
      "2023-04-24 12:53:39.477675: I tensorflow/core/common_runtime/executor.cc:1197] [/device:CPU:0] (DEBUG INFO) Executor start aborting (this does not indicate an error and you can ignore this message): INVALID_ARGUMENT: You must feed a value for placeholder tensor 'gradients/StatefulPartitionedCall_grad/StatefulPartitionedCall_85' with dtype int64 and shape [?]\n",
      "\t [[{{node gradients/StatefulPartitionedCall_grad/StatefulPartitionedCall_85}}]]\n",
      "2023-04-24 12:53:39.477766: I tensorflow/core/common_runtime/executor.cc:1197] [/device:CPU:0] (DEBUG INFO) Executor start aborting (this does not indicate an error and you can ignore this message): INVALID_ARGUMENT: You must feed a value for placeholder tensor 'gradients/StatefulPartitionedCall_grad/StatefulPartitionedCall_86' with dtype int64 and shape [?]\n",
      "\t [[{{node gradients/StatefulPartitionedCall_grad/StatefulPartitionedCall_86}}]]\n",
      "2023-04-24 12:53:39.477827: I tensorflow/core/common_runtime/executor.cc:1197] [/device:CPU:0] (DEBUG INFO) Executor start aborting (this does not indicate an error and you can ignore this message): INVALID_ARGUMENT: You must feed a value for placeholder tensor 'gradients/StatefulPartitionedCall_grad/StatefulPartitionedCall_87' with dtype int64 and shape [?]\n",
      "\t [[{{node gradients/StatefulPartitionedCall_grad/StatefulPartitionedCall_87}}]]\n",
      "2023-04-24 12:53:39.477876: I tensorflow/core/common_runtime/executor.cc:1197] [/device:CPU:0] (DEBUG INFO) Executor start aborting (this does not indicate an error and you can ignore this message): INVALID_ARGUMENT: You must feed a value for placeholder tensor 'gradients/StatefulPartitionedCall_grad/StatefulPartitionedCall_88' with dtype int64 and shape [?]\n",
      "\t [[{{node gradients/StatefulPartitionedCall_grad/StatefulPartitionedCall_88}}]]\n",
      "2023-04-24 12:53:39.477923: I tensorflow/core/common_runtime/executor.cc:1197] [/device:CPU:0] (DEBUG INFO) Executor start aborting (this does not indicate an error and you can ignore this message): INVALID_ARGUMENT: You must feed a value for placeholder tensor 'gradients/StatefulPartitionedCall_grad/StatefulPartitionedCall_89' with dtype int64 and shape [?]\n",
      "\t [[{{node gradients/StatefulPartitionedCall_grad/StatefulPartitionedCall_89}}]]\n",
      "2023-04-24 12:53:39.477970: I tensorflow/core/common_runtime/executor.cc:1197] [/device:CPU:0] (DEBUG INFO) Executor start aborting (this does not indicate an error and you can ignore this message): INVALID_ARGUMENT: You must feed a value for placeholder tensor 'gradients/StatefulPartitionedCall_grad/StatefulPartitionedCall_90' with dtype int64 and shape [?]\n",
      "\t [[{{node gradients/StatefulPartitionedCall_grad/StatefulPartitionedCall_90}}]]\n",
      "2023-04-24 12:53:39.478017: I tensorflow/core/common_runtime/executor.cc:1197] [/device:CPU:0] (DEBUG INFO) Executor start aborting (this does not indicate an error and you can ignore this message): INVALID_ARGUMENT: You must feed a value for placeholder tensor 'gradients/StatefulPartitionedCall_grad/StatefulPartitionedCall_91' with dtype int64 and shape [?]\n",
      "\t [[{{node gradients/StatefulPartitionedCall_grad/StatefulPartitionedCall_91}}]]\n",
      "2023-04-24 12:53:39.478063: I tensorflow/core/common_runtime/executor.cc:1197] [/device:CPU:0] (DEBUG INFO) Executor start aborting (this does not indicate an error and you can ignore this message): INVALID_ARGUMENT: You must feed a value for placeholder tensor 'gradients/StatefulPartitionedCall_grad/StatefulPartitionedCall_92' with dtype int64 and shape [?]\n",
      "\t [[{{node gradients/StatefulPartitionedCall_grad/StatefulPartitionedCall_92}}]]\n",
      "2023-04-24 12:53:39.478110: I tensorflow/core/common_runtime/executor.cc:1197] [/device:CPU:0] (DEBUG INFO) Executor start aborting (this does not indicate an error and you can ignore this message): INVALID_ARGUMENT: You must feed a value for placeholder tensor 'gradients/StatefulPartitionedCall_grad/StatefulPartitionedCall_93' with dtype int64 and shape [?]\n",
      "\t [[{{node gradients/StatefulPartitionedCall_grad/StatefulPartitionedCall_93}}]]\n",
      "2023-04-24 12:53:39.645421: I tensorflow/core/common_runtime/executor.cc:1197] [/device:CPU:0] (DEBUG INFO) Executor start aborting (this does not indicate an error and you can ignore this message): INVALID_ARGUMENT: You must feed a value for placeholder tensor 'gradients/StatefulPartitionedCall_grad/StatefulPartitionedCall' with dtype float and shape [?,512]\n",
      "\t [[{{node gradients/StatefulPartitionedCall_grad/StatefulPartitionedCall}}]]\n",
      "2023-04-24 12:53:39.645499: I tensorflow/core/common_runtime/executor.cc:1197] [/device:CPU:0] (DEBUG INFO) Executor start aborting (this does not indicate an error and you can ignore this message): INVALID_ARGUMENT: You must feed a value for placeholder tensor 'gradients/StatefulPartitionedCall_grad/StatefulPartitionedCall_1' with dtype float and shape [?,1]\n",
      "\t [[{{node gradients/StatefulPartitionedCall_grad/StatefulPartitionedCall_1}}]]\n",
      "2023-04-24 12:53:39.645562: I tensorflow/core/common_runtime/executor.cc:1197] [/device:CPU:0] (DEBUG INFO) Executor start aborting (this does not indicate an error and you can ignore this message): INVALID_ARGUMENT: You must feed a value for placeholder tensor 'gradients/StatefulPartitionedCall_grad/StatefulPartitionedCall_2' with dtype float and shape [?,1]\n",
      "\t [[{{node gradients/StatefulPartitionedCall_grad/StatefulPartitionedCall_2}}]]\n",
      "2023-04-24 12:53:39.645615: I tensorflow/core/common_runtime/executor.cc:1197] [/device:CPU:0] (DEBUG INFO) Executor start aborting (this does not indicate an error and you can ignore this message): INVALID_ARGUMENT: You must feed a value for placeholder tensor 'gradients/StatefulPartitionedCall_grad/StatefulPartitionedCall_4' with dtype float and shape [?,512]\n",
      "\t [[{{node gradients/StatefulPartitionedCall_grad/StatefulPartitionedCall_4}}]]\n",
      "2023-04-24 12:53:39.645672: I tensorflow/core/common_runtime/executor.cc:1197] [/device:CPU:0] (DEBUG INFO) Executor start aborting (this does not indicate an error and you can ignore this message): INVALID_ARGUMENT: You must feed a value for placeholder tensor 'gradients/StatefulPartitionedCall_grad/StatefulPartitionedCall_5' with dtype float and shape [?,512]\n",
      "\t [[{{node gradients/StatefulPartitionedCall_grad/StatefulPartitionedCall_5}}]]\n",
      "2023-04-24 12:53:39.645720: I tensorflow/core/common_runtime/executor.cc:1197] [/device:CPU:0] (DEBUG INFO) Executor start aborting (this does not indicate an error and you can ignore this message): INVALID_ARGUMENT: You must feed a value for placeholder tensor 'gradients/StatefulPartitionedCall_grad/StatefulPartitionedCall_6' with dtype float and shape [?,1]\n",
      "\t [[{{node gradients/StatefulPartitionedCall_grad/StatefulPartitionedCall_6}}]]\n",
      "2023-04-24 12:53:39.645803: I tensorflow/core/common_runtime/executor.cc:1197] [/device:CPU:0] (DEBUG INFO) Executor start aborting (this does not indicate an error and you can ignore this message): INVALID_ARGUMENT: You must feed a value for placeholder tensor 'gradients/StatefulPartitionedCall_grad/StatefulPartitionedCall_7' with dtype float and shape [?,1]\n",
      "\t [[{{node gradients/StatefulPartitionedCall_grad/StatefulPartitionedCall_7}}]]\n",
      "2023-04-24 12:53:39.645882: I tensorflow/core/common_runtime/executor.cc:1197] [/device:CPU:0] (DEBUG INFO) Executor start aborting (this does not indicate an error and you can ignore this message): INVALID_ARGUMENT: You must feed a value for placeholder tensor 'gradients/StatefulPartitionedCall_grad/StatefulPartitionedCall_9' with dtype float and shape [?,512]\n",
      "\t [[{{node gradients/StatefulPartitionedCall_grad/StatefulPartitionedCall_9}}]]\n",
      "2023-04-24 12:53:39.645932: I tensorflow/core/common_runtime/executor.cc:1197] [/device:CPU:0] (DEBUG INFO) Executor start aborting (this does not indicate an error and you can ignore this message): INVALID_ARGUMENT: You must feed a value for placeholder tensor 'gradients/StatefulPartitionedCall_grad/StatefulPartitionedCall_10' with dtype float and shape [?,512]\n",
      "\t [[{{node gradients/StatefulPartitionedCall_grad/StatefulPartitionedCall_10}}]]\n",
      "2023-04-24 12:53:39.646022: I tensorflow/core/common_runtime/executor.cc:1197] [/device:CPU:0] (DEBUG INFO) Executor start aborting (this does not indicate an error and you can ignore this message): INVALID_ARGUMENT: You must feed a value for placeholder tensor 'gradients/StatefulPartitionedCall_grad/StatefulPartitionedCall_11' with dtype float and shape [?,512]\n",
      "\t [[{{node gradients/StatefulPartitionedCall_grad/StatefulPartitionedCall_11}}]]\n",
      "2023-04-24 12:53:39.646110: I tensorflow/core/common_runtime/executor.cc:1197] [/device:CPU:0] (DEBUG INFO) Executor start aborting (this does not indicate an error and you can ignore this message): INVALID_ARGUMENT: You must feed a value for placeholder tensor 'gradients/StatefulPartitionedCall_grad/StatefulPartitionedCall_17' with dtype int32\n",
      "\t [[{{node gradients/StatefulPartitionedCall_grad/StatefulPartitionedCall_17}}]]\n",
      "2023-04-24 12:53:39.646199: I tensorflow/core/common_runtime/executor.cc:1197] [/device:CPU:0] (DEBUG INFO) Executor start aborting (this does not indicate an error and you can ignore this message): INVALID_ARGUMENT: You must feed a value for placeholder tensor 'gradients/StatefulPartitionedCall_grad/StatefulPartitionedCall_18' with dtype int32\n",
      "\t [[{{node gradients/StatefulPartitionedCall_grad/StatefulPartitionedCall_18}}]]\n",
      "2023-04-24 12:53:39.646287: I tensorflow/core/common_runtime/executor.cc:1197] [/device:CPU:0] (DEBUG INFO) Executor start aborting (this does not indicate an error and you can ignore this message): INVALID_ARGUMENT: You must feed a value for placeholder tensor 'gradients/StatefulPartitionedCall_grad/StatefulPartitionedCall_19' with dtype float and shape [?,320]\n",
      "\t [[{{node gradients/StatefulPartitionedCall_grad/StatefulPartitionedCall_19}}]]\n",
      "2023-04-24 12:53:39.646375: I tensorflow/core/common_runtime/executor.cc:1197] [/device:CPU:0] (DEBUG INFO) Executor start aborting (this does not indicate an error and you can ignore this message): INVALID_ARGUMENT: You must feed a value for placeholder tensor 'gradients/StatefulPartitionedCall_grad/StatefulPartitionedCall_20' with dtype float\n",
      "\t [[{{node gradients/StatefulPartitionedCall_grad/StatefulPartitionedCall_20}}]]\n",
      "2023-04-24 12:53:39.646463: I tensorflow/core/common_runtime/executor.cc:1197] [/device:CPU:0] (DEBUG INFO) Executor start aborting (this does not indicate an error and you can ignore this message): INVALID_ARGUMENT: You must feed a value for placeholder tensor 'gradients/StatefulPartitionedCall_grad/StatefulPartitionedCall_21' with dtype int32\n",
      "\t [[{{node gradients/StatefulPartitionedCall_grad/StatefulPartitionedCall_21}}]]\n",
      "2023-04-24 12:53:39.646550: I tensorflow/core/common_runtime/executor.cc:1197] [/device:CPU:0] (DEBUG INFO) Executor start aborting (this does not indicate an error and you can ignore this message): INVALID_ARGUMENT: You must feed a value for placeholder tensor 'gradients/StatefulPartitionedCall_grad/StatefulPartitionedCall_25' with dtype int32\n",
      "\t [[{{node gradients/StatefulPartitionedCall_grad/StatefulPartitionedCall_25}}]]\n",
      "2023-04-24 12:53:39.646638: I tensorflow/core/common_runtime/executor.cc:1197] [/device:CPU:0] (DEBUG INFO) Executor start aborting (this does not indicate an error and you can ignore this message): INVALID_ARGUMENT: You must feed a value for placeholder tensor 'gradients/StatefulPartitionedCall_grad/StatefulPartitionedCall_26' with dtype float\n",
      "\t [[{{node gradients/StatefulPartitionedCall_grad/StatefulPartitionedCall_26}}]]\n",
      "2023-04-24 12:53:39.646733: I tensorflow/core/common_runtime/executor.cc:1197] [/device:CPU:0] (DEBUG INFO) Executor start aborting (this does not indicate an error and you can ignore this message): INVALID_ARGUMENT: You must feed a value for placeholder tensor 'gradients/StatefulPartitionedCall_grad/StatefulPartitionedCall_27' with dtype float and shape [?,1]\n",
      "\t [[{{node gradients/StatefulPartitionedCall_grad/StatefulPartitionedCall_27}}]]\n",
      "2023-04-24 12:53:39.646868: I tensorflow/core/common_runtime/executor.cc:1197] [/device:CPU:0] (DEBUG INFO) Executor start aborting (this does not indicate an error and you can ignore this message): INVALID_ARGUMENT: You must feed a value for placeholder tensor 'gradients/StatefulPartitionedCall_grad/StatefulPartitionedCall_29' with dtype int32\n",
      "\t [[{{node gradients/StatefulPartitionedCall_grad/StatefulPartitionedCall_29}}]]\n",
      "2023-04-24 12:53:39.646965: I tensorflow/core/common_runtime/executor.cc:1197] [/device:CPU:0] (DEBUG INFO) Executor start aborting (this does not indicate an error and you can ignore this message): INVALID_ARGUMENT: You must feed a value for placeholder tensor 'gradients/StatefulPartitionedCall_grad/StatefulPartitionedCall_30' with dtype float and shape [?,320]\n",
      "\t [[{{node gradients/StatefulPartitionedCall_grad/StatefulPartitionedCall_30}}]]\n",
      "2023-04-24 12:53:39.647059: I tensorflow/core/common_runtime/executor.cc:1197] [/device:CPU:0] (DEBUG INFO) Executor start aborting (this does not indicate an error and you can ignore this message): INVALID_ARGUMENT: You must feed a value for placeholder tensor 'gradients/StatefulPartitionedCall_grad/StatefulPartitionedCall_31' with dtype float and shape [?,320]\n",
      "\t [[{{node gradients/StatefulPartitionedCall_grad/StatefulPartitionedCall_31}}]]\n",
      "2023-04-24 12:53:39.647151: I tensorflow/core/common_runtime/executor.cc:1197] [/device:CPU:0] (DEBUG INFO) Executor start aborting (this does not indicate an error and you can ignore this message): INVALID_ARGUMENT: You must feed a value for placeholder tensor 'gradients/StatefulPartitionedCall_grad/StatefulPartitionedCall_32' with dtype int32 and shape [?]\n",
      "\t [[{{node gradients/StatefulPartitionedCall_grad/StatefulPartitionedCall_32}}]]\n",
      "2023-04-24 12:53:39.647269: I tensorflow/core/common_runtime/executor.cc:1197] [/device:CPU:0] (DEBUG INFO) Executor start aborting (this does not indicate an error and you can ignore this message): INVALID_ARGUMENT: You must feed a value for placeholder tensor 'gradients/StatefulPartitionedCall_grad/StatefulPartitionedCall_33' with dtype float and shape [?,320]\n",
      "\t [[{{node gradients/StatefulPartitionedCall_grad/StatefulPartitionedCall_33}}]]\n",
      "2023-04-24 12:53:39.647386: I tensorflow/core/common_runtime/executor.cc:1197] [/device:CPU:0] (DEBUG INFO) Executor start aborting (this does not indicate an error and you can ignore this message): INVALID_ARGUMENT: You must feed a value for placeholder tensor 'gradients/StatefulPartitionedCall_grad/StatefulPartitionedCall_64' with dtype int64 and shape [?]\n",
      "\t [[{{node gradients/StatefulPartitionedCall_grad/StatefulPartitionedCall_64}}]]\n",
      "2023-04-24 12:53:39.647507: I tensorflow/core/common_runtime/executor.cc:1197] [/device:CPU:0] (DEBUG INFO) Executor start aborting (this does not indicate an error and you can ignore this message): INVALID_ARGUMENT: You must feed a value for placeholder tensor 'gradients/StatefulPartitionedCall_grad/StatefulPartitionedCall_65' with dtype int64 and shape [?]\n",
      "\t [[{{node gradients/StatefulPartitionedCall_grad/StatefulPartitionedCall_65}}]]\n",
      "2023-04-24 12:53:39.647598: I tensorflow/core/common_runtime/executor.cc:1197] [/device:CPU:0] (DEBUG INFO) Executor start aborting (this does not indicate an error and you can ignore this message): INVALID_ARGUMENT: You must feed a value for placeholder tensor 'gradients/StatefulPartitionedCall_grad/StatefulPartitionedCall_66' with dtype int64 and shape [?]\n",
      "\t [[{{node gradients/StatefulPartitionedCall_grad/StatefulPartitionedCall_66}}]]\n",
      "2023-04-24 12:53:39.647689: I tensorflow/core/common_runtime/executor.cc:1197] [/device:CPU:0] (DEBUG INFO) Executor start aborting (this does not indicate an error and you can ignore this message): INVALID_ARGUMENT: You must feed a value for placeholder tensor 'gradients/StatefulPartitionedCall_grad/StatefulPartitionedCall_67' with dtype int64 and shape [?]\n",
      "\t [[{{node gradients/StatefulPartitionedCall_grad/StatefulPartitionedCall_67}}]]\n",
      "2023-04-24 12:53:39.647779: I tensorflow/core/common_runtime/executor.cc:1197] [/device:CPU:0] (DEBUG INFO) Executor start aborting (this does not indicate an error and you can ignore this message): INVALID_ARGUMENT: You must feed a value for placeholder tensor 'gradients/StatefulPartitionedCall_grad/StatefulPartitionedCall_68' with dtype int64 and shape [?]\n",
      "\t [[{{node gradients/StatefulPartitionedCall_grad/StatefulPartitionedCall_68}}]]\n",
      "2023-04-24 12:53:39.647869: I tensorflow/core/common_runtime/executor.cc:1197] [/device:CPU:0] (DEBUG INFO) Executor start aborting (this does not indicate an error and you can ignore this message): INVALID_ARGUMENT: You must feed a value for placeholder tensor 'gradients/StatefulPartitionedCall_grad/StatefulPartitionedCall_69' with dtype int64 and shape [?]\n",
      "\t [[{{node gradients/StatefulPartitionedCall_grad/StatefulPartitionedCall_69}}]]\n",
      "2023-04-24 12:53:39.647960: I tensorflow/core/common_runtime/executor.cc:1197] [/device:CPU:0] (DEBUG INFO) Executor start aborting (this does not indicate an error and you can ignore this message): INVALID_ARGUMENT: You must feed a value for placeholder tensor 'gradients/StatefulPartitionedCall_grad/StatefulPartitionedCall_70' with dtype int64 and shape [?]\n",
      "\t [[{{node gradients/StatefulPartitionedCall_grad/StatefulPartitionedCall_70}}]]\n",
      "2023-04-24 12:53:39.648050: I tensorflow/core/common_runtime/executor.cc:1197] [/device:CPU:0] (DEBUG INFO) Executor start aborting (this does not indicate an error and you can ignore this message): INVALID_ARGUMENT: You must feed a value for placeholder tensor 'gradients/StatefulPartitionedCall_grad/StatefulPartitionedCall_71' with dtype int64 and shape [?]\n",
      "\t [[{{node gradients/StatefulPartitionedCall_grad/StatefulPartitionedCall_71}}]]\n",
      "2023-04-24 12:53:39.648140: I tensorflow/core/common_runtime/executor.cc:1197] [/device:CPU:0] (DEBUG INFO) Executor start aborting (this does not indicate an error and you can ignore this message): INVALID_ARGUMENT: You must feed a value for placeholder tensor 'gradients/StatefulPartitionedCall_grad/StatefulPartitionedCall_72' with dtype int64 and shape [?]\n",
      "\t [[{{node gradients/StatefulPartitionedCall_grad/StatefulPartitionedCall_72}}]]\n",
      "2023-04-24 12:53:39.648243: I tensorflow/core/common_runtime/executor.cc:1197] [/device:CPU:0] (DEBUG INFO) Executor start aborting (this does not indicate an error and you can ignore this message): INVALID_ARGUMENT: You must feed a value for placeholder tensor 'gradients/StatefulPartitionedCall_grad/StatefulPartitionedCall_73' with dtype int64 and shape [?]\n",
      "\t [[{{node gradients/StatefulPartitionedCall_grad/StatefulPartitionedCall_73}}]]\n",
      "2023-04-24 12:53:39.648335: I tensorflow/core/common_runtime/executor.cc:1197] [/device:CPU:0] (DEBUG INFO) Executor start aborting (this does not indicate an error and you can ignore this message): INVALID_ARGUMENT: You must feed a value for placeholder tensor 'gradients/StatefulPartitionedCall_grad/StatefulPartitionedCall_74' with dtype int64 and shape [?]\n",
      "\t [[{{node gradients/StatefulPartitionedCall_grad/StatefulPartitionedCall_74}}]]\n",
      "2023-04-24 12:53:39.648439: I tensorflow/core/common_runtime/executor.cc:1197] [/device:CPU:0] (DEBUG INFO) Executor start aborting (this does not indicate an error and you can ignore this message): INVALID_ARGUMENT: You must feed a value for placeholder tensor 'gradients/StatefulPartitionedCall_grad/StatefulPartitionedCall_75' with dtype int64 and shape [?]\n",
      "\t [[{{node gradients/StatefulPartitionedCall_grad/StatefulPartitionedCall_75}}]]\n",
      "2023-04-24 12:53:39.648544: I tensorflow/core/common_runtime/executor.cc:1197] [/device:CPU:0] (DEBUG INFO) Executor start aborting (this does not indicate an error and you can ignore this message): INVALID_ARGUMENT: You must feed a value for placeholder tensor 'gradients/StatefulPartitionedCall_grad/StatefulPartitionedCall_76' with dtype int64 and shape [?]\n",
      "\t [[{{node gradients/StatefulPartitionedCall_grad/StatefulPartitionedCall_76}}]]\n",
      "2023-04-24 12:53:39.648637: I tensorflow/core/common_runtime/executor.cc:1197] [/device:CPU:0] (DEBUG INFO) Executor start aborting (this does not indicate an error and you can ignore this message): INVALID_ARGUMENT: You must feed a value for placeholder tensor 'gradients/StatefulPartitionedCall_grad/StatefulPartitionedCall_77' with dtype int64 and shape [?]\n",
      "\t [[{{node gradients/StatefulPartitionedCall_grad/StatefulPartitionedCall_77}}]]\n",
      "2023-04-24 12:53:39.648728: I tensorflow/core/common_runtime/executor.cc:1197] [/device:CPU:0] (DEBUG INFO) Executor start aborting (this does not indicate an error and you can ignore this message): INVALID_ARGUMENT: You must feed a value for placeholder tensor 'gradients/StatefulPartitionedCall_grad/StatefulPartitionedCall_78' with dtype int64 and shape [?]\n",
      "\t [[{{node gradients/StatefulPartitionedCall_grad/StatefulPartitionedCall_78}}]]\n",
      "2023-04-24 12:53:39.648819: I tensorflow/core/common_runtime/executor.cc:1197] [/device:CPU:0] (DEBUG INFO) Executor start aborting (this does not indicate an error and you can ignore this message): INVALID_ARGUMENT: You must feed a value for placeholder tensor 'gradients/StatefulPartitionedCall_grad/StatefulPartitionedCall_79' with dtype int64 and shape [?]\n",
      "\t [[{{node gradients/StatefulPartitionedCall_grad/StatefulPartitionedCall_79}}]]\n",
      "2023-04-24 12:53:39.648910: I tensorflow/core/common_runtime/executor.cc:1197] [/device:CPU:0] (DEBUG INFO) Executor start aborting (this does not indicate an error and you can ignore this message): INVALID_ARGUMENT: You must feed a value for placeholder tensor 'gradients/StatefulPartitionedCall_grad/StatefulPartitionedCall_80' with dtype int64 and shape [?]\n",
      "\t [[{{node gradients/StatefulPartitionedCall_grad/StatefulPartitionedCall_80}}]]\n",
      "2023-04-24 12:53:39.649000: I tensorflow/core/common_runtime/executor.cc:1197] [/device:CPU:0] (DEBUG INFO) Executor start aborting (this does not indicate an error and you can ignore this message): INVALID_ARGUMENT: You must feed a value for placeholder tensor 'gradients/StatefulPartitionedCall_grad/StatefulPartitionedCall_81' with dtype int64 and shape [?]\n",
      "\t [[{{node gradients/StatefulPartitionedCall_grad/StatefulPartitionedCall_81}}]]\n",
      "2023-04-24 12:53:39.649091: I tensorflow/core/common_runtime/executor.cc:1197] [/device:CPU:0] (DEBUG INFO) Executor start aborting (this does not indicate an error and you can ignore this message): INVALID_ARGUMENT: You must feed a value for placeholder tensor 'gradients/StatefulPartitionedCall_grad/StatefulPartitionedCall_82' with dtype int64 and shape [?]\n",
      "\t [[{{node gradients/StatefulPartitionedCall_grad/StatefulPartitionedCall_82}}]]\n",
      "2023-04-24 12:53:39.649183: I tensorflow/core/common_runtime/executor.cc:1197] [/device:CPU:0] (DEBUG INFO) Executor start aborting (this does not indicate an error and you can ignore this message): INVALID_ARGUMENT: You must feed a value for placeholder tensor 'gradients/StatefulPartitionedCall_grad/StatefulPartitionedCall_83' with dtype int64 and shape [?]\n",
      "\t [[{{node gradients/StatefulPartitionedCall_grad/StatefulPartitionedCall_83}}]]\n",
      "2023-04-24 12:53:39.649275: I tensorflow/core/common_runtime/executor.cc:1197] [/device:CPU:0] (DEBUG INFO) Executor start aborting (this does not indicate an error and you can ignore this message): INVALID_ARGUMENT: You must feed a value for placeholder tensor 'gradients/StatefulPartitionedCall_grad/StatefulPartitionedCall_84' with dtype int64 and shape [?]\n",
      "\t [[{{node gradients/StatefulPartitionedCall_grad/StatefulPartitionedCall_84}}]]\n",
      "2023-04-24 12:53:39.649407: I tensorflow/core/common_runtime/executor.cc:1197] [/device:CPU:0] (DEBUG INFO) Executor start aborting (this does not indicate an error and you can ignore this message): INVALID_ARGUMENT: You must feed a value for placeholder tensor 'gradients/StatefulPartitionedCall_grad/StatefulPartitionedCall_85' with dtype int64 and shape [?]\n",
      "\t [[{{node gradients/StatefulPartitionedCall_grad/StatefulPartitionedCall_85}}]]\n",
      "2023-04-24 12:53:39.649535: I tensorflow/core/common_runtime/executor.cc:1197] [/device:CPU:0] (DEBUG INFO) Executor start aborting (this does not indicate an error and you can ignore this message): INVALID_ARGUMENT: You must feed a value for placeholder tensor 'gradients/StatefulPartitionedCall_grad/StatefulPartitionedCall_86' with dtype int64 and shape [?]\n",
      "\t [[{{node gradients/StatefulPartitionedCall_grad/StatefulPartitionedCall_86}}]]\n",
      "2023-04-24 12:53:39.649642: I tensorflow/core/common_runtime/executor.cc:1197] [/device:CPU:0] (DEBUG INFO) Executor start aborting (this does not indicate an error and you can ignore this message): INVALID_ARGUMENT: You must feed a value for placeholder tensor 'gradients/StatefulPartitionedCall_grad/StatefulPartitionedCall_87' with dtype int64 and shape [?]\n",
      "\t [[{{node gradients/StatefulPartitionedCall_grad/StatefulPartitionedCall_87}}]]\n",
      "2023-04-24 12:53:39.649743: I tensorflow/core/common_runtime/executor.cc:1197] [/device:CPU:0] (DEBUG INFO) Executor start aborting (this does not indicate an error and you can ignore this message): INVALID_ARGUMENT: You must feed a value for placeholder tensor 'gradients/StatefulPartitionedCall_grad/StatefulPartitionedCall_88' with dtype int64 and shape [?]\n",
      "\t [[{{node gradients/StatefulPartitionedCall_grad/StatefulPartitionedCall_88}}]]\n",
      "2023-04-24 12:53:39.649889: I tensorflow/core/common_runtime/executor.cc:1197] [/device:CPU:0] (DEBUG INFO) Executor start aborting (this does not indicate an error and you can ignore this message): INVALID_ARGUMENT: You must feed a value for placeholder tensor 'gradients/StatefulPartitionedCall_grad/StatefulPartitionedCall_89' with dtype int64 and shape [?]\n",
      "\t [[{{node gradients/StatefulPartitionedCall_grad/StatefulPartitionedCall_89}}]]\n",
      "2023-04-24 12:53:39.650023: I tensorflow/core/common_runtime/executor.cc:1197] [/device:CPU:0] (DEBUG INFO) Executor start aborting (this does not indicate an error and you can ignore this message): INVALID_ARGUMENT: You must feed a value for placeholder tensor 'gradients/StatefulPartitionedCall_grad/StatefulPartitionedCall_90' with dtype int64 and shape [?]\n",
      "\t [[{{node gradients/StatefulPartitionedCall_grad/StatefulPartitionedCall_90}}]]\n",
      "2023-04-24 12:53:39.650112: I tensorflow/core/common_runtime/executor.cc:1197] [/device:CPU:0] (DEBUG INFO) Executor start aborting (this does not indicate an error and you can ignore this message): INVALID_ARGUMENT: You must feed a value for placeholder tensor 'gradients/StatefulPartitionedCall_grad/StatefulPartitionedCall_91' with dtype int64 and shape [?]\n",
      "\t [[{{node gradients/StatefulPartitionedCall_grad/StatefulPartitionedCall_91}}]]\n",
      "2023-04-24 12:53:39.650196: I tensorflow/core/common_runtime/executor.cc:1197] [/device:CPU:0] (DEBUG INFO) Executor start aborting (this does not indicate an error and you can ignore this message): INVALID_ARGUMENT: You must feed a value for placeholder tensor 'gradients/StatefulPartitionedCall_grad/StatefulPartitionedCall_92' with dtype int64 and shape [?]\n",
      "\t [[{{node gradients/StatefulPartitionedCall_grad/StatefulPartitionedCall_92}}]]\n",
      "2023-04-24 12:53:39.650280: I tensorflow/core/common_runtime/executor.cc:1197] [/device:CPU:0] (DEBUG INFO) Executor start aborting (this does not indicate an error and you can ignore this message): INVALID_ARGUMENT: You must feed a value for placeholder tensor 'gradients/StatefulPartitionedCall_grad/StatefulPartitionedCall_93' with dtype int64 and shape [?]\n",
      "\t [[{{node gradients/StatefulPartitionedCall_grad/StatefulPartitionedCall_93}}]]\n"
     ]
    },
    {
     "name": "stdout",
     "output_type": "stream",
     "text": [
      "215/215 [==============================] - 3s 7ms/step - loss: 0.6505 - accuracy: 0.7211 - val_loss: 0.6142 - val_accuracy: 0.7782\n",
      "Epoch 2/5\n",
      "215/215 [==============================] - 1s 5ms/step - loss: 0.5826 - accuracy: 0.7897 - val_loss: 0.5642 - val_accuracy: 0.7795\n",
      "Epoch 3/5\n",
      "215/215 [==============================] - 1s 5ms/step - loss: 0.5397 - accuracy: 0.7933 - val_loss: 0.5323 - val_accuracy: 0.7887\n",
      "Epoch 4/5\n",
      "215/215 [==============================] - 1s 5ms/step - loss: 0.5106 - accuracy: 0.7971 - val_loss: 0.5115 - val_accuracy: 0.7913\n",
      "Epoch 5/5\n",
      "215/215 [==============================] - 1s 5ms/step - loss: 0.4902 - accuracy: 0.8000 - val_loss: 0.4965 - val_accuracy: 0.7900\n"
     ]
    }
   ],
   "source": [
    "model_6_history = model_6.fit(\n",
    "    train_tweets,\n",
    "    train_labels,\n",
    "    epochs=5,\n",
    "    validation_data=(val_tweets, val_labels),\n",
    "    callbacks=[create_tensorboard_callback_bugged(\n",
    "        dir_name=LOG_DIR,\n",
    "        experiment_name='model_6_use'\n",
    "    )]\n",
    ")"
   ]
  },
  {
   "cell_type": "markdown",
   "id": "1c8d5d34",
   "metadata": {},
   "source": [
    "#### Model Evaluation"
   ]
  },
  {
   "cell_type": "code",
   "execution_count": 71,
   "id": "09dd1006",
   "metadata": {
    "collapsed": true
   },
   "outputs": [
    {
     "name": "stdout",
     "output_type": "stream",
     "text": [
      "24/24 [==============================] - 0s 4ms/step - loss: 0.4965 - accuracy: 0.7900\n"
     ]
    },
    {
     "data": {
      "text/plain": [
       "[0.49651169776916504, 0.7900262475013733]"
      ]
     },
     "execution_count": 71,
     "metadata": {},
     "output_type": "execute_result"
    }
   ],
   "source": [
    "model_6.evaluate(val_tweets, val_labels)\n",
    "# loss: 0.4982 - accuracy: 0.7887"
   ]
  },
  {
   "cell_type": "code",
   "execution_count": 72,
   "id": "51c8c93e",
   "metadata": {
    "collapsed": true
   },
   "outputs": [
    {
     "name": "stdout",
     "output_type": "stream",
     "text": [
      "24/24 [==============================] - 0s 5ms/step\n",
      "Prediction: [0.36729172] (not a disaster)\n"
     ]
    }
   ],
   "source": [
    "# make predictions\n",
    "model_6_preds = model_6.predict(val_tweets)\n",
    "sample_prediction=model_6_preds[0]\n",
    "print(f\"Prediction: {sample_prediction}\",\"(disaster)\" if sample_prediction>0.5 else \"(not a disaster)\")\n",
    "# Prediction: [0.36132362] (not a disaster)"
   ]
  },
  {
   "cell_type": "code",
   "execution_count": 73,
   "id": "5ef4ea2f",
   "metadata": {},
   "outputs": [],
   "source": [
    "# convert model prediction probabilities to binary label format\n",
    "model_6_preds = tf.squeeze(tf.round(model_6_preds))"
   ]
  },
  {
   "cell_type": "code",
   "execution_count": 74,
   "id": "1cd3128b",
   "metadata": {
    "collapsed": true
   },
   "outputs": [
    {
     "name": "stdout",
     "output_type": "stream",
     "text": [
      "{'accuracy': 79.00262467191601, 'precision': 0.7907348439526268, 'recall': 0.7900262467191601, 'f1': 0.7887751851796453}\n"
     ]
    }
   ],
   "source": [
    "model_6_metrics = calculate_metrics(\n",
    "    y_true=val_labels,\n",
    "    y_pred=model_6_preds\n",
    ")\n",
    "\n",
    "print(model_6_metrics)"
   ]
  },
  {
   "cell_type": "markdown",
   "id": "97bb6dcd",
   "metadata": {},
   "source": [
    "#### Model 6 Metrics\n",
    "\n",
    "* Accuracy: 78.87139107611549\n",
    "* Precision: 0.7891485217486439\n",
    "* Recall: 0.7887139107611548\n",
    "* F1: 0.7876016937745534"
   ]
  },
  {
   "cell_type": "code",
   "execution_count": 75,
   "id": "de659f7f",
   "metadata": {
    "collapsed": true
   },
   "outputs": [
    {
     "name": "stdout",
     "output_type": "stream",
     "text": [
      "[ True  True  True  True]\n",
      "[False False False  True]\n"
     ]
    }
   ],
   "source": [
    "# the model performs better than the conv1d and gettin close to the baseline model\n",
    "print(np.array(list(model_6_metrics.values())) > np.array(list(model_5_metrics.values())))\n",
    "# [ True  True  True  True]\n",
    "print(np.array(list(model_6_metrics.values())) > np.array(list(baseline_metrics.values())))\n",
    "# [False False False  True]"
   ]
  },
  {
   "cell_type": "markdown",
   "id": "83a4c724",
   "metadata": {},
   "source": [
    "### Model 6a\n",
    "\n",
    "The model get's close to the baseline model - I will try to add another Dense layer and see if this improves the performance.\n",
    "\n",
    "Otherwise the model is identical - only written for functional API (no reason, just for practise :) )"
   ]
  },
  {
   "cell_type": "code",
   "execution_count": 76,
   "id": "c47d4109",
   "metadata": {
    "collapsed": true
   },
   "outputs": [
    {
     "name": "stdout",
     "output_type": "stream",
     "text": [
      "Model: \"model_6_use\"\n",
      "_________________________________________________________________\n",
      " Layer (type)                Output Shape              Param #   \n",
      "=================================================================\n",
      " input_6 (InputLayer)        [(None,)]                 0         \n",
      "                                                                 \n",
      " sentence-encoder (KerasLaye  (None, 512)              256797824 \n",
      " r)                                                              \n",
      "                                                                 \n",
      " dense_8 (Dense)             (None, 64)                32832     \n",
      "                                                                 \n",
      " dense_9 (Dense)             (None, 1)                 65        \n",
      "                                                                 \n",
      "=================================================================\n",
      "Total params: 256,830,721\n",
      "Trainable params: 32,897\n",
      "Non-trainable params: 256,797,824\n",
      "_________________________________________________________________\n"
     ]
    },
    {
     "name": "stderr",
     "output_type": "stream",
     "text": [
      "2023-04-24 12:54:31.752641: I tensorflow/core/common_runtime/executor.cc:1197] [/device:CPU:0] (DEBUG INFO) Executor start aborting (this does not indicate an error and you can ignore this message): INVALID_ARGUMENT: You must feed a value for placeholder tensor 'inputs' with dtype string\n",
      "\t [[{{node inputs}}]]\n",
      "2023-04-24 12:54:31.812902: I tensorflow/core/common_runtime/executor.cc:1197] [/device:CPU:0] (DEBUG INFO) Executor start aborting (this does not indicate an error and you can ignore this message): INVALID_ARGUMENT: You must feed a value for placeholder tensor 'Placeholder' with dtype string and shape [?]\n",
      "\t [[{{node Placeholder}}]]\n"
     ]
    }
   ],
   "source": [
    "inputs = Input(shape=[], dtype=tf.string)\n",
    "\n",
    "x = hub.KerasLayer(\n",
    "    'https://tfhub.dev/google/universal-sentence-encoder/4', \n",
    "    trainable=False,\n",
    "    dtype=tf.string,\n",
    "    name='sentence-encoder'\n",
    ")(inputs)\n",
    "\n",
    "x = Dense(64, activation='relu')(x)\n",
    "output = Dense(1, activation='sigmoid')(x)\n",
    "\n",
    "model_6a = tf.keras.models.Model(inputs, output, name='model_6_use')\n",
    "model_6a.summary()"
   ]
  },
  {
   "cell_type": "markdown",
   "id": "921ddc7a",
   "metadata": {},
   "source": [
    "```\n",
    "Model: \"model_6_use\"\n",
    "_________________________________________________________________\n",
    " Layer (type)                Output Shape              Param #   \n",
    "=================================================================\n",
    " input_6 (InputLayer)        [(None,)]                 0         \n",
    "                                                                 \n",
    " sentence-encoder (KerasLaye  (None, 512)              256797824 \n",
    " r)                                                              \n",
    "                                                                 \n",
    " dense_13 (Dense)            (None, 64)                32832     \n",
    "                                                                 \n",
    " dense_14 (Dense)            (None, 1)                 65        \n",
    "                                                                 \n",
    "=================================================================\n",
    "Total params: 256,830,721\n",
    "Trainable params: 32,897\n",
    "Non-trainable params: 256,797,824\n",
    "_________________________________________________________________\n",
    "```"
   ]
  },
  {
   "cell_type": "code",
   "execution_count": 77,
   "id": "fa2068b4",
   "metadata": {},
   "outputs": [],
   "source": [
    "model_6a.compile(\n",
    "    loss='binary_crossentropy',\n",
    "    optimizer=tf.keras.optimizers.Adam(),\n",
    "    metrics=['accuracy']\n",
    ")"
   ]
  },
  {
   "cell_type": "code",
   "execution_count": 78,
   "id": "06fd1590",
   "metadata": {
    "collapsed": true
   },
   "outputs": [
    {
     "name": "stdout",
     "output_type": "stream",
     "text": [
      "INFO :: Saving TensorBoard Log to: tensorboad/model_6a_use/20230424-125442\n",
      "Epoch 1/5\n"
     ]
    },
    {
     "name": "stderr",
     "output_type": "stream",
     "text": [
      "2023-04-24 12:54:42.791013: I tensorflow/core/common_runtime/executor.cc:1197] [/device:CPU:0] (DEBUG INFO) Executor start aborting (this does not indicate an error and you can ignore this message): INVALID_ARGUMENT: You must feed a value for placeholder tensor 'gradients/StatefulPartitionedCall_grad/StatefulPartitionedCall' with dtype float and shape [?,512]\n",
      "\t [[{{node gradients/StatefulPartitionedCall_grad/StatefulPartitionedCall}}]]\n",
      "2023-04-24 12:54:42.791155: I tensorflow/core/common_runtime/executor.cc:1197] [/device:CPU:0] (DEBUG INFO) Executor start aborting (this does not indicate an error and you can ignore this message): INVALID_ARGUMENT: You must feed a value for placeholder tensor 'gradients/StatefulPartitionedCall_grad/StatefulPartitionedCall_1' with dtype float and shape [?,1]\n",
      "\t [[{{node gradients/StatefulPartitionedCall_grad/StatefulPartitionedCall_1}}]]\n",
      "2023-04-24 12:54:42.791279: I tensorflow/core/common_runtime/executor.cc:1197] [/device:CPU:0] (DEBUG INFO) Executor start aborting (this does not indicate an error and you can ignore this message): INVALID_ARGUMENT: You must feed a value for placeholder tensor 'gradients/StatefulPartitionedCall_grad/StatefulPartitionedCall_2' with dtype float and shape [?,1]\n",
      "\t [[{{node gradients/StatefulPartitionedCall_grad/StatefulPartitionedCall_2}}]]\n",
      "2023-04-24 12:54:42.791366: I tensorflow/core/common_runtime/executor.cc:1197] [/device:CPU:0] (DEBUG INFO) Executor start aborting (this does not indicate an error and you can ignore this message): INVALID_ARGUMENT: You must feed a value for placeholder tensor 'gradients/StatefulPartitionedCall_grad/StatefulPartitionedCall_4' with dtype float and shape [?,512]\n",
      "\t [[{{node gradients/StatefulPartitionedCall_grad/StatefulPartitionedCall_4}}]]\n",
      "2023-04-24 12:54:42.791471: I tensorflow/core/common_runtime/executor.cc:1197] [/device:CPU:0] (DEBUG INFO) Executor start aborting (this does not indicate an error and you can ignore this message): INVALID_ARGUMENT: You must feed a value for placeholder tensor 'gradients/StatefulPartitionedCall_grad/StatefulPartitionedCall_5' with dtype float and shape [?,512]\n",
      "\t [[{{node gradients/StatefulPartitionedCall_grad/StatefulPartitionedCall_5}}]]\n",
      "2023-04-24 12:54:42.791561: I tensorflow/core/common_runtime/executor.cc:1197] [/device:CPU:0] (DEBUG INFO) Executor start aborting (this does not indicate an error and you can ignore this message): INVALID_ARGUMENT: You must feed a value for placeholder tensor 'gradients/StatefulPartitionedCall_grad/StatefulPartitionedCall_6' with dtype float and shape [?,1]\n",
      "\t [[{{node gradients/StatefulPartitionedCall_grad/StatefulPartitionedCall_6}}]]\n",
      "2023-04-24 12:54:42.791611: I tensorflow/core/common_runtime/executor.cc:1197] [/device:CPU:0] (DEBUG INFO) Executor start aborting (this does not indicate an error and you can ignore this message): INVALID_ARGUMENT: You must feed a value for placeholder tensor 'gradients/StatefulPartitionedCall_grad/StatefulPartitionedCall_7' with dtype float and shape [?,1]\n",
      "\t [[{{node gradients/StatefulPartitionedCall_grad/StatefulPartitionedCall_7}}]]\n",
      "2023-04-24 12:54:42.791668: I tensorflow/core/common_runtime/executor.cc:1197] [/device:CPU:0] (DEBUG INFO) Executor start aborting (this does not indicate an error and you can ignore this message): INVALID_ARGUMENT: You must feed a value for placeholder tensor 'gradients/StatefulPartitionedCall_grad/StatefulPartitionedCall_9' with dtype float and shape [?,512]\n",
      "\t [[{{node gradients/StatefulPartitionedCall_grad/StatefulPartitionedCall_9}}]]\n",
      "2023-04-24 12:54:42.791723: I tensorflow/core/common_runtime/executor.cc:1197] [/device:CPU:0] (DEBUG INFO) Executor start aborting (this does not indicate an error and you can ignore this message): INVALID_ARGUMENT: You must feed a value for placeholder tensor 'gradients/StatefulPartitionedCall_grad/StatefulPartitionedCall_10' with dtype float and shape [?,512]\n",
      "\t [[{{node gradients/StatefulPartitionedCall_grad/StatefulPartitionedCall_10}}]]\n",
      "2023-04-24 12:54:42.791802: I tensorflow/core/common_runtime/executor.cc:1197] [/device:CPU:0] (DEBUG INFO) Executor start aborting (this does not indicate an error and you can ignore this message): INVALID_ARGUMENT: You must feed a value for placeholder tensor 'gradients/StatefulPartitionedCall_grad/StatefulPartitionedCall_11' with dtype float and shape [?,512]\n",
      "\t [[{{node gradients/StatefulPartitionedCall_grad/StatefulPartitionedCall_11}}]]\n",
      "2023-04-24 12:54:42.791889: I tensorflow/core/common_runtime/executor.cc:1197] [/device:CPU:0] (DEBUG INFO) Executor start aborting (this does not indicate an error and you can ignore this message): INVALID_ARGUMENT: You must feed a value for placeholder tensor 'gradients/StatefulPartitionedCall_grad/StatefulPartitionedCall_17' with dtype int32\n",
      "\t [[{{node gradients/StatefulPartitionedCall_grad/StatefulPartitionedCall_17}}]]\n",
      "2023-04-24 12:54:42.791948: I tensorflow/core/common_runtime/executor.cc:1197] [/device:CPU:0] (DEBUG INFO) Executor start aborting (this does not indicate an error and you can ignore this message): INVALID_ARGUMENT: You must feed a value for placeholder tensor 'gradients/StatefulPartitionedCall_grad/StatefulPartitionedCall_18' with dtype int32\n",
      "\t [[{{node gradients/StatefulPartitionedCall_grad/StatefulPartitionedCall_18}}]]\n",
      "2023-04-24 12:54:42.792028: I tensorflow/core/common_runtime/executor.cc:1197] [/device:CPU:0] (DEBUG INFO) Executor start aborting (this does not indicate an error and you can ignore this message): INVALID_ARGUMENT: You must feed a value for placeholder tensor 'gradients/StatefulPartitionedCall_grad/StatefulPartitionedCall_19' with dtype float and shape [?,320]\n",
      "\t [[{{node gradients/StatefulPartitionedCall_grad/StatefulPartitionedCall_19}}]]\n",
      "2023-04-24 12:54:42.792115: I tensorflow/core/common_runtime/executor.cc:1197] [/device:CPU:0] (DEBUG INFO) Executor start aborting (this does not indicate an error and you can ignore this message): INVALID_ARGUMENT: You must feed a value for placeholder tensor 'gradients/StatefulPartitionedCall_grad/StatefulPartitionedCall_20' with dtype float\n",
      "\t [[{{node gradients/StatefulPartitionedCall_grad/StatefulPartitionedCall_20}}]]\n",
      "2023-04-24 12:54:42.792178: I tensorflow/core/common_runtime/executor.cc:1197] [/device:CPU:0] (DEBUG INFO) Executor start aborting (this does not indicate an error and you can ignore this message): INVALID_ARGUMENT: You must feed a value for placeholder tensor 'gradients/StatefulPartitionedCall_grad/StatefulPartitionedCall_21' with dtype int32\n",
      "\t [[{{node gradients/StatefulPartitionedCall_grad/StatefulPartitionedCall_21}}]]\n",
      "2023-04-24 12:54:42.792233: I tensorflow/core/common_runtime/executor.cc:1197] [/device:CPU:0] (DEBUG INFO) Executor start aborting (this does not indicate an error and you can ignore this message): INVALID_ARGUMENT: You must feed a value for placeholder tensor 'gradients/StatefulPartitionedCall_grad/StatefulPartitionedCall_25' with dtype int32\n",
      "\t [[{{node gradients/StatefulPartitionedCall_grad/StatefulPartitionedCall_25}}]]\n",
      "2023-04-24 12:54:42.792286: I tensorflow/core/common_runtime/executor.cc:1197] [/device:CPU:0] (DEBUG INFO) Executor start aborting (this does not indicate an error and you can ignore this message): INVALID_ARGUMENT: You must feed a value for placeholder tensor 'gradients/StatefulPartitionedCall_grad/StatefulPartitionedCall_26' with dtype float\n",
      "\t [[{{node gradients/StatefulPartitionedCall_grad/StatefulPartitionedCall_26}}]]\n",
      "2023-04-24 12:54:42.792366: I tensorflow/core/common_runtime/executor.cc:1197] [/device:CPU:0] (DEBUG INFO) Executor start aborting (this does not indicate an error and you can ignore this message): INVALID_ARGUMENT: You must feed a value for placeholder tensor 'gradients/StatefulPartitionedCall_grad/StatefulPartitionedCall_27' with dtype float and shape [?,1]\n",
      "\t [[{{node gradients/StatefulPartitionedCall_grad/StatefulPartitionedCall_27}}]]\n",
      "2023-04-24 12:54:42.792429: I tensorflow/core/common_runtime/executor.cc:1197] [/device:CPU:0] (DEBUG INFO) Executor start aborting (this does not indicate an error and you can ignore this message): INVALID_ARGUMENT: You must feed a value for placeholder tensor 'gradients/StatefulPartitionedCall_grad/StatefulPartitionedCall_29' with dtype int32\n",
      "\t [[{{node gradients/StatefulPartitionedCall_grad/StatefulPartitionedCall_29}}]]\n",
      "2023-04-24 12:54:42.792509: I tensorflow/core/common_runtime/executor.cc:1197] [/device:CPU:0] (DEBUG INFO) Executor start aborting (this does not indicate an error and you can ignore this message): INVALID_ARGUMENT: You must feed a value for placeholder tensor 'gradients/StatefulPartitionedCall_grad/StatefulPartitionedCall_30' with dtype float and shape [?,320]\n",
      "\t [[{{node gradients/StatefulPartitionedCall_grad/StatefulPartitionedCall_30}}]]\n",
      "2023-04-24 12:54:42.792597: I tensorflow/core/common_runtime/executor.cc:1197] [/device:CPU:0] (DEBUG INFO) Executor start aborting (this does not indicate an error and you can ignore this message): INVALID_ARGUMENT: You must feed a value for placeholder tensor 'gradients/StatefulPartitionedCall_grad/StatefulPartitionedCall_31' with dtype float and shape [?,320]\n",
      "\t [[{{node gradients/StatefulPartitionedCall_grad/StatefulPartitionedCall_31}}]]\n",
      "2023-04-24 12:54:42.792683: I tensorflow/core/common_runtime/executor.cc:1197] [/device:CPU:0] (DEBUG INFO) Executor start aborting (this does not indicate an error and you can ignore this message): INVALID_ARGUMENT: You must feed a value for placeholder tensor 'gradients/StatefulPartitionedCall_grad/StatefulPartitionedCall_32' with dtype int32 and shape [?]\n",
      "\t [[{{node gradients/StatefulPartitionedCall_grad/StatefulPartitionedCall_32}}]]\n",
      "2023-04-24 12:54:42.792745: I tensorflow/core/common_runtime/executor.cc:1197] [/device:CPU:0] (DEBUG INFO) Executor start aborting (this does not indicate an error and you can ignore this message): INVALID_ARGUMENT: You must feed a value for placeholder tensor 'gradients/StatefulPartitionedCall_grad/StatefulPartitionedCall_33' with dtype float and shape [?,320]\n",
      "\t [[{{node gradients/StatefulPartitionedCall_grad/StatefulPartitionedCall_33}}]]\n",
      "2023-04-24 12:54:42.792800: I tensorflow/core/common_runtime/executor.cc:1197] [/device:CPU:0] (DEBUG INFO) Executor start aborting (this does not indicate an error and you can ignore this message): INVALID_ARGUMENT: You must feed a value for placeholder tensor 'gradients/StatefulPartitionedCall_grad/StatefulPartitionedCall_64' with dtype int64 and shape [?]\n",
      "\t [[{{node gradients/StatefulPartitionedCall_grad/StatefulPartitionedCall_64}}]]\n",
      "2023-04-24 12:54:42.792854: I tensorflow/core/common_runtime/executor.cc:1197] [/device:CPU:0] (DEBUG INFO) Executor start aborting (this does not indicate an error and you can ignore this message): INVALID_ARGUMENT: You must feed a value for placeholder tensor 'gradients/StatefulPartitionedCall_grad/StatefulPartitionedCall_65' with dtype int64 and shape [?]\n",
      "\t [[{{node gradients/StatefulPartitionedCall_grad/StatefulPartitionedCall_65}}]]\n",
      "2023-04-24 12:54:42.792934: I tensorflow/core/common_runtime/executor.cc:1197] [/device:CPU:0] (DEBUG INFO) Executor start aborting (this does not indicate an error and you can ignore this message): INVALID_ARGUMENT: You must feed a value for placeholder tensor 'gradients/StatefulPartitionedCall_grad/StatefulPartitionedCall_66' with dtype int64 and shape [?]\n",
      "\t [[{{node gradients/StatefulPartitionedCall_grad/StatefulPartitionedCall_66}}]]\n",
      "2023-04-24 12:54:42.792996: I tensorflow/core/common_runtime/executor.cc:1197] [/device:CPU:0] (DEBUG INFO) Executor start aborting (this does not indicate an error and you can ignore this message): INVALID_ARGUMENT: You must feed a value for placeholder tensor 'gradients/StatefulPartitionedCall_grad/StatefulPartitionedCall_67' with dtype int64 and shape [?]\n",
      "\t [[{{node gradients/StatefulPartitionedCall_grad/StatefulPartitionedCall_67}}]]\n",
      "2023-04-24 12:54:42.793076: I tensorflow/core/common_runtime/executor.cc:1197] [/device:CPU:0] (DEBUG INFO) Executor start aborting (this does not indicate an error and you can ignore this message): INVALID_ARGUMENT: You must feed a value for placeholder tensor 'gradients/StatefulPartitionedCall_grad/StatefulPartitionedCall_68' with dtype int64 and shape [?]\n",
      "\t [[{{node gradients/StatefulPartitionedCall_grad/StatefulPartitionedCall_68}}]]\n",
      "2023-04-24 12:54:42.793165: I tensorflow/core/common_runtime/executor.cc:1197] [/device:CPU:0] (DEBUG INFO) Executor start aborting (this does not indicate an error and you can ignore this message): INVALID_ARGUMENT: You must feed a value for placeholder tensor 'gradients/StatefulPartitionedCall_grad/StatefulPartitionedCall_69' with dtype int64 and shape [?]\n",
      "\t [[{{node gradients/StatefulPartitionedCall_grad/StatefulPartitionedCall_69}}]]\n",
      "2023-04-24 12:54:42.793251: I tensorflow/core/common_runtime/executor.cc:1197] [/device:CPU:0] (DEBUG INFO) Executor start aborting (this does not indicate an error and you can ignore this message): INVALID_ARGUMENT: You must feed a value for placeholder tensor 'gradients/StatefulPartitionedCall_grad/StatefulPartitionedCall_70' with dtype int64 and shape [?]\n",
      "\t [[{{node gradients/StatefulPartitionedCall_grad/StatefulPartitionedCall_70}}]]\n",
      "2023-04-24 12:54:42.793311: I tensorflow/core/common_runtime/executor.cc:1197] [/device:CPU:0] (DEBUG INFO) Executor start aborting (this does not indicate an error and you can ignore this message): INVALID_ARGUMENT: You must feed a value for placeholder tensor 'gradients/StatefulPartitionedCall_grad/StatefulPartitionedCall_71' with dtype int64 and shape [?]\n",
      "\t [[{{node gradients/StatefulPartitionedCall_grad/StatefulPartitionedCall_71}}]]\n",
      "2023-04-24 12:54:42.793390: I tensorflow/core/common_runtime/executor.cc:1197] [/device:CPU:0] (DEBUG INFO) Executor start aborting (this does not indicate an error and you can ignore this message): INVALID_ARGUMENT: You must feed a value for placeholder tensor 'gradients/StatefulPartitionedCall_grad/StatefulPartitionedCall_72' with dtype int64 and shape [?]\n",
      "\t [[{{node gradients/StatefulPartitionedCall_grad/StatefulPartitionedCall_72}}]]\n",
      "2023-04-24 12:54:42.793473: I tensorflow/core/common_runtime/executor.cc:1197] [/device:CPU:0] (DEBUG INFO) Executor start aborting (this does not indicate an error and you can ignore this message): INVALID_ARGUMENT: You must feed a value for placeholder tensor 'gradients/StatefulPartitionedCall_grad/StatefulPartitionedCall_73' with dtype int64 and shape [?]\n",
      "\t [[{{node gradients/StatefulPartitionedCall_grad/StatefulPartitionedCall_73}}]]\n",
      "2023-04-24 12:54:42.793556: I tensorflow/core/common_runtime/executor.cc:1197] [/device:CPU:0] (DEBUG INFO) Executor start aborting (this does not indicate an error and you can ignore this message): INVALID_ARGUMENT: You must feed a value for placeholder tensor 'gradients/StatefulPartitionedCall_grad/StatefulPartitionedCall_74' with dtype int64 and shape [?]\n",
      "\t [[{{node gradients/StatefulPartitionedCall_grad/StatefulPartitionedCall_74}}]]\n",
      "2023-04-24 12:54:42.793639: I tensorflow/core/common_runtime/executor.cc:1197] [/device:CPU:0] (DEBUG INFO) Executor start aborting (this does not indicate an error and you can ignore this message): INVALID_ARGUMENT: You must feed a value for placeholder tensor 'gradients/StatefulPartitionedCall_grad/StatefulPartitionedCall_75' with dtype int64 and shape [?]\n",
      "\t [[{{node gradients/StatefulPartitionedCall_grad/StatefulPartitionedCall_75}}]]\n",
      "2023-04-24 12:54:42.793722: I tensorflow/core/common_runtime/executor.cc:1197] [/device:CPU:0] (DEBUG INFO) Executor start aborting (this does not indicate an error and you can ignore this message): INVALID_ARGUMENT: You must feed a value for placeholder tensor 'gradients/StatefulPartitionedCall_grad/StatefulPartitionedCall_76' with dtype int64 and shape [?]\n",
      "\t [[{{node gradients/StatefulPartitionedCall_grad/StatefulPartitionedCall_76}}]]\n",
      "2023-04-24 12:54:42.793805: I tensorflow/core/common_runtime/executor.cc:1197] [/device:CPU:0] (DEBUG INFO) Executor start aborting (this does not indicate an error and you can ignore this message): INVALID_ARGUMENT: You must feed a value for placeholder tensor 'gradients/StatefulPartitionedCall_grad/StatefulPartitionedCall_77' with dtype int64 and shape [?]\n",
      "\t [[{{node gradients/StatefulPartitionedCall_grad/StatefulPartitionedCall_77}}]]\n",
      "2023-04-24 12:54:42.793888: I tensorflow/core/common_runtime/executor.cc:1197] [/device:CPU:0] (DEBUG INFO) Executor start aborting (this does not indicate an error and you can ignore this message): INVALID_ARGUMENT: You must feed a value for placeholder tensor 'gradients/StatefulPartitionedCall_grad/StatefulPartitionedCall_78' with dtype int64 and shape [?]\n",
      "\t [[{{node gradients/StatefulPartitionedCall_grad/StatefulPartitionedCall_78}}]]\n",
      "2023-04-24 12:54:42.793972: I tensorflow/core/common_runtime/executor.cc:1197] [/device:CPU:0] (DEBUG INFO) Executor start aborting (this does not indicate an error and you can ignore this message): INVALID_ARGUMENT: You must feed a value for placeholder tensor 'gradients/StatefulPartitionedCall_grad/StatefulPartitionedCall_79' with dtype int64 and shape [?]\n",
      "\t [[{{node gradients/StatefulPartitionedCall_grad/StatefulPartitionedCall_79}}]]\n",
      "2023-04-24 12:54:42.794055: I tensorflow/core/common_runtime/executor.cc:1197] [/device:CPU:0] (DEBUG INFO) Executor start aborting (this does not indicate an error and you can ignore this message): INVALID_ARGUMENT: You must feed a value for placeholder tensor 'gradients/StatefulPartitionedCall_grad/StatefulPartitionedCall_80' with dtype int64 and shape [?]\n",
      "\t [[{{node gradients/StatefulPartitionedCall_grad/StatefulPartitionedCall_80}}]]\n",
      "2023-04-24 12:54:42.794139: I tensorflow/core/common_runtime/executor.cc:1197] [/device:CPU:0] (DEBUG INFO) Executor start aborting (this does not indicate an error and you can ignore this message): INVALID_ARGUMENT: You must feed a value for placeholder tensor 'gradients/StatefulPartitionedCall_grad/StatefulPartitionedCall_81' with dtype int64 and shape [?]\n",
      "\t [[{{node gradients/StatefulPartitionedCall_grad/StatefulPartitionedCall_81}}]]\n",
      "2023-04-24 12:54:42.794282: I tensorflow/core/common_runtime/executor.cc:1197] [/device:CPU:0] (DEBUG INFO) Executor start aborting (this does not indicate an error and you can ignore this message): INVALID_ARGUMENT: You must feed a value for placeholder tensor 'gradients/StatefulPartitionedCall_grad/StatefulPartitionedCall_82' with dtype int64 and shape [?]\n",
      "\t [[{{node gradients/StatefulPartitionedCall_grad/StatefulPartitionedCall_82}}]]\n",
      "2023-04-24 12:54:42.794389: I tensorflow/core/common_runtime/executor.cc:1197] [/device:CPU:0] (DEBUG INFO) Executor start aborting (this does not indicate an error and you can ignore this message): INVALID_ARGUMENT: You must feed a value for placeholder tensor 'gradients/StatefulPartitionedCall_grad/StatefulPartitionedCall_83' with dtype int64 and shape [?]\n",
      "\t [[{{node gradients/StatefulPartitionedCall_grad/StatefulPartitionedCall_83}}]]\n",
      "2023-04-24 12:54:42.794446: I tensorflow/core/common_runtime/executor.cc:1197] [/device:CPU:0] (DEBUG INFO) Executor start aborting (this does not indicate an error and you can ignore this message): INVALID_ARGUMENT: You must feed a value for placeholder tensor 'gradients/StatefulPartitionedCall_grad/StatefulPartitionedCall_84' with dtype int64 and shape [?]\n",
      "\t [[{{node gradients/StatefulPartitionedCall_grad/StatefulPartitionedCall_84}}]]\n",
      "2023-04-24 12:54:42.794521: I tensorflow/core/common_runtime/executor.cc:1197] [/device:CPU:0] (DEBUG INFO) Executor start aborting (this does not indicate an error and you can ignore this message): INVALID_ARGUMENT: You must feed a value for placeholder tensor 'gradients/StatefulPartitionedCall_grad/StatefulPartitionedCall_85' with dtype int64 and shape [?]\n",
      "\t [[{{node gradients/StatefulPartitionedCall_grad/StatefulPartitionedCall_85}}]]\n",
      "2023-04-24 12:54:42.794616: I tensorflow/core/common_runtime/executor.cc:1197] [/device:CPU:0] (DEBUG INFO) Executor start aborting (this does not indicate an error and you can ignore this message): INVALID_ARGUMENT: You must feed a value for placeholder tensor 'gradients/StatefulPartitionedCall_grad/StatefulPartitionedCall_86' with dtype int64 and shape [?]\n",
      "\t [[{{node gradients/StatefulPartitionedCall_grad/StatefulPartitionedCall_86}}]]\n",
      "2023-04-24 12:54:42.794723: I tensorflow/core/common_runtime/executor.cc:1197] [/device:CPU:0] (DEBUG INFO) Executor start aborting (this does not indicate an error and you can ignore this message): INVALID_ARGUMENT: You must feed a value for placeholder tensor 'gradients/StatefulPartitionedCall_grad/StatefulPartitionedCall_87' with dtype int64 and shape [?]\n",
      "\t [[{{node gradients/StatefulPartitionedCall_grad/StatefulPartitionedCall_87}}]]\n",
      "2023-04-24 12:54:42.794805: I tensorflow/core/common_runtime/executor.cc:1197] [/device:CPU:0] (DEBUG INFO) Executor start aborting (this does not indicate an error and you can ignore this message): INVALID_ARGUMENT: You must feed a value for placeholder tensor 'gradients/StatefulPartitionedCall_grad/StatefulPartitionedCall_88' with dtype int64 and shape [?]\n",
      "\t [[{{node gradients/StatefulPartitionedCall_grad/StatefulPartitionedCall_88}}]]\n",
      "2023-04-24 12:54:42.794896: I tensorflow/core/common_runtime/executor.cc:1197] [/device:CPU:0] (DEBUG INFO) Executor start aborting (this does not indicate an error and you can ignore this message): INVALID_ARGUMENT: You must feed a value for placeholder tensor 'gradients/StatefulPartitionedCall_grad/StatefulPartitionedCall_89' with dtype int64 and shape [?]\n",
      "\t [[{{node gradients/StatefulPartitionedCall_grad/StatefulPartitionedCall_89}}]]\n",
      "2023-04-24 12:54:42.794978: I tensorflow/core/common_runtime/executor.cc:1197] [/device:CPU:0] (DEBUG INFO) Executor start aborting (this does not indicate an error and you can ignore this message): INVALID_ARGUMENT: You must feed a value for placeholder tensor 'gradients/StatefulPartitionedCall_grad/StatefulPartitionedCall_90' with dtype int64 and shape [?]\n",
      "\t [[{{node gradients/StatefulPartitionedCall_grad/StatefulPartitionedCall_90}}]]\n",
      "2023-04-24 12:54:42.795060: I tensorflow/core/common_runtime/executor.cc:1197] [/device:CPU:0] (DEBUG INFO) Executor start aborting (this does not indicate an error and you can ignore this message): INVALID_ARGUMENT: You must feed a value for placeholder tensor 'gradients/StatefulPartitionedCall_grad/StatefulPartitionedCall_91' with dtype int64 and shape [?]\n",
      "\t [[{{node gradients/StatefulPartitionedCall_grad/StatefulPartitionedCall_91}}]]\n",
      "2023-04-24 12:54:42.795142: I tensorflow/core/common_runtime/executor.cc:1197] [/device:CPU:0] (DEBUG INFO) Executor start aborting (this does not indicate an error and you can ignore this message): INVALID_ARGUMENT: You must feed a value for placeholder tensor 'gradients/StatefulPartitionedCall_grad/StatefulPartitionedCall_92' with dtype int64 and shape [?]\n",
      "\t [[{{node gradients/StatefulPartitionedCall_grad/StatefulPartitionedCall_92}}]]\n",
      "2023-04-24 12:54:42.795223: I tensorflow/core/common_runtime/executor.cc:1197] [/device:CPU:0] (DEBUG INFO) Executor start aborting (this does not indicate an error and you can ignore this message): INVALID_ARGUMENT: You must feed a value for placeholder tensor 'gradients/StatefulPartitionedCall_grad/StatefulPartitionedCall_93' with dtype int64 and shape [?]\n",
      "\t [[{{node gradients/StatefulPartitionedCall_grad/StatefulPartitionedCall_93}}]]\n",
      "2023-04-24 12:54:42.954875: I tensorflow/core/common_runtime/executor.cc:1197] [/device:CPU:0] (DEBUG INFO) Executor start aborting (this does not indicate an error and you can ignore this message): INVALID_ARGUMENT: You must feed a value for placeholder tensor 'gradients/StatefulPartitionedCall_grad/StatefulPartitionedCall' with dtype float and shape [?,512]\n",
      "\t [[{{node gradients/StatefulPartitionedCall_grad/StatefulPartitionedCall}}]]\n",
      "2023-04-24 12:54:42.954988: I tensorflow/core/common_runtime/executor.cc:1197] [/device:CPU:0] (DEBUG INFO) Executor start aborting (this does not indicate an error and you can ignore this message): INVALID_ARGUMENT: You must feed a value for placeholder tensor 'gradients/StatefulPartitionedCall_grad/StatefulPartitionedCall_1' with dtype float and shape [?,1]\n",
      "\t [[{{node gradients/StatefulPartitionedCall_grad/StatefulPartitionedCall_1}}]]\n",
      "2023-04-24 12:54:42.955111: I tensorflow/core/common_runtime/executor.cc:1197] [/device:CPU:0] (DEBUG INFO) Executor start aborting (this does not indicate an error and you can ignore this message): INVALID_ARGUMENT: You must feed a value for placeholder tensor 'gradients/StatefulPartitionedCall_grad/StatefulPartitionedCall_2' with dtype float and shape [?,1]\n",
      "\t [[{{node gradients/StatefulPartitionedCall_grad/StatefulPartitionedCall_2}}]]\n",
      "2023-04-24 12:54:42.955219: I tensorflow/core/common_runtime/executor.cc:1197] [/device:CPU:0] (DEBUG INFO) Executor start aborting (this does not indicate an error and you can ignore this message): INVALID_ARGUMENT: You must feed a value for placeholder tensor 'gradients/StatefulPartitionedCall_grad/StatefulPartitionedCall_4' with dtype float and shape [?,512]\n",
      "\t [[{{node gradients/StatefulPartitionedCall_grad/StatefulPartitionedCall_4}}]]\n",
      "2023-04-24 12:54:42.955319: I tensorflow/core/common_runtime/executor.cc:1197] [/device:CPU:0] (DEBUG INFO) Executor start aborting (this does not indicate an error and you can ignore this message): INVALID_ARGUMENT: You must feed a value for placeholder tensor 'gradients/StatefulPartitionedCall_grad/StatefulPartitionedCall_5' with dtype float and shape [?,512]\n",
      "\t [[{{node gradients/StatefulPartitionedCall_grad/StatefulPartitionedCall_5}}]]\n",
      "2023-04-24 12:54:42.955417: I tensorflow/core/common_runtime/executor.cc:1197] [/device:CPU:0] (DEBUG INFO) Executor start aborting (this does not indicate an error and you can ignore this message): INVALID_ARGUMENT: You must feed a value for placeholder tensor 'gradients/StatefulPartitionedCall_grad/StatefulPartitionedCall_6' with dtype float and shape [?,1]\n",
      "\t [[{{node gradients/StatefulPartitionedCall_grad/StatefulPartitionedCall_6}}]]\n",
      "2023-04-24 12:54:42.955514: I tensorflow/core/common_runtime/executor.cc:1197] [/device:CPU:0] (DEBUG INFO) Executor start aborting (this does not indicate an error and you can ignore this message): INVALID_ARGUMENT: You must feed a value for placeholder tensor 'gradients/StatefulPartitionedCall_grad/StatefulPartitionedCall_7' with dtype float and shape [?,1]\n",
      "\t [[{{node gradients/StatefulPartitionedCall_grad/StatefulPartitionedCall_7}}]]\n",
      "2023-04-24 12:54:42.955601: I tensorflow/core/common_runtime/executor.cc:1197] [/device:CPU:0] (DEBUG INFO) Executor start aborting (this does not indicate an error and you can ignore this message): INVALID_ARGUMENT: You must feed a value for placeholder tensor 'gradients/StatefulPartitionedCall_grad/StatefulPartitionedCall_9' with dtype float and shape [?,512]\n",
      "\t [[{{node gradients/StatefulPartitionedCall_grad/StatefulPartitionedCall_9}}]]\n",
      "2023-04-24 12:54:42.955680: I tensorflow/core/common_runtime/executor.cc:1197] [/device:CPU:0] (DEBUG INFO) Executor start aborting (this does not indicate an error and you can ignore this message): INVALID_ARGUMENT: You must feed a value for placeholder tensor 'gradients/StatefulPartitionedCall_grad/StatefulPartitionedCall_10' with dtype float and shape [?,512]\n",
      "\t [[{{node gradients/StatefulPartitionedCall_grad/StatefulPartitionedCall_10}}]]\n",
      "2023-04-24 12:54:42.955773: I tensorflow/core/common_runtime/executor.cc:1197] [/device:CPU:0] (DEBUG INFO) Executor start aborting (this does not indicate an error and you can ignore this message): INVALID_ARGUMENT: You must feed a value for placeholder tensor 'gradients/StatefulPartitionedCall_grad/StatefulPartitionedCall_11' with dtype float and shape [?,512]\n",
      "\t [[{{node gradients/StatefulPartitionedCall_grad/StatefulPartitionedCall_11}}]]\n",
      "2023-04-24 12:54:42.955879: I tensorflow/core/common_runtime/executor.cc:1197] [/device:CPU:0] (DEBUG INFO) Executor start aborting (this does not indicate an error and you can ignore this message): INVALID_ARGUMENT: You must feed a value for placeholder tensor 'gradients/StatefulPartitionedCall_grad/StatefulPartitionedCall_17' with dtype int32\n",
      "\t [[{{node gradients/StatefulPartitionedCall_grad/StatefulPartitionedCall_17}}]]\n",
      "2023-04-24 12:54:42.955986: I tensorflow/core/common_runtime/executor.cc:1197] [/device:CPU:0] (DEBUG INFO) Executor start aborting (this does not indicate an error and you can ignore this message): INVALID_ARGUMENT: You must feed a value for placeholder tensor 'gradients/StatefulPartitionedCall_grad/StatefulPartitionedCall_18' with dtype int32\n",
      "\t [[{{node gradients/StatefulPartitionedCall_grad/StatefulPartitionedCall_18}}]]\n",
      "2023-04-24 12:54:42.956093: I tensorflow/core/common_runtime/executor.cc:1197] [/device:CPU:0] (DEBUG INFO) Executor start aborting (this does not indicate an error and you can ignore this message): INVALID_ARGUMENT: You must feed a value for placeholder tensor 'gradients/StatefulPartitionedCall_grad/StatefulPartitionedCall_19' with dtype float and shape [?,320]\n",
      "\t [[{{node gradients/StatefulPartitionedCall_grad/StatefulPartitionedCall_19}}]]\n",
      "2023-04-24 12:54:42.956199: I tensorflow/core/common_runtime/executor.cc:1197] [/device:CPU:0] (DEBUG INFO) Executor start aborting (this does not indicate an error and you can ignore this message): INVALID_ARGUMENT: You must feed a value for placeholder tensor 'gradients/StatefulPartitionedCall_grad/StatefulPartitionedCall_20' with dtype float\n",
      "\t [[{{node gradients/StatefulPartitionedCall_grad/StatefulPartitionedCall_20}}]]\n",
      "2023-04-24 12:54:42.956288: I tensorflow/core/common_runtime/executor.cc:1197] [/device:CPU:0] (DEBUG INFO) Executor start aborting (this does not indicate an error and you can ignore this message): INVALID_ARGUMENT: You must feed a value for placeholder tensor 'gradients/StatefulPartitionedCall_grad/StatefulPartitionedCall_21' with dtype int32\n",
      "\t [[{{node gradients/StatefulPartitionedCall_grad/StatefulPartitionedCall_21}}]]\n",
      "2023-04-24 12:54:42.956374: I tensorflow/core/common_runtime/executor.cc:1197] [/device:CPU:0] (DEBUG INFO) Executor start aborting (this does not indicate an error and you can ignore this message): INVALID_ARGUMENT: You must feed a value for placeholder tensor 'gradients/StatefulPartitionedCall_grad/StatefulPartitionedCall_25' with dtype int32\n",
      "\t [[{{node gradients/StatefulPartitionedCall_grad/StatefulPartitionedCall_25}}]]\n",
      "2023-04-24 12:54:42.956459: I tensorflow/core/common_runtime/executor.cc:1197] [/device:CPU:0] (DEBUG INFO) Executor start aborting (this does not indicate an error and you can ignore this message): INVALID_ARGUMENT: You must feed a value for placeholder tensor 'gradients/StatefulPartitionedCall_grad/StatefulPartitionedCall_26' with dtype float\n",
      "\t [[{{node gradients/StatefulPartitionedCall_grad/StatefulPartitionedCall_26}}]]\n",
      "2023-04-24 12:54:42.956546: I tensorflow/core/common_runtime/executor.cc:1197] [/device:CPU:0] (DEBUG INFO) Executor start aborting (this does not indicate an error and you can ignore this message): INVALID_ARGUMENT: You must feed a value for placeholder tensor 'gradients/StatefulPartitionedCall_grad/StatefulPartitionedCall_27' with dtype float and shape [?,1]\n",
      "\t [[{{node gradients/StatefulPartitionedCall_grad/StatefulPartitionedCall_27}}]]\n",
      "2023-04-24 12:54:42.956632: I tensorflow/core/common_runtime/executor.cc:1197] [/device:CPU:0] (DEBUG INFO) Executor start aborting (this does not indicate an error and you can ignore this message): INVALID_ARGUMENT: You must feed a value for placeholder tensor 'gradients/StatefulPartitionedCall_grad/StatefulPartitionedCall_29' with dtype int32\n",
      "\t [[{{node gradients/StatefulPartitionedCall_grad/StatefulPartitionedCall_29}}]]\n",
      "2023-04-24 12:54:42.956718: I tensorflow/core/common_runtime/executor.cc:1197] [/device:CPU:0] (DEBUG INFO) Executor start aborting (this does not indicate an error and you can ignore this message): INVALID_ARGUMENT: You must feed a value for placeholder tensor 'gradients/StatefulPartitionedCall_grad/StatefulPartitionedCall_30' with dtype float and shape [?,320]\n",
      "\t [[{{node gradients/StatefulPartitionedCall_grad/StatefulPartitionedCall_30}}]]\n",
      "2023-04-24 12:54:42.956804: I tensorflow/core/common_runtime/executor.cc:1197] [/device:CPU:0] (DEBUG INFO) Executor start aborting (this does not indicate an error and you can ignore this message): INVALID_ARGUMENT: You must feed a value for placeholder tensor 'gradients/StatefulPartitionedCall_grad/StatefulPartitionedCall_31' with dtype float and shape [?,320]\n",
      "\t [[{{node gradients/StatefulPartitionedCall_grad/StatefulPartitionedCall_31}}]]\n",
      "2023-04-24 12:54:42.956891: I tensorflow/core/common_runtime/executor.cc:1197] [/device:CPU:0] (DEBUG INFO) Executor start aborting (this does not indicate an error and you can ignore this message): INVALID_ARGUMENT: You must feed a value for placeholder tensor 'gradients/StatefulPartitionedCall_grad/StatefulPartitionedCall_32' with dtype int32 and shape [?]\n",
      "\t [[{{node gradients/StatefulPartitionedCall_grad/StatefulPartitionedCall_32}}]]\n",
      "2023-04-24 12:54:42.956955: I tensorflow/core/common_runtime/executor.cc:1197] [/device:CPU:0] (DEBUG INFO) Executor start aborting (this does not indicate an error and you can ignore this message): INVALID_ARGUMENT: You must feed a value for placeholder tensor 'gradients/StatefulPartitionedCall_grad/StatefulPartitionedCall_33' with dtype float and shape [?,320]\n",
      "\t [[{{node gradients/StatefulPartitionedCall_grad/StatefulPartitionedCall_33}}]]\n",
      "2023-04-24 12:54:42.957011: I tensorflow/core/common_runtime/executor.cc:1197] [/device:CPU:0] (DEBUG INFO) Executor start aborting (this does not indicate an error and you can ignore this message): INVALID_ARGUMENT: You must feed a value for placeholder tensor 'gradients/StatefulPartitionedCall_grad/StatefulPartitionedCall_64' with dtype int64 and shape [?]\n",
      "\t [[{{node gradients/StatefulPartitionedCall_grad/StatefulPartitionedCall_64}}]]\n",
      "2023-04-24 12:54:42.957090: I tensorflow/core/common_runtime/executor.cc:1197] [/device:CPU:0] (DEBUG INFO) Executor start aborting (this does not indicate an error and you can ignore this message): INVALID_ARGUMENT: You must feed a value for placeholder tensor 'gradients/StatefulPartitionedCall_grad/StatefulPartitionedCall_65' with dtype int64 and shape [?]\n",
      "\t [[{{node gradients/StatefulPartitionedCall_grad/StatefulPartitionedCall_65}}]]\n",
      "2023-04-24 12:54:42.957177: I tensorflow/core/common_runtime/executor.cc:1197] [/device:CPU:0] (DEBUG INFO) Executor start aborting (this does not indicate an error and you can ignore this message): INVALID_ARGUMENT: You must feed a value for placeholder tensor 'gradients/StatefulPartitionedCall_grad/StatefulPartitionedCall_66' with dtype int64 and shape [?]\n",
      "\t [[{{node gradients/StatefulPartitionedCall_grad/StatefulPartitionedCall_66}}]]\n",
      "2023-04-24 12:54:42.957264: I tensorflow/core/common_runtime/executor.cc:1197] [/device:CPU:0] (DEBUG INFO) Executor start aborting (this does not indicate an error and you can ignore this message): INVALID_ARGUMENT: You must feed a value for placeholder tensor 'gradients/StatefulPartitionedCall_grad/StatefulPartitionedCall_67' with dtype int64 and shape [?]\n",
      "\t [[{{node gradients/StatefulPartitionedCall_grad/StatefulPartitionedCall_67}}]]\n",
      "2023-04-24 12:54:42.957323: I tensorflow/core/common_runtime/executor.cc:1197] [/device:CPU:0] (DEBUG INFO) Executor start aborting (this does not indicate an error and you can ignore this message): INVALID_ARGUMENT: You must feed a value for placeholder tensor 'gradients/StatefulPartitionedCall_grad/StatefulPartitionedCall_68' with dtype int64 and shape [?]\n",
      "\t [[{{node gradients/StatefulPartitionedCall_grad/StatefulPartitionedCall_68}}]]\n",
      "2023-04-24 12:54:42.957376: I tensorflow/core/common_runtime/executor.cc:1197] [/device:CPU:0] (DEBUG INFO) Executor start aborting (this does not indicate an error and you can ignore this message): INVALID_ARGUMENT: You must feed a value for placeholder tensor 'gradients/StatefulPartitionedCall_grad/StatefulPartitionedCall_69' with dtype int64 and shape [?]\n",
      "\t [[{{node gradients/StatefulPartitionedCall_grad/StatefulPartitionedCall_69}}]]\n",
      "2023-04-24 12:54:42.957429: I tensorflow/core/common_runtime/executor.cc:1197] [/device:CPU:0] (DEBUG INFO) Executor start aborting (this does not indicate an error and you can ignore this message): INVALID_ARGUMENT: You must feed a value for placeholder tensor 'gradients/StatefulPartitionedCall_grad/StatefulPartitionedCall_70' with dtype int64 and shape [?]\n",
      "\t [[{{node gradients/StatefulPartitionedCall_grad/StatefulPartitionedCall_70}}]]\n",
      "2023-04-24 12:54:42.957511: I tensorflow/core/common_runtime/executor.cc:1197] [/device:CPU:0] (DEBUG INFO) Executor start aborting (this does not indicate an error and you can ignore this message): INVALID_ARGUMENT: You must feed a value for placeholder tensor 'gradients/StatefulPartitionedCall_grad/StatefulPartitionedCall_71' with dtype int64 and shape [?]\n",
      "\t [[{{node gradients/StatefulPartitionedCall_grad/StatefulPartitionedCall_71}}]]\n",
      "2023-04-24 12:54:42.957573: I tensorflow/core/common_runtime/executor.cc:1197] [/device:CPU:0] (DEBUG INFO) Executor start aborting (this does not indicate an error and you can ignore this message): INVALID_ARGUMENT: You must feed a value for placeholder tensor 'gradients/StatefulPartitionedCall_grad/StatefulPartitionedCall_72' with dtype int64 and shape [?]\n",
      "\t [[{{node gradients/StatefulPartitionedCall_grad/StatefulPartitionedCall_72}}]]\n",
      "2023-04-24 12:54:42.957619: I tensorflow/core/common_runtime/executor.cc:1197] [/device:CPU:0] (DEBUG INFO) Executor start aborting (this does not indicate an error and you can ignore this message): INVALID_ARGUMENT: You must feed a value for placeholder tensor 'gradients/StatefulPartitionedCall_grad/StatefulPartitionedCall_73' with dtype int64 and shape [?]\n",
      "\t [[{{node gradients/StatefulPartitionedCall_grad/StatefulPartitionedCall_73}}]]\n",
      "2023-04-24 12:54:42.957664: I tensorflow/core/common_runtime/executor.cc:1197] [/device:CPU:0] (DEBUG INFO) Executor start aborting (this does not indicate an error and you can ignore this message): INVALID_ARGUMENT: You must feed a value for placeholder tensor 'gradients/StatefulPartitionedCall_grad/StatefulPartitionedCall_74' with dtype int64 and shape [?]\n",
      "\t [[{{node gradients/StatefulPartitionedCall_grad/StatefulPartitionedCall_74}}]]\n",
      "2023-04-24 12:54:42.957710: I tensorflow/core/common_runtime/executor.cc:1197] [/device:CPU:0] (DEBUG INFO) Executor start aborting (this does not indicate an error and you can ignore this message): INVALID_ARGUMENT: You must feed a value for placeholder tensor 'gradients/StatefulPartitionedCall_grad/StatefulPartitionedCall_75' with dtype int64 and shape [?]\n",
      "\t [[{{node gradients/StatefulPartitionedCall_grad/StatefulPartitionedCall_75}}]]\n",
      "2023-04-24 12:54:42.957756: I tensorflow/core/common_runtime/executor.cc:1197] [/device:CPU:0] (DEBUG INFO) Executor start aborting (this does not indicate an error and you can ignore this message): INVALID_ARGUMENT: You must feed a value for placeholder tensor 'gradients/StatefulPartitionedCall_grad/StatefulPartitionedCall_76' with dtype int64 and shape [?]\n",
      "\t [[{{node gradients/StatefulPartitionedCall_grad/StatefulPartitionedCall_76}}]]\n",
      "2023-04-24 12:54:42.957801: I tensorflow/core/common_runtime/executor.cc:1197] [/device:CPU:0] (DEBUG INFO) Executor start aborting (this does not indicate an error and you can ignore this message): INVALID_ARGUMENT: You must feed a value for placeholder tensor 'gradients/StatefulPartitionedCall_grad/StatefulPartitionedCall_77' with dtype int64 and shape [?]\n",
      "\t [[{{node gradients/StatefulPartitionedCall_grad/StatefulPartitionedCall_77}}]]\n",
      "2023-04-24 12:54:42.957847: I tensorflow/core/common_runtime/executor.cc:1197] [/device:CPU:0] (DEBUG INFO) Executor start aborting (this does not indicate an error and you can ignore this message): INVALID_ARGUMENT: You must feed a value for placeholder tensor 'gradients/StatefulPartitionedCall_grad/StatefulPartitionedCall_78' with dtype int64 and shape [?]\n",
      "\t [[{{node gradients/StatefulPartitionedCall_grad/StatefulPartitionedCall_78}}]]\n",
      "2023-04-24 12:54:42.957892: I tensorflow/core/common_runtime/executor.cc:1197] [/device:CPU:0] (DEBUG INFO) Executor start aborting (this does not indicate an error and you can ignore this message): INVALID_ARGUMENT: You must feed a value for placeholder tensor 'gradients/StatefulPartitionedCall_grad/StatefulPartitionedCall_79' with dtype int64 and shape [?]\n",
      "\t [[{{node gradients/StatefulPartitionedCall_grad/StatefulPartitionedCall_79}}]]\n",
      "2023-04-24 12:54:42.957937: I tensorflow/core/common_runtime/executor.cc:1197] [/device:CPU:0] (DEBUG INFO) Executor start aborting (this does not indicate an error and you can ignore this message): INVALID_ARGUMENT: You must feed a value for placeholder tensor 'gradients/StatefulPartitionedCall_grad/StatefulPartitionedCall_80' with dtype int64 and shape [?]\n",
      "\t [[{{node gradients/StatefulPartitionedCall_grad/StatefulPartitionedCall_80}}]]\n",
      "2023-04-24 12:54:42.957983: I tensorflow/core/common_runtime/executor.cc:1197] [/device:CPU:0] (DEBUG INFO) Executor start aborting (this does not indicate an error and you can ignore this message): INVALID_ARGUMENT: You must feed a value for placeholder tensor 'gradients/StatefulPartitionedCall_grad/StatefulPartitionedCall_81' with dtype int64 and shape [?]\n",
      "\t [[{{node gradients/StatefulPartitionedCall_grad/StatefulPartitionedCall_81}}]]\n",
      "2023-04-24 12:54:42.958028: I tensorflow/core/common_runtime/executor.cc:1197] [/device:CPU:0] (DEBUG INFO) Executor start aborting (this does not indicate an error and you can ignore this message): INVALID_ARGUMENT: You must feed a value for placeholder tensor 'gradients/StatefulPartitionedCall_grad/StatefulPartitionedCall_82' with dtype int64 and shape [?]\n",
      "\t [[{{node gradients/StatefulPartitionedCall_grad/StatefulPartitionedCall_82}}]]\n",
      "2023-04-24 12:54:42.958073: I tensorflow/core/common_runtime/executor.cc:1197] [/device:CPU:0] (DEBUG INFO) Executor start aborting (this does not indicate an error and you can ignore this message): INVALID_ARGUMENT: You must feed a value for placeholder tensor 'gradients/StatefulPartitionedCall_grad/StatefulPartitionedCall_83' with dtype int64 and shape [?]\n",
      "\t [[{{node gradients/StatefulPartitionedCall_grad/StatefulPartitionedCall_83}}]]\n",
      "2023-04-24 12:54:42.958118: I tensorflow/core/common_runtime/executor.cc:1197] [/device:CPU:0] (DEBUG INFO) Executor start aborting (this does not indicate an error and you can ignore this message): INVALID_ARGUMENT: You must feed a value for placeholder tensor 'gradients/StatefulPartitionedCall_grad/StatefulPartitionedCall_84' with dtype int64 and shape [?]\n",
      "\t [[{{node gradients/StatefulPartitionedCall_grad/StatefulPartitionedCall_84}}]]\n",
      "2023-04-24 12:54:42.958163: I tensorflow/core/common_runtime/executor.cc:1197] [/device:CPU:0] (DEBUG INFO) Executor start aborting (this does not indicate an error and you can ignore this message): INVALID_ARGUMENT: You must feed a value for placeholder tensor 'gradients/StatefulPartitionedCall_grad/StatefulPartitionedCall_85' with dtype int64 and shape [?]\n",
      "\t [[{{node gradients/StatefulPartitionedCall_grad/StatefulPartitionedCall_85}}]]\n",
      "2023-04-24 12:54:42.958219: I tensorflow/core/common_runtime/executor.cc:1197] [/device:CPU:0] (DEBUG INFO) Executor start aborting (this does not indicate an error and you can ignore this message): INVALID_ARGUMENT: You must feed a value for placeholder tensor 'gradients/StatefulPartitionedCall_grad/StatefulPartitionedCall_86' with dtype int64 and shape [?]\n",
      "\t [[{{node gradients/StatefulPartitionedCall_grad/StatefulPartitionedCall_86}}]]\n",
      "2023-04-24 12:54:42.958265: I tensorflow/core/common_runtime/executor.cc:1197] [/device:CPU:0] (DEBUG INFO) Executor start aborting (this does not indicate an error and you can ignore this message): INVALID_ARGUMENT: You must feed a value for placeholder tensor 'gradients/StatefulPartitionedCall_grad/StatefulPartitionedCall_87' with dtype int64 and shape [?]\n",
      "\t [[{{node gradients/StatefulPartitionedCall_grad/StatefulPartitionedCall_87}}]]\n",
      "2023-04-24 12:54:42.958310: I tensorflow/core/common_runtime/executor.cc:1197] [/device:CPU:0] (DEBUG INFO) Executor start aborting (this does not indicate an error and you can ignore this message): INVALID_ARGUMENT: You must feed a value for placeholder tensor 'gradients/StatefulPartitionedCall_grad/StatefulPartitionedCall_88' with dtype int64 and shape [?]\n",
      "\t [[{{node gradients/StatefulPartitionedCall_grad/StatefulPartitionedCall_88}}]]\n",
      "2023-04-24 12:54:42.958355: I tensorflow/core/common_runtime/executor.cc:1197] [/device:CPU:0] (DEBUG INFO) Executor start aborting (this does not indicate an error and you can ignore this message): INVALID_ARGUMENT: You must feed a value for placeholder tensor 'gradients/StatefulPartitionedCall_grad/StatefulPartitionedCall_89' with dtype int64 and shape [?]\n",
      "\t [[{{node gradients/StatefulPartitionedCall_grad/StatefulPartitionedCall_89}}]]\n",
      "2023-04-24 12:54:42.958400: I tensorflow/core/common_runtime/executor.cc:1197] [/device:CPU:0] (DEBUG INFO) Executor start aborting (this does not indicate an error and you can ignore this message): INVALID_ARGUMENT: You must feed a value for placeholder tensor 'gradients/StatefulPartitionedCall_grad/StatefulPartitionedCall_90' with dtype int64 and shape [?]\n",
      "\t [[{{node gradients/StatefulPartitionedCall_grad/StatefulPartitionedCall_90}}]]\n",
      "2023-04-24 12:54:42.958445: I tensorflow/core/common_runtime/executor.cc:1197] [/device:CPU:0] (DEBUG INFO) Executor start aborting (this does not indicate an error and you can ignore this message): INVALID_ARGUMENT: You must feed a value for placeholder tensor 'gradients/StatefulPartitionedCall_grad/StatefulPartitionedCall_91' with dtype int64 and shape [?]\n",
      "\t [[{{node gradients/StatefulPartitionedCall_grad/StatefulPartitionedCall_91}}]]\n",
      "2023-04-24 12:54:42.958491: I tensorflow/core/common_runtime/executor.cc:1197] [/device:CPU:0] (DEBUG INFO) Executor start aborting (this does not indicate an error and you can ignore this message): INVALID_ARGUMENT: You must feed a value for placeholder tensor 'gradients/StatefulPartitionedCall_grad/StatefulPartitionedCall_92' with dtype int64 and shape [?]\n",
      "\t [[{{node gradients/StatefulPartitionedCall_grad/StatefulPartitionedCall_92}}]]\n",
      "2023-04-24 12:54:42.958536: I tensorflow/core/common_runtime/executor.cc:1197] [/device:CPU:0] (DEBUG INFO) Executor start aborting (this does not indicate an error and you can ignore this message): INVALID_ARGUMENT: You must feed a value for placeholder tensor 'gradients/StatefulPartitionedCall_grad/StatefulPartitionedCall_93' with dtype int64 and shape [?]\n",
      "\t [[{{node gradients/StatefulPartitionedCall_grad/StatefulPartitionedCall_93}}]]\n"
     ]
    },
    {
     "name": "stdout",
     "output_type": "stream",
     "text": [
      "215/215 [==============================] - 3s 7ms/step - loss: 0.5023 - accuracy: 0.7901 - val_loss: 0.4501 - val_accuracy: 0.7966\n",
      "Epoch 2/5\n",
      "215/215 [==============================] - 1s 5ms/step - loss: 0.4134 - accuracy: 0.8148 - val_loss: 0.4418 - val_accuracy: 0.8071\n",
      "Epoch 3/5\n",
      "215/215 [==============================] - 1s 5ms/step - loss: 0.4005 - accuracy: 0.8235 - val_loss: 0.4354 - val_accuracy: 0.8136\n",
      "Epoch 4/5\n",
      "215/215 [==============================] - 1s 5ms/step - loss: 0.3925 - accuracy: 0.8270 - val_loss: 0.4274 - val_accuracy: 0.8084\n",
      "Epoch 5/5\n",
      "215/215 [==============================] - 1s 5ms/step - loss: 0.3853 - accuracy: 0.8288 - val_loss: 0.4236 - val_accuracy: 0.8163\n"
     ]
    }
   ],
   "source": [
    "model_6a_history = model_6a.fit(\n",
    "    train_tweets,\n",
    "    train_labels,\n",
    "    epochs=5,\n",
    "    validation_data=(val_tweets, val_labels),\n",
    "    callbacks=[create_tensorboard_callback_bugged(\n",
    "        dir_name=LOG_DIR,\n",
    "        experiment_name='model_6a_use'\n",
    "    )]\n",
    ")"
   ]
  },
  {
   "cell_type": "markdown",
   "id": "c9e6bd84",
   "metadata": {},
   "source": [
    "#### Model Evaluation"
   ]
  },
  {
   "cell_type": "code",
   "execution_count": 79,
   "id": "dfb643f5",
   "metadata": {
    "collapsed": true
   },
   "outputs": [
    {
     "name": "stdout",
     "output_type": "stream",
     "text": [
      "24/24 [==============================] - 0s 5ms/step - loss: 0.4236 - accuracy: 0.8163\n"
     ]
    },
    {
     "data": {
      "text/plain": [
       "[0.4235517978668213, 0.8162729740142822]"
      ]
     },
     "execution_count": 79,
     "metadata": {},
     "output_type": "execute_result"
    }
   ],
   "source": [
    "model_6a.evaluate(val_tweets, val_labels)\n",
    "# loss: 0.4305 - accuracy: 0.8123"
   ]
  },
  {
   "cell_type": "code",
   "execution_count": 80,
   "id": "bea0d0a2",
   "metadata": {
    "collapsed": true
   },
   "outputs": [
    {
     "name": "stdout",
     "output_type": "stream",
     "text": [
      "24/24 [==============================] - 0s 4ms/step\n",
      "Prediction: [0.2115508] (not a disaster)\n"
     ]
    }
   ],
   "source": [
    "# make predictions\n",
    "model_6a_preds = model_6a.predict(val_tweets)\n",
    "sample_prediction=model_6a_preds[0]\n",
    "print(f\"Prediction: {sample_prediction}\",\"(disaster)\" if sample_prediction>0.5 else \"(not a disaster)\")\n",
    "# Prediction: [0.15243901] (not a disaster)"
   ]
  },
  {
   "cell_type": "code",
   "execution_count": 81,
   "id": "24cb03dd",
   "metadata": {},
   "outputs": [],
   "source": [
    "# convert model prediction probabilities to binary label format\n",
    "model_6a_preds = tf.squeeze(tf.round(model_6a_preds))"
   ]
  },
  {
   "cell_type": "code",
   "execution_count": 82,
   "id": "8077ca1b",
   "metadata": {
    "collapsed": true
   },
   "outputs": [
    {
     "name": "stdout",
     "output_type": "stream",
     "text": [
      "{'accuracy': 81.62729658792651, 'precision': 0.8163098416789168, 'recall': 0.8162729658792651, 'f1': 0.8157217027284339}\n"
     ]
    }
   ],
   "source": [
    "model_6a_metrics = calculate_metrics(\n",
    "    y_true=val_labels,\n",
    "    y_pred=model_6a_preds\n",
    ")\n",
    "\n",
    "print(model_6a_metrics)"
   ]
  },
  {
   "cell_type": "markdown",
   "id": "1aba0147",
   "metadata": {},
   "source": [
    "#### Model 6a Metrics\n",
    "\n",
    "* Accuracy: 81.23359580052494\n",
    "* Precision: 0.8148798668657973\n",
    "* Recall: 0.8123359580052494\n",
    "* F1: 0.810686575717776"
   ]
  },
  {
   "cell_type": "code",
   "execution_count": 83,
   "id": "fb7384c3",
   "metadata": {
    "collapsed": true
   },
   "outputs": [
    {
     "name": "stdout",
     "output_type": "stream",
     "text": [
      "[ True  True  True  True]\n",
      "[ True  True  True  True]\n"
     ]
    }
   ],
   "source": [
    "# the model performs better than the conv1d AND better than the baseline model~!\n",
    "print(np.array(list(model_6a_metrics.values())) > np.array(list(model_5_metrics.values())))\n",
    "# [ True  True  True  True]\n",
    "print(np.array(list(model_6a_metrics.values())) > np.array(list(baseline_metrics.values())))\n",
    "# [ True  True  True  True]"
   ]
  },
  {
   "cell_type": "markdown",
   "id": "36663f4e",
   "metadata": {},
   "source": [
    "### Model 6b: Transfer Learning Feature Extractor (10% Dataset)\n",
    "\n",
    "#### Dataset"
   ]
  },
  {
   "cell_type": "code",
   "execution_count": 84,
   "id": "bfe9769d",
   "metadata": {
    "collapsed": true
   },
   "outputs": [
    {
     "name": "stdout",
     "output_type": "stream",
     "text": [
      "7613 761\n"
     ]
    }
   ],
   "source": [
    "# create data subset with 10% of the training data\n",
    "train_10_percent = train_df_shuffle[['text', 'target']].sample(frac=0.1, random_state=SEED)\n",
    "print(len(train_df_shuffle), len(train_10_percent))\n",
    "# 7613 761"
   ]
  },
  {
   "cell_type": "code",
   "execution_count": 85,
   "id": "f7b44b88",
   "metadata": {},
   "outputs": [],
   "source": [
    "train_tweets_10_percent = train_10_percent['text'].to_list()\n",
    "train_labels_10_percent = train_10_percent['target'].to_list()"
   ]
  },
  {
   "cell_type": "code",
   "execution_count": 86,
   "id": "251f1ffd",
   "metadata": {
    "collapsed": true
   },
   "outputs": [
    {
     "name": "stdout",
     "output_type": "stream",
     "text": [
      "1.3274228064811984 1.1867816091954022\n"
     ]
    }
   ],
   "source": [
    "# check label distribution in randomized subset\n",
    "dist_full_dataset = train_df_shuffle['target'].value_counts()\n",
    "dist_10_percent_subset = train_10_percent['target'].value_counts()\n",
    "\n",
    "print(\n",
    "    (dist_full_dataset[0]/dist_full_dataset[1]),\n",
    "    (dist_10_percent_subset[0]/dist_10_percent_subset[1])\n",
    ")\n",
    "\n",
    "# the full dataset has 33% more \"no-desaster\" tweets\n",
    "# in the subset the overhang is lower with 19%\n",
    "# 1.3274228064811984 1.1867816091954022"
   ]
  },
  {
   "cell_type": "markdown",
   "id": "6a78b31b",
   "metadata": {},
   "source": [
    "#### Model Building and Training"
   ]
  },
  {
   "cell_type": "code",
   "execution_count": 87,
   "id": "1965d53f",
   "metadata": {
    "collapsed": true
   },
   "outputs": [
    {
     "name": "stdout",
     "output_type": "stream",
     "text": [
      "Model: \"model_6b_use_10_percent\"\n",
      "_________________________________________________________________\n",
      " Layer (type)                Output Shape              Param #   \n",
      "=================================================================\n",
      " sentence-encoder (KerasLaye  (None, 512)              256797824 \n",
      " r)                                                              \n",
      "                                                                 \n",
      " dense_10 (Dense)            (None, 64)                32832     \n",
      "                                                                 \n",
      " dense_11 (Dense)            (None, 1)                 65        \n",
      "                                                                 \n",
      "=================================================================\n",
      "Total params: 256,830,721\n",
      "Trainable params: 32,897\n",
      "Non-trainable params: 256,797,824\n",
      "_________________________________________________________________\n"
     ]
    },
    {
     "name": "stderr",
     "output_type": "stream",
     "text": [
      "2023-04-24 12:56:35.551668: I tensorflow/core/common_runtime/executor.cc:1197] [/device:CPU:0] (DEBUG INFO) Executor start aborting (this does not indicate an error and you can ignore this message): INVALID_ARGUMENT: You must feed a value for placeholder tensor 'inputs' with dtype string\n",
      "\t [[{{node inputs}}]]\n",
      "2023-04-24 12:56:35.610254: I tensorflow/core/common_runtime/executor.cc:1197] [/device:CPU:0] (DEBUG INFO) Executor start aborting (this does not indicate an error and you can ignore this message): INVALID_ARGUMENT: You must feed a value for placeholder tensor 'Placeholder' with dtype string and shape [?]\n",
      "\t [[{{node Placeholder}}]]\n"
     ]
    }
   ],
   "source": [
    "model_6b = tf.keras.models.Sequential(name='model_6b_use_10_percent')\n",
    "\n",
    "model_6b.add(hub.KerasLayer(\n",
    "    'https://tfhub.dev/google/universal-sentence-encoder/4', \n",
    "    input_shape=[], # layer excepts string of variable length and returns a 512 feature vector\n",
    "    dtype=tf.string, \n",
    "    trainable=False,\n",
    "    name='sentence-encoder'\n",
    "))\n",
    "\n",
    "model_6b.add(Dense(64, activation='relu'))\n",
    "model_6b.add(Dense(1, activation='sigmoid'))\n",
    "\n",
    "model_6b.summary()"
   ]
  },
  {
   "cell_type": "markdown",
   "id": "4446f362",
   "metadata": {},
   "source": [
    "```\n",
    "Model: \"model_6b_use_10_percent\"\n",
    "_________________________________________________________________\n",
    " Layer (type)                Output Shape              Param #   \n",
    "=================================================================\n",
    " sentence-encoder (KerasLaye  (None, 512)              256797824 \n",
    " r)                                                              \n",
    "                                                                 \n",
    " dense_10 (Dense)            (None, 64)                32832     \n",
    "                                                                 \n",
    " dense_11 (Dense)            (None, 1)                 65        \n",
    "                                                                 \n",
    "=================================================================\n",
    "Total params: 256,830,721\n",
    "Trainable params: 32,897\n",
    "Non-trainable params: 256,797,824\n",
    "_________________________________________________________________\n",
    "```"
   ]
  },
  {
   "cell_type": "code",
   "execution_count": 88,
   "id": "d9ccd16e",
   "metadata": {},
   "outputs": [],
   "source": [
    "model_6b.compile(\n",
    "    loss='binary_crossentropy',\n",
    "    optimizer=tf.keras.optimizers.Adam(),\n",
    "    metrics=['accuracy']\n",
    ")"
   ]
  },
  {
   "cell_type": "code",
   "execution_count": 89,
   "id": "f3cdd58b",
   "metadata": {
    "collapsed": true
   },
   "outputs": [
    {
     "name": "stdout",
     "output_type": "stream",
     "text": [
      "INFO :: Saving TensorBoard Log to: tensorboad/model_6b_use/20230424-125641\n",
      "Epoch 1/5\n"
     ]
    },
    {
     "name": "stderr",
     "output_type": "stream",
     "text": [
      "2023-04-24 12:56:42.365682: I tensorflow/core/common_runtime/executor.cc:1197] [/device:CPU:0] (DEBUG INFO) Executor start aborting (this does not indicate an error and you can ignore this message): INVALID_ARGUMENT: You must feed a value for placeholder tensor 'gradients/StatefulPartitionedCall_grad/StatefulPartitionedCall' with dtype float and shape [?,512]\n",
      "\t [[{{node gradients/StatefulPartitionedCall_grad/StatefulPartitionedCall}}]]\n",
      "2023-04-24 12:56:42.365863: I tensorflow/core/common_runtime/executor.cc:1197] [/device:CPU:0] (DEBUG INFO) Executor start aborting (this does not indicate an error and you can ignore this message): INVALID_ARGUMENT: You must feed a value for placeholder tensor 'gradients/StatefulPartitionedCall_grad/StatefulPartitionedCall_1' with dtype float and shape [?,1]\n",
      "\t [[{{node gradients/StatefulPartitionedCall_grad/StatefulPartitionedCall_1}}]]\n",
      "2023-04-24 12:56:42.365946: I tensorflow/core/common_runtime/executor.cc:1197] [/device:CPU:0] (DEBUG INFO) Executor start aborting (this does not indicate an error and you can ignore this message): INVALID_ARGUMENT: You must feed a value for placeholder tensor 'gradients/StatefulPartitionedCall_grad/StatefulPartitionedCall_2' with dtype float and shape [?,1]\n",
      "\t [[{{node gradients/StatefulPartitionedCall_grad/StatefulPartitionedCall_2}}]]\n",
      "2023-04-24 12:56:42.366024: I tensorflow/core/common_runtime/executor.cc:1197] [/device:CPU:0] (DEBUG INFO) Executor start aborting (this does not indicate an error and you can ignore this message): INVALID_ARGUMENT: You must feed a value for placeholder tensor 'gradients/StatefulPartitionedCall_grad/StatefulPartitionedCall_4' with dtype float and shape [?,512]\n",
      "\t [[{{node gradients/StatefulPartitionedCall_grad/StatefulPartitionedCall_4}}]]\n",
      "2023-04-24 12:56:42.366087: I tensorflow/core/common_runtime/executor.cc:1197] [/device:CPU:0] (DEBUG INFO) Executor start aborting (this does not indicate an error and you can ignore this message): INVALID_ARGUMENT: You must feed a value for placeholder tensor 'gradients/StatefulPartitionedCall_grad/StatefulPartitionedCall_5' with dtype float and shape [?,512]\n",
      "\t [[{{node gradients/StatefulPartitionedCall_grad/StatefulPartitionedCall_5}}]]\n",
      "2023-04-24 12:56:42.366185: I tensorflow/core/common_runtime/executor.cc:1197] [/device:CPU:0] (DEBUG INFO) Executor start aborting (this does not indicate an error and you can ignore this message): INVALID_ARGUMENT: You must feed a value for placeholder tensor 'gradients/StatefulPartitionedCall_grad/StatefulPartitionedCall_6' with dtype float and shape [?,1]\n",
      "\t [[{{node gradients/StatefulPartitionedCall_grad/StatefulPartitionedCall_6}}]]\n",
      "2023-04-24 12:56:42.366268: I tensorflow/core/common_runtime/executor.cc:1197] [/device:CPU:0] (DEBUG INFO) Executor start aborting (this does not indicate an error and you can ignore this message): INVALID_ARGUMENT: You must feed a value for placeholder tensor 'gradients/StatefulPartitionedCall_grad/StatefulPartitionedCall_7' with dtype float and shape [?,1]\n",
      "\t [[{{node gradients/StatefulPartitionedCall_grad/StatefulPartitionedCall_7}}]]\n",
      "2023-04-24 12:56:42.366381: I tensorflow/core/common_runtime/executor.cc:1197] [/device:CPU:0] (DEBUG INFO) Executor start aborting (this does not indicate an error and you can ignore this message): INVALID_ARGUMENT: You must feed a value for placeholder tensor 'gradients/StatefulPartitionedCall_grad/StatefulPartitionedCall_9' with dtype float and shape [?,512]\n",
      "\t [[{{node gradients/StatefulPartitionedCall_grad/StatefulPartitionedCall_9}}]]\n",
      "2023-04-24 12:56:42.366484: I tensorflow/core/common_runtime/executor.cc:1197] [/device:CPU:0] (DEBUG INFO) Executor start aborting (this does not indicate an error and you can ignore this message): INVALID_ARGUMENT: You must feed a value for placeholder tensor 'gradients/StatefulPartitionedCall_grad/StatefulPartitionedCall_10' with dtype float and shape [?,512]\n",
      "\t [[{{node gradients/StatefulPartitionedCall_grad/StatefulPartitionedCall_10}}]]\n",
      "2023-04-24 12:56:42.366600: I tensorflow/core/common_runtime/executor.cc:1197] [/device:CPU:0] (DEBUG INFO) Executor start aborting (this does not indicate an error and you can ignore this message): INVALID_ARGUMENT: You must feed a value for placeholder tensor 'gradients/StatefulPartitionedCall_grad/StatefulPartitionedCall_11' with dtype float and shape [?,512]\n",
      "\t [[{{node gradients/StatefulPartitionedCall_grad/StatefulPartitionedCall_11}}]]\n",
      "2023-04-24 12:56:42.366674: I tensorflow/core/common_runtime/executor.cc:1197] [/device:CPU:0] (DEBUG INFO) Executor start aborting (this does not indicate an error and you can ignore this message): INVALID_ARGUMENT: You must feed a value for placeholder tensor 'gradients/StatefulPartitionedCall_grad/StatefulPartitionedCall_17' with dtype int32\n",
      "\t [[{{node gradients/StatefulPartitionedCall_grad/StatefulPartitionedCall_17}}]]\n",
      "2023-04-24 12:56:42.366757: I tensorflow/core/common_runtime/executor.cc:1197] [/device:CPU:0] (DEBUG INFO) Executor start aborting (this does not indicate an error and you can ignore this message): INVALID_ARGUMENT: You must feed a value for placeholder tensor 'gradients/StatefulPartitionedCall_grad/StatefulPartitionedCall_18' with dtype int32\n",
      "\t [[{{node gradients/StatefulPartitionedCall_grad/StatefulPartitionedCall_18}}]]\n",
      "2023-04-24 12:56:42.366852: I tensorflow/core/common_runtime/executor.cc:1197] [/device:CPU:0] (DEBUG INFO) Executor start aborting (this does not indicate an error and you can ignore this message): INVALID_ARGUMENT: You must feed a value for placeholder tensor 'gradients/StatefulPartitionedCall_grad/StatefulPartitionedCall_19' with dtype float and shape [?,320]\n",
      "\t [[{{node gradients/StatefulPartitionedCall_grad/StatefulPartitionedCall_19}}]]\n",
      "2023-04-24 12:56:42.366926: I tensorflow/core/common_runtime/executor.cc:1197] [/device:CPU:0] (DEBUG INFO) Executor start aborting (this does not indicate an error and you can ignore this message): INVALID_ARGUMENT: You must feed a value for placeholder tensor 'gradients/StatefulPartitionedCall_grad/StatefulPartitionedCall_20' with dtype float\n",
      "\t [[{{node gradients/StatefulPartitionedCall_grad/StatefulPartitionedCall_20}}]]\n",
      "2023-04-24 12:56:42.366981: I tensorflow/core/common_runtime/executor.cc:1197] [/device:CPU:0] (DEBUG INFO) Executor start aborting (this does not indicate an error and you can ignore this message): INVALID_ARGUMENT: You must feed a value for placeholder tensor 'gradients/StatefulPartitionedCall_grad/StatefulPartitionedCall_21' with dtype int32\n",
      "\t [[{{node gradients/StatefulPartitionedCall_grad/StatefulPartitionedCall_21}}]]\n",
      "2023-04-24 12:56:42.367029: I tensorflow/core/common_runtime/executor.cc:1197] [/device:CPU:0] (DEBUG INFO) Executor start aborting (this does not indicate an error and you can ignore this message): INVALID_ARGUMENT: You must feed a value for placeholder tensor 'gradients/StatefulPartitionedCall_grad/StatefulPartitionedCall_25' with dtype int32\n",
      "\t [[{{node gradients/StatefulPartitionedCall_grad/StatefulPartitionedCall_25}}]]\n",
      "2023-04-24 12:56:42.367075: I tensorflow/core/common_runtime/executor.cc:1197] [/device:CPU:0] (DEBUG INFO) Executor start aborting (this does not indicate an error and you can ignore this message): INVALID_ARGUMENT: You must feed a value for placeholder tensor 'gradients/StatefulPartitionedCall_grad/StatefulPartitionedCall_26' with dtype float\n",
      "\t [[{{node gradients/StatefulPartitionedCall_grad/StatefulPartitionedCall_26}}]]\n",
      "2023-04-24 12:56:42.367121: I tensorflow/core/common_runtime/executor.cc:1197] [/device:CPU:0] (DEBUG INFO) Executor start aborting (this does not indicate an error and you can ignore this message): INVALID_ARGUMENT: You must feed a value for placeholder tensor 'gradients/StatefulPartitionedCall_grad/StatefulPartitionedCall_27' with dtype float and shape [?,1]\n",
      "\t [[{{node gradients/StatefulPartitionedCall_grad/StatefulPartitionedCall_27}}]]\n",
      "2023-04-24 12:56:42.367168: I tensorflow/core/common_runtime/executor.cc:1197] [/device:CPU:0] (DEBUG INFO) Executor start aborting (this does not indicate an error and you can ignore this message): INVALID_ARGUMENT: You must feed a value for placeholder tensor 'gradients/StatefulPartitionedCall_grad/StatefulPartitionedCall_29' with dtype int32\n",
      "\t [[{{node gradients/StatefulPartitionedCall_grad/StatefulPartitionedCall_29}}]]\n",
      "2023-04-24 12:56:42.367215: I tensorflow/core/common_runtime/executor.cc:1197] [/device:CPU:0] (DEBUG INFO) Executor start aborting (this does not indicate an error and you can ignore this message): INVALID_ARGUMENT: You must feed a value for placeholder tensor 'gradients/StatefulPartitionedCall_grad/StatefulPartitionedCall_30' with dtype float and shape [?,320]\n",
      "\t [[{{node gradients/StatefulPartitionedCall_grad/StatefulPartitionedCall_30}}]]\n",
      "2023-04-24 12:56:42.367261: I tensorflow/core/common_runtime/executor.cc:1197] [/device:CPU:0] (DEBUG INFO) Executor start aborting (this does not indicate an error and you can ignore this message): INVALID_ARGUMENT: You must feed a value for placeholder tensor 'gradients/StatefulPartitionedCall_grad/StatefulPartitionedCall_31' with dtype float and shape [?,320]\n",
      "\t [[{{node gradients/StatefulPartitionedCall_grad/StatefulPartitionedCall_31}}]]\n",
      "2023-04-24 12:56:42.367308: I tensorflow/core/common_runtime/executor.cc:1197] [/device:CPU:0] (DEBUG INFO) Executor start aborting (this does not indicate an error and you can ignore this message): INVALID_ARGUMENT: You must feed a value for placeholder tensor 'gradients/StatefulPartitionedCall_grad/StatefulPartitionedCall_32' with dtype int32 and shape [?]\n",
      "\t [[{{node gradients/StatefulPartitionedCall_grad/StatefulPartitionedCall_32}}]]\n",
      "2023-04-24 12:56:42.367353: I tensorflow/core/common_runtime/executor.cc:1197] [/device:CPU:0] (DEBUG INFO) Executor start aborting (this does not indicate an error and you can ignore this message): INVALID_ARGUMENT: You must feed a value for placeholder tensor 'gradients/StatefulPartitionedCall_grad/StatefulPartitionedCall_33' with dtype float and shape [?,320]\n",
      "\t [[{{node gradients/StatefulPartitionedCall_grad/StatefulPartitionedCall_33}}]]\n",
      "2023-04-24 12:56:42.367400: I tensorflow/core/common_runtime/executor.cc:1197] [/device:CPU:0] (DEBUG INFO) Executor start aborting (this does not indicate an error and you can ignore this message): INVALID_ARGUMENT: You must feed a value for placeholder tensor 'gradients/StatefulPartitionedCall_grad/StatefulPartitionedCall_64' with dtype int64 and shape [?]\n",
      "\t [[{{node gradients/StatefulPartitionedCall_grad/StatefulPartitionedCall_64}}]]\n",
      "2023-04-24 12:56:42.367448: I tensorflow/core/common_runtime/executor.cc:1197] [/device:CPU:0] (DEBUG INFO) Executor start aborting (this does not indicate an error and you can ignore this message): INVALID_ARGUMENT: You must feed a value for placeholder tensor 'gradients/StatefulPartitionedCall_grad/StatefulPartitionedCall_65' with dtype int64 and shape [?]\n",
      "\t [[{{node gradients/StatefulPartitionedCall_grad/StatefulPartitionedCall_65}}]]\n",
      "2023-04-24 12:56:42.367494: I tensorflow/core/common_runtime/executor.cc:1197] [/device:CPU:0] (DEBUG INFO) Executor start aborting (this does not indicate an error and you can ignore this message): INVALID_ARGUMENT: You must feed a value for placeholder tensor 'gradients/StatefulPartitionedCall_grad/StatefulPartitionedCall_66' with dtype int64 and shape [?]\n",
      "\t [[{{node gradients/StatefulPartitionedCall_grad/StatefulPartitionedCall_66}}]]\n",
      "2023-04-24 12:56:42.367540: I tensorflow/core/common_runtime/executor.cc:1197] [/device:CPU:0] (DEBUG INFO) Executor start aborting (this does not indicate an error and you can ignore this message): INVALID_ARGUMENT: You must feed a value for placeholder tensor 'gradients/StatefulPartitionedCall_grad/StatefulPartitionedCall_67' with dtype int64 and shape [?]\n",
      "\t [[{{node gradients/StatefulPartitionedCall_grad/StatefulPartitionedCall_67}}]]\n",
      "2023-04-24 12:56:42.367586: I tensorflow/core/common_runtime/executor.cc:1197] [/device:CPU:0] (DEBUG INFO) Executor start aborting (this does not indicate an error and you can ignore this message): INVALID_ARGUMENT: You must feed a value for placeholder tensor 'gradients/StatefulPartitionedCall_grad/StatefulPartitionedCall_68' with dtype int64 and shape [?]\n",
      "\t [[{{node gradients/StatefulPartitionedCall_grad/StatefulPartitionedCall_68}}]]\n",
      "2023-04-24 12:56:42.367632: I tensorflow/core/common_runtime/executor.cc:1197] [/device:CPU:0] (DEBUG INFO) Executor start aborting (this does not indicate an error and you can ignore this message): INVALID_ARGUMENT: You must feed a value for placeholder tensor 'gradients/StatefulPartitionedCall_grad/StatefulPartitionedCall_69' with dtype int64 and shape [?]\n",
      "\t [[{{node gradients/StatefulPartitionedCall_grad/StatefulPartitionedCall_69}}]]\n",
      "2023-04-24 12:56:42.367678: I tensorflow/core/common_runtime/executor.cc:1197] [/device:CPU:0] (DEBUG INFO) Executor start aborting (this does not indicate an error and you can ignore this message): INVALID_ARGUMENT: You must feed a value for placeholder tensor 'gradients/StatefulPartitionedCall_grad/StatefulPartitionedCall_70' with dtype int64 and shape [?]\n",
      "\t [[{{node gradients/StatefulPartitionedCall_grad/StatefulPartitionedCall_70}}]]\n",
      "2023-04-24 12:56:42.367724: I tensorflow/core/common_runtime/executor.cc:1197] [/device:CPU:0] (DEBUG INFO) Executor start aborting (this does not indicate an error and you can ignore this message): INVALID_ARGUMENT: You must feed a value for placeholder tensor 'gradients/StatefulPartitionedCall_grad/StatefulPartitionedCall_71' with dtype int64 and shape [?]\n",
      "\t [[{{node gradients/StatefulPartitionedCall_grad/StatefulPartitionedCall_71}}]]\n",
      "2023-04-24 12:56:42.367769: I tensorflow/core/common_runtime/executor.cc:1197] [/device:CPU:0] (DEBUG INFO) Executor start aborting (this does not indicate an error and you can ignore this message): INVALID_ARGUMENT: You must feed a value for placeholder tensor 'gradients/StatefulPartitionedCall_grad/StatefulPartitionedCall_72' with dtype int64 and shape [?]\n",
      "\t [[{{node gradients/StatefulPartitionedCall_grad/StatefulPartitionedCall_72}}]]\n",
      "2023-04-24 12:56:42.367815: I tensorflow/core/common_runtime/executor.cc:1197] [/device:CPU:0] (DEBUG INFO) Executor start aborting (this does not indicate an error and you can ignore this message): INVALID_ARGUMENT: You must feed a value for placeholder tensor 'gradients/StatefulPartitionedCall_grad/StatefulPartitionedCall_73' with dtype int64 and shape [?]\n",
      "\t [[{{node gradients/StatefulPartitionedCall_grad/StatefulPartitionedCall_73}}]]\n",
      "2023-04-24 12:56:42.367861: I tensorflow/core/common_runtime/executor.cc:1197] [/device:CPU:0] (DEBUG INFO) Executor start aborting (this does not indicate an error and you can ignore this message): INVALID_ARGUMENT: You must feed a value for placeholder tensor 'gradients/StatefulPartitionedCall_grad/StatefulPartitionedCall_74' with dtype int64 and shape [?]\n",
      "\t [[{{node gradients/StatefulPartitionedCall_grad/StatefulPartitionedCall_74}}]]\n",
      "2023-04-24 12:56:42.367907: I tensorflow/core/common_runtime/executor.cc:1197] [/device:CPU:0] (DEBUG INFO) Executor start aborting (this does not indicate an error and you can ignore this message): INVALID_ARGUMENT: You must feed a value for placeholder tensor 'gradients/StatefulPartitionedCall_grad/StatefulPartitionedCall_75' with dtype int64 and shape [?]\n",
      "\t [[{{node gradients/StatefulPartitionedCall_grad/StatefulPartitionedCall_75}}]]\n",
      "2023-04-24 12:56:42.367952: I tensorflow/core/common_runtime/executor.cc:1197] [/device:CPU:0] (DEBUG INFO) Executor start aborting (this does not indicate an error and you can ignore this message): INVALID_ARGUMENT: You must feed a value for placeholder tensor 'gradients/StatefulPartitionedCall_grad/StatefulPartitionedCall_76' with dtype int64 and shape [?]\n",
      "\t [[{{node gradients/StatefulPartitionedCall_grad/StatefulPartitionedCall_76}}]]\n",
      "2023-04-24 12:56:42.367998: I tensorflow/core/common_runtime/executor.cc:1197] [/device:CPU:0] (DEBUG INFO) Executor start aborting (this does not indicate an error and you can ignore this message): INVALID_ARGUMENT: You must feed a value for placeholder tensor 'gradients/StatefulPartitionedCall_grad/StatefulPartitionedCall_77' with dtype int64 and shape [?]\n",
      "\t [[{{node gradients/StatefulPartitionedCall_grad/StatefulPartitionedCall_77}}]]\n",
      "2023-04-24 12:56:42.368044: I tensorflow/core/common_runtime/executor.cc:1197] [/device:CPU:0] (DEBUG INFO) Executor start aborting (this does not indicate an error and you can ignore this message): INVALID_ARGUMENT: You must feed a value for placeholder tensor 'gradients/StatefulPartitionedCall_grad/StatefulPartitionedCall_78' with dtype int64 and shape [?]\n",
      "\t [[{{node gradients/StatefulPartitionedCall_grad/StatefulPartitionedCall_78}}]]\n",
      "2023-04-24 12:56:42.368090: I tensorflow/core/common_runtime/executor.cc:1197] [/device:CPU:0] (DEBUG INFO) Executor start aborting (this does not indicate an error and you can ignore this message): INVALID_ARGUMENT: You must feed a value for placeholder tensor 'gradients/StatefulPartitionedCall_grad/StatefulPartitionedCall_79' with dtype int64 and shape [?]\n",
      "\t [[{{node gradients/StatefulPartitionedCall_grad/StatefulPartitionedCall_79}}]]\n",
      "2023-04-24 12:56:42.368135: I tensorflow/core/common_runtime/executor.cc:1197] [/device:CPU:0] (DEBUG INFO) Executor start aborting (this does not indicate an error and you can ignore this message): INVALID_ARGUMENT: You must feed a value for placeholder tensor 'gradients/StatefulPartitionedCall_grad/StatefulPartitionedCall_80' with dtype int64 and shape [?]\n",
      "\t [[{{node gradients/StatefulPartitionedCall_grad/StatefulPartitionedCall_80}}]]\n",
      "2023-04-24 12:56:42.368220: I tensorflow/core/common_runtime/executor.cc:1197] [/device:CPU:0] (DEBUG INFO) Executor start aborting (this does not indicate an error and you can ignore this message): INVALID_ARGUMENT: You must feed a value for placeholder tensor 'gradients/StatefulPartitionedCall_grad/StatefulPartitionedCall_81' with dtype int64 and shape [?]\n",
      "\t [[{{node gradients/StatefulPartitionedCall_grad/StatefulPartitionedCall_81}}]]\n",
      "2023-04-24 12:56:42.368306: I tensorflow/core/common_runtime/executor.cc:1197] [/device:CPU:0] (DEBUG INFO) Executor start aborting (this does not indicate an error and you can ignore this message): INVALID_ARGUMENT: You must feed a value for placeholder tensor 'gradients/StatefulPartitionedCall_grad/StatefulPartitionedCall_82' with dtype int64 and shape [?]\n",
      "\t [[{{node gradients/StatefulPartitionedCall_grad/StatefulPartitionedCall_82}}]]\n",
      "2023-04-24 12:56:42.368403: I tensorflow/core/common_runtime/executor.cc:1197] [/device:CPU:0] (DEBUG INFO) Executor start aborting (this does not indicate an error and you can ignore this message): INVALID_ARGUMENT: You must feed a value for placeholder tensor 'gradients/StatefulPartitionedCall_grad/StatefulPartitionedCall_83' with dtype int64 and shape [?]\n",
      "\t [[{{node gradients/StatefulPartitionedCall_grad/StatefulPartitionedCall_83}}]]\n",
      "2023-04-24 12:56:42.368514: I tensorflow/core/common_runtime/executor.cc:1197] [/device:CPU:0] (DEBUG INFO) Executor start aborting (this does not indicate an error and you can ignore this message): INVALID_ARGUMENT: You must feed a value for placeholder tensor 'gradients/StatefulPartitionedCall_grad/StatefulPartitionedCall_84' with dtype int64 and shape [?]\n",
      "\t [[{{node gradients/StatefulPartitionedCall_grad/StatefulPartitionedCall_84}}]]\n",
      "2023-04-24 12:56:42.368625: I tensorflow/core/common_runtime/executor.cc:1197] [/device:CPU:0] (DEBUG INFO) Executor start aborting (this does not indicate an error and you can ignore this message): INVALID_ARGUMENT: You must feed a value for placeholder tensor 'gradients/StatefulPartitionedCall_grad/StatefulPartitionedCall_85' with dtype int64 and shape [?]\n",
      "\t [[{{node gradients/StatefulPartitionedCall_grad/StatefulPartitionedCall_85}}]]\n",
      "2023-04-24 12:56:42.368735: I tensorflow/core/common_runtime/executor.cc:1197] [/device:CPU:0] (DEBUG INFO) Executor start aborting (this does not indicate an error and you can ignore this message): INVALID_ARGUMENT: You must feed a value for placeholder tensor 'gradients/StatefulPartitionedCall_grad/StatefulPartitionedCall_86' with dtype int64 and shape [?]\n",
      "\t [[{{node gradients/StatefulPartitionedCall_grad/StatefulPartitionedCall_86}}]]\n",
      "2023-04-24 12:56:42.368845: I tensorflow/core/common_runtime/executor.cc:1197] [/device:CPU:0] (DEBUG INFO) Executor start aborting (this does not indicate an error and you can ignore this message): INVALID_ARGUMENT: You must feed a value for placeholder tensor 'gradients/StatefulPartitionedCall_grad/StatefulPartitionedCall_87' with dtype int64 and shape [?]\n",
      "\t [[{{node gradients/StatefulPartitionedCall_grad/StatefulPartitionedCall_87}}]]\n",
      "2023-04-24 12:56:42.368955: I tensorflow/core/common_runtime/executor.cc:1197] [/device:CPU:0] (DEBUG INFO) Executor start aborting (this does not indicate an error and you can ignore this message): INVALID_ARGUMENT: You must feed a value for placeholder tensor 'gradients/StatefulPartitionedCall_grad/StatefulPartitionedCall_88' with dtype int64 and shape [?]\n",
      "\t [[{{node gradients/StatefulPartitionedCall_grad/StatefulPartitionedCall_88}}]]\n",
      "2023-04-24 12:56:42.369054: I tensorflow/core/common_runtime/executor.cc:1197] [/device:CPU:0] (DEBUG INFO) Executor start aborting (this does not indicate an error and you can ignore this message): INVALID_ARGUMENT: You must feed a value for placeholder tensor 'gradients/StatefulPartitionedCall_grad/StatefulPartitionedCall_89' with dtype int64 and shape [?]\n",
      "\t [[{{node gradients/StatefulPartitionedCall_grad/StatefulPartitionedCall_89}}]]\n",
      "2023-04-24 12:56:42.369151: I tensorflow/core/common_runtime/executor.cc:1197] [/device:CPU:0] (DEBUG INFO) Executor start aborting (this does not indicate an error and you can ignore this message): INVALID_ARGUMENT: You must feed a value for placeholder tensor 'gradients/StatefulPartitionedCall_grad/StatefulPartitionedCall_90' with dtype int64 and shape [?]\n",
      "\t [[{{node gradients/StatefulPartitionedCall_grad/StatefulPartitionedCall_90}}]]\n",
      "2023-04-24 12:56:42.369261: I tensorflow/core/common_runtime/executor.cc:1197] [/device:CPU:0] (DEBUG INFO) Executor start aborting (this does not indicate an error and you can ignore this message): INVALID_ARGUMENT: You must feed a value for placeholder tensor 'gradients/StatefulPartitionedCall_grad/StatefulPartitionedCall_91' with dtype int64 and shape [?]\n",
      "\t [[{{node gradients/StatefulPartitionedCall_grad/StatefulPartitionedCall_91}}]]\n",
      "2023-04-24 12:56:42.369372: I tensorflow/core/common_runtime/executor.cc:1197] [/device:CPU:0] (DEBUG INFO) Executor start aborting (this does not indicate an error and you can ignore this message): INVALID_ARGUMENT: You must feed a value for placeholder tensor 'gradients/StatefulPartitionedCall_grad/StatefulPartitionedCall_92' with dtype int64 and shape [?]\n",
      "\t [[{{node gradients/StatefulPartitionedCall_grad/StatefulPartitionedCall_92}}]]\n",
      "2023-04-24 12:56:42.369482: I tensorflow/core/common_runtime/executor.cc:1197] [/device:CPU:0] (DEBUG INFO) Executor start aborting (this does not indicate an error and you can ignore this message): INVALID_ARGUMENT: You must feed a value for placeholder tensor 'gradients/StatefulPartitionedCall_grad/StatefulPartitionedCall_93' with dtype int64 and shape [?]\n",
      "\t [[{{node gradients/StatefulPartitionedCall_grad/StatefulPartitionedCall_93}}]]\n",
      "2023-04-24 12:56:42.532077: I tensorflow/core/common_runtime/executor.cc:1197] [/device:CPU:0] (DEBUG INFO) Executor start aborting (this does not indicate an error and you can ignore this message): INVALID_ARGUMENT: You must feed a value for placeholder tensor 'gradients/StatefulPartitionedCall_grad/StatefulPartitionedCall' with dtype float and shape [?,512]\n",
      "\t [[{{node gradients/StatefulPartitionedCall_grad/StatefulPartitionedCall}}]]\n",
      "2023-04-24 12:56:42.532169: I tensorflow/core/common_runtime/executor.cc:1197] [/device:CPU:0] (DEBUG INFO) Executor start aborting (this does not indicate an error and you can ignore this message): INVALID_ARGUMENT: You must feed a value for placeholder tensor 'gradients/StatefulPartitionedCall_grad/StatefulPartitionedCall_1' with dtype float and shape [?,1]\n",
      "\t [[{{node gradients/StatefulPartitionedCall_grad/StatefulPartitionedCall_1}}]]\n",
      "2023-04-24 12:56:42.532263: I tensorflow/core/common_runtime/executor.cc:1197] [/device:CPU:0] (DEBUG INFO) Executor start aborting (this does not indicate an error and you can ignore this message): INVALID_ARGUMENT: You must feed a value for placeholder tensor 'gradients/StatefulPartitionedCall_grad/StatefulPartitionedCall_2' with dtype float and shape [?,1]\n",
      "\t [[{{node gradients/StatefulPartitionedCall_grad/StatefulPartitionedCall_2}}]]\n",
      "2023-04-24 12:56:42.532364: I tensorflow/core/common_runtime/executor.cc:1197] [/device:CPU:0] (DEBUG INFO) Executor start aborting (this does not indicate an error and you can ignore this message): INVALID_ARGUMENT: You must feed a value for placeholder tensor 'gradients/StatefulPartitionedCall_grad/StatefulPartitionedCall_4' with dtype float and shape [?,512]\n",
      "\t [[{{node gradients/StatefulPartitionedCall_grad/StatefulPartitionedCall_4}}]]\n",
      "2023-04-24 12:56:42.532458: I tensorflow/core/common_runtime/executor.cc:1197] [/device:CPU:0] (DEBUG INFO) Executor start aborting (this does not indicate an error and you can ignore this message): INVALID_ARGUMENT: You must feed a value for placeholder tensor 'gradients/StatefulPartitionedCall_grad/StatefulPartitionedCall_5' with dtype float and shape [?,512]\n",
      "\t [[{{node gradients/StatefulPartitionedCall_grad/StatefulPartitionedCall_5}}]]\n",
      "2023-04-24 12:56:42.532557: I tensorflow/core/common_runtime/executor.cc:1197] [/device:CPU:0] (DEBUG INFO) Executor start aborting (this does not indicate an error and you can ignore this message): INVALID_ARGUMENT: You must feed a value for placeholder tensor 'gradients/StatefulPartitionedCall_grad/StatefulPartitionedCall_6' with dtype float and shape [?,1]\n",
      "\t [[{{node gradients/StatefulPartitionedCall_grad/StatefulPartitionedCall_6}}]]\n",
      "2023-04-24 12:56:42.532657: I tensorflow/core/common_runtime/executor.cc:1197] [/device:CPU:0] (DEBUG INFO) Executor start aborting (this does not indicate an error and you can ignore this message): INVALID_ARGUMENT: You must feed a value for placeholder tensor 'gradients/StatefulPartitionedCall_grad/StatefulPartitionedCall_7' with dtype float and shape [?,1]\n",
      "\t [[{{node gradients/StatefulPartitionedCall_grad/StatefulPartitionedCall_7}}]]\n",
      "2023-04-24 12:56:42.532799: I tensorflow/core/common_runtime/executor.cc:1197] [/device:CPU:0] (DEBUG INFO) Executor start aborting (this does not indicate an error and you can ignore this message): INVALID_ARGUMENT: You must feed a value for placeholder tensor 'gradients/StatefulPartitionedCall_grad/StatefulPartitionedCall_9' with dtype float and shape [?,512]\n",
      "\t [[{{node gradients/StatefulPartitionedCall_grad/StatefulPartitionedCall_9}}]]\n",
      "2023-04-24 12:56:42.532895: I tensorflow/core/common_runtime/executor.cc:1197] [/device:CPU:0] (DEBUG INFO) Executor start aborting (this does not indicate an error and you can ignore this message): INVALID_ARGUMENT: You must feed a value for placeholder tensor 'gradients/StatefulPartitionedCall_grad/StatefulPartitionedCall_10' with dtype float and shape [?,512]\n",
      "\t [[{{node gradients/StatefulPartitionedCall_grad/StatefulPartitionedCall_10}}]]\n",
      "2023-04-24 12:56:42.532979: I tensorflow/core/common_runtime/executor.cc:1197] [/device:CPU:0] (DEBUG INFO) Executor start aborting (this does not indicate an error and you can ignore this message): INVALID_ARGUMENT: You must feed a value for placeholder tensor 'gradients/StatefulPartitionedCall_grad/StatefulPartitionedCall_11' with dtype float and shape [?,512]\n",
      "\t [[{{node gradients/StatefulPartitionedCall_grad/StatefulPartitionedCall_11}}]]\n",
      "2023-04-24 12:56:42.533056: I tensorflow/core/common_runtime/executor.cc:1197] [/device:CPU:0] (DEBUG INFO) Executor start aborting (this does not indicate an error and you can ignore this message): INVALID_ARGUMENT: You must feed a value for placeholder tensor 'gradients/StatefulPartitionedCall_grad/StatefulPartitionedCall_17' with dtype int32\n",
      "\t [[{{node gradients/StatefulPartitionedCall_grad/StatefulPartitionedCall_17}}]]\n",
      "2023-04-24 12:56:42.533105: I tensorflow/core/common_runtime/executor.cc:1197] [/device:CPU:0] (DEBUG INFO) Executor start aborting (this does not indicate an error and you can ignore this message): INVALID_ARGUMENT: You must feed a value for placeholder tensor 'gradients/StatefulPartitionedCall_grad/StatefulPartitionedCall_18' with dtype int32\n",
      "\t [[{{node gradients/StatefulPartitionedCall_grad/StatefulPartitionedCall_18}}]]\n",
      "2023-04-24 12:56:42.533153: I tensorflow/core/common_runtime/executor.cc:1197] [/device:CPU:0] (DEBUG INFO) Executor start aborting (this does not indicate an error and you can ignore this message): INVALID_ARGUMENT: You must feed a value for placeholder tensor 'gradients/StatefulPartitionedCall_grad/StatefulPartitionedCall_19' with dtype float and shape [?,320]\n",
      "\t [[{{node gradients/StatefulPartitionedCall_grad/StatefulPartitionedCall_19}}]]\n",
      "2023-04-24 12:56:42.533199: I tensorflow/core/common_runtime/executor.cc:1197] [/device:CPU:0] (DEBUG INFO) Executor start aborting (this does not indicate an error and you can ignore this message): INVALID_ARGUMENT: You must feed a value for placeholder tensor 'gradients/StatefulPartitionedCall_grad/StatefulPartitionedCall_20' with dtype float\n",
      "\t [[{{node gradients/StatefulPartitionedCall_grad/StatefulPartitionedCall_20}}]]\n",
      "2023-04-24 12:56:42.533246: I tensorflow/core/common_runtime/executor.cc:1197] [/device:CPU:0] (DEBUG INFO) Executor start aborting (this does not indicate an error and you can ignore this message): INVALID_ARGUMENT: You must feed a value for placeholder tensor 'gradients/StatefulPartitionedCall_grad/StatefulPartitionedCall_21' with dtype int32\n",
      "\t [[{{node gradients/StatefulPartitionedCall_grad/StatefulPartitionedCall_21}}]]\n",
      "2023-04-24 12:56:42.533293: I tensorflow/core/common_runtime/executor.cc:1197] [/device:CPU:0] (DEBUG INFO) Executor start aborting (this does not indicate an error and you can ignore this message): INVALID_ARGUMENT: You must feed a value for placeholder tensor 'gradients/StatefulPartitionedCall_grad/StatefulPartitionedCall_25' with dtype int32\n",
      "\t [[{{node gradients/StatefulPartitionedCall_grad/StatefulPartitionedCall_25}}]]\n",
      "2023-04-24 12:56:42.533340: I tensorflow/core/common_runtime/executor.cc:1197] [/device:CPU:0] (DEBUG INFO) Executor start aborting (this does not indicate an error and you can ignore this message): INVALID_ARGUMENT: You must feed a value for placeholder tensor 'gradients/StatefulPartitionedCall_grad/StatefulPartitionedCall_26' with dtype float\n",
      "\t [[{{node gradients/StatefulPartitionedCall_grad/StatefulPartitionedCall_26}}]]\n",
      "2023-04-24 12:56:42.533386: I tensorflow/core/common_runtime/executor.cc:1197] [/device:CPU:0] (DEBUG INFO) Executor start aborting (this does not indicate an error and you can ignore this message): INVALID_ARGUMENT: You must feed a value for placeholder tensor 'gradients/StatefulPartitionedCall_grad/StatefulPartitionedCall_27' with dtype float and shape [?,1]\n",
      "\t [[{{node gradients/StatefulPartitionedCall_grad/StatefulPartitionedCall_27}}]]\n",
      "2023-04-24 12:56:42.533433: I tensorflow/core/common_runtime/executor.cc:1197] [/device:CPU:0] (DEBUG INFO) Executor start aborting (this does not indicate an error and you can ignore this message): INVALID_ARGUMENT: You must feed a value for placeholder tensor 'gradients/StatefulPartitionedCall_grad/StatefulPartitionedCall_29' with dtype int32\n",
      "\t [[{{node gradients/StatefulPartitionedCall_grad/StatefulPartitionedCall_29}}]]\n",
      "2023-04-24 12:56:42.533479: I tensorflow/core/common_runtime/executor.cc:1197] [/device:CPU:0] (DEBUG INFO) Executor start aborting (this does not indicate an error and you can ignore this message): INVALID_ARGUMENT: You must feed a value for placeholder tensor 'gradients/StatefulPartitionedCall_grad/StatefulPartitionedCall_30' with dtype float and shape [?,320]\n",
      "\t [[{{node gradients/StatefulPartitionedCall_grad/StatefulPartitionedCall_30}}]]\n",
      "2023-04-24 12:56:42.533551: I tensorflow/core/common_runtime/executor.cc:1197] [/device:CPU:0] (DEBUG INFO) Executor start aborting (this does not indicate an error and you can ignore this message): INVALID_ARGUMENT: You must feed a value for placeholder tensor 'gradients/StatefulPartitionedCall_grad/StatefulPartitionedCall_31' with dtype float and shape [?,320]\n",
      "\t [[{{node gradients/StatefulPartitionedCall_grad/StatefulPartitionedCall_31}}]]\n",
      "2023-04-24 12:56:42.533628: I tensorflow/core/common_runtime/executor.cc:1197] [/device:CPU:0] (DEBUG INFO) Executor start aborting (this does not indicate an error and you can ignore this message): INVALID_ARGUMENT: You must feed a value for placeholder tensor 'gradients/StatefulPartitionedCall_grad/StatefulPartitionedCall_32' with dtype int32 and shape [?]\n",
      "\t [[{{node gradients/StatefulPartitionedCall_grad/StatefulPartitionedCall_32}}]]\n",
      "2023-04-24 12:56:42.533711: I tensorflow/core/common_runtime/executor.cc:1197] [/device:CPU:0] (DEBUG INFO) Executor start aborting (this does not indicate an error and you can ignore this message): INVALID_ARGUMENT: You must feed a value for placeholder tensor 'gradients/StatefulPartitionedCall_grad/StatefulPartitionedCall_33' with dtype float and shape [?,320]\n",
      "\t [[{{node gradients/StatefulPartitionedCall_grad/StatefulPartitionedCall_33}}]]\n",
      "2023-04-24 12:56:42.533795: I tensorflow/core/common_runtime/executor.cc:1197] [/device:CPU:0] (DEBUG INFO) Executor start aborting (this does not indicate an error and you can ignore this message): INVALID_ARGUMENT: You must feed a value for placeholder tensor 'gradients/StatefulPartitionedCall_grad/StatefulPartitionedCall_64' with dtype int64 and shape [?]\n",
      "\t [[{{node gradients/StatefulPartitionedCall_grad/StatefulPartitionedCall_64}}]]\n",
      "2023-04-24 12:56:42.533889: I tensorflow/core/common_runtime/executor.cc:1197] [/device:CPU:0] (DEBUG INFO) Executor start aborting (this does not indicate an error and you can ignore this message): INVALID_ARGUMENT: You must feed a value for placeholder tensor 'gradients/StatefulPartitionedCall_grad/StatefulPartitionedCall_65' with dtype int64 and shape [?]\n",
      "\t [[{{node gradients/StatefulPartitionedCall_grad/StatefulPartitionedCall_65}}]]\n",
      "2023-04-24 12:56:42.533998: I tensorflow/core/common_runtime/executor.cc:1197] [/device:CPU:0] (DEBUG INFO) Executor start aborting (this does not indicate an error and you can ignore this message): INVALID_ARGUMENT: You must feed a value for placeholder tensor 'gradients/StatefulPartitionedCall_grad/StatefulPartitionedCall_66' with dtype int64 and shape [?]\n",
      "\t [[{{node gradients/StatefulPartitionedCall_grad/StatefulPartitionedCall_66}}]]\n",
      "2023-04-24 12:56:42.534105: I tensorflow/core/common_runtime/executor.cc:1197] [/device:CPU:0] (DEBUG INFO) Executor start aborting (this does not indicate an error and you can ignore this message): INVALID_ARGUMENT: You must feed a value for placeholder tensor 'gradients/StatefulPartitionedCall_grad/StatefulPartitionedCall_67' with dtype int64 and shape [?]\n",
      "\t [[{{node gradients/StatefulPartitionedCall_grad/StatefulPartitionedCall_67}}]]\n",
      "2023-04-24 12:56:42.534212: I tensorflow/core/common_runtime/executor.cc:1197] [/device:CPU:0] (DEBUG INFO) Executor start aborting (this does not indicate an error and you can ignore this message): INVALID_ARGUMENT: You must feed a value for placeholder tensor 'gradients/StatefulPartitionedCall_grad/StatefulPartitionedCall_68' with dtype int64 and shape [?]\n",
      "\t [[{{node gradients/StatefulPartitionedCall_grad/StatefulPartitionedCall_68}}]]\n",
      "2023-04-24 12:56:42.534320: I tensorflow/core/common_runtime/executor.cc:1197] [/device:CPU:0] (DEBUG INFO) Executor start aborting (this does not indicate an error and you can ignore this message): INVALID_ARGUMENT: You must feed a value for placeholder tensor 'gradients/StatefulPartitionedCall_grad/StatefulPartitionedCall_69' with dtype int64 and shape [?]\n",
      "\t [[{{node gradients/StatefulPartitionedCall_grad/StatefulPartitionedCall_69}}]]\n",
      "2023-04-24 12:56:42.534415: I tensorflow/core/common_runtime/executor.cc:1197] [/device:CPU:0] (DEBUG INFO) Executor start aborting (this does not indicate an error and you can ignore this message): INVALID_ARGUMENT: You must feed a value for placeholder tensor 'gradients/StatefulPartitionedCall_grad/StatefulPartitionedCall_70' with dtype int64 and shape [?]\n",
      "\t [[{{node gradients/StatefulPartitionedCall_grad/StatefulPartitionedCall_70}}]]\n",
      "2023-04-24 12:56:42.534500: I tensorflow/core/common_runtime/executor.cc:1197] [/device:CPU:0] (DEBUG INFO) Executor start aborting (this does not indicate an error and you can ignore this message): INVALID_ARGUMENT: You must feed a value for placeholder tensor 'gradients/StatefulPartitionedCall_grad/StatefulPartitionedCall_71' with dtype int64 and shape [?]\n",
      "\t [[{{node gradients/StatefulPartitionedCall_grad/StatefulPartitionedCall_71}}]]\n",
      "2023-04-24 12:56:42.534596: I tensorflow/core/common_runtime/executor.cc:1197] [/device:CPU:0] (DEBUG INFO) Executor start aborting (this does not indicate an error and you can ignore this message): INVALID_ARGUMENT: You must feed a value for placeholder tensor 'gradients/StatefulPartitionedCall_grad/StatefulPartitionedCall_72' with dtype int64 and shape [?]\n",
      "\t [[{{node gradients/StatefulPartitionedCall_grad/StatefulPartitionedCall_72}}]]\n",
      "2023-04-24 12:56:42.534701: I tensorflow/core/common_runtime/executor.cc:1197] [/device:CPU:0] (DEBUG INFO) Executor start aborting (this does not indicate an error and you can ignore this message): INVALID_ARGUMENT: You must feed a value for placeholder tensor 'gradients/StatefulPartitionedCall_grad/StatefulPartitionedCall_73' with dtype int64 and shape [?]\n",
      "\t [[{{node gradients/StatefulPartitionedCall_grad/StatefulPartitionedCall_73}}]]\n",
      "2023-04-24 12:56:42.534794: I tensorflow/core/common_runtime/executor.cc:1197] [/device:CPU:0] (DEBUG INFO) Executor start aborting (this does not indicate an error and you can ignore this message): INVALID_ARGUMENT: You must feed a value for placeholder tensor 'gradients/StatefulPartitionedCall_grad/StatefulPartitionedCall_74' with dtype int64 and shape [?]\n",
      "\t [[{{node gradients/StatefulPartitionedCall_grad/StatefulPartitionedCall_74}}]]\n",
      "2023-04-24 12:56:42.534887: I tensorflow/core/common_runtime/executor.cc:1197] [/device:CPU:0] (DEBUG INFO) Executor start aborting (this does not indicate an error and you can ignore this message): INVALID_ARGUMENT: You must feed a value for placeholder tensor 'gradients/StatefulPartitionedCall_grad/StatefulPartitionedCall_75' with dtype int64 and shape [?]\n",
      "\t [[{{node gradients/StatefulPartitionedCall_grad/StatefulPartitionedCall_75}}]]\n",
      "2023-04-24 12:56:42.534971: I tensorflow/core/common_runtime/executor.cc:1197] [/device:CPU:0] (DEBUG INFO) Executor start aborting (this does not indicate an error and you can ignore this message): INVALID_ARGUMENT: You must feed a value for placeholder tensor 'gradients/StatefulPartitionedCall_grad/StatefulPartitionedCall_76' with dtype int64 and shape [?]\n",
      "\t [[{{node gradients/StatefulPartitionedCall_grad/StatefulPartitionedCall_76}}]]\n",
      "2023-04-24 12:56:42.535055: I tensorflow/core/common_runtime/executor.cc:1197] [/device:CPU:0] (DEBUG INFO) Executor start aborting (this does not indicate an error and you can ignore this message): INVALID_ARGUMENT: You must feed a value for placeholder tensor 'gradients/StatefulPartitionedCall_grad/StatefulPartitionedCall_77' with dtype int64 and shape [?]\n",
      "\t [[{{node gradients/StatefulPartitionedCall_grad/StatefulPartitionedCall_77}}]]\n",
      "2023-04-24 12:56:42.535139: I tensorflow/core/common_runtime/executor.cc:1197] [/device:CPU:0] (DEBUG INFO) Executor start aborting (this does not indicate an error and you can ignore this message): INVALID_ARGUMENT: You must feed a value for placeholder tensor 'gradients/StatefulPartitionedCall_grad/StatefulPartitionedCall_78' with dtype int64 and shape [?]\n",
      "\t [[{{node gradients/StatefulPartitionedCall_grad/StatefulPartitionedCall_78}}]]\n",
      "2023-04-24 12:56:42.535223: I tensorflow/core/common_runtime/executor.cc:1197] [/device:CPU:0] (DEBUG INFO) Executor start aborting (this does not indicate an error and you can ignore this message): INVALID_ARGUMENT: You must feed a value for placeholder tensor 'gradients/StatefulPartitionedCall_grad/StatefulPartitionedCall_79' with dtype int64 and shape [?]\n",
      "\t [[{{node gradients/StatefulPartitionedCall_grad/StatefulPartitionedCall_79}}]]\n",
      "2023-04-24 12:56:42.535307: I tensorflow/core/common_runtime/executor.cc:1197] [/device:CPU:0] (DEBUG INFO) Executor start aborting (this does not indicate an error and you can ignore this message): INVALID_ARGUMENT: You must feed a value for placeholder tensor 'gradients/StatefulPartitionedCall_grad/StatefulPartitionedCall_80' with dtype int64 and shape [?]\n",
      "\t [[{{node gradients/StatefulPartitionedCall_grad/StatefulPartitionedCall_80}}]]\n",
      "2023-04-24 12:56:42.535389: I tensorflow/core/common_runtime/executor.cc:1197] [/device:CPU:0] (DEBUG INFO) Executor start aborting (this does not indicate an error and you can ignore this message): INVALID_ARGUMENT: You must feed a value for placeholder tensor 'gradients/StatefulPartitionedCall_grad/StatefulPartitionedCall_81' with dtype int64 and shape [?]\n",
      "\t [[{{node gradients/StatefulPartitionedCall_grad/StatefulPartitionedCall_81}}]]\n",
      "2023-04-24 12:56:42.535473: I tensorflow/core/common_runtime/executor.cc:1197] [/device:CPU:0] (DEBUG INFO) Executor start aborting (this does not indicate an error and you can ignore this message): INVALID_ARGUMENT: You must feed a value for placeholder tensor 'gradients/StatefulPartitionedCall_grad/StatefulPartitionedCall_82' with dtype int64 and shape [?]\n",
      "\t [[{{node gradients/StatefulPartitionedCall_grad/StatefulPartitionedCall_82}}]]\n",
      "2023-04-24 12:56:42.535556: I tensorflow/core/common_runtime/executor.cc:1197] [/device:CPU:0] (DEBUG INFO) Executor start aborting (this does not indicate an error and you can ignore this message): INVALID_ARGUMENT: You must feed a value for placeholder tensor 'gradients/StatefulPartitionedCall_grad/StatefulPartitionedCall_83' with dtype int64 and shape [?]\n",
      "\t [[{{node gradients/StatefulPartitionedCall_grad/StatefulPartitionedCall_83}}]]\n",
      "2023-04-24 12:56:42.535638: I tensorflow/core/common_runtime/executor.cc:1197] [/device:CPU:0] (DEBUG INFO) Executor start aborting (this does not indicate an error and you can ignore this message): INVALID_ARGUMENT: You must feed a value for placeholder tensor 'gradients/StatefulPartitionedCall_grad/StatefulPartitionedCall_84' with dtype int64 and shape [?]\n",
      "\t [[{{node gradients/StatefulPartitionedCall_grad/StatefulPartitionedCall_84}}]]\n",
      "2023-04-24 12:56:42.535721: I tensorflow/core/common_runtime/executor.cc:1197] [/device:CPU:0] (DEBUG INFO) Executor start aborting (this does not indicate an error and you can ignore this message): INVALID_ARGUMENT: You must feed a value for placeholder tensor 'gradients/StatefulPartitionedCall_grad/StatefulPartitionedCall_85' with dtype int64 and shape [?]\n",
      "\t [[{{node gradients/StatefulPartitionedCall_grad/StatefulPartitionedCall_85}}]]\n",
      "2023-04-24 12:56:42.535806: I tensorflow/core/common_runtime/executor.cc:1197] [/device:CPU:0] (DEBUG INFO) Executor start aborting (this does not indicate an error and you can ignore this message): INVALID_ARGUMENT: You must feed a value for placeholder tensor 'gradients/StatefulPartitionedCall_grad/StatefulPartitionedCall_86' with dtype int64 and shape [?]\n",
      "\t [[{{node gradients/StatefulPartitionedCall_grad/StatefulPartitionedCall_86}}]]\n",
      "2023-04-24 12:56:42.535888: I tensorflow/core/common_runtime/executor.cc:1197] [/device:CPU:0] (DEBUG INFO) Executor start aborting (this does not indicate an error and you can ignore this message): INVALID_ARGUMENT: You must feed a value for placeholder tensor 'gradients/StatefulPartitionedCall_grad/StatefulPartitionedCall_87' with dtype int64 and shape [?]\n",
      "\t [[{{node gradients/StatefulPartitionedCall_grad/StatefulPartitionedCall_87}}]]\n",
      "2023-04-24 12:56:42.535971: I tensorflow/core/common_runtime/executor.cc:1197] [/device:CPU:0] (DEBUG INFO) Executor start aborting (this does not indicate an error and you can ignore this message): INVALID_ARGUMENT: You must feed a value for placeholder tensor 'gradients/StatefulPartitionedCall_grad/StatefulPartitionedCall_88' with dtype int64 and shape [?]\n",
      "\t [[{{node gradients/StatefulPartitionedCall_grad/StatefulPartitionedCall_88}}]]\n",
      "2023-04-24 12:56:42.536056: I tensorflow/core/common_runtime/executor.cc:1197] [/device:CPU:0] (DEBUG INFO) Executor start aborting (this does not indicate an error and you can ignore this message): INVALID_ARGUMENT: You must feed a value for placeholder tensor 'gradients/StatefulPartitionedCall_grad/StatefulPartitionedCall_89' with dtype int64 and shape [?]\n",
      "\t [[{{node gradients/StatefulPartitionedCall_grad/StatefulPartitionedCall_89}}]]\n",
      "2023-04-24 12:56:42.536139: I tensorflow/core/common_runtime/executor.cc:1197] [/device:CPU:0] (DEBUG INFO) Executor start aborting (this does not indicate an error and you can ignore this message): INVALID_ARGUMENT: You must feed a value for placeholder tensor 'gradients/StatefulPartitionedCall_grad/StatefulPartitionedCall_90' with dtype int64 and shape [?]\n",
      "\t [[{{node gradients/StatefulPartitionedCall_grad/StatefulPartitionedCall_90}}]]\n",
      "2023-04-24 12:56:42.536224: I tensorflow/core/common_runtime/executor.cc:1197] [/device:CPU:0] (DEBUG INFO) Executor start aborting (this does not indicate an error and you can ignore this message): INVALID_ARGUMENT: You must feed a value for placeholder tensor 'gradients/StatefulPartitionedCall_grad/StatefulPartitionedCall_91' with dtype int64 and shape [?]\n",
      "\t [[{{node gradients/StatefulPartitionedCall_grad/StatefulPartitionedCall_91}}]]\n",
      "2023-04-24 12:56:42.536308: I tensorflow/core/common_runtime/executor.cc:1197] [/device:CPU:0] (DEBUG INFO) Executor start aborting (this does not indicate an error and you can ignore this message): INVALID_ARGUMENT: You must feed a value for placeholder tensor 'gradients/StatefulPartitionedCall_grad/StatefulPartitionedCall_92' with dtype int64 and shape [?]\n",
      "\t [[{{node gradients/StatefulPartitionedCall_grad/StatefulPartitionedCall_92}}]]\n",
      "2023-04-24 12:56:42.536391: I tensorflow/core/common_runtime/executor.cc:1197] [/device:CPU:0] (DEBUG INFO) Executor start aborting (this does not indicate an error and you can ignore this message): INVALID_ARGUMENT: You must feed a value for placeholder tensor 'gradients/StatefulPartitionedCall_grad/StatefulPartitionedCall_93' with dtype int64 and shape [?]\n",
      "\t [[{{node gradients/StatefulPartitionedCall_grad/StatefulPartitionedCall_93}}]]\n"
     ]
    },
    {
     "name": "stdout",
     "output_type": "stream",
     "text": [
      "24/24 [==============================] - 2s 24ms/step - loss: 0.6725 - accuracy: 0.6767 - val_loss: 0.6367 - val_accuracy: 0.7913\n",
      "Epoch 2/5\n",
      "24/24 [==============================] - 0s 11ms/step - loss: 0.6059 - accuracy: 0.7858 - val_loss: 0.5616 - val_accuracy: 0.7953\n",
      "Epoch 3/5\n",
      "24/24 [==============================] - 0s 11ms/step - loss: 0.5323 - accuracy: 0.7976 - val_loss: 0.4931 - val_accuracy: 0.8045\n",
      "Epoch 4/5\n",
      "24/24 [==============================] - 0s 11ms/step - loss: 0.4737 - accuracy: 0.8121 - val_loss: 0.4471 - val_accuracy: 0.8163\n",
      "Epoch 5/5\n",
      "24/24 [==============================] - 0s 10ms/step - loss: 0.4355 - accuracy: 0.8121 - val_loss: 0.4146 - val_accuracy: 0.8281\n"
     ]
    }
   ],
   "source": [
    "model_6b_history = model_6b.fit(\n",
    "    train_tweets_10_percent,\n",
    "    train_labels_10_percent,\n",
    "    epochs=5,\n",
    "    validation_data=(val_tweets, val_labels),\n",
    "    callbacks=[create_tensorboard_callback_bugged(\n",
    "        dir_name=LOG_DIR,\n",
    "        experiment_name='model_6b_use'\n",
    "    )]\n",
    ")"
   ]
  },
  {
   "cell_type": "markdown",
   "id": "af76b12c",
   "metadata": {},
   "source": [
    "#### Model Evaluation"
   ]
  },
  {
   "cell_type": "code",
   "execution_count": 90,
   "id": "04688cad",
   "metadata": {
    "collapsed": true
   },
   "outputs": [
    {
     "name": "stdout",
     "output_type": "stream",
     "text": [
      "24/24 [==============================] - 0s 5ms/step - loss: 0.4146 - accuracy: 0.8281\n"
     ]
    },
    {
     "data": {
      "text/plain": [
       "[0.41460439562797546, 0.8280839920043945]"
      ]
     },
     "execution_count": 90,
     "metadata": {},
     "output_type": "execute_result"
    }
   ],
   "source": [
    "model_6b.evaluate(val_tweets, val_labels)\n",
    "# loss: 0.3375 - accuracy: 0.8675"
   ]
  },
  {
   "cell_type": "code",
   "execution_count": 91,
   "id": "f720c4ef",
   "metadata": {
    "collapsed": true
   },
   "outputs": [
    {
     "name": "stdout",
     "output_type": "stream",
     "text": [
      "24/24 [==============================] - 0s 4ms/step\n",
      "Prediction: [0.27583903] (not a disaster)\n"
     ]
    }
   ],
   "source": [
    "# make predictions\n",
    "model_6b_preds = model_6b.predict(val_tweets)\n",
    "sample_prediction=model_6b_preds[0]\n",
    "print(f\"Prediction: {sample_prediction}\",\"(disaster)\" if sample_prediction>0.5 else \"(not a disaster)\")\n",
    "# Prediction: [0.16887127] (not a disaster)"
   ]
  },
  {
   "cell_type": "code",
   "execution_count": 92,
   "id": "e5f0b5dc",
   "metadata": {},
   "outputs": [],
   "source": [
    "# convert model prediction probabilities to binary label format\n",
    "model_6b_preds = tf.squeeze(tf.round(model_6b_preds))"
   ]
  },
  {
   "cell_type": "code",
   "execution_count": 93,
   "id": "97a60d8b",
   "metadata": {
    "collapsed": true
   },
   "outputs": [
    {
     "name": "stdout",
     "output_type": "stream",
     "text": [
      "{'accuracy': 82.80839895013123, 'precision': 0.8279254463064694, 'recall': 0.8280839895013123, 'f1': 0.8278306241621576}\n"
     ]
    }
   ],
   "source": [
    "model_6b_metrics = calculate_metrics(\n",
    "    y_true=val_labels,\n",
    "    y_pred=model_6b_preds\n",
    ")\n",
    "\n",
    "print(model_6b_metrics)"
   ]
  },
  {
   "cell_type": "markdown",
   "id": "335b3218",
   "metadata": {},
   "source": [
    "#### Model 6b Metrics\n",
    "\n",
    "* Accuracy: 86.74540682414698\n",
    "* Precision: 0.8695676801900293\n",
    "* Recall: 0.8674540682414699\n",
    "* F1: 0.8666326892977956"
   ]
  },
  {
   "cell_type": "code",
   "execution_count": 94,
   "id": "f3d7571b",
   "metadata": {
    "collapsed": true
   },
   "outputs": [
    {
     "name": "stdout",
     "output_type": "stream",
     "text": [
      "[ True  True  True  True]\n",
      "[ True  True  True  True]\n"
     ]
    }
   ],
   "source": [
    "# the model performs even better with only 10% AND better than the baseline model ?\n",
    "print(np.array(list(model_6b_metrics.values())) > np.array(list(model_6_metrics.values())))\n",
    "# [ True  True  True  True]\n",
    "print(np.array(list(model_6b_metrics.values())) > np.array(list(baseline_metrics.values())))\n",
    "# [ True  True  True  True]"
   ]
  },
  {
   "cell_type": "markdown",
   "id": "8c12d827",
   "metadata": {},
   "source": [
    "### Model 6c: USE Data Leakage Issue (10% Dataset)\n",
    "#### Data Leakage Issue\n",
    "\n",
    "Both the random 10% subset and the validation data was taken from the shuffled data `train_df_shuffle`. This means that the new training dataset might contain a small amount of data entries that are also part of the validation set. Since we are now only working with 10% of the original dataset this data leakage can affect our training massively.\n",
    "\n",
    "The model needs to be retrained with a clean training dataset..."
   ]
  },
  {
   "cell_type": "markdown",
   "id": "5696aee5",
   "metadata": {},
   "source": [
    "##### Training 10% Split"
   ]
  },
  {
   "cell_type": "code",
   "execution_count": 97,
   "id": "c6d9773d",
   "metadata": {
    "collapsed": true
   },
   "outputs": [
    {
     "name": "stdout",
     "output_type": "stream",
     "text": [
      "6851 685\n"
     ]
    }
   ],
   "source": [
    "# create data subset with 10% of the training data\n",
    "train_10_percent_split = int(0.1 * len(train_tweets))\n",
    "train_tweets_10_percent_clean = train_tweets[:train_10_percent_split]\n",
    "train_labels_10_percent_clean = train_labels[:train_10_percent_split]\n",
    "print(len(train_tweets), len(train_tweets_10_percent_clean))\n",
    "# 6851 685"
   ]
  },
  {
   "cell_type": "code",
   "execution_count": 98,
   "id": "ee9d94c0",
   "metadata": {
    "collapsed": true
   },
   "outputs": [
    {
     "name": "stdout",
     "output_type": "stream",
     "text": [
      "0    3928\n",
      "1    2923\n",
      "dtype: int64 0    406\n",
      "1    279\n",
      "dtype: int64\n",
      "1.3438248374957236 1.4551971326164874\n"
     ]
    }
   ],
   "source": [
    "# check label distribution in randomized subset\n",
    "dist_train_dataset = pd.Series(train_labels).value_counts()\n",
    "dist_10_percent_train_subset = pd.Series(train_labels_10_percent_clean).value_counts()\n",
    "\n",
    "\n",
    "print(dist_train_dataset, dist_10_percent_train_subset)\n",
    "# 0    3928\n",
    "# 1    2923\n",
    "# ---------\n",
    "# 406\n",
    "# 279\n",
    "\n",
    "print(\n",
    "    (dist_train_dataset[0]/dist_train_dataset[1]),\n",
    "    (dist_10_percent_train_subset[0]/dist_10_percent_train_subset[1])\n",
    ")\n",
    "\n",
    "# the full dataset has 34% more \"no-desaster\" tweets\n",
    "# in the subset the overhang is lower with 46% - not ideal\n",
    "# 1.3438248374957236 1.4551971326164874"
   ]
  },
  {
   "cell_type": "code",
   "execution_count": 99,
   "id": "53b9b0b0",
   "metadata": {
    "collapsed": true
   },
   "outputs": [
    {
     "name": "stderr",
     "output_type": "stream",
     "text": [
      "2023-04-24 12:58:56.355764: I tensorflow/core/common_runtime/executor.cc:1197] [/device:CPU:0] (DEBUG INFO) Executor start aborting (this does not indicate an error and you can ignore this message): INVALID_ARGUMENT: You must feed a value for placeholder tensor 'inputs' with dtype string\n",
      "\t [[{{node inputs}}]]\n",
      "2023-04-24 12:58:56.441005: I tensorflow/core/common_runtime/executor.cc:1197] [/device:CPU:0] (DEBUG INFO) Executor start aborting (this does not indicate an error and you can ignore this message): INVALID_ARGUMENT: You must feed a value for placeholder tensor 'Placeholder' with dtype string and shape [?]\n",
      "\t [[{{node Placeholder}}]]\n"
     ]
    }
   ],
   "source": [
    "# use the same model as before but with cleaned weights\n",
    "model_6c = tf.keras.models.clone_model(model_6b)\n",
    "\n",
    "model_6c.compile(\n",
    "    loss='binary_crossentropy',\n",
    "    optimizer=tf.keras.optimizers.Adam(),\n",
    "    metrics=['accuracy']\n",
    ")"
   ]
  },
  {
   "cell_type": "code",
   "execution_count": 100,
   "id": "47e574fc",
   "metadata": {
    "collapsed": true
   },
   "outputs": [
    {
     "name": "stdout",
     "output_type": "stream",
     "text": [
      "INFO :: Saving TensorBoard Log to: tensorboad/model_6c_use/20230424-125900\n",
      "Epoch 1/5\n"
     ]
    },
    {
     "name": "stderr",
     "output_type": "stream",
     "text": [
      "2023-04-24 12:59:01.654044: I tensorflow/core/common_runtime/executor.cc:1197] [/device:CPU:0] (DEBUG INFO) Executor start aborting (this does not indicate an error and you can ignore this message): INVALID_ARGUMENT: You must feed a value for placeholder tensor 'gradients/StatefulPartitionedCall_grad/StatefulPartitionedCall' with dtype float and shape [?,512]\n",
      "\t [[{{node gradients/StatefulPartitionedCall_grad/StatefulPartitionedCall}}]]\n",
      "2023-04-24 12:59:01.654120: I tensorflow/core/common_runtime/executor.cc:1197] [/device:CPU:0] (DEBUG INFO) Executor start aborting (this does not indicate an error and you can ignore this message): INVALID_ARGUMENT: You must feed a value for placeholder tensor 'gradients/StatefulPartitionedCall_grad/StatefulPartitionedCall_1' with dtype float and shape [?,1]\n",
      "\t [[{{node gradients/StatefulPartitionedCall_grad/StatefulPartitionedCall_1}}]]\n",
      "2023-04-24 12:59:01.654171: I tensorflow/core/common_runtime/executor.cc:1197] [/device:CPU:0] (DEBUG INFO) Executor start aborting (this does not indicate an error and you can ignore this message): INVALID_ARGUMENT: You must feed a value for placeholder tensor 'gradients/StatefulPartitionedCall_grad/StatefulPartitionedCall_2' with dtype float and shape [?,1]\n",
      "\t [[{{node gradients/StatefulPartitionedCall_grad/StatefulPartitionedCall_2}}]]\n",
      "2023-04-24 12:59:01.654257: I tensorflow/core/common_runtime/executor.cc:1197] [/device:CPU:0] (DEBUG INFO) Executor start aborting (this does not indicate an error and you can ignore this message): INVALID_ARGUMENT: You must feed a value for placeholder tensor 'gradients/StatefulPartitionedCall_grad/StatefulPartitionedCall_4' with dtype float and shape [?,512]\n",
      "\t [[{{node gradients/StatefulPartitionedCall_grad/StatefulPartitionedCall_4}}]]\n",
      "2023-04-24 12:59:01.654318: I tensorflow/core/common_runtime/executor.cc:1197] [/device:CPU:0] (DEBUG INFO) Executor start aborting (this does not indicate an error and you can ignore this message): INVALID_ARGUMENT: You must feed a value for placeholder tensor 'gradients/StatefulPartitionedCall_grad/StatefulPartitionedCall_5' with dtype float and shape [?,512]\n",
      "\t [[{{node gradients/StatefulPartitionedCall_grad/StatefulPartitionedCall_5}}]]\n",
      "2023-04-24 12:59:01.654376: I tensorflow/core/common_runtime/executor.cc:1197] [/device:CPU:0] (DEBUG INFO) Executor start aborting (this does not indicate an error and you can ignore this message): INVALID_ARGUMENT: You must feed a value for placeholder tensor 'gradients/StatefulPartitionedCall_grad/StatefulPartitionedCall_6' with dtype float and shape [?,1]\n",
      "\t [[{{node gradients/StatefulPartitionedCall_grad/StatefulPartitionedCall_6}}]]\n",
      "2023-04-24 12:59:01.654421: I tensorflow/core/common_runtime/executor.cc:1197] [/device:CPU:0] (DEBUG INFO) Executor start aborting (this does not indicate an error and you can ignore this message): INVALID_ARGUMENT: You must feed a value for placeholder tensor 'gradients/StatefulPartitionedCall_grad/StatefulPartitionedCall_7' with dtype float and shape [?,1]\n",
      "\t [[{{node gradients/StatefulPartitionedCall_grad/StatefulPartitionedCall_7}}]]\n",
      "2023-04-24 12:59:01.654478: I tensorflow/core/common_runtime/executor.cc:1197] [/device:CPU:0] (DEBUG INFO) Executor start aborting (this does not indicate an error and you can ignore this message): INVALID_ARGUMENT: You must feed a value for placeholder tensor 'gradients/StatefulPartitionedCall_grad/StatefulPartitionedCall_9' with dtype float and shape [?,512]\n",
      "\t [[{{node gradients/StatefulPartitionedCall_grad/StatefulPartitionedCall_9}}]]\n",
      "2023-04-24 12:59:01.654530: I tensorflow/core/common_runtime/executor.cc:1197] [/device:CPU:0] (DEBUG INFO) Executor start aborting (this does not indicate an error and you can ignore this message): INVALID_ARGUMENT: You must feed a value for placeholder tensor 'gradients/StatefulPartitionedCall_grad/StatefulPartitionedCall_10' with dtype float and shape [?,512]\n",
      "\t [[{{node gradients/StatefulPartitionedCall_grad/StatefulPartitionedCall_10}}]]\n",
      "2023-04-24 12:59:01.654584: I tensorflow/core/common_runtime/executor.cc:1197] [/device:CPU:0] (DEBUG INFO) Executor start aborting (this does not indicate an error and you can ignore this message): INVALID_ARGUMENT: You must feed a value for placeholder tensor 'gradients/StatefulPartitionedCall_grad/StatefulPartitionedCall_11' with dtype float and shape [?,512]\n",
      "\t [[{{node gradients/StatefulPartitionedCall_grad/StatefulPartitionedCall_11}}]]\n",
      "2023-04-24 12:59:01.654639: I tensorflow/core/common_runtime/executor.cc:1197] [/device:CPU:0] (DEBUG INFO) Executor start aborting (this does not indicate an error and you can ignore this message): INVALID_ARGUMENT: You must feed a value for placeholder tensor 'gradients/StatefulPartitionedCall_grad/StatefulPartitionedCall_17' with dtype int32\n",
      "\t [[{{node gradients/StatefulPartitionedCall_grad/StatefulPartitionedCall_17}}]]\n",
      "2023-04-24 12:59:01.654727: I tensorflow/core/common_runtime/executor.cc:1197] [/device:CPU:0] (DEBUG INFO) Executor start aborting (this does not indicate an error and you can ignore this message): INVALID_ARGUMENT: You must feed a value for placeholder tensor 'gradients/StatefulPartitionedCall_grad/StatefulPartitionedCall_18' with dtype int32\n",
      "\t [[{{node gradients/StatefulPartitionedCall_grad/StatefulPartitionedCall_18}}]]\n",
      "2023-04-24 12:59:01.654838: I tensorflow/core/common_runtime/executor.cc:1197] [/device:CPU:0] (DEBUG INFO) Executor start aborting (this does not indicate an error and you can ignore this message): INVALID_ARGUMENT: You must feed a value for placeholder tensor 'gradients/StatefulPartitionedCall_grad/StatefulPartitionedCall_19' with dtype float and shape [?,320]\n",
      "\t [[{{node gradients/StatefulPartitionedCall_grad/StatefulPartitionedCall_19}}]]\n",
      "2023-04-24 12:59:01.654939: I tensorflow/core/common_runtime/executor.cc:1197] [/device:CPU:0] (DEBUG INFO) Executor start aborting (this does not indicate an error and you can ignore this message): INVALID_ARGUMENT: You must feed a value for placeholder tensor 'gradients/StatefulPartitionedCall_grad/StatefulPartitionedCall_20' with dtype float\n",
      "\t [[{{node gradients/StatefulPartitionedCall_grad/StatefulPartitionedCall_20}}]]\n",
      "2023-04-24 12:59:01.655027: I tensorflow/core/common_runtime/executor.cc:1197] [/device:CPU:0] (DEBUG INFO) Executor start aborting (this does not indicate an error and you can ignore this message): INVALID_ARGUMENT: You must feed a value for placeholder tensor 'gradients/StatefulPartitionedCall_grad/StatefulPartitionedCall_21' with dtype int32\n",
      "\t [[{{node gradients/StatefulPartitionedCall_grad/StatefulPartitionedCall_21}}]]\n",
      "2023-04-24 12:59:01.655114: I tensorflow/core/common_runtime/executor.cc:1197] [/device:CPU:0] (DEBUG INFO) Executor start aborting (this does not indicate an error and you can ignore this message): INVALID_ARGUMENT: You must feed a value for placeholder tensor 'gradients/StatefulPartitionedCall_grad/StatefulPartitionedCall_25' with dtype int32\n",
      "\t [[{{node gradients/StatefulPartitionedCall_grad/StatefulPartitionedCall_25}}]]\n",
      "2023-04-24 12:59:01.655200: I tensorflow/core/common_runtime/executor.cc:1197] [/device:CPU:0] (DEBUG INFO) Executor start aborting (this does not indicate an error and you can ignore this message): INVALID_ARGUMENT: You must feed a value for placeholder tensor 'gradients/StatefulPartitionedCall_grad/StatefulPartitionedCall_26' with dtype float\n",
      "\t [[{{node gradients/StatefulPartitionedCall_grad/StatefulPartitionedCall_26}}]]\n",
      "2023-04-24 12:59:01.655287: I tensorflow/core/common_runtime/executor.cc:1197] [/device:CPU:0] (DEBUG INFO) Executor start aborting (this does not indicate an error and you can ignore this message): INVALID_ARGUMENT: You must feed a value for placeholder tensor 'gradients/StatefulPartitionedCall_grad/StatefulPartitionedCall_27' with dtype float and shape [?,1]\n",
      "\t [[{{node gradients/StatefulPartitionedCall_grad/StatefulPartitionedCall_27}}]]\n",
      "2023-04-24 12:59:01.655362: I tensorflow/core/common_runtime/executor.cc:1197] [/device:CPU:0] (DEBUG INFO) Executor start aborting (this does not indicate an error and you can ignore this message): INVALID_ARGUMENT: You must feed a value for placeholder tensor 'gradients/StatefulPartitionedCall_grad/StatefulPartitionedCall_29' with dtype int32\n",
      "\t [[{{node gradients/StatefulPartitionedCall_grad/StatefulPartitionedCall_29}}]]\n",
      "2023-04-24 12:59:01.655411: I tensorflow/core/common_runtime/executor.cc:1197] [/device:CPU:0] (DEBUG INFO) Executor start aborting (this does not indicate an error and you can ignore this message): INVALID_ARGUMENT: You must feed a value for placeholder tensor 'gradients/StatefulPartitionedCall_grad/StatefulPartitionedCall_30' with dtype float and shape [?,320]\n",
      "\t [[{{node gradients/StatefulPartitionedCall_grad/StatefulPartitionedCall_30}}]]\n",
      "2023-04-24 12:59:01.655472: I tensorflow/core/common_runtime/executor.cc:1197] [/device:CPU:0] (DEBUG INFO) Executor start aborting (this does not indicate an error and you can ignore this message): INVALID_ARGUMENT: You must feed a value for placeholder tensor 'gradients/StatefulPartitionedCall_grad/StatefulPartitionedCall_31' with dtype float and shape [?,320]\n",
      "\t [[{{node gradients/StatefulPartitionedCall_grad/StatefulPartitionedCall_31}}]]\n",
      "2023-04-24 12:59:01.655519: I tensorflow/core/common_runtime/executor.cc:1197] [/device:CPU:0] (DEBUG INFO) Executor start aborting (this does not indicate an error and you can ignore this message): INVALID_ARGUMENT: You must feed a value for placeholder tensor 'gradients/StatefulPartitionedCall_grad/StatefulPartitionedCall_32' with dtype int32 and shape [?]\n",
      "\t [[{{node gradients/StatefulPartitionedCall_grad/StatefulPartitionedCall_32}}]]\n",
      "2023-04-24 12:59:01.655609: I tensorflow/core/common_runtime/executor.cc:1197] [/device:CPU:0] (DEBUG INFO) Executor start aborting (this does not indicate an error and you can ignore this message): INVALID_ARGUMENT: You must feed a value for placeholder tensor 'gradients/StatefulPartitionedCall_grad/StatefulPartitionedCall_33' with dtype float and shape [?,320]\n",
      "\t [[{{node gradients/StatefulPartitionedCall_grad/StatefulPartitionedCall_33}}]]\n",
      "2023-04-24 12:59:01.655696: I tensorflow/core/common_runtime/executor.cc:1197] [/device:CPU:0] (DEBUG INFO) Executor start aborting (this does not indicate an error and you can ignore this message): INVALID_ARGUMENT: You must feed a value for placeholder tensor 'gradients/StatefulPartitionedCall_grad/StatefulPartitionedCall_64' with dtype int64 and shape [?]\n",
      "\t [[{{node gradients/StatefulPartitionedCall_grad/StatefulPartitionedCall_64}}]]\n",
      "2023-04-24 12:59:01.655783: I tensorflow/core/common_runtime/executor.cc:1197] [/device:CPU:0] (DEBUG INFO) Executor start aborting (this does not indicate an error and you can ignore this message): INVALID_ARGUMENT: You must feed a value for placeholder tensor 'gradients/StatefulPartitionedCall_grad/StatefulPartitionedCall_65' with dtype int64 and shape [?]\n",
      "\t [[{{node gradients/StatefulPartitionedCall_grad/StatefulPartitionedCall_65}}]]\n",
      "2023-04-24 12:59:01.655870: I tensorflow/core/common_runtime/executor.cc:1197] [/device:CPU:0] (DEBUG INFO) Executor start aborting (this does not indicate an error and you can ignore this message): INVALID_ARGUMENT: You must feed a value for placeholder tensor 'gradients/StatefulPartitionedCall_grad/StatefulPartitionedCall_66' with dtype int64 and shape [?]\n",
      "\t [[{{node gradients/StatefulPartitionedCall_grad/StatefulPartitionedCall_66}}]]\n",
      "2023-04-24 12:59:01.655957: I tensorflow/core/common_runtime/executor.cc:1197] [/device:CPU:0] (DEBUG INFO) Executor start aborting (this does not indicate an error and you can ignore this message): INVALID_ARGUMENT: You must feed a value for placeholder tensor 'gradients/StatefulPartitionedCall_grad/StatefulPartitionedCall_67' with dtype int64 and shape [?]\n",
      "\t [[{{node gradients/StatefulPartitionedCall_grad/StatefulPartitionedCall_67}}]]\n",
      "2023-04-24 12:59:01.656076: I tensorflow/core/common_runtime/executor.cc:1197] [/device:CPU:0] (DEBUG INFO) Executor start aborting (this does not indicate an error and you can ignore this message): INVALID_ARGUMENT: You must feed a value for placeholder tensor 'gradients/StatefulPartitionedCall_grad/StatefulPartitionedCall_68' with dtype int64 and shape [?]\n",
      "\t [[{{node gradients/StatefulPartitionedCall_grad/StatefulPartitionedCall_68}}]]\n",
      "2023-04-24 12:59:01.656134: I tensorflow/core/common_runtime/executor.cc:1197] [/device:CPU:0] (DEBUG INFO) Executor start aborting (this does not indicate an error and you can ignore this message): INVALID_ARGUMENT: You must feed a value for placeholder tensor 'gradients/StatefulPartitionedCall_grad/StatefulPartitionedCall_69' with dtype int64 and shape [?]\n",
      "\t [[{{node gradients/StatefulPartitionedCall_grad/StatefulPartitionedCall_69}}]]\n",
      "2023-04-24 12:59:01.656182: I tensorflow/core/common_runtime/executor.cc:1197] [/device:CPU:0] (DEBUG INFO) Executor start aborting (this does not indicate an error and you can ignore this message): INVALID_ARGUMENT: You must feed a value for placeholder tensor 'gradients/StatefulPartitionedCall_grad/StatefulPartitionedCall_70' with dtype int64 and shape [?]\n",
      "\t [[{{node gradients/StatefulPartitionedCall_grad/StatefulPartitionedCall_70}}]]\n",
      "2023-04-24 12:59:01.656228: I tensorflow/core/common_runtime/executor.cc:1197] [/device:CPU:0] (DEBUG INFO) Executor start aborting (this does not indicate an error and you can ignore this message): INVALID_ARGUMENT: You must feed a value for placeholder tensor 'gradients/StatefulPartitionedCall_grad/StatefulPartitionedCall_71' with dtype int64 and shape [?]\n",
      "\t [[{{node gradients/StatefulPartitionedCall_grad/StatefulPartitionedCall_71}}]]\n",
      "2023-04-24 12:59:01.656273: I tensorflow/core/common_runtime/executor.cc:1197] [/device:CPU:0] (DEBUG INFO) Executor start aborting (this does not indicate an error and you can ignore this message): INVALID_ARGUMENT: You must feed a value for placeholder tensor 'gradients/StatefulPartitionedCall_grad/StatefulPartitionedCall_72' with dtype int64 and shape [?]\n",
      "\t [[{{node gradients/StatefulPartitionedCall_grad/StatefulPartitionedCall_72}}]]\n",
      "2023-04-24 12:59:01.656318: I tensorflow/core/common_runtime/executor.cc:1197] [/device:CPU:0] (DEBUG INFO) Executor start aborting (this does not indicate an error and you can ignore this message): INVALID_ARGUMENT: You must feed a value for placeholder tensor 'gradients/StatefulPartitionedCall_grad/StatefulPartitionedCall_73' with dtype int64 and shape [?]\n",
      "\t [[{{node gradients/StatefulPartitionedCall_grad/StatefulPartitionedCall_73}}]]\n",
      "2023-04-24 12:59:01.656363: I tensorflow/core/common_runtime/executor.cc:1197] [/device:CPU:0] (DEBUG INFO) Executor start aborting (this does not indicate an error and you can ignore this message): INVALID_ARGUMENT: You must feed a value for placeholder tensor 'gradients/StatefulPartitionedCall_grad/StatefulPartitionedCall_74' with dtype int64 and shape [?]\n",
      "\t [[{{node gradients/StatefulPartitionedCall_grad/StatefulPartitionedCall_74}}]]\n",
      "2023-04-24 12:59:01.656408: I tensorflow/core/common_runtime/executor.cc:1197] [/device:CPU:0] (DEBUG INFO) Executor start aborting (this does not indicate an error and you can ignore this message): INVALID_ARGUMENT: You must feed a value for placeholder tensor 'gradients/StatefulPartitionedCall_grad/StatefulPartitionedCall_75' with dtype int64 and shape [?]\n",
      "\t [[{{node gradients/StatefulPartitionedCall_grad/StatefulPartitionedCall_75}}]]\n",
      "2023-04-24 12:59:01.656454: I tensorflow/core/common_runtime/executor.cc:1197] [/device:CPU:0] (DEBUG INFO) Executor start aborting (this does not indicate an error and you can ignore this message): INVALID_ARGUMENT: You must feed a value for placeholder tensor 'gradients/StatefulPartitionedCall_grad/StatefulPartitionedCall_76' with dtype int64 and shape [?]\n",
      "\t [[{{node gradients/StatefulPartitionedCall_grad/StatefulPartitionedCall_76}}]]\n",
      "2023-04-24 12:59:01.656514: I tensorflow/core/common_runtime/executor.cc:1197] [/device:CPU:0] (DEBUG INFO) Executor start aborting (this does not indicate an error and you can ignore this message): INVALID_ARGUMENT: You must feed a value for placeholder tensor 'gradients/StatefulPartitionedCall_grad/StatefulPartitionedCall_77' with dtype int64 and shape [?]\n",
      "\t [[{{node gradients/StatefulPartitionedCall_grad/StatefulPartitionedCall_77}}]]\n",
      "2023-04-24 12:59:01.656559: I tensorflow/core/common_runtime/executor.cc:1197] [/device:CPU:0] (DEBUG INFO) Executor start aborting (this does not indicate an error and you can ignore this message): INVALID_ARGUMENT: You must feed a value for placeholder tensor 'gradients/StatefulPartitionedCall_grad/StatefulPartitionedCall_78' with dtype int64 and shape [?]\n",
      "\t [[{{node gradients/StatefulPartitionedCall_grad/StatefulPartitionedCall_78}}]]\n",
      "2023-04-24 12:59:01.656605: I tensorflow/core/common_runtime/executor.cc:1197] [/device:CPU:0] (DEBUG INFO) Executor start aborting (this does not indicate an error and you can ignore this message): INVALID_ARGUMENT: You must feed a value for placeholder tensor 'gradients/StatefulPartitionedCall_grad/StatefulPartitionedCall_79' with dtype int64 and shape [?]\n",
      "\t [[{{node gradients/StatefulPartitionedCall_grad/StatefulPartitionedCall_79}}]]\n",
      "2023-04-24 12:59:01.656663: I tensorflow/core/common_runtime/executor.cc:1197] [/device:CPU:0] (DEBUG INFO) Executor start aborting (this does not indicate an error and you can ignore this message): INVALID_ARGUMENT: You must feed a value for placeholder tensor 'gradients/StatefulPartitionedCall_grad/StatefulPartitionedCall_80' with dtype int64 and shape [?]\n",
      "\t [[{{node gradients/StatefulPartitionedCall_grad/StatefulPartitionedCall_80}}]]\n",
      "2023-04-24 12:59:01.656708: I tensorflow/core/common_runtime/executor.cc:1197] [/device:CPU:0] (DEBUG INFO) Executor start aborting (this does not indicate an error and you can ignore this message): INVALID_ARGUMENT: You must feed a value for placeholder tensor 'gradients/StatefulPartitionedCall_grad/StatefulPartitionedCall_81' with dtype int64 and shape [?]\n",
      "\t [[{{node gradients/StatefulPartitionedCall_grad/StatefulPartitionedCall_81}}]]\n",
      "2023-04-24 12:59:01.656752: I tensorflow/core/common_runtime/executor.cc:1197] [/device:CPU:0] (DEBUG INFO) Executor start aborting (this does not indicate an error and you can ignore this message): INVALID_ARGUMENT: You must feed a value for placeholder tensor 'gradients/StatefulPartitionedCall_grad/StatefulPartitionedCall_82' with dtype int64 and shape [?]\n",
      "\t [[{{node gradients/StatefulPartitionedCall_grad/StatefulPartitionedCall_82}}]]\n",
      "2023-04-24 12:59:01.656797: I tensorflow/core/common_runtime/executor.cc:1197] [/device:CPU:0] (DEBUG INFO) Executor start aborting (this does not indicate an error and you can ignore this message): INVALID_ARGUMENT: You must feed a value for placeholder tensor 'gradients/StatefulPartitionedCall_grad/StatefulPartitionedCall_83' with dtype int64 and shape [?]\n",
      "\t [[{{node gradients/StatefulPartitionedCall_grad/StatefulPartitionedCall_83}}]]\n",
      "2023-04-24 12:59:01.656841: I tensorflow/core/common_runtime/executor.cc:1197] [/device:CPU:0] (DEBUG INFO) Executor start aborting (this does not indicate an error and you can ignore this message): INVALID_ARGUMENT: You must feed a value for placeholder tensor 'gradients/StatefulPartitionedCall_grad/StatefulPartitionedCall_84' with dtype int64 and shape [?]\n",
      "\t [[{{node gradients/StatefulPartitionedCall_grad/StatefulPartitionedCall_84}}]]\n",
      "2023-04-24 12:59:01.656886: I tensorflow/core/common_runtime/executor.cc:1197] [/device:CPU:0] (DEBUG INFO) Executor start aborting (this does not indicate an error and you can ignore this message): INVALID_ARGUMENT: You must feed a value for placeholder tensor 'gradients/StatefulPartitionedCall_grad/StatefulPartitionedCall_85' with dtype int64 and shape [?]\n",
      "\t [[{{node gradients/StatefulPartitionedCall_grad/StatefulPartitionedCall_85}}]]\n",
      "2023-04-24 12:59:01.656931: I tensorflow/core/common_runtime/executor.cc:1197] [/device:CPU:0] (DEBUG INFO) Executor start aborting (this does not indicate an error and you can ignore this message): INVALID_ARGUMENT: You must feed a value for placeholder tensor 'gradients/StatefulPartitionedCall_grad/StatefulPartitionedCall_86' with dtype int64 and shape [?]\n",
      "\t [[{{node gradients/StatefulPartitionedCall_grad/StatefulPartitionedCall_86}}]]\n",
      "2023-04-24 12:59:01.656976: I tensorflow/core/common_runtime/executor.cc:1197] [/device:CPU:0] (DEBUG INFO) Executor start aborting (this does not indicate an error and you can ignore this message): INVALID_ARGUMENT: You must feed a value for placeholder tensor 'gradients/StatefulPartitionedCall_grad/StatefulPartitionedCall_87' with dtype int64 and shape [?]\n",
      "\t [[{{node gradients/StatefulPartitionedCall_grad/StatefulPartitionedCall_87}}]]\n",
      "2023-04-24 12:59:01.657020: I tensorflow/core/common_runtime/executor.cc:1197] [/device:CPU:0] (DEBUG INFO) Executor start aborting (this does not indicate an error and you can ignore this message): INVALID_ARGUMENT: You must feed a value for placeholder tensor 'gradients/StatefulPartitionedCall_grad/StatefulPartitionedCall_88' with dtype int64 and shape [?]\n",
      "\t [[{{node gradients/StatefulPartitionedCall_grad/StatefulPartitionedCall_88}}]]\n",
      "2023-04-24 12:59:01.657065: I tensorflow/core/common_runtime/executor.cc:1197] [/device:CPU:0] (DEBUG INFO) Executor start aborting (this does not indicate an error and you can ignore this message): INVALID_ARGUMENT: You must feed a value for placeholder tensor 'gradients/StatefulPartitionedCall_grad/StatefulPartitionedCall_89' with dtype int64 and shape [?]\n",
      "\t [[{{node gradients/StatefulPartitionedCall_grad/StatefulPartitionedCall_89}}]]\n",
      "2023-04-24 12:59:01.657155: I tensorflow/core/common_runtime/executor.cc:1197] [/device:CPU:0] (DEBUG INFO) Executor start aborting (this does not indicate an error and you can ignore this message): INVALID_ARGUMENT: You must feed a value for placeholder tensor 'gradients/StatefulPartitionedCall_grad/StatefulPartitionedCall_90' with dtype int64 and shape [?]\n",
      "\t [[{{node gradients/StatefulPartitionedCall_grad/StatefulPartitionedCall_90}}]]\n",
      "2023-04-24 12:59:01.657202: I tensorflow/core/common_runtime/executor.cc:1197] [/device:CPU:0] (DEBUG INFO) Executor start aborting (this does not indicate an error and you can ignore this message): INVALID_ARGUMENT: You must feed a value for placeholder tensor 'gradients/StatefulPartitionedCall_grad/StatefulPartitionedCall_91' with dtype int64 and shape [?]\n",
      "\t [[{{node gradients/StatefulPartitionedCall_grad/StatefulPartitionedCall_91}}]]\n",
      "2023-04-24 12:59:01.657247: I tensorflow/core/common_runtime/executor.cc:1197] [/device:CPU:0] (DEBUG INFO) Executor start aborting (this does not indicate an error and you can ignore this message): INVALID_ARGUMENT: You must feed a value for placeholder tensor 'gradients/StatefulPartitionedCall_grad/StatefulPartitionedCall_92' with dtype int64 and shape [?]\n",
      "\t [[{{node gradients/StatefulPartitionedCall_grad/StatefulPartitionedCall_92}}]]\n",
      "2023-04-24 12:59:01.657292: I tensorflow/core/common_runtime/executor.cc:1197] [/device:CPU:0] (DEBUG INFO) Executor start aborting (this does not indicate an error and you can ignore this message): INVALID_ARGUMENT: You must feed a value for placeholder tensor 'gradients/StatefulPartitionedCall_grad/StatefulPartitionedCall_93' with dtype int64 and shape [?]\n",
      "\t [[{{node gradients/StatefulPartitionedCall_grad/StatefulPartitionedCall_93}}]]\n",
      "2023-04-24 12:59:01.811197: I tensorflow/core/common_runtime/executor.cc:1197] [/device:CPU:0] (DEBUG INFO) Executor start aborting (this does not indicate an error and you can ignore this message): INVALID_ARGUMENT: You must feed a value for placeholder tensor 'gradients/StatefulPartitionedCall_grad/StatefulPartitionedCall' with dtype float and shape [?,512]\n",
      "\t [[{{node gradients/StatefulPartitionedCall_grad/StatefulPartitionedCall}}]]\n",
      "2023-04-24 12:59:01.811311: I tensorflow/core/common_runtime/executor.cc:1197] [/device:CPU:0] (DEBUG INFO) Executor start aborting (this does not indicate an error and you can ignore this message): INVALID_ARGUMENT: You must feed a value for placeholder tensor 'gradients/StatefulPartitionedCall_grad/StatefulPartitionedCall_1' with dtype float and shape [?,1]\n",
      "\t [[{{node gradients/StatefulPartitionedCall_grad/StatefulPartitionedCall_1}}]]\n",
      "2023-04-24 12:59:01.811362: I tensorflow/core/common_runtime/executor.cc:1197] [/device:CPU:0] (DEBUG INFO) Executor start aborting (this does not indicate an error and you can ignore this message): INVALID_ARGUMENT: You must feed a value for placeholder tensor 'gradients/StatefulPartitionedCall_grad/StatefulPartitionedCall_2' with dtype float and shape [?,1]\n",
      "\t [[{{node gradients/StatefulPartitionedCall_grad/StatefulPartitionedCall_2}}]]\n",
      "2023-04-24 12:59:01.811426: I tensorflow/core/common_runtime/executor.cc:1197] [/device:CPU:0] (DEBUG INFO) Executor start aborting (this does not indicate an error and you can ignore this message): INVALID_ARGUMENT: You must feed a value for placeholder tensor 'gradients/StatefulPartitionedCall_grad/StatefulPartitionedCall_4' with dtype float and shape [?,512]\n",
      "\t [[{{node gradients/StatefulPartitionedCall_grad/StatefulPartitionedCall_4}}]]\n",
      "2023-04-24 12:59:01.811474: I tensorflow/core/common_runtime/executor.cc:1197] [/device:CPU:0] (DEBUG INFO) Executor start aborting (this does not indicate an error and you can ignore this message): INVALID_ARGUMENT: You must feed a value for placeholder tensor 'gradients/StatefulPartitionedCall_grad/StatefulPartitionedCall_5' with dtype float and shape [?,512]\n",
      "\t [[{{node gradients/StatefulPartitionedCall_grad/StatefulPartitionedCall_5}}]]\n",
      "2023-04-24 12:59:01.811612: I tensorflow/core/common_runtime/executor.cc:1197] [/device:CPU:0] (DEBUG INFO) Executor start aborting (this does not indicate an error and you can ignore this message): INVALID_ARGUMENT: You must feed a value for placeholder tensor 'gradients/StatefulPartitionedCall_grad/StatefulPartitionedCall_6' with dtype float and shape [?,1]\n",
      "\t [[{{node gradients/StatefulPartitionedCall_grad/StatefulPartitionedCall_6}}]]\n",
      "2023-04-24 12:59:01.811712: I tensorflow/core/common_runtime/executor.cc:1197] [/device:CPU:0] (DEBUG INFO) Executor start aborting (this does not indicate an error and you can ignore this message): INVALID_ARGUMENT: You must feed a value for placeholder tensor 'gradients/StatefulPartitionedCall_grad/StatefulPartitionedCall_7' with dtype float and shape [?,1]\n",
      "\t [[{{node gradients/StatefulPartitionedCall_grad/StatefulPartitionedCall_7}}]]\n",
      "2023-04-24 12:59:01.811804: I tensorflow/core/common_runtime/executor.cc:1197] [/device:CPU:0] (DEBUG INFO) Executor start aborting (this does not indicate an error and you can ignore this message): INVALID_ARGUMENT: You must feed a value for placeholder tensor 'gradients/StatefulPartitionedCall_grad/StatefulPartitionedCall_9' with dtype float and shape [?,512]\n",
      "\t [[{{node gradients/StatefulPartitionedCall_grad/StatefulPartitionedCall_9}}]]\n",
      "2023-04-24 12:59:01.811879: I tensorflow/core/common_runtime/executor.cc:1197] [/device:CPU:0] (DEBUG INFO) Executor start aborting (this does not indicate an error and you can ignore this message): INVALID_ARGUMENT: You must feed a value for placeholder tensor 'gradients/StatefulPartitionedCall_grad/StatefulPartitionedCall_10' with dtype float and shape [?,512]\n",
      "\t [[{{node gradients/StatefulPartitionedCall_grad/StatefulPartitionedCall_10}}]]\n",
      "2023-04-24 12:59:01.811926: I tensorflow/core/common_runtime/executor.cc:1197] [/device:CPU:0] (DEBUG INFO) Executor start aborting (this does not indicate an error and you can ignore this message): INVALID_ARGUMENT: You must feed a value for placeholder tensor 'gradients/StatefulPartitionedCall_grad/StatefulPartitionedCall_11' with dtype float and shape [?,512]\n",
      "\t [[{{node gradients/StatefulPartitionedCall_grad/StatefulPartitionedCall_11}}]]\n",
      "2023-04-24 12:59:01.811973: I tensorflow/core/common_runtime/executor.cc:1197] [/device:CPU:0] (DEBUG INFO) Executor start aborting (this does not indicate an error and you can ignore this message): INVALID_ARGUMENT: You must feed a value for placeholder tensor 'gradients/StatefulPartitionedCall_grad/StatefulPartitionedCall_17' with dtype int32\n",
      "\t [[{{node gradients/StatefulPartitionedCall_grad/StatefulPartitionedCall_17}}]]\n",
      "2023-04-24 12:59:01.812021: I tensorflow/core/common_runtime/executor.cc:1197] [/device:CPU:0] (DEBUG INFO) Executor start aborting (this does not indicate an error and you can ignore this message): INVALID_ARGUMENT: You must feed a value for placeholder tensor 'gradients/StatefulPartitionedCall_grad/StatefulPartitionedCall_18' with dtype int32\n",
      "\t [[{{node gradients/StatefulPartitionedCall_grad/StatefulPartitionedCall_18}}]]\n",
      "2023-04-24 12:59:01.812068: I tensorflow/core/common_runtime/executor.cc:1197] [/device:CPU:0] (DEBUG INFO) Executor start aborting (this does not indicate an error and you can ignore this message): INVALID_ARGUMENT: You must feed a value for placeholder tensor 'gradients/StatefulPartitionedCall_grad/StatefulPartitionedCall_19' with dtype float and shape [?,320]\n",
      "\t [[{{node gradients/StatefulPartitionedCall_grad/StatefulPartitionedCall_19}}]]\n",
      "2023-04-24 12:59:01.812114: I tensorflow/core/common_runtime/executor.cc:1197] [/device:CPU:0] (DEBUG INFO) Executor start aborting (this does not indicate an error and you can ignore this message): INVALID_ARGUMENT: You must feed a value for placeholder tensor 'gradients/StatefulPartitionedCall_grad/StatefulPartitionedCall_20' with dtype float\n",
      "\t [[{{node gradients/StatefulPartitionedCall_grad/StatefulPartitionedCall_20}}]]\n",
      "2023-04-24 12:59:01.812159: I tensorflow/core/common_runtime/executor.cc:1197] [/device:CPU:0] (DEBUG INFO) Executor start aborting (this does not indicate an error and you can ignore this message): INVALID_ARGUMENT: You must feed a value for placeholder tensor 'gradients/StatefulPartitionedCall_grad/StatefulPartitionedCall_21' with dtype int32\n",
      "\t [[{{node gradients/StatefulPartitionedCall_grad/StatefulPartitionedCall_21}}]]\n",
      "2023-04-24 12:59:01.812205: I tensorflow/core/common_runtime/executor.cc:1197] [/device:CPU:0] (DEBUG INFO) Executor start aborting (this does not indicate an error and you can ignore this message): INVALID_ARGUMENT: You must feed a value for placeholder tensor 'gradients/StatefulPartitionedCall_grad/StatefulPartitionedCall_25' with dtype int32\n",
      "\t [[{{node gradients/StatefulPartitionedCall_grad/StatefulPartitionedCall_25}}]]\n",
      "2023-04-24 12:59:01.812251: I tensorflow/core/common_runtime/executor.cc:1197] [/device:CPU:0] (DEBUG INFO) Executor start aborting (this does not indicate an error and you can ignore this message): INVALID_ARGUMENT: You must feed a value for placeholder tensor 'gradients/StatefulPartitionedCall_grad/StatefulPartitionedCall_26' with dtype float\n",
      "\t [[{{node gradients/StatefulPartitionedCall_grad/StatefulPartitionedCall_26}}]]\n",
      "2023-04-24 12:59:01.812296: I tensorflow/core/common_runtime/executor.cc:1197] [/device:CPU:0] (DEBUG INFO) Executor start aborting (this does not indicate an error and you can ignore this message): INVALID_ARGUMENT: You must feed a value for placeholder tensor 'gradients/StatefulPartitionedCall_grad/StatefulPartitionedCall_27' with dtype float and shape [?,1]\n",
      "\t [[{{node gradients/StatefulPartitionedCall_grad/StatefulPartitionedCall_27}}]]\n",
      "2023-04-24 12:59:01.812343: I tensorflow/core/common_runtime/executor.cc:1197] [/device:CPU:0] (DEBUG INFO) Executor start aborting (this does not indicate an error and you can ignore this message): INVALID_ARGUMENT: You must feed a value for placeholder tensor 'gradients/StatefulPartitionedCall_grad/StatefulPartitionedCall_29' with dtype int32\n",
      "\t [[{{node gradients/StatefulPartitionedCall_grad/StatefulPartitionedCall_29}}]]\n",
      "2023-04-24 12:59:01.812389: I tensorflow/core/common_runtime/executor.cc:1197] [/device:CPU:0] (DEBUG INFO) Executor start aborting (this does not indicate an error and you can ignore this message): INVALID_ARGUMENT: You must feed a value for placeholder tensor 'gradients/StatefulPartitionedCall_grad/StatefulPartitionedCall_30' with dtype float and shape [?,320]\n",
      "\t [[{{node gradients/StatefulPartitionedCall_grad/StatefulPartitionedCall_30}}]]\n",
      "2023-04-24 12:59:01.812434: I tensorflow/core/common_runtime/executor.cc:1197] [/device:CPU:0] (DEBUG INFO) Executor start aborting (this does not indicate an error and you can ignore this message): INVALID_ARGUMENT: You must feed a value for placeholder tensor 'gradients/StatefulPartitionedCall_grad/StatefulPartitionedCall_31' with dtype float and shape [?,320]\n",
      "\t [[{{node gradients/StatefulPartitionedCall_grad/StatefulPartitionedCall_31}}]]\n",
      "2023-04-24 12:59:01.812481: I tensorflow/core/common_runtime/executor.cc:1197] [/device:CPU:0] (DEBUG INFO) Executor start aborting (this does not indicate an error and you can ignore this message): INVALID_ARGUMENT: You must feed a value for placeholder tensor 'gradients/StatefulPartitionedCall_grad/StatefulPartitionedCall_32' with dtype int32 and shape [?]\n",
      "\t [[{{node gradients/StatefulPartitionedCall_grad/StatefulPartitionedCall_32}}]]\n",
      "2023-04-24 12:59:01.812527: I tensorflow/core/common_runtime/executor.cc:1197] [/device:CPU:0] (DEBUG INFO) Executor start aborting (this does not indicate an error and you can ignore this message): INVALID_ARGUMENT: You must feed a value for placeholder tensor 'gradients/StatefulPartitionedCall_grad/StatefulPartitionedCall_33' with dtype float and shape [?,320]\n",
      "\t [[{{node gradients/StatefulPartitionedCall_grad/StatefulPartitionedCall_33}}]]\n",
      "2023-04-24 12:59:01.812626: I tensorflow/core/common_runtime/executor.cc:1197] [/device:CPU:0] (DEBUG INFO) Executor start aborting (this does not indicate an error and you can ignore this message): INVALID_ARGUMENT: You must feed a value for placeholder tensor 'gradients/StatefulPartitionedCall_grad/StatefulPartitionedCall_64' with dtype int64 and shape [?]\n",
      "\t [[{{node gradients/StatefulPartitionedCall_grad/StatefulPartitionedCall_64}}]]\n",
      "2023-04-24 12:59:01.812714: I tensorflow/core/common_runtime/executor.cc:1197] [/device:CPU:0] (DEBUG INFO) Executor start aborting (this does not indicate an error and you can ignore this message): INVALID_ARGUMENT: You must feed a value for placeholder tensor 'gradients/StatefulPartitionedCall_grad/StatefulPartitionedCall_65' with dtype int64 and shape [?]\n",
      "\t [[{{node gradients/StatefulPartitionedCall_grad/StatefulPartitionedCall_65}}]]\n",
      "2023-04-24 12:59:01.812794: I tensorflow/core/common_runtime/executor.cc:1197] [/device:CPU:0] (DEBUG INFO) Executor start aborting (this does not indicate an error and you can ignore this message): INVALID_ARGUMENT: You must feed a value for placeholder tensor 'gradients/StatefulPartitionedCall_grad/StatefulPartitionedCall_66' with dtype int64 and shape [?]\n",
      "\t [[{{node gradients/StatefulPartitionedCall_grad/StatefulPartitionedCall_66}}]]\n",
      "2023-04-24 12:59:01.812847: I tensorflow/core/common_runtime/executor.cc:1197] [/device:CPU:0] (DEBUG INFO) Executor start aborting (this does not indicate an error and you can ignore this message): INVALID_ARGUMENT: You must feed a value for placeholder tensor 'gradients/StatefulPartitionedCall_grad/StatefulPartitionedCall_67' with dtype int64 and shape [?]\n",
      "\t [[{{node gradients/StatefulPartitionedCall_grad/StatefulPartitionedCall_67}}]]\n",
      "2023-04-24 12:59:01.812894: I tensorflow/core/common_runtime/executor.cc:1197] [/device:CPU:0] (DEBUG INFO) Executor start aborting (this does not indicate an error and you can ignore this message): INVALID_ARGUMENT: You must feed a value for placeholder tensor 'gradients/StatefulPartitionedCall_grad/StatefulPartitionedCall_68' with dtype int64 and shape [?]\n",
      "\t [[{{node gradients/StatefulPartitionedCall_grad/StatefulPartitionedCall_68}}]]\n",
      "2023-04-24 12:59:01.812941: I tensorflow/core/common_runtime/executor.cc:1197] [/device:CPU:0] (DEBUG INFO) Executor start aborting (this does not indicate an error and you can ignore this message): INVALID_ARGUMENT: You must feed a value for placeholder tensor 'gradients/StatefulPartitionedCall_grad/StatefulPartitionedCall_69' with dtype int64 and shape [?]\n",
      "\t [[{{node gradients/StatefulPartitionedCall_grad/StatefulPartitionedCall_69}}]]\n",
      "2023-04-24 12:59:01.813003: I tensorflow/core/common_runtime/executor.cc:1197] [/device:CPU:0] (DEBUG INFO) Executor start aborting (this does not indicate an error and you can ignore this message): INVALID_ARGUMENT: You must feed a value for placeholder tensor 'gradients/StatefulPartitionedCall_grad/StatefulPartitionedCall_70' with dtype int64 and shape [?]\n",
      "\t [[{{node gradients/StatefulPartitionedCall_grad/StatefulPartitionedCall_70}}]]\n",
      "2023-04-24 12:59:01.813064: I tensorflow/core/common_runtime/executor.cc:1197] [/device:CPU:0] (DEBUG INFO) Executor start aborting (this does not indicate an error and you can ignore this message): INVALID_ARGUMENT: You must feed a value for placeholder tensor 'gradients/StatefulPartitionedCall_grad/StatefulPartitionedCall_71' with dtype int64 and shape [?]\n",
      "\t [[{{node gradients/StatefulPartitionedCall_grad/StatefulPartitionedCall_71}}]]\n",
      "2023-04-24 12:59:01.813112: I tensorflow/core/common_runtime/executor.cc:1197] [/device:CPU:0] (DEBUG INFO) Executor start aborting (this does not indicate an error and you can ignore this message): INVALID_ARGUMENT: You must feed a value for placeholder tensor 'gradients/StatefulPartitionedCall_grad/StatefulPartitionedCall_72' with dtype int64 and shape [?]\n",
      "\t [[{{node gradients/StatefulPartitionedCall_grad/StatefulPartitionedCall_72}}]]\n",
      "2023-04-24 12:59:01.813159: I tensorflow/core/common_runtime/executor.cc:1197] [/device:CPU:0] (DEBUG INFO) Executor start aborting (this does not indicate an error and you can ignore this message): INVALID_ARGUMENT: You must feed a value for placeholder tensor 'gradients/StatefulPartitionedCall_grad/StatefulPartitionedCall_73' with dtype int64 and shape [?]\n",
      "\t [[{{node gradients/StatefulPartitionedCall_grad/StatefulPartitionedCall_73}}]]\n",
      "2023-04-24 12:59:01.813206: I tensorflow/core/common_runtime/executor.cc:1197] [/device:CPU:0] (DEBUG INFO) Executor start aborting (this does not indicate an error and you can ignore this message): INVALID_ARGUMENT: You must feed a value for placeholder tensor 'gradients/StatefulPartitionedCall_grad/StatefulPartitionedCall_74' with dtype int64 and shape [?]\n",
      "\t [[{{node gradients/StatefulPartitionedCall_grad/StatefulPartitionedCall_74}}]]\n",
      "2023-04-24 12:59:01.813251: I tensorflow/core/common_runtime/executor.cc:1197] [/device:CPU:0] (DEBUG INFO) Executor start aborting (this does not indicate an error and you can ignore this message): INVALID_ARGUMENT: You must feed a value for placeholder tensor 'gradients/StatefulPartitionedCall_grad/StatefulPartitionedCall_75' with dtype int64 and shape [?]\n",
      "\t [[{{node gradients/StatefulPartitionedCall_grad/StatefulPartitionedCall_75}}]]\n",
      "2023-04-24 12:59:01.813297: I tensorflow/core/common_runtime/executor.cc:1197] [/device:CPU:0] (DEBUG INFO) Executor start aborting (this does not indicate an error and you can ignore this message): INVALID_ARGUMENT: You must feed a value for placeholder tensor 'gradients/StatefulPartitionedCall_grad/StatefulPartitionedCall_76' with dtype int64 and shape [?]\n",
      "\t [[{{node gradients/StatefulPartitionedCall_grad/StatefulPartitionedCall_76}}]]\n",
      "2023-04-24 12:59:01.813343: I tensorflow/core/common_runtime/executor.cc:1197] [/device:CPU:0] (DEBUG INFO) Executor start aborting (this does not indicate an error and you can ignore this message): INVALID_ARGUMENT: You must feed a value for placeholder tensor 'gradients/StatefulPartitionedCall_grad/StatefulPartitionedCall_77' with dtype int64 and shape [?]\n",
      "\t [[{{node gradients/StatefulPartitionedCall_grad/StatefulPartitionedCall_77}}]]\n",
      "2023-04-24 12:59:01.813388: I tensorflow/core/common_runtime/executor.cc:1197] [/device:CPU:0] (DEBUG INFO) Executor start aborting (this does not indicate an error and you can ignore this message): INVALID_ARGUMENT: You must feed a value for placeholder tensor 'gradients/StatefulPartitionedCall_grad/StatefulPartitionedCall_78' with dtype int64 and shape [?]\n",
      "\t [[{{node gradients/StatefulPartitionedCall_grad/StatefulPartitionedCall_78}}]]\n",
      "2023-04-24 12:59:01.813434: I tensorflow/core/common_runtime/executor.cc:1197] [/device:CPU:0] (DEBUG INFO) Executor start aborting (this does not indicate an error and you can ignore this message): INVALID_ARGUMENT: You must feed a value for placeholder tensor 'gradients/StatefulPartitionedCall_grad/StatefulPartitionedCall_79' with dtype int64 and shape [?]\n",
      "\t [[{{node gradients/StatefulPartitionedCall_grad/StatefulPartitionedCall_79}}]]\n",
      "2023-04-24 12:59:01.813480: I tensorflow/core/common_runtime/executor.cc:1197] [/device:CPU:0] (DEBUG INFO) Executor start aborting (this does not indicate an error and you can ignore this message): INVALID_ARGUMENT: You must feed a value for placeholder tensor 'gradients/StatefulPartitionedCall_grad/StatefulPartitionedCall_80' with dtype int64 and shape [?]\n",
      "\t [[{{node gradients/StatefulPartitionedCall_grad/StatefulPartitionedCall_80}}]]\n",
      "2023-04-24 12:59:01.813525: I tensorflow/core/common_runtime/executor.cc:1197] [/device:CPU:0] (DEBUG INFO) Executor start aborting (this does not indicate an error and you can ignore this message): INVALID_ARGUMENT: You must feed a value for placeholder tensor 'gradients/StatefulPartitionedCall_grad/StatefulPartitionedCall_81' with dtype int64 and shape [?]\n",
      "\t [[{{node gradients/StatefulPartitionedCall_grad/StatefulPartitionedCall_81}}]]\n",
      "2023-04-24 12:59:01.813570: I tensorflow/core/common_runtime/executor.cc:1197] [/device:CPU:0] (DEBUG INFO) Executor start aborting (this does not indicate an error and you can ignore this message): INVALID_ARGUMENT: You must feed a value for placeholder tensor 'gradients/StatefulPartitionedCall_grad/StatefulPartitionedCall_82' with dtype int64 and shape [?]\n",
      "\t [[{{node gradients/StatefulPartitionedCall_grad/StatefulPartitionedCall_82}}]]\n",
      "2023-04-24 12:59:01.813615: I tensorflow/core/common_runtime/executor.cc:1197] [/device:CPU:0] (DEBUG INFO) Executor start aborting (this does not indicate an error and you can ignore this message): INVALID_ARGUMENT: You must feed a value for placeholder tensor 'gradients/StatefulPartitionedCall_grad/StatefulPartitionedCall_83' with dtype int64 and shape [?]\n",
      "\t [[{{node gradients/StatefulPartitionedCall_grad/StatefulPartitionedCall_83}}]]\n",
      "2023-04-24 12:59:01.813661: I tensorflow/core/common_runtime/executor.cc:1197] [/device:CPU:0] (DEBUG INFO) Executor start aborting (this does not indicate an error and you can ignore this message): INVALID_ARGUMENT: You must feed a value for placeholder tensor 'gradients/StatefulPartitionedCall_grad/StatefulPartitionedCall_84' with dtype int64 and shape [?]\n",
      "\t [[{{node gradients/StatefulPartitionedCall_grad/StatefulPartitionedCall_84}}]]\n",
      "2023-04-24 12:59:01.813706: I tensorflow/core/common_runtime/executor.cc:1197] [/device:CPU:0] (DEBUG INFO) Executor start aborting (this does not indicate an error and you can ignore this message): INVALID_ARGUMENT: You must feed a value for placeholder tensor 'gradients/StatefulPartitionedCall_grad/StatefulPartitionedCall_85' with dtype int64 and shape [?]\n",
      "\t [[{{node gradients/StatefulPartitionedCall_grad/StatefulPartitionedCall_85}}]]\n",
      "2023-04-24 12:59:01.813751: I tensorflow/core/common_runtime/executor.cc:1197] [/device:CPU:0] (DEBUG INFO) Executor start aborting (this does not indicate an error and you can ignore this message): INVALID_ARGUMENT: You must feed a value for placeholder tensor 'gradients/StatefulPartitionedCall_grad/StatefulPartitionedCall_86' with dtype int64 and shape [?]\n",
      "\t [[{{node gradients/StatefulPartitionedCall_grad/StatefulPartitionedCall_86}}]]\n",
      "2023-04-24 12:59:01.813797: I tensorflow/core/common_runtime/executor.cc:1197] [/device:CPU:0] (DEBUG INFO) Executor start aborting (this does not indicate an error and you can ignore this message): INVALID_ARGUMENT: You must feed a value for placeholder tensor 'gradients/StatefulPartitionedCall_grad/StatefulPartitionedCall_87' with dtype int64 and shape [?]\n",
      "\t [[{{node gradients/StatefulPartitionedCall_grad/StatefulPartitionedCall_87}}]]\n",
      "2023-04-24 12:59:01.813853: I tensorflow/core/common_runtime/executor.cc:1197] [/device:CPU:0] (DEBUG INFO) Executor start aborting (this does not indicate an error and you can ignore this message): INVALID_ARGUMENT: You must feed a value for placeholder tensor 'gradients/StatefulPartitionedCall_grad/StatefulPartitionedCall_88' with dtype int64 and shape [?]\n",
      "\t [[{{node gradients/StatefulPartitionedCall_grad/StatefulPartitionedCall_88}}]]\n",
      "2023-04-24 12:59:01.813902: I tensorflow/core/common_runtime/executor.cc:1197] [/device:CPU:0] (DEBUG INFO) Executor start aborting (this does not indicate an error and you can ignore this message): INVALID_ARGUMENT: You must feed a value for placeholder tensor 'gradients/StatefulPartitionedCall_grad/StatefulPartitionedCall_89' with dtype int64 and shape [?]\n",
      "\t [[{{node gradients/StatefulPartitionedCall_grad/StatefulPartitionedCall_89}}]]\n",
      "2023-04-24 12:59:01.813948: I tensorflow/core/common_runtime/executor.cc:1197] [/device:CPU:0] (DEBUG INFO) Executor start aborting (this does not indicate an error and you can ignore this message): INVALID_ARGUMENT: You must feed a value for placeholder tensor 'gradients/StatefulPartitionedCall_grad/StatefulPartitionedCall_90' with dtype int64 and shape [?]\n",
      "\t [[{{node gradients/StatefulPartitionedCall_grad/StatefulPartitionedCall_90}}]]\n",
      "2023-04-24 12:59:01.813993: I tensorflow/core/common_runtime/executor.cc:1197] [/device:CPU:0] (DEBUG INFO) Executor start aborting (this does not indicate an error and you can ignore this message): INVALID_ARGUMENT: You must feed a value for placeholder tensor 'gradients/StatefulPartitionedCall_grad/StatefulPartitionedCall_91' with dtype int64 and shape [?]\n",
      "\t [[{{node gradients/StatefulPartitionedCall_grad/StatefulPartitionedCall_91}}]]\n",
      "2023-04-24 12:59:01.814039: I tensorflow/core/common_runtime/executor.cc:1197] [/device:CPU:0] (DEBUG INFO) Executor start aborting (this does not indicate an error and you can ignore this message): INVALID_ARGUMENT: You must feed a value for placeholder tensor 'gradients/StatefulPartitionedCall_grad/StatefulPartitionedCall_92' with dtype int64 and shape [?]\n",
      "\t [[{{node gradients/StatefulPartitionedCall_grad/StatefulPartitionedCall_92}}]]\n",
      "2023-04-24 12:59:01.814085: I tensorflow/core/common_runtime/executor.cc:1197] [/device:CPU:0] (DEBUG INFO) Executor start aborting (this does not indicate an error and you can ignore this message): INVALID_ARGUMENT: You must feed a value for placeholder tensor 'gradients/StatefulPartitionedCall_grad/StatefulPartitionedCall_93' with dtype int64 and shape [?]\n",
      "\t [[{{node gradients/StatefulPartitionedCall_grad/StatefulPartitionedCall_93}}]]\n"
     ]
    },
    {
     "name": "stdout",
     "output_type": "stream",
     "text": [
      "22/22 [==============================] - 2s 25ms/step - loss: 0.6740 - accuracy: 0.6730 - val_loss: 0.6514 - val_accuracy: 0.7664\n",
      "Epoch 2/5\n",
      "22/22 [==============================] - 0s 11ms/step - loss: 0.6032 - accuracy: 0.8204 - val_loss: 0.5941 - val_accuracy: 0.7756\n",
      "Epoch 3/5\n",
      "22/22 [==============================] - 0s 11ms/step - loss: 0.5262 - accuracy: 0.8248 - val_loss: 0.5376 - val_accuracy: 0.7795\n",
      "Epoch 4/5\n",
      "22/22 [==============================] - 0s 11ms/step - loss: 0.4640 - accuracy: 0.8263 - val_loss: 0.5018 - val_accuracy: 0.7848\n",
      "Epoch 5/5\n",
      "22/22 [==============================] - 0s 11ms/step - loss: 0.4233 - accuracy: 0.8365 - val_loss: 0.4877 - val_accuracy: 0.7913\n"
     ]
    }
   ],
   "source": [
    "model_6c_history = model_6c.fit(\n",
    "    train_tweets_10_percent_clean,\n",
    "    train_labels_10_percent_clean,\n",
    "    epochs=5,\n",
    "    validation_data=(val_tweets, val_labels),\n",
    "    callbacks=[create_tensorboard_callback_bugged(\n",
    "        dir_name=LOG_DIR,\n",
    "        experiment_name='model_6c_use'\n",
    "    )]\n",
    ")"
   ]
  },
  {
   "cell_type": "markdown",
   "id": "0007f969",
   "metadata": {},
   "source": [
    "#### Model Evaluation"
   ]
  },
  {
   "cell_type": "code",
   "execution_count": 101,
   "id": "4a2b5dd5",
   "metadata": {
    "collapsed": true
   },
   "outputs": [
    {
     "name": "stdout",
     "output_type": "stream",
     "text": [
      "24/24 [==============================] - 0s 4ms/step - loss: 0.4146 - accuracy: 0.8281\n",
      "24/24 [==============================] - 0s 4ms/step - loss: 0.4877 - accuracy: 0.7913\n"
     ]
    },
    {
     "data": {
      "text/plain": [
       "[0.48767024278640747, 0.7913385629653931]"
      ]
     },
     "execution_count": 101,
     "metadata": {},
     "output_type": "execute_result"
    }
   ],
   "source": [
    "model_6b.evaluate(val_tweets, val_labels)\n",
    "# evaluation with data leakage - performance suspiciously high\n",
    "# loss: 0.3375 - accuracy: 0.8675\n",
    "model_6c.evaluate(val_tweets, val_labels)\n",
    "# the model trained on the cleaned-up 10% dataset - as expected -\n",
    "# performs worse than the model trained on the full dataset\n",
    "# loss: 0.4904 - accuracy: 0.7822"
   ]
  },
  {
   "cell_type": "code",
   "execution_count": 102,
   "id": "2fc4b1a8",
   "metadata": {
    "collapsed": true
   },
   "outputs": [
    {
     "name": "stdout",
     "output_type": "stream",
     "text": [
      "24/24 [==============================] - 0s 4ms/step\n",
      "Prediction: [0.22952469] (not a disaster)\n"
     ]
    }
   ],
   "source": [
    "# make predictions\n",
    "model_6c_preds = model_6c.predict(val_tweets)\n",
    "sample_prediction=model_6c_preds[0]\n",
    "print(f\"Prediction: {sample_prediction}\",\"(disaster)\" if sample_prediction>0.5 else \"(not a disaster)\")\n",
    "# Prediction: [0.22155239] (not a disaster)"
   ]
  },
  {
   "cell_type": "code",
   "execution_count": 103,
   "id": "cfbfbdbe",
   "metadata": {},
   "outputs": [],
   "source": [
    "# convert model prediction probabilities to binary label format\n",
    "model_6c_preds = tf.squeeze(tf.round(model_6c_preds))"
   ]
  },
  {
   "cell_type": "code",
   "execution_count": 104,
   "id": "5c8e9f6d",
   "metadata": {
    "collapsed": true
   },
   "outputs": [
    {
     "name": "stdout",
     "output_type": "stream",
     "text": [
      "{'accuracy': 79.13385826771653, 'precision': 0.791659328034437, 'recall': 0.7913385826771654, 'f1': 0.790332908959664}\n"
     ]
    }
   ],
   "source": [
    "model_6c_metrics = calculate_metrics(\n",
    "    y_true=val_labels,\n",
    "    y_pred=model_6c_preds\n",
    ")\n",
    "\n",
    "print(model_6c_metrics)"
   ]
  },
  {
   "cell_type": "markdown",
   "id": "48207996",
   "metadata": {},
   "source": [
    "#### Model 6c Metrics\n",
    "\n",
    "* Accuracy: 78.21522309711287\n",
    "* Precision: 0.7827333187650908\n",
    "* Recall: 0.7821522309711286\n",
    "* F1: 0.7808542546238821"
   ]
  },
  {
   "cell_type": "code",
   "execution_count": 105,
   "id": "cd6770de",
   "metadata": {
    "collapsed": true
   },
   "outputs": [
    {
     "name": "stdout",
     "output_type": "stream",
     "text": [
      "[False False False False]\n",
      "[False False False  True]\n"
     ]
    }
   ],
   "source": [
    "# the model performs worse than the baseline but gets close\n",
    "# considering that we only used 10% of the data\n",
    "print(np.array(list(model_6c_metrics.values())) > np.array(list(model_6b_metrics.values())))\n",
    "# [False False False False]\n",
    "print(np.array(list(model_6c_metrics.values())) > np.array(list(baseline_metrics.values())))\n",
    "# [False False False  True]"
   ]
  },
  {
   "cell_type": "markdown",
   "id": "c13fd47f",
   "metadata": {},
   "source": [
    "## Compare Experiments"
   ]
  },
  {
   "cell_type": "code",
   "execution_count": 106,
   "id": "4cb538a3",
   "metadata": {
    "collapsed": true
   },
   "outputs": [
    {
     "data": {
      "text/html": [
       "<div>\n",
       "<style scoped>\n",
       "    .dataframe tbody tr th:only-of-type {\n",
       "        vertical-align: middle;\n",
       "    }\n",
       "\n",
       "    .dataframe tbody tr th {\n",
       "        vertical-align: top;\n",
       "    }\n",
       "\n",
       "    .dataframe thead th {\n",
       "        text-align: right;\n",
       "    }\n",
       "</style>\n",
       "<table border=\"1\" class=\"dataframe\">\n",
       "  <thead>\n",
       "    <tr style=\"text-align: right;\">\n",
       "      <th></th>\n",
       "      <th>accuracy</th>\n",
       "      <th>precision</th>\n",
       "      <th>recall</th>\n",
       "      <th>f1</th>\n",
       "    </tr>\n",
       "  </thead>\n",
       "  <tbody>\n",
       "    <tr>\n",
       "      <th>6b_use_10_percent</th>\n",
       "      <td>0.828084</td>\n",
       "      <td>0.827925</td>\n",
       "      <td>0.828084</td>\n",
       "      <td>0.827831</td>\n",
       "    </tr>\n",
       "    <tr>\n",
       "      <th>6a_use_added_dense</th>\n",
       "      <td>0.816273</td>\n",
       "      <td>0.816310</td>\n",
       "      <td>0.816273</td>\n",
       "      <td>0.815722</td>\n",
       "    </tr>\n",
       "    <tr>\n",
       "      <th>6c_use_10_percent_cleaned</th>\n",
       "      <td>0.791339</td>\n",
       "      <td>0.791659</td>\n",
       "      <td>0.791339</td>\n",
       "      <td>0.790333</td>\n",
       "    </tr>\n",
       "    <tr>\n",
       "      <th>6_use</th>\n",
       "      <td>0.790026</td>\n",
       "      <td>0.790735</td>\n",
       "      <td>0.790026</td>\n",
       "      <td>0.788775</td>\n",
       "    </tr>\n",
       "    <tr>\n",
       "      <th>0_baseline</th>\n",
       "      <td>0.792651</td>\n",
       "      <td>0.811139</td>\n",
       "      <td>0.792651</td>\n",
       "      <td>0.786219</td>\n",
       "    </tr>\n",
       "    <tr>\n",
       "      <th>1_simple_dense</th>\n",
       "      <td>0.786089</td>\n",
       "      <td>0.791170</td>\n",
       "      <td>0.786089</td>\n",
       "      <td>0.783007</td>\n",
       "    </tr>\n",
       "    <tr>\n",
       "      <th>2_lstm</th>\n",
       "      <td>0.772966</td>\n",
       "      <td>0.773845</td>\n",
       "      <td>0.772966</td>\n",
       "      <td>0.771334</td>\n",
       "    </tr>\n",
       "    <tr>\n",
       "      <th>4_bidirectional</th>\n",
       "      <td>0.771654</td>\n",
       "      <td>0.773560</td>\n",
       "      <td>0.771654</td>\n",
       "      <td>0.769452</td>\n",
       "    </tr>\n",
       "    <tr>\n",
       "      <th>3_gru</th>\n",
       "      <td>0.771654</td>\n",
       "      <td>0.780815</td>\n",
       "      <td>0.771654</td>\n",
       "      <td>0.766694</td>\n",
       "    </tr>\n",
       "    <tr>\n",
       "      <th>5_conv1d</th>\n",
       "      <td>0.754593</td>\n",
       "      <td>0.755280</td>\n",
       "      <td>0.754593</td>\n",
       "      <td>0.752702</td>\n",
       "    </tr>\n",
       "  </tbody>\n",
       "</table>\n",
       "</div>"
      ],
      "text/plain": [
       "                           accuracy  precision    recall        f1\n",
       "6b_use_10_percent          0.828084   0.827925  0.828084  0.827831\n",
       "6a_use_added_dense         0.816273   0.816310  0.816273  0.815722\n",
       "6c_use_10_percent_cleaned  0.791339   0.791659  0.791339  0.790333\n",
       "6_use                      0.790026   0.790735  0.790026  0.788775\n",
       "0_baseline                 0.792651   0.811139  0.792651  0.786219\n",
       "1_simple_dense             0.786089   0.791170  0.786089  0.783007\n",
       "2_lstm                     0.772966   0.773845  0.772966  0.771334\n",
       "4_bidirectional            0.771654   0.773560  0.771654  0.769452\n",
       "3_gru                      0.771654   0.780815  0.771654  0.766694\n",
       "5_conv1d                   0.754593   0.755280  0.754593  0.752702"
      ]
     },
     "execution_count": 106,
     "metadata": {},
     "output_type": "execute_result"
    }
   ],
   "source": [
    "# combine training results in dataframe\n",
    "model_metrics_all = pd.DataFrame({\n",
    "    \"0_baseline\": baseline_metrics,\n",
    "    \"1_simple_dense\": model_1_metrics,\n",
    "    \"2_lstm\": model_2_metrics,\n",
    "    \"3_gru\": model_3_metrics,\n",
    "    \"4_bidirectional\": model_4_metrics,\n",
    "    \"5_conv1d\": model_5_metrics,\n",
    "    \"6_use\": model_6_metrics,\n",
    "    \"6a_use_added_dense\": model_6a_metrics,\n",
    "    \"6b_use_10_percent\": model_6b_metrics,\n",
    "    \"6c_use_10_percent_cleaned\": model_6c_metrics\n",
    "})\n",
    "\n",
    "# transpose\n",
    "model_metrics_all_transposed = model_metrics_all.transpose()\n",
    "\n",
    "# rescale accuracy\n",
    "model_metrics_all_transposed['accuracy'] = model_metrics_all_transposed['accuracy']/100\n",
    "\n",
    "# sort by F1-score\n",
    "model_metrics_all_transposed_sorted = model_metrics_all_transposed.sort_values(by=['f1'], ascending=False)\n",
    "model_metrics_all_transposed_sorted\n",
    "# The best performing 6b_use_10_percent is faulty\n",
    "# The next best is the USE with 100% of training data 6a_use_added_dense\n",
    "# The USE with 10% training data performs closely to the baseline and simple dense model"
   ]
  },
  {
   "cell_type": "markdown",
   "id": "595cb27d",
   "metadata": {},
   "source": [
    "|    | accuracy | precision | recall | f1 |\n",
    "| -- | -- | -- | -- | -- |\n",
    "| 6b_use_10_percent | 0.867454 | 0.869568 | 0.867454 | 0.866633 |\n",
    "| 6a_use_added_dense | 0.813648 | 0.814169 | 0.813648 | 0.812791 |\n",
    "| 0_baseline | 0.792651 | 0.811139 | 0.792651 | 0.786219 |\n",
    "| 1_simple_dense | 0.788714 | 0.796962 | 0.788714 | 0.784729 |\n",
    "| 6_use | 0.784777 | 0.785083 | 0.784777 | 0.783692 |\n",
    "| 6c_use_10_percent_cleaned | 0.782152 | 0.782733 | 0.782152 | 0.780854 |\n",
    "| 2_lstm | 0.775591 | 0.776962 | 0.775591 | 0.773741 |\n",
    "| 3_gru | 0.770341 | 0.773598 | 0.770341 | 0.767494 |\n",
    "| 4_bidirectional | 0.765092 | 0.764730 | 0.765092 | 0.764430 |\n",
    "| 5_conv1d | 0.759843 | 0.759995 | 0.759843 | 0.758468 |"
   ]
  },
  {
   "cell_type": "code",
   "execution_count": 107,
   "id": "e5deeae3",
   "metadata": {
    "collapsed": true
   },
   "outputs": [
    {
     "data": {
      "text/plain": [
       "<matplotlib.legend.Legend at 0x7f7ee47996c0>"
      ]
     },
     "execution_count": 107,
     "metadata": {},
     "output_type": "execute_result"
    },
    {
     "data": {
      "image/png": "[encoded data removed]",
      "text/plain": [
       "<Figure size 1200x800 with 1 Axes>"
      ]
     },
     "metadata": {},
     "output_type": "display_data"
    }
   ],
   "source": [
    "# plot model results\n",
    "model_metrics_all_transposed_sorted.plot(\n",
    "    kind='bar',\n",
    "    rot=30,\n",
    "    figsize=(12,8)).legend(bbox_to_anchor=(1.0, 1.0)\n",
    ")"
   ]
  },
  {
   "cell_type": "markdown",
   "id": "acc50914",
   "metadata": {},
   "source": [
    "![(Re) Introduction to Tensorflow Natural Language Processing](./assets/tf_nlp_desaster_tweets_02.png)"
   ]
  },
  {
   "cell_type": "code",
   "execution_count": 198,
   "id": "51b0dad2",
   "metadata": {
    "collapsed": true
   },
   "outputs": [
    {
     "data": {
      "text/html": [
       "\n",
       "      <iframe id=\"tensorboard-frame-5c9c913d1382f3b3\" width=\"100%\" height=\"800\" frameborder=\"0\">\n",
       "      </iframe>\n",
       "      <script>\n",
       "        (function() {\n",
       "          const frame = document.getElementById(\"tensorboard-frame-5c9c913d1382f3b3\");\n",
       "          const url = new URL(\"/\", window.location);\n",
       "          const port = 6006;\n",
       "          if (port) {\n",
       "            url.port = port;\n",
       "          }\n",
       "          frame.src = url;\n",
       "        })();\n",
       "      </script>\n",
       "    "
      ],
      "text/plain": [
       "<IPython.core.display.HTML object>"
      ]
     },
     "metadata": {},
     "output_type": "display_data"
    }
   ],
   "source": [
    "# Load TensorBoard\n",
    "%load_ext tensorboard\n",
    "%tensorboard --logdir './tensorboad/'"
   ]
  },
  {
   "cell_type": "markdown",
   "id": "0d932131",
   "metadata": {},
   "source": [
    "![(Re) Introduction to Tensorflow Natural Language Processing](./assets/tf_nlp_desaster_tweets_03.png)\n",
    "\n",
    "![(Re) Introduction to Tensorflow Natural Language Processing](./assets/tf_nlp_desaster_tweets_04.png)"
   ]
  },
  {
   "cell_type": "markdown",
   "id": "c6746b1c",
   "metadata": {},
   "source": [
    "## Saving & Loading Trained Model\n",
    "\n",
    "### HDF5 Format (Higher Compatibility to 3rd Parties)"
   ]
  },
  {
   "cell_type": "code",
   "execution_count": 199,
   "id": "67c7fb6f",
   "metadata": {},
   "outputs": [],
   "source": [
    "# save best performing model to HDF5 format\n",
    "model_6a.save('./models/6a_use_added_dense.h5')"
   ]
  },
  {
   "cell_type": "code",
   "execution_count": 200,
   "id": "d67cbf8b",
   "metadata": {
    "collapsed": true
   },
   "outputs": [
    {
     "name": "stderr",
     "output_type": "stream",
     "text": [
      "2023-04-23 20:15:34.310727: I tensorflow/core/common_runtime/executor.cc:1197] [/device:CPU:0] (DEBUG INFO) Executor start aborting (this does not indicate an error and you can ignore this message): INVALID_ARGUMENT: You must feed a value for placeholder tensor 'inputs' with dtype string\n",
      "\t [[{{node inputs}}]]\n",
      "2023-04-23 20:15:34.368474: I tensorflow/core/common_runtime/executor.cc:1197] [/device:CPU:0] (DEBUG INFO) Executor start aborting (this does not indicate an error and you can ignore this message): INVALID_ARGUMENT: You must feed a value for placeholder tensor 'Placeholder' with dtype string and shape [?]\n",
      "\t [[{{node Placeholder}}]]\n"
     ]
    }
   ],
   "source": [
    "# restore model with custom TF Hub layer (only HDF5 format)\n",
    "# restoring requires import tensorflow_hub as hub\n",
    "loaded_model_6a = tf.keras.models.load_model(\n",
    "    './models/6a_use_added_dense.h5',\n",
    "    custom_objects={'KerasLayer': hub.KerasLayer}\n",
    ")"
   ]
  },
  {
   "cell_type": "code",
   "execution_count": 201,
   "id": "2097ac4e",
   "metadata": {
    "collapsed": true
   },
   "outputs": [
    {
     "name": "stdout",
     "output_type": "stream",
     "text": [
      "24/24 [==============================] - 0s 4ms/step - loss: 0.4252 - accuracy: 0.8136\n",
      "24/24 [==============================] - 0s 4ms/step - loss: 0.4252 - accuracy: 0.8136\n"
     ]
    },
    {
     "data": {
      "text/plain": [
       "True"
      ]
     },
     "execution_count": 201,
     "metadata": {},
     "output_type": "execute_result"
    }
   ],
   "source": [
    "# verify loaded model\n",
    "loaded_model_6a.evaluate(val_tweets, val_labels) == model_6a.evaluate(val_tweets, val_labels)\n",
    "# True"
   ]
  },
  {
   "cell_type": "markdown",
   "id": "ff4cb27c",
   "metadata": {},
   "source": [
    "### Saved Model Format (Tensorflow Default)"
   ]
  },
  {
   "cell_type": "code",
   "execution_count": 108,
   "id": "d6371b2a",
   "metadata": {
    "collapsed": true
   },
   "outputs": [
    {
     "name": "stderr",
     "output_type": "stream",
     "text": [
      "2023-04-24 13:01:23.842540: I tensorflow/core/common_runtime/executor.cc:1197] [/device:CPU:0] (DEBUG INFO) Executor start aborting (this does not indicate an error and you can ignore this message): INVALID_ARGUMENT: You must feed a value for placeholder tensor 'inputs' with dtype string\n",
      "\t [[{{node inputs}}]]\n",
      "2023-04-24 13:01:23.900380: I tensorflow/core/common_runtime/executor.cc:1197] [/device:CPU:0] (DEBUG INFO) Executor start aborting (this does not indicate an error and you can ignore this message): INVALID_ARGUMENT: You must feed a value for placeholder tensor 'input_6' with dtype string and shape [?]\n",
      "\t [[{{node input_6}}]]\n",
      "2023-04-24 13:01:23.975478: I tensorflow/core/common_runtime/executor.cc:1197] [/device:CPU:0] (DEBUG INFO) Executor start aborting (this does not indicate an error and you can ignore this message): INVALID_ARGUMENT: You must feed a value for placeholder tensor 'inputs' with dtype string and shape [?]\n",
      "\t [[{{node inputs}}]]\n",
      "2023-04-24 13:01:24.035951: I tensorflow/core/common_runtime/executor.cc:1197] [/device:CPU:0] (DEBUG INFO) Executor start aborting (this does not indicate an error and you can ignore this message): INVALID_ARGUMENT: You must feed a value for placeholder tensor 'input_6' with dtype string and shape [?]\n",
      "\t [[{{node input_6}}]]\n",
      "2023-04-24 13:01:24.116094: I tensorflow/core/common_runtime/executor.cc:1197] [/device:CPU:0] (DEBUG INFO) Executor start aborting (this does not indicate an error and you can ignore this message): INVALID_ARGUMENT: You must feed a value for placeholder tensor 'inputs' with dtype string and shape [?]\n",
      "\t [[{{node inputs}}]]\n",
      "2023-04-24 13:01:24.173919: I tensorflow/core/common_runtime/executor.cc:1197] [/device:CPU:0] (DEBUG INFO) Executor start aborting (this does not indicate an error and you can ignore this message): INVALID_ARGUMENT: You must feed a value for placeholder tensor 'input_6' with dtype string and shape [?]\n",
      "\t [[{{node input_6}}]]\n",
      "2023-04-24 13:01:24.238763: I tensorflow/core/common_runtime/executor.cc:1197] [/device:CPU:0] (DEBUG INFO) Executor start aborting (this does not indicate an error and you can ignore this message): INVALID_ARGUMENT: You must feed a value for placeholder tensor 'inputs' with dtype string and shape [?]\n",
      "\t [[{{node inputs}}]]\n",
      "2023-04-24 13:01:24.302643: I tensorflow/core/common_runtime/executor.cc:1197] [/device:CPU:0] (DEBUG INFO) Executor start aborting (this does not indicate an error and you can ignore this message): INVALID_ARGUMENT: You must feed a value for placeholder tensor 'input_6' with dtype string and shape [?]\n",
      "\t [[{{node input_6}}]]\n",
      "2023-04-24 13:01:24.365712: I tensorflow/core/common_runtime/executor.cc:1197] [/device:CPU:0] (DEBUG INFO) Executor start aborting (this does not indicate an error and you can ignore this message): INVALID_ARGUMENT: You must feed a value for placeholder tensor 'inputs' with dtype string and shape [?]\n",
      "\t [[{{node inputs}}]]\n",
      "2023-04-24 13:01:24.430964: I tensorflow/core/common_runtime/executor.cc:1197] [/device:CPU:0] (DEBUG INFO) Executor start aborting (this does not indicate an error and you can ignore this message): INVALID_ARGUMENT: You must feed a value for placeholder tensor 'input_6' with dtype string and shape [?]\n",
      "\t [[{{node input_6}}]]\n",
      "2023-04-24 13:01:24.503968: I tensorflow/core/common_runtime/executor.cc:1197] [/device:CPU:0] (DEBUG INFO) Executor start aborting (this does not indicate an error and you can ignore this message): INVALID_ARGUMENT: You must feed a value for placeholder tensor 'inputs' with dtype string and shape [?]\n",
      "\t [[{{node inputs}}]]\n",
      "2023-04-24 13:01:24.559578: I tensorflow/core/common_runtime/executor.cc:1197] [/device:CPU:0] (DEBUG INFO) Executor start aborting (this does not indicate an error and you can ignore this message): INVALID_ARGUMENT: You must feed a value for placeholder tensor 'inputs' with dtype string and shape [?]\n",
      "\t [[{{node inputs}}]]\n",
      "2023-04-24 13:01:24.628859: I tensorflow/core/common_runtime/executor.cc:1197] [/device:CPU:0] (DEBUG INFO) Executor start aborting (this does not indicate an error and you can ignore this message): INVALID_ARGUMENT: You must feed a value for placeholder tensor 'inputs' with dtype string and shape [?]\n",
      "\t [[{{node inputs}}]]\n",
      "2023-04-24 13:01:24.688769: I tensorflow/core/common_runtime/executor.cc:1197] [/device:CPU:0] (DEBUG INFO) Executor start aborting (this does not indicate an error and you can ignore this message): INVALID_ARGUMENT: You must feed a value for placeholder tensor 'inputs' with dtype string and shape [?]\n",
      "\t [[{{node inputs}}]]\n",
      "2023-04-24 13:01:24.789767: I tensorflow/core/common_runtime/executor.cc:1197] [/device:CPU:0] (DEBUG INFO) Executor start aborting (this does not indicate an error and you can ignore this message): INVALID_ARGUMENT: You must feed a value for placeholder tensor 'input_6' with dtype string and shape [?]\n",
      "\t [[{{node input_6}}]]\n",
      "2023-04-24 13:01:24.861017: I tensorflow/core/common_runtime/executor.cc:1197] [/device:CPU:0] (DEBUG INFO) Executor start aborting (this does not indicate an error and you can ignore this message): INVALID_ARGUMENT: You must feed a value for placeholder tensor 'inputs' with dtype string and shape [?]\n",
      "\t [[{{node inputs}}]]\n",
      "2023-04-24 13:01:24.924212: I tensorflow/core/common_runtime/executor.cc:1197] [/device:CPU:0] (DEBUG INFO) Executor start aborting (this does not indicate an error and you can ignore this message): INVALID_ARGUMENT: You must feed a value for placeholder tensor 'inputs' with dtype string and shape [?]\n",
      "\t [[{{node inputs}}]]\n",
      "2023-04-24 13:01:24.986337: I tensorflow/core/common_runtime/executor.cc:1197] [/device:CPU:0] (DEBUG INFO) Executor start aborting (this does not indicate an error and you can ignore this message): INVALID_ARGUMENT: You must feed a value for placeholder tensor 'inputs' with dtype string and shape [?]\n",
      "\t [[{{node inputs}}]]\n",
      "2023-04-24 13:01:25.055508: I tensorflow/core/common_runtime/executor.cc:1197] [/device:CPU:0] (DEBUG INFO) Executor start aborting (this does not indicate an error and you can ignore this message): INVALID_ARGUMENT: You must feed a value for placeholder tensor 'inputs' with dtype string and shape [?]\n",
      "\t [[{{node inputs}}]]\n",
      "2023-04-24 13:01:25.142956: I tensorflow/core/common_runtime/executor.cc:1197] [/device:CPU:0] (DEBUG INFO) Executor start aborting (this does not indicate an error and you can ignore this message): INVALID_ARGUMENT: You must feed a value for placeholder tensor 'inputs' with dtype string and shape [?]\n",
      "\t [[{{node inputs}}]]\n",
      "2023-04-24 13:01:25.200113: I tensorflow/core/common_runtime/executor.cc:1197] [/device:CPU:0] (DEBUG INFO) Executor start aborting (this does not indicate an error and you can ignore this message): INVALID_ARGUMENT: You must feed a value for placeholder tensor 'inputs' with dtype string and shape [?]\n",
      "\t [[{{node inputs}}]]\n",
      "2023-04-24 13:01:25.257083: I tensorflow/core/common_runtime/executor.cc:1197] [/device:CPU:0] (DEBUG INFO) Executor start aborting (this does not indicate an error and you can ignore this message): INVALID_ARGUMENT: You must feed a value for placeholder tensor 'inputs' with dtype string and shape [?]\n",
      "\t [[{{node inputs}}]]\n",
      "2023-04-24 13:01:25.312180: I tensorflow/core/common_runtime/executor.cc:1197] [/device:CPU:0] (DEBUG INFO) Executor start aborting (this does not indicate an error and you can ignore this message): INVALID_ARGUMENT: You must feed a value for placeholder tensor 'inputs' with dtype string and shape [?]\n",
      "\t [[{{node inputs}}]]\n",
      "WARNING:absl:Found untraced functions such as _update_step_xla while saving (showing 1 of 1). These functions will not be directly callable after loading.\n",
      "2023-04-24 13:01:26.096560: I tensorflow/core/common_runtime/executor.cc:1197] [/device:CPU:0] (DEBUG INFO) Executor start aborting (this does not indicate an error and you can ignore this message): INVALID_ARGUMENT: You must feed a value for placeholder tensor 'serving_default_input_6' with dtype string and shape [?]\n",
      "\t [[{{node serving_default_input_6}}]]\n"
     ]
    },
    {
     "name": "stdout",
     "output_type": "stream",
     "text": [
      "INFO:tensorflow:Assets written to: ./models/6a_use_added_dense/assets\n"
     ]
    },
    {
     "name": "stderr",
     "output_type": "stream",
     "text": [
      "INFO:tensorflow:Assets written to: ./models/6a_use_added_dense/assets\n"
     ]
    }
   ],
   "source": [
    "# save best performing model to saved_model format\n",
    "model_6a.save('./models/6a_use_added_dense')"
   ]
  },
  {
   "cell_type": "code",
   "execution_count": 109,
   "id": "975efb5b",
   "metadata": {
    "collapsed": true
   },
   "outputs": [
    {
     "name": "stderr",
     "output_type": "stream",
     "text": [
      "2023-04-24 13:01:43.789634: I tensorflow/core/common_runtime/executor.cc:1197] [/device:CPU:0] (DEBUG INFO) Executor start aborting (this does not indicate an error and you can ignore this message): INVALID_ARGUMENT: You must feed a value for placeholder tensor 'inputs' with dtype string and shape [?]\n",
      "\t [[{{node inputs}}]]\n",
      "2023-04-24 13:01:43.847042: I tensorflow/core/common_runtime/executor.cc:1197] [/device:CPU:0] (DEBUG INFO) Executor start aborting (this does not indicate an error and you can ignore this message): INVALID_ARGUMENT: You must feed a value for placeholder tensor 'Placeholder' with dtype string and shape [?]\n",
      "\t [[{{node Placeholder}}]]\n"
     ]
    }
   ],
   "source": [
    "loaded_model_6a_saved_model = tf.keras.models.load_model(\n",
    "    './models/6a_use_added_dense',\n",
    ")"
   ]
  },
  {
   "cell_type": "code",
   "execution_count": 110,
   "id": "d6fb3d7c",
   "metadata": {
    "collapsed": true
   },
   "outputs": [
    {
     "name": "stdout",
     "output_type": "stream",
     "text": [
      "24/24 [==============================] - 0s 5ms/step - loss: 0.4236 - accuracy: 0.8163\n",
      "24/24 [==============================] - 0s 5ms/step - loss: 0.4236 - accuracy: 0.8163\n"
     ]
    },
    {
     "data": {
      "text/plain": [
       "True"
      ]
     },
     "execution_count": 110,
     "metadata": {},
     "output_type": "execute_result"
    }
   ],
   "source": [
    "# verify loaded model\n",
    "loaded_model_6a_saved_model.evaluate(val_tweets, val_labels) == model_6a.evaluate(val_tweets, val_labels)\n",
    "# True"
   ]
  },
  {
   "cell_type": "markdown",
   "id": "5e58c3fc",
   "metadata": {},
   "source": [
    "## Best Model Evaluation"
   ]
  },
  {
   "cell_type": "code",
   "execution_count": 112,
   "id": "0051fdc1",
   "metadata": {
    "collapsed": true
   },
   "outputs": [
    {
     "name": "stdout",
     "output_type": "stream",
     "text": [
      "24/24 [==============================] - 0s 4ms/step\n",
      "tf.Tensor([0. 1. 1. 0. 1.], shape=(5,), dtype=float32)\n"
     ]
    }
   ],
   "source": [
    "# find most wrong predictions\n",
    "## create dataframe with validation tweets, labels and model predictions\n",
    "loaded_model_pred_probs = tf.squeeze(loaded_model_6a_saved_model.predict(val_tweets))\n",
    "loaded_model_preds = tf.round(loaded_model_pred_probs)\n",
    "print(loaded_model_preds[:5])\n",
    "# [0. 1. 1. 0. 1.]"
   ]
  },
  {
   "cell_type": "code",
   "execution_count": 113,
   "id": "b1bde614",
   "metadata": {
    "collapsed": true
   },
   "outputs": [
    {
     "data": {
      "text/html": [
       "<div>\n",
       "<style scoped>\n",
       "    .dataframe tbody tr th:only-of-type {\n",
       "        vertical-align: middle;\n",
       "    }\n",
       "\n",
       "    .dataframe tbody tr th {\n",
       "        vertical-align: top;\n",
       "    }\n",
       "\n",
       "    .dataframe thead th {\n",
       "        text-align: right;\n",
       "    }\n",
       "</style>\n",
       "<table border=\"1\" class=\"dataframe\">\n",
       "  <thead>\n",
       "    <tr style=\"text-align: right;\">\n",
       "      <th></th>\n",
       "      <th>text</th>\n",
       "      <th>target</th>\n",
       "      <th>pred</th>\n",
       "      <th>pred_prob</th>\n",
       "    </tr>\n",
       "  </thead>\n",
       "  <tbody>\n",
       "    <tr>\n",
       "      <th>0</th>\n",
       "      <td>DFR EP016 Monthly Meltdown - On Dnbheaven 2015...</td>\n",
       "      <td>0</td>\n",
       "      <td>0.0</td>\n",
       "      <td>0.211551</td>\n",
       "    </tr>\n",
       "    <tr>\n",
       "      <th>1</th>\n",
       "      <td>FedEx no longer to transport bioterror germs i...</td>\n",
       "      <td>0</td>\n",
       "      <td>1.0</td>\n",
       "      <td>0.788260</td>\n",
       "    </tr>\n",
       "    <tr>\n",
       "      <th>2</th>\n",
       "      <td>Gunmen kill four in El Salvador bus attack: Su...</td>\n",
       "      <td>1</td>\n",
       "      <td>1.0</td>\n",
       "      <td>0.989896</td>\n",
       "    </tr>\n",
       "    <tr>\n",
       "      <th>3</th>\n",
       "      <td>@camilacabello97 Internally and externally scr...</td>\n",
       "      <td>1</td>\n",
       "      <td>0.0</td>\n",
       "      <td>0.231131</td>\n",
       "    </tr>\n",
       "    <tr>\n",
       "      <th>4</th>\n",
       "      <td>Radiation emergency #preparedness starts with ...</td>\n",
       "      <td>1</td>\n",
       "      <td>1.0</td>\n",
       "      <td>0.704475</td>\n",
       "    </tr>\n",
       "    <tr>\n",
       "      <th>...</th>\n",
       "      <td>...</td>\n",
       "      <td>...</td>\n",
       "      <td>...</td>\n",
       "      <td>...</td>\n",
       "    </tr>\n",
       "    <tr>\n",
       "      <th>757</th>\n",
       "      <td>That's the ultimate road to destruction</td>\n",
       "      <td>0</td>\n",
       "      <td>0.0</td>\n",
       "      <td>0.142349</td>\n",
       "    </tr>\n",
       "    <tr>\n",
       "      <th>758</th>\n",
       "      <td>@SetZorah dad why dont you claim me that mean ...</td>\n",
       "      <td>0</td>\n",
       "      <td>0.0</td>\n",
       "      <td>0.115426</td>\n",
       "    </tr>\n",
       "    <tr>\n",
       "      <th>759</th>\n",
       "      <td>FedEx will no longer transport bioterror patho...</td>\n",
       "      <td>0</td>\n",
       "      <td>1.0</td>\n",
       "      <td>0.895312</td>\n",
       "    </tr>\n",
       "    <tr>\n",
       "      <th>760</th>\n",
       "      <td>Crack in the path where I wiped out this morni...</td>\n",
       "      <td>0</td>\n",
       "      <td>1.0</td>\n",
       "      <td>0.718347</td>\n",
       "    </tr>\n",
       "    <tr>\n",
       "      <th>761</th>\n",
       "      <td>I liked a @YouTube video from @dannyonpc http:...</td>\n",
       "      <td>0</td>\n",
       "      <td>0.0</td>\n",
       "      <td>0.146166</td>\n",
       "    </tr>\n",
       "  </tbody>\n",
       "</table>\n",
       "<p>762 rows × 4 columns</p>\n",
       "</div>"
      ],
      "text/plain": [
       "                                                  text  target  pred  \\\n",
       "0    DFR EP016 Monthly Meltdown - On Dnbheaven 2015...       0   0.0   \n",
       "1    FedEx no longer to transport bioterror germs i...       0   1.0   \n",
       "2    Gunmen kill four in El Salvador bus attack: Su...       1   1.0   \n",
       "3    @camilacabello97 Internally and externally scr...       1   0.0   \n",
       "4    Radiation emergency #preparedness starts with ...       1   1.0   \n",
       "..                                                 ...     ...   ...   \n",
       "757            That's the ultimate road to destruction       0   0.0   \n",
       "758  @SetZorah dad why dont you claim me that mean ...       0   0.0   \n",
       "759  FedEx will no longer transport bioterror patho...       0   1.0   \n",
       "760  Crack in the path where I wiped out this morni...       0   1.0   \n",
       "761  I liked a @YouTube video from @dannyonpc http:...       0   0.0   \n",
       "\n",
       "     pred_prob  \n",
       "0     0.211551  \n",
       "1     0.788260  \n",
       "2     0.989896  \n",
       "3     0.231131  \n",
       "4     0.704475  \n",
       "..         ...  \n",
       "757   0.142349  \n",
       "758   0.115426  \n",
       "759   0.895312  \n",
       "760   0.718347  \n",
       "761   0.146166  \n",
       "\n",
       "[762 rows x 4 columns]"
      ]
     },
     "execution_count": 113,
     "metadata": {},
     "output_type": "execute_result"
    }
   ],
   "source": [
    "pred_df = pd.DataFrame({\n",
    "    \"text\": val_tweets,\n",
    "    \"target\": val_labels,\n",
    "    \"pred\": loaded_model_preds,\n",
    "    \"pred_prob\": loaded_model_pred_probs\n",
    "})\n",
    "\n",
    "pred_df"
   ]
  },
  {
   "cell_type": "markdown",
   "id": "731d2ba7",
   "metadata": {},
   "source": [
    "|\t| text | target | pred | pred_prob |\n",
    "| -- | -- | -- | -- | -- | \n",
    "| 0 | DFR EP016 Monthly Meltdown - On Dnbheaven 2015... | 0 | 0.0 | 0.191866 |\n",
    "| 1 | FedEx no longer to transport bioterror germs i... | 0 | 1.0 | 0.793415 |\n",
    "| 2 | Gunmen kill four in El Salvador bus attack: Su... | 1 | 1.0 | 0.992559 |\n",
    "| 3 | @camilacabello97 Internally and externally scr... | 1 | 0.0 | 0.255227 |\n",
    "| 4 | Radiation emergency #preparedness starts with ... | 1 | 1.0 | 0.722030 |\n",
    "...\n",
    "| 757 | That's the ultimate road to destruction | 0 | 0.0 | 0.141685 |\n",
    "| 758 | @SetZorah dad why dont you claim me that mean ... | 0 | 0.0 | 0.111817 |\n",
    "| 759 | FedEx will no longer transport bioterror patho... | 0 | 1.0 | 0.898317 |\n",
    "| 760 | Crack in the path where I wiped out this morni... | 0 | 1.0 | 0.671607 |\n",
    "| 761 | I liked a @YouTube video from @dannyonpc http:... | 0 | 0.0 | 0.127992 |"
   ]
  },
  {
   "cell_type": "code",
   "execution_count": 114,
   "id": "76d40e12",
   "metadata": {
    "collapsed": true
   },
   "outputs": [
    {
     "data": {
      "text/html": [
       "<div>\n",
       "<style scoped>\n",
       "    .dataframe tbody tr th:only-of-type {\n",
       "        vertical-align: middle;\n",
       "    }\n",
       "\n",
       "    .dataframe tbody tr th {\n",
       "        vertical-align: top;\n",
       "    }\n",
       "\n",
       "    .dataframe thead th {\n",
       "        text-align: right;\n",
       "    }\n",
       "</style>\n",
       "<table border=\"1\" class=\"dataframe\">\n",
       "  <thead>\n",
       "    <tr style=\"text-align: right;\">\n",
       "      <th></th>\n",
       "      <th>text</th>\n",
       "      <th>target</th>\n",
       "      <th>pred</th>\n",
       "      <th>pred_prob</th>\n",
       "    </tr>\n",
       "  </thead>\n",
       "  <tbody>\n",
       "    <tr>\n",
       "      <th>31</th>\n",
       "      <td>? High Skies - Burning Buildings ? http://t.co...</td>\n",
       "      <td>0</td>\n",
       "      <td>1.0</td>\n",
       "      <td>0.917166</td>\n",
       "    </tr>\n",
       "    <tr>\n",
       "      <th>759</th>\n",
       "      <td>FedEx will no longer transport bioterror patho...</td>\n",
       "      <td>0</td>\n",
       "      <td>1.0</td>\n",
       "      <td>0.895312</td>\n",
       "    </tr>\n",
       "    <tr>\n",
       "      <th>49</th>\n",
       "      <td>@madonnamking RSPCA site multiple 7 story high...</td>\n",
       "      <td>0</td>\n",
       "      <td>1.0</td>\n",
       "      <td>0.879588</td>\n",
       "    </tr>\n",
       "    <tr>\n",
       "      <th>628</th>\n",
       "      <td>@noah_anyname That's where the concentration c...</td>\n",
       "      <td>0</td>\n",
       "      <td>1.0</td>\n",
       "      <td>0.862645</td>\n",
       "    </tr>\n",
       "    <tr>\n",
       "      <th>109</th>\n",
       "      <td>[55436] 1950 LIONEL TRAINS SMOKE LOCOMOTIVES W...</td>\n",
       "      <td>0</td>\n",
       "      <td>1.0</td>\n",
       "      <td>0.843334</td>\n",
       "    </tr>\n",
       "    <tr>\n",
       "      <th>...</th>\n",
       "      <td>...</td>\n",
       "      <td>...</td>\n",
       "      <td>...</td>\n",
       "      <td>...</td>\n",
       "    </tr>\n",
       "    <tr>\n",
       "      <th>411</th>\n",
       "      <td>@SoonerMagic_ I mean I'm a fan but I don't nee...</td>\n",
       "      <td>1</td>\n",
       "      <td>0.0</td>\n",
       "      <td>0.057629</td>\n",
       "    </tr>\n",
       "    <tr>\n",
       "      <th>233</th>\n",
       "      <td>I get to smoke my shit in peace</td>\n",
       "      <td>1</td>\n",
       "      <td>0.0</td>\n",
       "      <td>0.056021</td>\n",
       "    </tr>\n",
       "    <tr>\n",
       "      <th>244</th>\n",
       "      <td>Reddit Will Now QuarantineÛ_ http://t.co/pkUA...</td>\n",
       "      <td>1</td>\n",
       "      <td>0.0</td>\n",
       "      <td>0.048836</td>\n",
       "    </tr>\n",
       "    <tr>\n",
       "      <th>23</th>\n",
       "      <td>Ron &amp;amp; Fez - Dave's High School Crush https...</td>\n",
       "      <td>1</td>\n",
       "      <td>0.0</td>\n",
       "      <td>0.042986</td>\n",
       "    </tr>\n",
       "    <tr>\n",
       "      <th>38</th>\n",
       "      <td>Why are you deluged with low self-image? Take ...</td>\n",
       "      <td>1</td>\n",
       "      <td>0.0</td>\n",
       "      <td>0.036385</td>\n",
       "    </tr>\n",
       "  </tbody>\n",
       "</table>\n",
       "<p>140 rows × 4 columns</p>\n",
       "</div>"
      ],
      "text/plain": [
       "                                                  text  target  pred  \\\n",
       "31   ? High Skies - Burning Buildings ? http://t.co...       0   1.0   \n",
       "759  FedEx will no longer transport bioterror patho...       0   1.0   \n",
       "49   @madonnamking RSPCA site multiple 7 story high...       0   1.0   \n",
       "628  @noah_anyname That's where the concentration c...       0   1.0   \n",
       "109  [55436] 1950 LIONEL TRAINS SMOKE LOCOMOTIVES W...       0   1.0   \n",
       "..                                                 ...     ...   ...   \n",
       "411  @SoonerMagic_ I mean I'm a fan but I don't nee...       1   0.0   \n",
       "233                    I get to smoke my shit in peace       1   0.0   \n",
       "244  Reddit Will Now QuarantineÛ_ http://t.co/pkUA...       1   0.0   \n",
       "23   Ron &amp; Fez - Dave's High School Crush https...       1   0.0   \n",
       "38   Why are you deluged with low self-image? Take ...       1   0.0   \n",
       "\n",
       "     pred_prob  \n",
       "31    0.917166  \n",
       "759   0.895312  \n",
       "49    0.879588  \n",
       "628   0.862645  \n",
       "109   0.843334  \n",
       "..         ...  \n",
       "411   0.057629  \n",
       "233   0.056021  \n",
       "244   0.048836  \n",
       "23    0.042986  \n",
       "38    0.036385  \n",
       "\n",
       "[140 rows x 4 columns]"
      ]
     },
     "execution_count": 114,
     "metadata": {},
     "output_type": "execute_result"
    }
   ],
   "source": [
    "# create another datframe that only contains wrong predictions\n",
    "most_wrong = pred_df[pred_df['target'] != pred_df['pred']].sort_values(\n",
    "    'pred_prob',\n",
    "    ascending=False\n",
    ")\n",
    "\n",
    "most_wrong"
   ]
  },
  {
   "cell_type": "markdown",
   "id": "78ef4b58",
   "metadata": {},
   "source": [
    "|\t| text | target | pred | pred_prob |\n",
    "| -- | -- | -- | -- | -- | \n",
    "| 31 | ? High Skies - Burning Buildings ? http://t.co... | 0 | 1.0 | 0.936771 |\n",
    "| 628 | @noah_anyname That's where the concentration c... | 0 | 1.0 | 0.907564 |\n",
    "| 759 | FedEx will no longer transport bioterror patho... | 0 | 1.0 | 0.898317 |\n",
    "| 251 | @AshGhebranious civil rights continued in the ... | 0 | 1.0 | 0.854326 |\n",
    "| 49 | @madonnamking RSPCA site multiple 7 story high... | 0 | 1.0 | 0.853781 |\n",
    "...\n",
    "| 233 | I get to smoke my shit in peace | 1 | 0.0 | 0.052748 |\n",
    "| 411 | @SoonerMagic_ I mean I'm a fan but I don't nee... | 1 | 0.0 | 0.046553 |\n",
    "| 244 | Reddit Will Now QuarantineÛ_ http://t.co/pkUA... | 1 | 0.0 | 0.044474 |\n",
    "| 23 | Ron &amp; Fez - Dave's High School Crush https... | 1 | 0.0 | 0.040853 |\n",
    "| 38 | Why are you deluged with low self-image? Take ... | 1 | 0.0 | 0.040229 |"
   ]
  },
  {
   "cell_type": "markdown",
   "id": "e2cc73fb",
   "metadata": {},
   "source": [
    "#### False Positives"
   ]
  },
  {
   "cell_type": "code",
   "execution_count": 115,
   "id": "a955d9f8",
   "metadata": {
    "collapsed": true
   },
   "outputs": [
    {
     "name": "stdout",
     "output_type": "stream",
     "text": [
      "Target: 0, Pred: 1.0, Probability: 0.9171655774116516\n",
      "Tweet: ? High Skies - Burning Buildings ? http://t.co/uVq41i3Kx2 #nowplaying\n",
      "----\n",
      "\n",
      "Target: 0, Pred: 1.0, Probability: 0.8953118324279785\n",
      "Tweet: FedEx will no longer transport bioterror pathogens in wake of anthrax lab mishaps http://t.co/lHpgxc4b8J\n",
      "----\n",
      "\n",
      "Target: 0, Pred: 1.0, Probability: 0.8795878887176514\n",
      "Tweet: @madonnamking RSPCA site multiple 7 story high rise buildings next to low density character residential in an area that floods\n",
      "----\n",
      "\n",
      "Target: 0, Pred: 1.0, Probability: 0.8626453876495361\n",
      "Tweet: @noah_anyname That's where the concentration camps and mass murder come in. \n",
      " \n",
      "EVERY. FUCKING. TIME.\n",
      "----\n",
      "\n",
      "Target: 0, Pred: 1.0, Probability: 0.8433336615562439\n",
      "Tweet: [55436] 1950 LIONEL TRAINS SMOKE LOCOMOTIVES WITH MAGNE-TRACTION INSTRUCTIONS http://t.co/xEZBs3sq0y http://t.co/C2x0QoKGlY\n",
      "----\n",
      "\n",
      "Target: 0, Pred: 1.0, Probability: 0.842764139175415\n",
      "Tweet: Ashes 2015: AustraliaÛªs collapse at Trent Bridge among worst in history: England bundled out Australia for 60 ... http://t.co/t5TrhjUAU0\n",
      "----\n",
      "\n",
      "Target: 0, Pred: 1.0, Probability: 0.8387770056724548\n",
      "Tweet: @freefromwolves GodsLove &amp; #thankU brother Danny for RT of NEW VIDEO http://t.co/cybKsXHF7d The Coming Apocalyptic US Earthquake &amp; Tsunami\n",
      "----\n",
      "\n",
      "Target: 0, Pred: 1.0, Probability: 0.8276335597038269\n",
      "Tweet: åÈMGN-AFRICAå¨ pin:263789F4 åÈ Correction: Tent Collapse Story: Correction: Tent Collapse story åÈ http://t.co/fDJUYvZMrv @wizkidayo\n",
      "----\n",
      "\n",
      "Target: 0, Pred: 1.0, Probability: 0.8238321542739868\n",
      "Tweet: @AshGhebranious civil rights continued in the 60s. And what about trans-generational trauma? if anything we should listen to the Americans.\n",
      "----\n",
      "\n",
      "Target: 0, Pred: 1.0, Probability: 0.8230549097061157\n",
      "Tweet: @SonofLiberty357 all illuminated by the brightly burning buildings all around the town!\n",
      "----\n",
      "\n"
     ]
    }
   ],
   "source": [
    "for row in most_wrong[:10].itertuples():\n",
    "    _, text, target, pred, pred_prob = row\n",
    "    print(f\"Target: {target}, Pred: {pred}, Probability: {pred_prob}\")\n",
    "    print(f\"Tweet: {text}\")\n",
    "    print(\"----\\n\")"
   ]
  },
  {
   "cell_type": "markdown",
   "id": "2a4db8ca",
   "metadata": {},
   "source": [
    "```\n",
    "Target: 0, Pred: 1.0, Probability: 0.936771035194397\n",
    "Tweet: ? High Skies - Burning Buildings ? http://t.co/uVq41i3Kx2 #nowplaying\n",
    "----\n",
    "\n",
    "Target: 0, Pred: 1.0, Probability: 0.9075638055801392\n",
    "Tweet: @noah_anyname That's where the concentration camps and mass murder come in. \n",
    " \n",
    "EVERY. FUCKING. TIME.\n",
    "----\n",
    "\n",
    "Target: 0, Pred: 1.0, Probability: 0.8983168601989746\n",
    "Tweet: FedEx will no longer transport bioterror pathogens in wake of anthrax lab mishaps http://t.co/lHpgxc4b8J\n",
    "----\n",
    "\n",
    "Target: 0, Pred: 1.0, Probability: 0.8543258309364319\n",
    "Tweet: @AshGhebranious civil rights continued in the 60s. And what about trans-generational trauma? if anything we should listen to the Americans.\n",
    "----\n",
    "\n",
    "Target: 0, Pred: 1.0, Probability: 0.8537805676460266\n",
    "Tweet: @madonnamking RSPCA site multiple 7 story high rise buildings next to low density character residential in an area that floods\n",
    "----\n",
    "\n",
    "Target: 0, Pred: 1.0, Probability: 0.8336963057518005\n",
    "Tweet: [55436] 1950 LIONEL TRAINS SMOKE LOCOMOTIVES WITH MAGNE-TRACTION INSTRUCTIONS http://t.co/xEZBs3sq0y http://t.co/C2x0QoKGlY\n",
    "----\n",
    "\n",
    "Target: 0, Pred: 1.0, Probability: 0.833143413066864\n",
    "Tweet: Ashes 2015: AustraliaÛªs collapse at Trent Bridge among worst in history: England bundled out Australia for 60 ... http://t.co/t5TrhjUAU0\n",
    "----\n",
    "\n",
    "Target: 0, Pred: 1.0, Probability: 0.8305423855781555\n",
    "Tweet: @SonofLiberty357 all illuminated by the brightly burning buildings all around the town!\n",
    "----\n",
    "\n",
    "Target: 0, Pred: 1.0, Probability: 0.8277301788330078\n",
    "Tweet: Deaths 3 http://t.co/nApviyGKYK\n",
    "----\n",
    "\n",
    "Target: 0, Pred: 1.0, Probability: 0.8111591935157776\n",
    "Tweet: The Sound of Arson\n",
    "----\n",
    "```"
   ]
  },
  {
   "cell_type": "markdown",
   "id": "41bdc6c1",
   "metadata": {},
   "source": [
    "#### False Negatives"
   ]
  },
  {
   "cell_type": "code",
   "execution_count": 116,
   "id": "a8c9c32d",
   "metadata": {
    "collapsed": true
   },
   "outputs": [
    {
     "name": "stdout",
     "output_type": "stream",
     "text": [
      "Target: 1, Pred: 0.0, Probability: 0.08482133597135544\n",
      "Tweet: 'The way you move is like a full on rainstorm and I'm a house of cards'\n",
      "----\n",
      "\n",
      "Target: 1, Pred: 0.0, Probability: 0.08254487812519073\n",
      "Tweet: @willienelson We need help! Horses will die!Please RT &amp; sign petition!Take a stand &amp; be a voice for them! #gilbert23 https://t.co/e8dl1lNCVu\n",
      "----\n",
      "\n",
      "Target: 1, Pred: 0.0, Probability: 0.08116379380226135\n",
      "Tweet: VICTORINOX SWISS ARMY DATE WOMEN'S RUBBER MOP WATCH 241487 http://t.co/yFy3nkkcoH http://t.co/KNEhVvOHVK\n",
      "----\n",
      "\n",
      "Target: 1, Pred: 0.0, Probability: 0.07389821112155914\n",
      "Tweet: @DavidVonderhaar At least you were sincere ??\n",
      "----\n",
      "\n",
      "Target: 1, Pred: 0.0, Probability: 0.06220388039946556\n",
      "Tweet: You can never escape me. Bullets don't harm me. Nothing harms me. But I know pain. I know pain. Sometimes I share it. With someone like you.\n",
      "----\n",
      "\n",
      "Target: 1, Pred: 0.0, Probability: 0.05762890353798866\n",
      "Tweet: @SoonerMagic_ I mean I'm a fan but I don't need a girl sounding off like a damn siren\n",
      "----\n",
      "\n",
      "Target: 1, Pred: 0.0, Probability: 0.0560205839574337\n",
      "Tweet: I get to smoke my shit in peace\n",
      "----\n",
      "\n",
      "Target: 1, Pred: 0.0, Probability: 0.048835765570402145\n",
      "Tweet: Reddit Will Now QuarantineÛ_ http://t.co/pkUAMXw6pm #onlinecommunities #reddit #amageddon #freespeech #Business http://t.co/PAWvNJ4sAP\n",
      "----\n",
      "\n",
      "Target: 1, Pred: 0.0, Probability: 0.04298585653305054\n",
      "Tweet: Ron &amp; Fez - Dave's High School Crush https://t.co/aN3W16c8F6 via @YouTube\n",
      "----\n",
      "\n",
      "Target: 1, Pred: 0.0, Probability: 0.03638499975204468\n",
      "Tweet: Why are you deluged with low self-image? Take the quiz: http://t.co/XsPqdOrIqj http://t.co/CQYvFR4UCy\n",
      "----\n",
      "\n"
     ]
    }
   ],
   "source": [
    "for row in most_wrong[-10:].itertuples():\n",
    "    _, text, target, pred, pred_prob = row\n",
    "    print(f\"Target: {target}, Pred: {pred}, Probability: {pred_prob}\")\n",
    "    print(f\"Tweet: {text}\")\n",
    "    print(\"----\\n\")"
   ]
  },
  {
   "cell_type": "markdown",
   "id": "198540a7",
   "metadata": {},
   "source": [
    "```\n",
    "Target: 1, Pred: 0.0, Probability: 0.07530134916305542\n",
    "Tweet: going to redo my nails and watch behind the scenes of desolation of smaug ayyy\n",
    "----\n",
    "\n",
    "Target: 1, Pred: 0.0, Probability: 0.07096730172634125\n",
    "Tweet: @DavidVonderhaar At least you were sincere ??\n",
    "----\n",
    "\n",
    "Target: 1, Pred: 0.0, Probability: 0.06341199576854706\n",
    "Tweet: Lucas Duda is Ghost Rider. Not the Nic Cage version but an actual 'engulfed in flames' badass. #Mets\n",
    "----\n",
    "\n",
    "Target: 1, Pred: 0.0, Probability: 0.06147787347435951\n",
    "Tweet: You can never escape me. Bullets don't harm me. Nothing harms me. But I know pain. I know pain. Sometimes I share it. With someone like you.\n",
    "----\n",
    "\n",
    "Target: 1, Pred: 0.0, Probability: 0.05444430932402611\n",
    "Tweet: @willienelson We need help! Horses will die!Please RT &amp; sign petition!Take a stand &amp; be a voice for them! #gilbert23 https://t.co/e8dl1lNCVu\n",
    "----\n",
    "\n",
    "Target: 1, Pred: 0.0, Probability: 0.0527476891875267\n",
    "Tweet: I get to smoke my shit in peace\n",
    "----\n",
    "\n",
    "Target: 1, Pred: 0.0, Probability: 0.04655275493860245\n",
    "Tweet: @SoonerMagic_ I mean I'm a fan but I don't need a girl sounding off like a damn siren\n",
    "----\n",
    "\n",
    "Target: 1, Pred: 0.0, Probability: 0.04447368532419205\n",
    "Tweet: Reddit Will Now QuarantineÛ_ http://t.co/pkUAMXw6pm #onlinecommunities #reddit #amageddon #freespeech #Business http://t.co/PAWvNJ4sAP\n",
    "----\n",
    "\n",
    "Target: 1, Pred: 0.0, Probability: 0.04085317254066467\n",
    "Tweet: Ron &amp; Fez - Dave's High School Crush https://t.co/aN3W16c8F6 via @YouTube\n",
    "----\n",
    "\n",
    "Target: 1, Pred: 0.0, Probability: 0.0402291864156723\n",
    "Tweet: Why are you deluged with low self-image? Take the quiz: http://t.co/XsPqdOrIqj http://t.co/CQYvFR4UCy\n",
    "----\n",
    "```"
   ]
  },
  {
   "cell_type": "markdown",
   "id": "ba1c6e1f",
   "metadata": {},
   "source": [
    "## Test Dataset Predictions"
   ]
  },
  {
   "cell_type": "code",
   "execution_count": 117,
   "id": "bcd033e1",
   "metadata": {
    "collapsed": true
   },
   "outputs": [
    {
     "data": {
      "text/html": [
       "<div>\n",
       "<style scoped>\n",
       "    .dataframe tbody tr th:only-of-type {\n",
       "        vertical-align: middle;\n",
       "    }\n",
       "\n",
       "    .dataframe tbody tr th {\n",
       "        vertical-align: top;\n",
       "    }\n",
       "\n",
       "    .dataframe thead th {\n",
       "        text-align: right;\n",
       "    }\n",
       "</style>\n",
       "<table border=\"1\" class=\"dataframe\">\n",
       "  <thead>\n",
       "    <tr style=\"text-align: right;\">\n",
       "      <th></th>\n",
       "      <th>id</th>\n",
       "      <th>keyword</th>\n",
       "      <th>location</th>\n",
       "      <th>text</th>\n",
       "    </tr>\n",
       "  </thead>\n",
       "  <tbody>\n",
       "    <tr>\n",
       "      <th>2406</th>\n",
       "      <td>8051</td>\n",
       "      <td>refugees</td>\n",
       "      <td>NaN</td>\n",
       "      <td>Refugees as citizens - The Hindu http://t.co/G...</td>\n",
       "    </tr>\n",
       "    <tr>\n",
       "      <th>134</th>\n",
       "      <td>425</td>\n",
       "      <td>apocalypse</td>\n",
       "      <td>Currently Somewhere On Earth</td>\n",
       "      <td>@5SOStag honestly he could say an apocalypse i...</td>\n",
       "    </tr>\n",
       "    <tr>\n",
       "      <th>411</th>\n",
       "      <td>1330</td>\n",
       "      <td>blown%20up</td>\n",
       "      <td>Scout Team</td>\n",
       "      <td>If you bored as shit don't nobody fuck wit you...</td>\n",
       "    </tr>\n",
       "    <tr>\n",
       "      <th>203</th>\n",
       "      <td>663</td>\n",
       "      <td>attack</td>\n",
       "      <td>NaN</td>\n",
       "      <td>@RealTwanBrown Yesterday I Had A Heat Attack ?...</td>\n",
       "    </tr>\n",
       "    <tr>\n",
       "      <th>889</th>\n",
       "      <td>2930</td>\n",
       "      <td>danger</td>\n",
       "      <td>Leeds</td>\n",
       "      <td>The Devil Wears Prada is still one of my favou...</td>\n",
       "    </tr>\n",
       "  </tbody>\n",
       "</table>\n",
       "</div>"
      ],
      "text/plain": [
       "        id     keyword                      location  \\\n",
       "2406  8051    refugees                           NaN   \n",
       "134    425  apocalypse  Currently Somewhere On Earth   \n",
       "411   1330  blown%20up                   Scout Team    \n",
       "203    663      attack                           NaN   \n",
       "889   2930      danger                        Leeds    \n",
       "\n",
       "                                                   text  \n",
       "2406  Refugees as citizens - The Hindu http://t.co/G...  \n",
       "134   @5SOStag honestly he could say an apocalypse i...  \n",
       "411   If you bored as shit don't nobody fuck wit you...  \n",
       "203   @RealTwanBrown Yesterday I Had A Heat Attack ?...  \n",
       "889   The Devil Wears Prada is still one of my favou...  "
      ]
     },
     "execution_count": 117,
     "metadata": {},
     "output_type": "execute_result"
    }
   ],
   "source": [
    "# get the test dataset and randomize\n",
    "test_df_shuffle = test_df.sample(frac=1, random_state=SEED)\n",
    "\n",
    "test_df_shuffle.head(5)"
   ]
  },
  {
   "cell_type": "markdown",
   "id": "c3dfd5cb",
   "metadata": {},
   "source": [
    "|\t| id \t | keyword | location | text |\n",
    "| -- | -- | -- | -- | -- | \n",
    "| 2406 | 8051 | refugees | NaN | Refugees as citizens - The Hindu http://t.co/G... |\n",
    "| 134 | 425 | apocalypse | Currently Somewhere On Earth | @5SOStag honestly he could say an apocalypse i... |\n",
    "| 411 | 1330 | blown%20up | Scout Team | If you bored as shit don't nobody fuck wit you... |\n",
    "| 203 | 663 | attack | NaN | @RealTwanBrown Yesterday I Had A Heat Attack ?... |\n",
    "| 889 | 2930 | danger | Leeds | The Devil Wears Prada is still one of my favou... |"
   ]
  },
  {
   "cell_type": "code",
   "execution_count": 118,
   "id": "8a8aaa7b",
   "metadata": {},
   "outputs": [],
   "source": [
    "test_tweets = test_df_shuffle['text']\n",
    "test_tweets = np.array(test_tweets.values.tolist())"
   ]
  },
  {
   "cell_type": "code",
   "execution_count": 119,
   "id": "4c09e46f",
   "metadata": {
    "collapsed": true
   },
   "outputs": [
    {
     "name": "stdout",
     "output_type": "stream",
     "text": [
      "102/102 [==============================] - 0s 4ms/step\n"
     ]
    }
   ],
   "source": [
    "loaded_model_pred_probs_test = tf.squeeze(loaded_model_6a_saved_model.predict(test_tweets))\n",
    "loaded_model_preds_test = tf.round(loaded_model_pred_probs_test)"
   ]
  },
  {
   "cell_type": "code",
   "execution_count": 120,
   "id": "72917080",
   "metadata": {
    "collapsed": true
   },
   "outputs": [
    {
     "data": {
      "text/html": [
       "<div>\n",
       "<style scoped>\n",
       "    .dataframe tbody tr th:only-of-type {\n",
       "        vertical-align: middle;\n",
       "    }\n",
       "\n",
       "    .dataframe tbody tr th {\n",
       "        vertical-align: top;\n",
       "    }\n",
       "\n",
       "    .dataframe thead th {\n",
       "        text-align: right;\n",
       "    }\n",
       "</style>\n",
       "<table border=\"1\" class=\"dataframe\">\n",
       "  <thead>\n",
       "    <tr style=\"text-align: right;\">\n",
       "      <th></th>\n",
       "      <th>text</th>\n",
       "      <th>pred</th>\n",
       "      <th>pred_prob</th>\n",
       "    </tr>\n",
       "  </thead>\n",
       "  <tbody>\n",
       "    <tr>\n",
       "      <th>0</th>\n",
       "      <td>Refugees as citizens - The Hindu http://t.co/G...</td>\n",
       "      <td>1.0</td>\n",
       "      <td>0.691977</td>\n",
       "    </tr>\n",
       "    <tr>\n",
       "      <th>1</th>\n",
       "      <td>@5SOStag honestly he could say an apocalypse i...</td>\n",
       "      <td>0.0</td>\n",
       "      <td>0.123520</td>\n",
       "    </tr>\n",
       "    <tr>\n",
       "      <th>2</th>\n",
       "      <td>If you bored as shit don't nobody fuck wit you...</td>\n",
       "      <td>0.0</td>\n",
       "      <td>0.094058</td>\n",
       "    </tr>\n",
       "    <tr>\n",
       "      <th>3</th>\n",
       "      <td>@RealTwanBrown Yesterday I Had A Heat Attack ?...</td>\n",
       "      <td>0.0</td>\n",
       "      <td>0.124991</td>\n",
       "    </tr>\n",
       "    <tr>\n",
       "      <th>4</th>\n",
       "      <td>The Devil Wears Prada is still one of my favou...</td>\n",
       "      <td>0.0</td>\n",
       "      <td>0.032189</td>\n",
       "    </tr>\n",
       "    <tr>\n",
       "      <th>...</th>\n",
       "      <td>...</td>\n",
       "      <td>...</td>\n",
       "      <td>...</td>\n",
       "    </tr>\n",
       "    <tr>\n",
       "      <th>3258</th>\n",
       "      <td>Free Kindle Book - Aug 3-7 - Thriller - Desola...</td>\n",
       "      <td>0.0</td>\n",
       "      <td>0.082993</td>\n",
       "    </tr>\n",
       "    <tr>\n",
       "      <th>3259</th>\n",
       "      <td>HitchBot travels Europe and greeted with open ...</td>\n",
       "      <td>1.0</td>\n",
       "      <td>0.651606</td>\n",
       "    </tr>\n",
       "    <tr>\n",
       "      <th>3260</th>\n",
       "      <td>If you told me you was drowning. I would not l...</td>\n",
       "      <td>0.0</td>\n",
       "      <td>0.258282</td>\n",
       "    </tr>\n",
       "    <tr>\n",
       "      <th>3261</th>\n",
       "      <td>First time for everything! @ Coney Island Cycl...</td>\n",
       "      <td>1.0</td>\n",
       "      <td>0.685601</td>\n",
       "    </tr>\n",
       "    <tr>\n",
       "      <th>3262</th>\n",
       "      <td>Rocky Fire #cali #SCFD #wildfire #LakeCounty h...</td>\n",
       "      <td>1.0</td>\n",
       "      <td>0.802510</td>\n",
       "    </tr>\n",
       "  </tbody>\n",
       "</table>\n",
       "<p>3263 rows × 3 columns</p>\n",
       "</div>"
      ],
      "text/plain": [
       "                                                   text  pred  pred_prob\n",
       "0     Refugees as citizens - The Hindu http://t.co/G...   1.0   0.691977\n",
       "1     @5SOStag honestly he could say an apocalypse i...   0.0   0.123520\n",
       "2     If you bored as shit don't nobody fuck wit you...   0.0   0.094058\n",
       "3     @RealTwanBrown Yesterday I Had A Heat Attack ?...   0.0   0.124991\n",
       "4     The Devil Wears Prada is still one of my favou...   0.0   0.032189\n",
       "...                                                 ...   ...        ...\n",
       "3258  Free Kindle Book - Aug 3-7 - Thriller - Desola...   0.0   0.082993\n",
       "3259  HitchBot travels Europe and greeted with open ...   1.0   0.651606\n",
       "3260  If you told me you was drowning. I would not l...   0.0   0.258282\n",
       "3261  First time for everything! @ Coney Island Cycl...   1.0   0.685601\n",
       "3262  Rocky Fire #cali #SCFD #wildfire #LakeCounty h...   1.0   0.802510\n",
       "\n",
       "[3263 rows x 3 columns]"
      ]
     },
     "execution_count": 120,
     "metadata": {},
     "output_type": "execute_result"
    }
   ],
   "source": [
    "pred_test_df = pd.DataFrame({\n",
    "    \"text\": test_tweets,\n",
    "    \"pred\": loaded_model_preds_test,\n",
    "    \"pred_prob\": loaded_model_pred_probs_test\n",
    "})\n",
    "\n",
    "pred_test_df"
   ]
  },
  {
   "cell_type": "markdown",
   "id": "b0b6a8cb",
   "metadata": {},
   "source": [
    "|\t| text | pred | pred_prob |\n",
    "| -- | -- | -- | -- | \n",
    "| 0 | Refugees as citizens - The Hindu http://t.co/G... | 1.0 | 0.717548 |\n",
    "| 1 | @5SOStag honestly he could say an apocalypse i... | 0.0 | 0.093809 |\n",
    "| 2 | If you bored as shit don't nobody fuck wit you... | 0.0 | 0.082749 |\n",
    "| 3 | @RealTwanBrown Yesterday I Had A Heat Attack ?... | 0.0 | 0.097784 |\n",
    "| 4 | The Devil Wears Prada is still one of my favou... | 0.0 | 0.028455 |\n",
    "...\n",
    "| 3258 | Free Kindle Book - Aug 3-7 - Thriller - Desola... | 0.0 | 0.080420 |\n",
    "| 3259 | HitchBot travels Europe and greeted with open ... | 1.0 | 0.603396 |\n",
    "| 3260 | If you told me you was drowning. I would not l... | 0.0 | 0.208108 |\n",
    "| 3261 | First time for everything! @ Coney Island Cycl... | 1.0 | 0.617582 |\n",
    "| 3262 | Rocky Fire #cali #SCFD #wildfire #LakeCounty h... | 1.0 | 0.794876 |"
   ]
  },
  {
   "cell_type": "code",
   "execution_count": 121,
   "id": "c079997d",
   "metadata": {
    "collapsed": true
   },
   "outputs": [
    {
     "name": "stdout",
     "output_type": "stream",
     "text": [
      "1/1 [==============================] - 0s 27ms/step\n",
      "Pred: 1, Probability: 0.9131472706794739\n",
      "Text: Watch This Airport Get Swallowed Up By A Sandstorm In Under A Minute http://t.co/OFhjcn36o1\n",
      "-------\n",
      "\n",
      "1/1 [==============================] - 0s 26ms/step\n",
      "Pred: 1, Probability: 0.9558534622192383\n",
      "Text: RT @LivingSafely: NWS posts Severe #Thunderstorm Warnings for parts of #AR #NC #OK. Seek strong shelter if at risk: http://t.co/kImr0l24Fb\n",
      "-------\n",
      "\n",
      "1/1 [==============================] - 0s 25ms/step\n",
      "Pred: 1, Probability: 0.5604234933853149\n",
      "Text: But is feast.dll still vulnerable to DLL hijacking?  https://t.co/3vaig1PtYk https://t.co/BZDNKpOry1\n",
      "-------\n",
      "\n",
      "1/1 [==============================] - 0s 30ms/step\n",
      "Pred: 0, Probability: 0.06958078593015671\n",
      "Text: I'm incredibly sad &amp; heartbroken so I'm just going to drown my sorrows in food &amp; watch tv all night ?? http://t.co/yQiZ2p1rSm\n",
      "-------\n",
      "\n",
      "1/1 [==============================] - 0s 38ms/step\n",
      "Pred: 1, Probability: 0.9855814576148987\n",
      "Text: Suicide bomber kills 15 in Saudi security site mosque - Reuters http://t.co/KCObrZBVDs http://t.co/y62HSFVIAQ\n",
      "-------\n",
      "\n",
      "1/1 [==============================] - 0s 28ms/step\n",
      "Pred: 0, Probability: 0.21613247692584991\n",
      "Text: ÛÏ@5SOSGlobalSquad: me: will give all of my money to hear social casualty live \n",
      "\n",
      "#MTVHottest 5sosÛ I have about 5 buck here I'd give it all??\n",
      "-------\n",
      "\n",
      "1/1 [==============================] - 0s 30ms/step\n",
      "Pred: 1, Probability: 0.6258124113082886\n",
      "Text: Obama warns there will be another war without Iran deal #military http://t.co/gM7QlTRLuW http://t.co/wTutMlHDMH\n",
      "-------\n",
      "\n",
      "1/1 [==============================] - 0s 28ms/step\n",
      "Pred: 0, Probability: 0.33986303210258484\n",
      "Text: @tcbinaflash77 honestly I can't understand why @chanelwestcoast is blaming the police when she wasn't cuffed buy them. #1oak\n",
      "-------\n",
      "\n",
      "1/1 [==============================] - 0s 26ms/step\n",
      "Pred: 0, Probability: 0.13408930599689484\n",
      "Text: @dudeandpal it's so bad my eyes and ears are bleeding\n",
      "-------\n",
      "\n",
      "1/1 [==============================] - 0s 28ms/step\n",
      "Pred: 0, Probability: 0.04976771026849747\n",
      "Text: The Best Drought-Tolerant Perennials http://t.co/AdZONC7Olv http://t.co/ih9iTMhFjZ\n",
      "-------\n",
      "\n"
     ]
    }
   ],
   "source": [
    "# make random prediction on sub-samples of the test dataset\n",
    "test_samples = random.sample(test_tweets.tolist(), 10)\n",
    "\n",
    "for test_sample in test_samples:\n",
    "    pred_prob = tf.squeeze(loaded_model_6a_saved_model.predict([test_sample]))\n",
    "    pred = tf.round(pred_prob)\n",
    "    \n",
    "    print(f\"Pred: {int(pred)}, Probability: {pred_prob}\")\n",
    "    print(f\"Text: {test_sample}\")\n",
    "    print(\"-------\\n\")"
   ]
  },
  {
   "cell_type": "markdown",
   "id": "5777e12f",
   "metadata": {},
   "source": [
    "```\n",
    "1/1 [==============================] - 0s 26ms/step\n",
    "Pred: 0, Probability: 0.15592874586582184\n",
    "Text: @EllaEMusic_ You should have just simply let on that you had electrocuted yourself while plugging in your phone charger. It works for me...\n",
    "-------\n",
    "\n",
    "1/1 [==============================] - 0s 25ms/step\n",
    "Pred: 1, Probability: 0.5131102800369263\n",
    "Text: Evacuation drill at work. The fire doors wouldn't open so i got to smash the emergency release glass #feelingmanly\n",
    "-------\n",
    "\n",
    "1/1 [==============================] - 0s 33ms/step\n",
    "Pred: 1, Probability: 0.9751215577125549\n",
    "Text: Rare photographs show the nightmare aftermath of #Hiroshima | #NoNukes #Amerikkka #WhiteTerrorism #Nuclear #Disaster  http://t.co/8tWLAKdaBf\n",
    "-------\n",
    "\n",
    "1/1 [==============================] - 0s 28ms/step\n",
    "Pred: 1, Probability: 0.676400899887085\n",
    "Text: kayaking about killed us so mom and grandma came to the rescue.\n",
    "-------\n",
    "\n",
    "1/1 [==============================] - 0s 26ms/step\n",
    "Pred: 1, Probability: 0.9690964818000793\n",
    "Text: Pasco officials impressed by drone video showing floods: Drone videos have given an up-close view of flooded areasÛ_ http://t.co/PrUunEDids\n",
    "-------\n",
    "\n",
    "1/1 [==============================] - 0s 29ms/step\n",
    "Pred: 0, Probability: 0.07793092727661133\n",
    "Text: just trying to smoke and get Taco Bell\n",
    "-------\n",
    "\n",
    "1/1 [==============================] - 0s 26ms/step\n",
    "Pred: 1, Probability: 0.9799614548683167\n",
    "Text: RT AbbsWinston: #Zionist #Terrorist kidnapped 15 #Palestinians in overnight terror on Palestinian Villages Û_ http://t.co/J5mKcbKcov\n",
    "-------\n",
    "\n",
    "1/1 [==============================] - 0s 24ms/step\n",
    "Pred: 1, Probability: 0.8005449771881104\n",
    "Text: ME: gun shot wounds 3 4 6 7 'rapidly lethal' would have killed in 30-60 seconds or few minutes max. #kerricktrial\n",
    "-------\n",
    "\n",
    "1/1 [==============================] - 0s 24ms/step\n",
    "Pred: 1, Probability: 0.9902410507202148\n",
    "Text: Three Israeli soldiers wounded in West Bank terrorist attack - Haaretz http://t.co/Mwd1iPMoWT #world\n",
    "-------\n",
    "\n",
    "1/1 [==============================] - 0s 29ms/step\n",
    "Pred: 0, Probability: 0.03447313234210014\n",
    "Text: @_Souuul * gains super powers im now lava girl throws you ina chest wrapped in chains &amp; sinks you down the the bottom of the ocean*\n",
    "-------\n",
    "```"
   ]
  },
  {
   "cell_type": "markdown",
   "id": "48be0515",
   "metadata": {},
   "source": [
    "## Speed/Score Tradeoff"
   ]
  },
  {
   "cell_type": "code",
   "execution_count": 122,
   "id": "bada5a90",
   "metadata": {
    "collapsed": true
   },
   "outputs": [
    {
     "name": "stdout",
     "output_type": "stream",
     "text": [
      "102/102 [==============================] - 0s 4ms/step\n",
      "0.5129240550013492 0.00015719401011380607\n"
     ]
    }
   ],
   "source": [
    "model_6_time_to_prediction, model_6_prediction_time_weighted = time_to_prediction(\n",
    "    model = loaded_model_6a_saved_model,\n",
    "    samples = test_tweets\n",
    ")\n",
    "\n",
    "print(model_6_time_to_prediction, model_6_prediction_time_weighted)\n",
    "# 0.5129240550013492 0.00015719401011380607"
   ]
  },
  {
   "cell_type": "code",
   "execution_count": 123,
   "id": "c971dfd8",
   "metadata": {
    "collapsed": true
   },
   "outputs": [
    {
     "name": "stdout",
     "output_type": "stream",
     "text": [
      "0.05225817499922414 1.6015376953485792e-05\n"
     ]
    }
   ],
   "source": [
    "model_0_time_to_prediction, model_0_prediction_time_weighted = time_to_prediction(\n",
    "    model = model_0,\n",
    "    samples = test_tweets\n",
    ")\n",
    "\n",
    "print(model_0_time_to_prediction, model_0_prediction_time_weighted)\n",
    "# 0.05225817499922414 1.6015376953485792e-05"
   ]
  },
  {
   "cell_type": "code",
   "execution_count": 124,
   "id": "631ca8fd",
   "metadata": {
    "collapsed": true
   },
   "outputs": [
    {
     "data": {
      "text/plain": [
       "array([<AxesSubplot: title={'center': 'TimeToPrediction'}>,\n",
       "       <AxesSubplot: title={'center': 'TimeToPrediction (weighted)'}>],\n",
       "      dtype=object)"
      ]
     },
     "execution_count": 124,
     "metadata": {},
     "output_type": "execute_result"
    },
    {
     "data": {
      "image/png": "[encoded data removed]",
      "text/plain": [
       "<Figure size 1200x800 with 2 Axes>"
      ]
     },
     "metadata": {},
     "output_type": "display_data"
    }
   ],
   "source": [
    "TimeToPrediction = [model_6_time_to_prediction, model_0_time_to_prediction]\n",
    "TimeToPredictionWeighted = [model_6_prediction_time_weighted, model_0_prediction_time_weighted]\n",
    "index = ['Model 6', 'Model 0']\n",
    "\n",
    "prediction_times_df = pd.DataFrame({\n",
    "    'TimeToPrediction': TimeToPrediction,\n",
    "    'TimeToPrediction (weighted)': TimeToPredictionWeighted\n",
    "}, index=index)\n",
    "\n",
    "prediction_times_df.plot(\n",
    "    kind='bar',\n",
    "    rot=0,\n",
    "    subplots=True,\n",
    "    figsize=(12,8)\n",
    ")"
   ]
  },
  {
   "cell_type": "markdown",
   "id": "cdbd4a98",
   "metadata": {},
   "source": [
    "![(Re) Introduction to Tensorflow Natural Language Processing](./assets/tf_nlp_desaster_tweets_05.png)"
   ]
  },
  {
   "cell_type": "markdown",
   "id": "865e30ff",
   "metadata": {},
   "source": [
    "#### Comparing the Performance of all Models"
   ]
  },
  {
   "cell_type": "code",
   "execution_count": 125,
   "id": "d66730d6",
   "metadata": {
    "collapsed": true
   },
   "outputs": [
    {
     "name": "stdout",
     "output_type": "stream",
     "text": [
      "102/102 [==============================] - 0s 994us/step\n",
      "102/102 [==============================] - 0s 2ms/step\n",
      "102/102 [==============================] - 0s 2ms/step\n",
      "102/102 [==============================] - 0s 4ms/step\n",
      "102/102 [==============================] - 0s 1ms/step\n",
      "102/102 [==============================] - 0s 4ms/step\n",
      "102/102 [==============================] - 0s 4ms/step\n",
      "102/102 [==============================] - 0s 4ms/step\n",
      "102/102 [==============================] - 0s 4ms/step\n"
     ]
    }
   ],
   "source": [
    "model_1_time_to_prediction, model_1_prediction_time_weighted = time_to_prediction(\n",
    "    model = model_1,\n",
    "    samples = test_tweets\n",
    ")\n",
    "\n",
    "model_2_time_to_prediction, model_2_prediction_time_weighted = time_to_prediction(\n",
    "    model = model_2,\n",
    "    samples = test_tweets\n",
    ")\n",
    "\n",
    "model_3_time_to_prediction, model_3_prediction_time_weighted = time_to_prediction(\n",
    "    model = model_3,\n",
    "    samples = test_tweets\n",
    ")\n",
    "\n",
    "model_4_time_to_prediction, model_4_prediction_time_weighted = time_to_prediction(\n",
    "    model = model_4,\n",
    "    samples = test_tweets\n",
    ")\n",
    "\n",
    "model_5_time_to_prediction, model_5_prediction_time_weighted = time_to_prediction(\n",
    "    model = model_5,\n",
    "    samples = test_tweets\n",
    ")\n",
    "\n",
    "model_6_time_to_prediction, model_6_prediction_time_weighted = time_to_prediction(\n",
    "    model = model_6,\n",
    "    samples = test_tweets\n",
    ")\n",
    "\n",
    "model_6a_time_to_prediction, model_6a_prediction_time_weighted = time_to_prediction(\n",
    "    model = model_6a,\n",
    "    samples = test_tweets\n",
    ")\n",
    "\n",
    "model_6b_time_to_prediction, model_6b_prediction_time_weighted = time_to_prediction(\n",
    "    model = model_6b,\n",
    "    samples = test_tweets\n",
    ")\n",
    "\n",
    "model_6c_time_to_prediction, model_6c_prediction_time_weighted = time_to_prediction(\n",
    "    model = model_6c,\n",
    "    samples = test_tweets\n",
    ")"
   ]
  },
  {
   "cell_type": "code",
   "execution_count": 126,
   "id": "33964b06",
   "metadata": {
    "collapsed": true
   },
   "outputs": [
    {
     "data": {
      "text/plain": [
       "Text(0, 0.5, 'F1-Score')"
      ]
     },
     "execution_count": 126,
     "metadata": {},
     "output_type": "execute_result"
    },
    {
     "data": {
      "image/png": "[encoded data removed]",
      "text/plain": [
       "<Figure size 1200x800 with 1 Axes>"
      ]
     },
     "metadata": {},
     "output_type": "display_data"
    }
   ],
   "source": [
    "plt.figure(figsize=(12, 8))\n",
    "plt.scatter(model_6c_time_to_prediction, model_6c_metrics['f1'], label='Pre-trained USE (10%)')\n",
    "plt.scatter(model_6b_time_to_prediction, model_6b_metrics['f1'], label='Pre-trained USE (10% / data leakage)')\n",
    "plt.scatter(model_6a_time_to_prediction, model_6a_metrics['f1'], label='Pre-trained USE (added Dense)')\n",
    "plt.scatter(model_6_time_to_prediction, model_6_metrics['f1'], label='Pre-trained USE')\n",
    "plt.scatter(model_5_time_to_prediction, model_5_metrics['f1'], label='1D-Convolutional Neural Network (CNN)')\n",
    "plt.scatter(model_4_time_to_prediction, model_4_metrics['f1'], label='Bidirectional-LSTM model (RNN)')\n",
    "plt.scatter(model_3_time_to_prediction, model_3_metrics['f1'], label='GRU model (RNN)')\n",
    "plt.scatter(model_2_time_to_prediction, model_2_metrics['f1'], label='LSTM model (RNN)')\n",
    "plt.scatter(model_1_time_to_prediction, model_1_metrics['f1'], label='Feed-forward neural network (dense model)')\n",
    "plt.scatter(model_0_time_to_prediction, baseline_metrics['f1'], label='Naive Bayes (baseline)')\n",
    "plt.legend()\n",
    "plt.title(\"F1-Score vs Time to Prediction\")\n",
    "plt.xlabel('Time to Prediction')\n",
    "plt.ylabel('F1-Score')"
   ]
  },
  {
   "cell_type": "markdown",
   "id": "c434ad8a",
   "metadata": {},
   "source": [
    "![(Re) Introduction to Tensorflow Natural Language Processing](./assets/tf_nlp_desaster_tweets_06.png)"
   ]
  },
  {
   "cell_type": "code",
   "execution_count": null,
   "id": "e866ee56",
   "metadata": {},
   "outputs": [],
   "source": []
  }
 ],
 "metadata": {
  "jupytext": {
   "formats": "ipynb,md"
  },
  "kernelspec": {
   "display_name": "Python 3 (ipykernel)",
   "language": "python",
   "name": "python3"
  },
  "language_info": {
   "codemirror_mode": {
    "name": "ipython",
    "version": 3
   },
   "file_extension": ".py",
   "mimetype": "text/x-python",
   "name": "python",
   "nbconvert_exporter": "python",
   "pygments_lexer": "ipython3",
   "version": "3.10.10"
  }
 },
 "nbformat": 4,
 "nbformat_minor": 5
}
